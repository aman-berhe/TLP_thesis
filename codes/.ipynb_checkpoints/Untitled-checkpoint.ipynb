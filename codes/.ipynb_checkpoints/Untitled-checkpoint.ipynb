{
 "cells": [
  {
   "cell_type": "code",
   "execution_count": 1,
   "metadata": {},
   "outputs": [],
   "source": [
    "from __future__ import print_function\n",
    "from gensim.models import word2vec\n",
    "from os.path import join, exists, split\n",
    "import os\n",
    "import numpy as np\n",
    "import pandas as pd"
   ]
  },
  {
   "cell_type": "code",
   "execution_count": 2,
   "metadata": {},
   "outputs": [],
   "source": [
    "scenes_dir='/home/berhe/Desktop/LIMSI/TLP_thesis/Scenes/'\n",
    "subTitle_dir='/home/berhe/Desktop/LIMSI/TLP_thesis/subtitles/'"
   ]
  },
  {
   "cell_type": "code",
   "execution_count": 124,
   "metadata": {},
   "outputs": [],
   "source": [
    "def scene_extraction(files_dir):\n",
    "    for fn in os.listdir(files_dir):\n",
    "        file=open(files_dir+fn,'r')\n",
    "        text=file.readlines()\n",
    "        start_scene=[]\n",
    "        end_scene=[]\n",
    "        story_id=[]\n",
    "        j=0\n",
    "        csv_scene=pd.DataFrame(columns=('start_time','end_time','story_id'))\n",
    "        for text_line in text:\n",
    "            if not text_line in ['\\n', '\\r\\n']:\n",
    "                splitte_lines=text_line.split()\n",
    "                try:\n",
    "                    start_scene.append(splitte_lines[0])\n",
    "                    end_scene.append(splitte_lines[1])\n",
    "                    story_id.append(splitte_lines[2])\n",
    "                    for i in range(3,len(splitte_lines)):\n",
    "                        start_scene.append(splitte_lines[0])\n",
    "                        end_scene.append(splitte_lines[1])\n",
    "                        story_id.append(splitte_lines[i])\n",
    "                        #story_id[j]=story_id[j]+' '+splitte_lines[i]\n",
    "                        print ('extending ... ')\n",
    "                except IndexError:\n",
    "                    story_id.append('NA')\n",
    "            else:\n",
    "                continue\n",
    "        print(len(start_scene),len(end_scene),len(story_id))\n",
    "        csv_scene.start_time=start_scene\n",
    "        csv_scene.end_time=end_scene\n",
    "        csv_scene.story_id=story_id\n",
    "        csv_scene.start_time=[float(i) for i in csv_scene.start_time]\n",
    "        csv_scene.end_time=[float(i) for i in csv_scene.end_time]\n",
    "        filename=files_dir+fn +'.csv'\n",
    "        csv_scene.to_csv(filname,index=False)\n",
    "    #return csv_scene.start_scene,csv_scene.end_scene,csv_scene.story_id\n",
    "    return csv_scene"
   ]
  },
  {
   "cell_type": "code",
   "execution_count": 50,
   "metadata": {},
   "outputs": [],
   "source": [
    "def create_intervals(start, end, delta):\n",
    "    current=start\n",
    "    while current<=end:\n",
    "        current=(datetime.combine(date.today(),current)+delta).time()\n",
    "        yield current"
   ]
  },
  {
   "cell_type": "code",
   "execution_count": 59,
   "metadata": {},
   "outputs": [],
   "source": [
    "def subtitle_extraction(subTitle_dir=):\n",
    "    #file='/people/berhe/Bureau/Project/TLP_thesis/subtitles/GameOfThrones.Season01.Episode01.en.srt'\n",
    "    for fl in os.listdir(subTitle_dir):\n",
    "        if '.en.srt' in fal:\n",
    "            print(fl)\n",
    "            file=subTitle_dir+fl\n",
    "            subs=pysrt.open(file,encoding='iso-8859-1')\n",
    "            n=len(subs)\n",
    "            intervals=[]\n",
    "            start=time(0,0,0)\n",
    "            end=subs[-1].end.to_time()\n",
    "            delta=timedelta(minutes=delta)\n",
    "            for results in create_intervals(start, end, delta):\n",
    "                intervals.append(results)\n",
    "            index=0\n",
    "            m=len(intervals)\n",
    "            for i in range(m):\n",
    "                text=\"\"\n",
    "                for j in range(index,n):\n",
    "                    if subs[j].end.to_time()<intervals[i]:\n",
    "                        text+=subs[j].text_without_tags + \" \"\n",
    "                    else:\n",
    "                        break\n",
    "                blob=TextBlob(text)\n",
    "                pol=blob.sentiment.polarity"
   ]
  },
  {
   "cell_type": "code",
   "execution_count": 169,
   "metadata": {},
   "outputs": [
    {
     "name": "stdout",
     "output_type": "stream",
     "text": [
      "True\n"
     ]
    },
    {
     "data": {
      "text/plain": [
       "'01'"
      ]
     },
     "execution_count": 169,
     "metadata": {},
     "output_type": "execute_result"
    }
   ],
   "source": [
    "strr=\"GameOfThrones.Season01.Episode01.en.srt\"\n",
    "strr2='groundtruth01'\n",
    "if(strr[30:32]==strr2[11:13]):\n",
    "    print (True)\n",
    "strr[30:32]"
   ]
  },
  {
   "cell_type": "code",
   "execution_count": 153,
   "metadata": {},
   "outputs": [],
   "source": [
    "df=pd.read_csv(scence_dir+'groundtruth.seg',index_col=None)"
   ]
  },
  {
   "cell_type": "code",
   "execution_count": 157,
   "metadata": {},
   "outputs": [],
   "source": [
    "df=df.drop(columns='Unnamed: 0')"
   ]
  },
  {
   "cell_type": "code",
   "execution_count": 216,
   "metadata": {},
   "outputs": [],
   "source": [
    "def combine_df(scence_dir):\n",
    "    sum=0\n",
    "    DF_comb=pd.DataFrame()\n",
    "    for fn in os.listdir(scence_dir):\n",
    "        fileName=scence_dir+fn\n",
    "        datfr=pd.read_csv(fileName,index_col=None)\n",
    "        #datfr=datfr.drop(columns='Unnamed: 0')\n",
    "        sum=sum+len(datfr)\n",
    "        print(fileName)\n",
    "        print(fn[11:13])\n",
    "        print (len(datfr),sum)\n",
    "        datfr['Episode']=fn[11:13]\n",
    "        DF_comb=[DF_comb,datfr]\n",
    "        DF_comb=pd.concat(DF_comb)\n",
    "    print (sum)\n",
    "    return DF_comb"
   ]
  },
  {
   "cell_type": "code",
   "execution_count": 217,
   "metadata": {},
   "outputs": [
    {
     "name": "stdout",
     "output_type": "stream",
     "text": [
      "/home/berhe/Desktop/LIMSI/TLP_thesis/Scenes/groundtruth08.seg\n",
      "08\n",
      "40 40\n",
      "/home/berhe/Desktop/LIMSI/TLP_thesis/Scenes/groundtruth04.seg\n",
      "04\n",
      "30 70\n",
      "/home/berhe/Desktop/LIMSI/TLP_thesis/Scenes/groundtruth09.seg\n",
      "09\n",
      "26 96\n",
      "/home/berhe/Desktop/LIMSI/TLP_thesis/Scenes/groundtruth02.seg\n",
      "02\n",
      "37 133\n",
      "/home/berhe/Desktop/LIMSI/TLP_thesis/Scenes/groundtruth03.seg\n",
      "03\n",
      "34 167\n",
      "/home/berhe/Desktop/LIMSI/TLP_thesis/Scenes/groundtruth06.seg\n",
      "06\n",
      "22 189\n",
      "/home/berhe/Desktop/LIMSI/TLP_thesis/Scenes/groundtruth05.seg\n",
      "05\n",
      "32 221\n",
      "/home/berhe/Desktop/LIMSI/TLP_thesis/Scenes/groundtruth07.seg\n",
      "07\n",
      "34 255\n",
      "/home/berhe/Desktop/LIMSI/TLP_thesis/Scenes/groundtruth01.seg\n",
      "01\n",
      "37 292\n",
      "292\n"
     ]
    }
   ],
   "source": [
    "Df_Cm3=combine_df(scence_dir=scence_dir)"
   ]
  },
  {
   "cell_type": "code",
   "execution_count": 218,
   "metadata": {},
   "outputs": [
    {
     "data": {
      "text/plain": [
       "(292, 5)"
      ]
     },
     "execution_count": 218,
     "metadata": {},
     "output_type": "execute_result"
    }
   ],
   "source": [
    "Df_Cm3.shape"
   ]
  },
  {
   "cell_type": "code",
   "execution_count": 219,
   "metadata": {},
   "outputs": [],
   "source": [
    "Df_Cm3.to_csv(scence_dir+'all_scenes.csv')"
   ]
  },
  {
   "cell_type": "code",
   "execution_count": 225,
   "metadata": {},
   "outputs": [
    {
     "data": {
      "text/plain": [
       "Index([u'Unnamed: 0', u'start_time', u'end_time', u'story_id', u'Episode'], dtype='object')"
      ]
     },
     "execution_count": 225,
     "metadata": {},
     "output_type": "execute_result"
    }
   ],
   "source": [
    "Df_Cm3.columns"
   ]
  },
  {
   "cell_type": "code",
   "execution_count": 227,
   "metadata": {},
   "outputs": [],
   "source": [
    "Df_Cm4=Df_Cm3.drop(columns='Unnamed: 0')"
   ]
  },
  {
   "cell_type": "code",
   "execution_count": 228,
   "metadata": {},
   "outputs": [
    {
     "data": {
      "text/plain": [
       "story_id\n",
       "0.0    [[AxesSubplot(0.125,0.125;0.336957x0.755), Axe...\n",
       "1.0    [[AxesSubplot(0.125,0.125;0.336957x0.755), Axe...\n",
       "2.0    [[AxesSubplot(0.125,0.125;0.336957x0.755), Axe...\n",
       "3.0    [[AxesSubplot(0.125,0.125;0.336957x0.755), Axe...\n",
       "4.0    [[AxesSubplot(0.125,0.125;0.336957x0.755), Axe...\n",
       "5.0    [[AxesSubplot(0.125,0.125;0.336957x0.755), Axe...\n",
       "dtype: object"
      ]
     },
     "execution_count": 228,
     "metadata": {},
     "output_type": "execute_result"
    },
    {
     "data": {
      "image/png": "[encoded data removed]",
      "text/plain": [
       "<matplotlib.figure.Figure at 0x7f475a32eb90>"
      ]
     },
     "metadata": {},
     "output_type": "display_data"
    },
    {
     "data": {
      "image/png": "[encoded data removed]",
      "text/plain": [
       "<matplotlib.figure.Figure at 0x7f475a321e90>"
      ]
     },
     "metadata": {},
     "output_type": "display_data"
    },
    {
     "data": {
      "image/png": "[encoded data removed]",
      "text/plain": [
       "<matplotlib.figure.Figure at 0x7f475a1c5890>"
      ]
     },
     "metadata": {},
     "output_type": "display_data"
    },
    {
     "data": {
      "image/png": "[encoded data removed]",
      "text/plain": [
       "<matplotlib.figure.Figure at 0x7f475a09d190>"
      ]
     },
     "metadata": {},
     "output_type": "display_data"
    },
    {
     "data": {
      "image/png": "[encoded data removed]",
      "text/plain": [
       "<matplotlib.figure.Figure at 0x7f475a054ad0>"
      ]
     },
     "metadata": {},
     "output_type": "display_data"
    },
    {
     "data": {
      "image/png": "[encoded data removed]",
      "text/plain": [
       "<matplotlib.figure.Figure at 0x7f4759f98b50>"
      ]
     },
     "metadata": {},
     "output_type": "display_data"
    }
   ],
   "source": [
    "Df_Cm4.groupby('story_id').hist()"
   ]
  },
  {
   "cell_type": "markdown",
   "metadata": {},
   "source": [
    "Story Continuation Through the Épisodes"
   ]
  },
  {
   "cell_type": "code",
   "execution_count": 232,
   "metadata": {},
   "outputs": [
    {
     "data": {
      "text/plain": [
       "<matplotlib.axes._subplots.AxesSubplot at 0x7f4759cd4c90>"
      ]
     },
     "execution_count": 232,
     "metadata": {},
     "output_type": "execute_result"
    },
    {
     "data": {
      "image/png": "[encoded data removed]",
      "text/plain": [
       "<matplotlib.figure.Figure at 0x7f475f495210>"
      ]
     },
     "metadata": {},
     "output_type": "display_data"
    }
   ],
   "source": [
    "Df_Cm4['story_id'].value_counts().plot(kind='barh')"
   ]
  },
  {
   "cell_type": "code",
   "execution_count": 53,
   "metadata": {},
   "outputs": [],
   "source": [
    "def to_min_sec(st_ms,end_ms):\n",
    "    Ssec=st_ms/1000\n",
    "    Esec=end_ms/1000\n",
    "    sm,ss=divmod(Ssec,60)\n",
    "    em,es=divmod(Esec,60)\n",
    "    return sm,ss,em,es"
   ]
  },
  {
   "cell_type": "code",
   "execution_count": 54,
   "metadata": {},
   "outputs": [],
   "source": [
    "#collecting story times in one : not necessary for extracting story\n",
    "def extracting_story_time(start_scene,end_scene,story_id):\n",
    "    start_story=[]\n",
    "    end_story=[]\n",
    "    id_story=[]\n",
    "    tmp=0\n",
    "    st_pt=0\n",
    "    for i in range(len(end_scene)-1):\n",
    "        if (story_id[i]==story_id[i+1] ):\n",
    "            tmp=end_scene[i]\n",
    "        else:\n",
    "            start_story.append(start_scene[st_pt])\n",
    "            st_pt=i+1\n",
    "            if(end_scene[i]!='NA'):\n",
    "                tmp=end_scene[i]\n",
    "            end_story.append(tmp)\n",
    "            id_story.append(story_id[i])\n",
    "            tmp=0\n",
    "    return start_story,end_story,id_story"
   ]
  },
  {
   "cell_type": "code",
   "execution_count": 55,
   "metadata": {},
   "outputs": [],
   "source": [
    "x,y,z=extracting_story_time(a,b,c)"
   ]
  },
  {
   "cell_type": "code",
   "execution_count": 105,
   "metadata": {},
   "outputs": [],
   "source": [
    "files=[]\n",
    "for fl in os.listdir(subTitle_dir):\n",
    "    if '.en.srt' in fl:\n",
    "       files.append(fl)"
   ]
  },
  {
   "cell_type": "code",
   "execution_count": 107,
   "metadata": {},
   "outputs": [],
   "source": [
    "files.sort()"
   ]
  },
  {
   "cell_type": "code",
   "execution_count": 108,
   "metadata": {},
   "outputs": [
    {
     "data": {
      "text/plain": [
       "['GameOfThrones.Season01.Episode01.en.srt',\n",
       " 'GameOfThrones.Season01.Episode02.en.srt',\n",
       " 'GameOfThrones.Season01.Episode03.en.srt',\n",
       " 'GameOfThrones.Season01.Episode04.en.srt',\n",
       " 'GameOfThrones.Season01.Episode05.en.srt',\n",
       " 'GameOfThrones.Season01.Episode06.en.srt',\n",
       " 'GameOfThrones.Season01.Episode07.en.srt',\n",
       " 'GameOfThrones.Season01.Episode08.en.srt',\n",
       " 'GameOfThrones.Season01.Episode09.en.srt',\n",
       " 'GameOfThrones.Season01.Episode10.en.srt']"
      ]
     },
     "execution_count": 108,
     "metadata": {},
     "output_type": "execute_result"
    }
   ],
   "source": [
    "files"
   ]
  },
  {
   "cell_type": "code",
   "execution_count": 15,
   "metadata": {},
   "outputs": [],
   "source": [
    "def story_texts(all_scenes,file_name):\n",
    "    text_file=open('story_file','w')\n",
    "    #index = np.array([0, 1, 2, 3, 4])\n",
    "    #Episode1_stories=pd.DataFrame(columns=(['story_text','story_id']),index=index)\n",
    "    subs=pysrt.open(file_sub,encoding='iso-8859-1')\n",
    "    part_st=\"\"\n",
    "    for i in range(len(start)-1):\n",
    "        m,s,em,es=to_min_sec(start[i],end[i])\n",
    "        if (story_id[i]==story_id[i+1]):\n",
    "            part_st=part_st + subs.slice(starts_after={'minutes': m, 'seconds':s}, ends_before={'minutes': em, 'seconds': es}).text.encode('utf-8')\n",
    "        else:\n",
    "            part_st=part_st + subs.slice(starts_after={'minutes': m, 'seconds':s}, ends_before={'minutes': em, 'seconds': es}).text.encode('utf-8')\n",
    "            text_file.write(part_st)\n",
    "            text_file.write(\"\\n------------------------------------------------------------------------\\n\")\n",
    "            part_st=\"\""
   ]
  },
  {
   "cell_type": "code",
   "execution_count": 11,
   "metadata": {},
   "outputs": [],
   "source": [
    "scDF=pd.read_csv(scenes_dir+'all_scenes.csv',header=None)"
   ]
  },
  {
   "cell_type": "code",
   "execution_count": 14,
   "metadata": {},
   "outputs": [
    {
     "data": {
      "text/html": [
       "<div>\n",
       "<style scoped>\n",
       "    .dataframe tbody tr th:only-of-type {\n",
       "        vertical-align: middle;\n",
       "    }\n",
       "\n",
       "    .dataframe tbody tr th {\n",
       "        vertical-align: top;\n",
       "    }\n",
       "\n",
       "    .dataframe thead th {\n",
       "        text-align: right;\n",
       "    }\n",
       "</style>\n",
       "<table border=\"1\" class=\"dataframe\">\n",
       "  <thead>\n",
       "    <tr style=\"text-align: right;\">\n",
       "      <th></th>\n",
       "      <th>0</th>\n",
       "      <th>1</th>\n",
       "      <th>2</th>\n",
       "      <th>3</th>\n",
       "      <th>4</th>\n",
       "      <th>5</th>\n",
       "    </tr>\n",
       "  </thead>\n",
       "  <tbody>\n",
       "    <tr>\n",
       "      <th>0</th>\n",
       "      <td>NaN</td>\n",
       "      <td>Unnamed: 0</td>\n",
       "      <td>start_time</td>\n",
       "      <td>end_time</td>\n",
       "      <td>story_id</td>\n",
       "      <td>Episode</td>\n",
       "    </tr>\n",
       "    <tr>\n",
       "      <th>1</th>\n",
       "      <td>0.0</td>\n",
       "      <td>0</td>\n",
       "      <td>0.0</td>\n",
       "      <td>6000.0</td>\n",
       "      <td>NaN</td>\n",
       "      <td>08</td>\n",
       "    </tr>\n",
       "    <tr>\n",
       "      <th>2</th>\n",
       "      <td>1.0</td>\n",
       "      <td>1</td>\n",
       "      <td>6000.0</td>\n",
       "      <td>113000.0</td>\n",
       "      <td>NaN</td>\n",
       "      <td>08</td>\n",
       "    </tr>\n",
       "    <tr>\n",
       "      <th>3</th>\n",
       "      <td>2.0</td>\n",
       "      <td>2</td>\n",
       "      <td>113000.0</td>\n",
       "      <td>120500.0</td>\n",
       "      <td>2.0</td>\n",
       "      <td>08</td>\n",
       "    </tr>\n",
       "    <tr>\n",
       "      <th>4</th>\n",
       "      <td>3.0</td>\n",
       "      <td>3</td>\n",
       "      <td>120500.0</td>\n",
       "      <td>134400.0</td>\n",
       "      <td>2.0</td>\n",
       "      <td>08</td>\n",
       "    </tr>\n",
       "    <tr>\n",
       "      <th>5</th>\n",
       "      <td>4.0</td>\n",
       "      <td>4</td>\n",
       "      <td>134400.0</td>\n",
       "      <td>141800.0</td>\n",
       "      <td>2.0</td>\n",
       "      <td>08</td>\n",
       "    </tr>\n",
       "    <tr>\n",
       "      <th>6</th>\n",
       "      <td>5.0</td>\n",
       "      <td>5</td>\n",
       "      <td>141800.0</td>\n",
       "      <td>157400.0</td>\n",
       "      <td>2.0</td>\n",
       "      <td>08</td>\n",
       "    </tr>\n",
       "    <tr>\n",
       "      <th>7</th>\n",
       "      <td>6.0</td>\n",
       "      <td>6</td>\n",
       "      <td>157400.0</td>\n",
       "      <td>199100.0</td>\n",
       "      <td>2.0</td>\n",
       "      <td>08</td>\n",
       "    </tr>\n",
       "    <tr>\n",
       "      <th>8</th>\n",
       "      <td>7.0</td>\n",
       "      <td>7</td>\n",
       "      <td>199100.0</td>\n",
       "      <td>354200.0</td>\n",
       "      <td>2.0</td>\n",
       "      <td>08</td>\n",
       "    </tr>\n",
       "    <tr>\n",
       "      <th>9</th>\n",
       "      <td>8.0</td>\n",
       "      <td>8</td>\n",
       "      <td>354200.0</td>\n",
       "      <td>373900.0</td>\n",
       "      <td>2.0</td>\n",
       "      <td>08</td>\n",
       "    </tr>\n",
       "  </tbody>\n",
       "</table>\n",
       "</div>"
      ],
      "text/plain": [
       "     0           1           2         3         4        5\n",
       "0  NaN  Unnamed: 0  start_time  end_time  story_id  Episode\n",
       "1  0.0           0         0.0    6000.0       NaN       08\n",
       "2  1.0           1      6000.0  113000.0       NaN       08\n",
       "3  2.0           2    113000.0  120500.0       2.0       08\n",
       "4  3.0           3    120500.0  134400.0       2.0       08\n",
       "5  4.0           4    134400.0  141800.0       2.0       08\n",
       "6  5.0           5    141800.0  157400.0       2.0       08\n",
       "7  6.0           6    157400.0  199100.0       2.0       08\n",
       "8  7.0           7    199100.0  354200.0       2.0       08\n",
       "9  8.0           8    354200.0  373900.0       2.0       08"
      ]
     },
     "execution_count": 14,
     "metadata": {},
     "output_type": "execute_result"
    }
   ],
   "source": [
    "scDF[0:10]"
   ]
  },
  {
   "cell_type": "code",
   "execution_count": 19,
   "metadata": {},
   "outputs": [],
   "source": [
    "scenes_time=scDF.drop(scDF.columns[[1, 2]], axis=1, inplace=True)"
   ]
  },
  {
   "cell_type": "code",
   "execution_count": null,
   "metadata": {},
   "outputs": [],
   "source": []
  }
 ],
 "metadata": {
  "kernelspec": {
   "display_name": "Python 3",
   "language": "python",
   "name": "python3"
  },
  "language_info": {
   "codemirror_mode": {
    "name": "ipython",
    "version": 2
   },
   "file_extension": ".py",
   "mimetype": "text/x-python",
   "name": "python",
   "nbconvert_exporter": "python",
   "pygments_lexer": "ipython2",
   "version": "2.7.12"
  }
 },
 "nbformat": 4,
 "nbformat_minor": 2
}
