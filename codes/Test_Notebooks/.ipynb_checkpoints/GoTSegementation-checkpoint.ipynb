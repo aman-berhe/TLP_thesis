{
 "cells": [
  {
   "cell_type": "code",
   "execution_count": 2,
   "metadata": {},
   "outputs": [
    {
     "ename": "SyntaxError",
     "evalue": "Non-ASCII character '\\xc3' in file /home/berhe/Desktop/Thesis_git/TLP_thesis/codes/Eastenders_Lib.py on line 26, but no encoding declared; see http://python.org/dev/peps/pep-0263/ for details (Eastenders_Lib.py, line 25)",
     "output_type": "error",
     "traceback": [
      "\u001b[0;36m  File \u001b[0;32m\"/home/berhe/Desktop/Thesis_git/TLP_thesis/codes/Eastenders_Lib.py\"\u001b[0;36m, line \u001b[0;32m25\u001b[0m\n\u001b[0;31m    This function preprocess the shot threading format to prepare it to segmentation. It takes the .json format produced by pyannote-video by hervé\u001b[0m\n\u001b[0m                                                                                                                                                   ^\u001b[0m\n\u001b[0;31mSyntaxError\u001b[0m\u001b[0;31m:\u001b[0m Non-ASCII character '\\xc3' in file /home/berhe/Desktop/Thesis_git/TLP_thesis/codes/Eastenders_Lib.py on line 26, but no encoding declared; see http://python.org/dev/peps/pep-0263/ for details\n"
     ]
    }
   ],
   "source": [
    "import sys\n",
    "sys.path.insert(0,'/home/berhe/Desktop/Thesis_git/TLP_thesis/codes/')\n",
    "import Eastenders_Lib as est\n",
    "import Subtitle_truthvalue as stv\n",
    "import evaluationMetrics as em\n",
    "import pandas as pd\n",
    "import os\n",
    "from pyannote.metrics.diarization import DiarizationCoverage\n",
    "import numpy as np"
   ]
  },
  {
   "cell_type": "markdown",
   "metadata": {},
   "source": [
    "Subtitle files and Scene boundries files directory"
   ]
  },
  {
   "cell_type": "code",
   "execution_count": 2,
   "metadata": {},
   "outputs": [],
   "source": [
    "scenes_dir='/home/berhe/Desktop/LIMSI/TLP_thesis/Scenes/'\n",
    "subtitle_dir='/home/berhe/Desktop/LIMSI/TLP_thesis/subtitles/'\n",
    "\n",
    "subtitleFiles=[]\n",
    "for fl in os.listdir(subtitle_dir):\n",
    "    if '.en.srt' in fl:\n",
    "       subtitleFiles.append(fl)\n",
    "\n",
    "scenesegementedFiles=[]\n",
    "for fl in os.listdir(scenes_dir):\n",
    "    if 'Episode' in fl:\n",
    "       scenesegementedFiles.append(fl)\n",
    "    \n",
    "subtitleFiles.sort()\n",
    "scenesegementedFiles.sort()"
   ]
  },
  {
   "cell_type": "code",
   "execution_count": 113,
   "metadata": {},
   "outputs": [],
   "source": [
    "threads='Desktop/threadsShot/thread_output6_10_10.json'\n",
    "_, shotSeq, shotBondry, _=est.preprocessingEastender(threads=threads)"
   ]
  },
  {
   "cell_type": "code",
   "execution_count": 114,
   "metadata": {},
   "outputs": [],
   "source": [
    "scenesShotSequence=est.segmentation_speakers(shotSeq,7,4)"
   ]
  },
  {
   "cell_type": "code",
   "execution_count": 115,
   "metadata": {},
   "outputs": [
    {
     "data": {
      "text/plain": [
       "(23, 249)"
      ]
     },
     "execution_count": 115,
     "metadata": {},
     "output_type": "execute_result"
    }
   ],
   "source": [
    "len(scenesShotSequence),len(shotSeq)"
   ]
  },
  {
   "cell_type": "code",
   "execution_count": 116,
   "metadata": {},
   "outputs": [
    {
     "data": {
      "text/plain": [
       "23"
      ]
     },
     "execution_count": 116,
     "metadata": {},
     "output_type": "execute_result"
    }
   ],
   "source": [
    "sceneShotBoundry=[]\n",
    "for i in scenesShotSequence:\n",
    "    sceneShotBoundry.append(shotBondry[i])\n",
    "\n",
    "start=sceneShotBoundry\n",
    "start=[0.]+start\n",
    "del start[-1]\n",
    "len(start)"
   ]
  },
  {
   "cell_type": "code",
   "execution_count": 121,
   "metadata": {},
   "outputs": [],
   "source": [
    "scenesegFile=scenes_dir+scenesegementedFiles[5]\n",
    "subtFile=subtitle_dir+subtitleFiles[5]"
   ]
  },
  {
   "cell_type": "code",
   "execution_count": 122,
   "metadata": {},
   "outputs": [],
   "source": [
    "_,_,sc_start,sc_end=stv.sceneTexts(scenesegFile,subtFile)"
   ]
  },
  {
   "cell_type": "code",
   "execution_count": 123,
   "metadata": {},
   "outputs": [
    {
     "data": {
      "text/plain": [
       "([50.36,\n",
       "  71.08,\n",
       "  76.76,\n",
       "  90.2,\n",
       "  435.56,\n",
       "  653.36,\n",
       "  745.24,\n",
       "  1010.9200000000001,\n",
       "  1081.88,\n",
       "  1121.68],\n",
       " [0.0, 5800.0, 112900.0],\n",
       " [5800.0, 112900.0, 381400.0])"
      ]
     },
     "execution_count": 123,
     "metadata": {},
     "output_type": "execute_result"
    }
   ],
   "source": [
    "sceneShotBoundry[0:10],sc_start[0:3],(sc_end[0:3])"
   ]
  },
  {
   "cell_type": "code",
   "execution_count": 124,
   "metadata": {},
   "outputs": [],
   "source": [
    "df=stv.get_text_time(subtFile)"
   ]
  },
  {
   "cell_type": "code",
   "execution_count": 125,
   "metadata": {},
   "outputs": [
    {
     "data": {
      "text/plain": [
       "[110, 141, 144]"
      ]
     },
     "execution_count": 125,
     "metadata": {},
     "output_type": "execute_result"
    }
   ],
   "source": [
    "df['end_second'][0:3]"
   ]
  },
  {
   "cell_type": "code",
   "execution_count": 126,
   "metadata": {},
   "outputs": [
    {
     "data": {
      "text/plain": [
       "652"
      ]
     },
     "execution_count": 126,
     "metadata": {},
     "output_type": "execute_result"
    }
   ],
   "source": [
    "len(df['start_seconds'])"
   ]
  },
  {
   "cell_type": "code",
   "execution_count": 127,
   "metadata": {},
   "outputs": [
    {
     "data": {
      "text/plain": [
       "(2945, 157, 2957)"
      ]
     },
     "execution_count": 127,
     "metadata": {},
     "output_type": "execute_result"
    }
   ],
   "source": [
    "int(sceneShotBoundry[-1]),df['end_second'][6],df['start_seconds'][650]"
   ]
  },
  {
   "cell_type": "code",
   "execution_count": 128,
   "metadata": {},
   "outputs": [
    {
     "data": {
      "text/plain": [
       "(u'Your pardon, Your Grace.', 141, 139)"
      ]
     },
     "execution_count": 128,
     "metadata": {},
     "output_type": "execute_result"
    }
   ],
   "source": [
    "df['textList'][1],df['end_second'][1],df['start_seconds'][1]"
   ]
  },
  {
   "cell_type": "code",
   "execution_count": 129,
   "metadata": {},
   "outputs": [],
   "source": [
    "scene_texts,scene_lbls,start,end=stv.sceneTexts(scenesegFile,subtFile)"
   ]
  },
  {
   "cell_type": "code",
   "execution_count": 130,
   "metadata": {},
   "outputs": [
    {
     "data": {
      "text/plain": [
       "(22, 22, 22, 22)"
      ]
     },
     "execution_count": 130,
     "metadata": {},
     "output_type": "execute_result"
    }
   ],
   "source": [
    "len(scene_texts),len(scene_lbls),len(start),len(end)"
   ]
  },
  {
   "cell_type": "code",
   "execution_count": 131,
   "metadata": {},
   "outputs": [],
   "source": [
    "cl_sc=stv.split_into_sentences(scene_texts[2])"
   ]
  },
  {
   "cell_type": "code",
   "execution_count": 132,
   "metadata": {},
   "outputs": [],
   "source": [
    "from nltk import sent_tokenize\n",
    "cl_sc=sent_tokenize(scene_texts[1])"
   ]
  },
  {
   "cell_type": "code",
   "execution_count": 133,
   "metadata": {},
   "outputs": [
    {
     "data": {
      "text/plain": [
       "(0, 1)"
      ]
     },
     "execution_count": 133,
     "metadata": {},
     "output_type": "execute_result"
    }
   ],
   "source": [
    "len(scene_texts[0]),len(cl_sc)"
   ]
  },
  {
   "cell_type": "code",
   "execution_count": 134,
   "metadata": {},
   "outputs": [
    {
     "data": {
      "text/plain": [
       "['(Gulls sawing)']"
      ]
     },
     "execution_count": 134,
     "metadata": {},
     "output_type": "execute_result"
    }
   ],
   "source": [
    "cl_sc"
   ]
  },
  {
   "cell_type": "code",
   "execution_count": 135,
   "metadata": {},
   "outputs": [
    {
     "data": {
      "text/plain": [
       "'(Gulls sawing)'"
      ]
     },
     "execution_count": 135,
     "metadata": {},
     "output_type": "execute_result"
    }
   ],
   "source": [
    "scene_texts[1]"
   ]
  },
  {
   "cell_type": "code",
   "execution_count": 136,
   "metadata": {},
   "outputs": [],
   "source": [
    "episodeTVM,episodeTVMB,l1=stv.episodTruthValueMan1(scenesegementedFile=scenesegFile,subtitleFile=subtFile)\n",
    "episodesTVA,episodesTVAB,l2=stv.episodTruthValueShot1(scene_start=start,scene_end=sceneShotBoundry,subtitleFile=subtFile)"
   ]
  },
  {
   "cell_type": "code",
   "execution_count": 137,
   "metadata": {},
   "outputs": [
    {
     "data": {
      "text/plain": [
       "(652, 652, 652, 652)"
      ]
     },
     "execution_count": 137,
     "metadata": {},
     "output_type": "execute_result"
    }
   ],
   "source": [
    "len(episodesTVA),len(episodeTVM),l1,l2"
   ]
  },
  {
   "cell_type": "code",
   "execution_count": 138,
   "metadata": {},
   "outputs": [
    {
     "data": {
      "text/plain": [
       "([4, 4, 4, 4, 4, 4, 4, 4, 4, 4, 4, 4, 4, 4, 4],\n",
       " [0, 0, 0, 0, 0, 0, 0, 0, 0, 0, 0, 0, 0, 0, 0])"
      ]
     },
     "execution_count": 138,
     "metadata": {},
     "output_type": "execute_result"
    }
   ],
   "source": [
    "episodesTVAB[25:40],episodesTVA[25:40]"
   ]
  },
  {
   "cell_type": "code",
   "execution_count": 139,
   "metadata": {},
   "outputs": [
    {
     "data": {
      "text/plain": [
       "0.44200626959247646"
      ]
     },
     "execution_count": 139,
     "metadata": {},
     "output_type": "execute_result"
    }
   ],
   "source": [
    "em.pk(episodeTVM,episodesTVA,k=15,boundary=1)"
   ]
  },
  {
   "cell_type": "code",
   "execution_count": null,
   "metadata": {},
   "outputs": [],
   "source": []
  },
  {
   "cell_type": "code",
   "execution_count": 140,
   "metadata": {},
   "outputs": [
    {
     "data": {
      "text/plain": [
       "0.0"
      ]
     },
     "execution_count": 140,
     "metadata": {},
     "output_type": "execute_result"
    }
   ],
   "source": [
    "em.pk(episodeTVMB,episodesTVAB,k=15,boundary=1)"
   ]
  },
  {
   "cell_type": "code",
   "execution_count": 141,
   "metadata": {},
   "outputs": [
    {
     "data": {
      "text/plain": [
       "0.6025039123630673"
      ]
     },
     "execution_count": 141,
     "metadata": {},
     "output_type": "execute_result"
    }
   ],
   "source": [
    "em.windowdiff(episodeTVM,episodesTVA,k=13,boundary=1)"
   ]
  },
  {
   "cell_type": "code",
   "execution_count": 142,
   "metadata": {},
   "outputs": [
    {
     "data": {
      "text/plain": [
       "0.0"
      ]
     },
     "execution_count": 142,
     "metadata": {},
     "output_type": "execute_result"
    }
   ],
   "source": [
    "em.windowdiff(episodeTVMB,episodesTVAB,k=15,boundary=1)"
   ]
  },
  {
   "cell_type": "code",
   "execution_count": 143,
   "metadata": {},
   "outputs": [
    {
     "data": {
      "text/plain": [
       "21"
      ]
     },
     "execution_count": 143,
     "metadata": {},
     "output_type": "execute_result"
    }
   ],
   "source": [
    "episodeTVM.count(1)+1"
   ]
  },
  {
   "cell_type": "code",
   "execution_count": 144,
   "metadata": {},
   "outputs": [
    {
     "data": {
      "text/plain": [
       "26"
      ]
     },
     "execution_count": 144,
     "metadata": {},
     "output_type": "execute_result"
    }
   ],
   "source": [
    "episodesTVA.count(1)+1"
   ]
  },
  {
   "cell_type": "code",
   "execution_count": 145,
   "metadata": {},
   "outputs": [],
   "source": [
    "K=(len(episodeTVM)/(2*((episodeTVM.count(1)+1))))"
   ]
  },
  {
   "cell_type": "code",
   "execution_count": 146,
   "metadata": {},
   "outputs": [
    {
     "data": {
      "text/plain": [
       "15"
      ]
     },
     "execution_count": 146,
     "metadata": {},
     "output_type": "execute_result"
    }
   ],
   "source": [
    "K"
   ]
  },
  {
   "cell_type": "code",
   "execution_count": 147,
   "metadata": {},
   "outputs": [],
   "source": [
    "kvalues=[]\n",
    "cvalues=[]\n",
    "windiffSHotA=[]\n",
    "pkShotA=[]\n",
    "shotRecA=[]\n",
    "shotPrA=[]\n",
    "shotRecB=[]\n",
    "shotPrB=[]\n",
    "sceneShot=[]\n",
    "purityE=[]\n",
    "NMIE=[]\n",
    "purityEE=[]\n",
    "NMIEE=[]\n",
    "Coverage=[]\n",
    "Coverage1=[]\n",
    "for k in range(7, 11):\n",
    "    for c in range(3,9):\n",
    "        if c<k:\n",
    "            scenesShotSequence=est.segmentation_speakers(shotSeq,k,c)\n",
    "            sceneShotBoundry=[]\n",
    "            for i in scenesShotSequence:\n",
    "                sceneShotBoundry.append(shotBondry[i])\n",
    "\n",
    "            start=sceneShotBoundry\n",
    "            start=[0.]+start\n",
    "            del start[-1]\n",
    "            len(start)\n",
    "            \n",
    "            episodeTVM,episodeTVMB,l1=stv.episodTruthValueMan1(scenesegementedFile=scenesegFile,subtitleFile=subtFile)\n",
    "            episodesTVA,episodesTVAB,l2=stv.episodTruthValueShot1(scene_start=start,scene_end=sceneShotBoundry,subtitleFile=subtFile)\n",
    "            \n",
    "            \n",
    "            windiffSHot=round(em.windowdiff(episodeTVM,episodesTVA,k=K,boundary=1),2)\n",
    "            pkShot=round(em.pk(episodeTVM,episodesTVA,k=K,boundary=1),2)\n",
    "            \n",
    "            episodesTVA=[int(i) for i in episodesTVA]\n",
    "            episodeTVM=[int(i) for i in episodeTVM]\n",
    "            episodesTVAB=[int(i) for i in episodesTVAB]\n",
    "            episodeTVMB=[int(i) for i in episodeTVMB]\n",
    "            episodesTVA=np.array(episodesTVA)\n",
    "            episodeTVM=np.array(episodeTVM)\n",
    "            episodesTVAB=np.array(episodesTVAB)\n",
    "            episodeTVMB=np.array(episodeTVMB)\n",
    "                \n",
    "            shotRec=round(em.recall(episodeTVM,episodesTVA),3)\n",
    "            shotPr=round(em.precision(episodeTVM,episodesTVA),3)\n",
    "            shotRecb=round(em.recall(episodeTVMB,episodesTVAB,rType='micro'),3)\n",
    "            shotPrb=round(em.precision(episodeTVMB,episodesTVAB,rType='micro'),3)\n",
    "            puritye=round(em.purity_score(y_true=episodeTVMB,y_pred=episodesTVAB),3)\n",
    "            nmie=round(em.nmi(episodeTVMB,episodesTVAB),3)\n",
    "            purityee=round(em.purity_score(y_true=episodeTVM,y_pred=episodesTVA),3)\n",
    "            nmiee=round(em.nmi(episodeTVM,episodesTVA),3)\n",
    "            #coverage=DiarizationCoverage()\n",
    "            dc=round(round(em.coverage(y_true=episodeTVM,y_pred=episodesTVA),3))\n",
    "            dc1=round(round(em.purity_score(y_true=episodesTVA,y_pred=episodeTVM),3))\n",
    "                \n",
    "            \n",
    "            kvalues.append(k)\n",
    "            cvalues.append(c)\n",
    "            windiffSHotA.append(windiffSHot)\n",
    "            pkShotA.append(pkShot)\n",
    "            shotRecA.append(shotRec)\n",
    "            shotRecB.append(shotRecb)\n",
    "            purityE.append(puritye)\n",
    "            NMIE.append(nmie)\n",
    "            purityEE.append(purityee)\n",
    "            NMIEE.append(nmiee)\n",
    "            shotPrA.append(shotPr)\n",
    "            shotPrB.append(shotPrb)\n",
    "            sceneShot.append(len(scenesShotSequence))\n",
    "            Coverage.append(dc)\n",
    "            Coverage1.append(dc1)\n",
    "        else:\n",
    "            break"
   ]
  },
  {
   "cell_type": "code",
   "execution_count": 148,
   "metadata": {},
   "outputs": [],
   "source": [
    "resulDF=pd.DataFrame()\n",
    "resulDF['K']=kvalues\n",
    "resulDF['C']=cvalues\n",
    "resulDF['wdSH']=windiffSHotA\n",
    "resulDF['pkSh']=pkShotA\n",
    "#resulDF['rSh']=recallShot\n",
    "resulDF['shotRec_01']=shotRecB\n",
    "resulDF['shotPr_01']=shotPrB\n",
    "resulDF['shotRec']=shotRecA\n",
    "resulDF['shotPr']=shotPrA\n",
    "resulDF['sceneShot']=sceneShot\n",
    "resulDF['purity_01']=purityEE\n",
    "resulDF['NMI_01']=NMIEE\n",
    "resulDF['purity']=purityE\n",
    "resulDF['NMI']=NMIE\n",
    "resulDF['Coverage']=Coverage\n",
    "resulDF['Coverage1']=Coverage1"
   ]
  },
  {
   "cell_type": "code",
   "execution_count": 149,
   "metadata": {},
   "outputs": [
    {
     "data": {
      "text/html": [
       "<div>\n",
       "<style scoped>\n",
       "    .dataframe tbody tr th:only-of-type {\n",
       "        vertical-align: middle;\n",
       "    }\n",
       "\n",
       "    .dataframe tbody tr th {\n",
       "        vertical-align: top;\n",
       "    }\n",
       "\n",
       "    .dataframe thead th {\n",
       "        text-align: right;\n",
       "    }\n",
       "</style>\n",
       "<table border=\"1\" class=\"dataframe\">\n",
       "  <thead>\n",
       "    <tr style=\"text-align: right;\">\n",
       "      <th></th>\n",
       "      <th>K</th>\n",
       "      <th>C</th>\n",
       "      <th>wdSH</th>\n",
       "      <th>pkSh</th>\n",
       "      <th>shotRec_01</th>\n",
       "      <th>shotPr_01</th>\n",
       "      <th>shotRec</th>\n",
       "      <th>shotPr</th>\n",
       "      <th>sceneShot</th>\n",
       "      <th>purity_01</th>\n",
       "      <th>NMI_01</th>\n",
       "      <th>purity</th>\n",
       "      <th>NMI</th>\n",
       "      <th>Coverage</th>\n",
       "      <th>Coverage1</th>\n",
       "    </tr>\n",
       "  </thead>\n",
       "  <tbody>\n",
       "    <tr>\n",
       "      <th>0</th>\n",
       "      <td>7</td>\n",
       "      <td>3</td>\n",
       "      <td>0.76</td>\n",
       "      <td>0.40</td>\n",
       "      <td>0.028</td>\n",
       "      <td>0.028</td>\n",
       "      <td>0.20</td>\n",
       "      <td>0.121</td>\n",
       "      <td>34</td>\n",
       "      <td>0.969</td>\n",
       "      <td>0.027</td>\n",
       "      <td>0.080</td>\n",
       "      <td>0.800</td>\n",
       "      <td>1.0</td>\n",
       "      <td>1.0</td>\n",
       "    </tr>\n",
       "    <tr>\n",
       "      <th>1</th>\n",
       "      <td>7</td>\n",
       "      <td>4</td>\n",
       "      <td>0.66</td>\n",
       "      <td>0.44</td>\n",
       "      <td>0.043</td>\n",
       "      <td>0.043</td>\n",
       "      <td>0.15</td>\n",
       "      <td>0.120</td>\n",
       "      <td>23</td>\n",
       "      <td>0.969</td>\n",
       "      <td>0.022</td>\n",
       "      <td>0.126</td>\n",
       "      <td>0.783</td>\n",
       "      <td>1.0</td>\n",
       "      <td>1.0</td>\n",
       "    </tr>\n",
       "    <tr>\n",
       "      <th>2</th>\n",
       "      <td>7</td>\n",
       "      <td>5</td>\n",
       "      <td>1.42</td>\n",
       "      <td>0.45</td>\n",
       "      <td>0.017</td>\n",
       "      <td>0.017</td>\n",
       "      <td>0.20</td>\n",
       "      <td>0.069</td>\n",
       "      <td>17</td>\n",
       "      <td>0.969</td>\n",
       "      <td>0.009</td>\n",
       "      <td>0.137</td>\n",
       "      <td>0.732</td>\n",
       "      <td>1.0</td>\n",
       "      <td>1.0</td>\n",
       "    </tr>\n",
       "    <tr>\n",
       "      <th>3</th>\n",
       "      <td>7</td>\n",
       "      <td>6</td>\n",
       "      <td>1.69</td>\n",
       "      <td>0.51</td>\n",
       "      <td>0.012</td>\n",
       "      <td>0.012</td>\n",
       "      <td>0.20</td>\n",
       "      <td>0.062</td>\n",
       "      <td>13</td>\n",
       "      <td>0.969</td>\n",
       "      <td>0.007</td>\n",
       "      <td>0.084</td>\n",
       "      <td>0.682</td>\n",
       "      <td>1.0</td>\n",
       "      <td>1.0</td>\n",
       "    </tr>\n",
       "    <tr>\n",
       "      <th>4</th>\n",
       "      <td>8</td>\n",
       "      <td>3</td>\n",
       "      <td>0.76</td>\n",
       "      <td>0.40</td>\n",
       "      <td>0.028</td>\n",
       "      <td>0.028</td>\n",
       "      <td>0.20</td>\n",
       "      <td>0.121</td>\n",
       "      <td>34</td>\n",
       "      <td>0.969</td>\n",
       "      <td>0.027</td>\n",
       "      <td>0.080</td>\n",
       "      <td>0.800</td>\n",
       "      <td>1.0</td>\n",
       "      <td>1.0</td>\n",
       "    </tr>\n",
       "    <tr>\n",
       "      <th>5</th>\n",
       "      <td>8</td>\n",
       "      <td>4</td>\n",
       "      <td>0.66</td>\n",
       "      <td>0.44</td>\n",
       "      <td>0.043</td>\n",
       "      <td>0.043</td>\n",
       "      <td>0.15</td>\n",
       "      <td>0.120</td>\n",
       "      <td>23</td>\n",
       "      <td>0.969</td>\n",
       "      <td>0.022</td>\n",
       "      <td>0.126</td>\n",
       "      <td>0.783</td>\n",
       "      <td>1.0</td>\n",
       "      <td>1.0</td>\n",
       "    </tr>\n",
       "    <tr>\n",
       "      <th>6</th>\n",
       "      <td>8</td>\n",
       "      <td>5</td>\n",
       "      <td>1.42</td>\n",
       "      <td>0.45</td>\n",
       "      <td>0.017</td>\n",
       "      <td>0.017</td>\n",
       "      <td>0.20</td>\n",
       "      <td>0.069</td>\n",
       "      <td>17</td>\n",
       "      <td>0.969</td>\n",
       "      <td>0.009</td>\n",
       "      <td>0.137</td>\n",
       "      <td>0.732</td>\n",
       "      <td>1.0</td>\n",
       "      <td>1.0</td>\n",
       "    </tr>\n",
       "    <tr>\n",
       "      <th>7</th>\n",
       "      <td>8</td>\n",
       "      <td>6</td>\n",
       "      <td>1.69</td>\n",
       "      <td>0.51</td>\n",
       "      <td>0.012</td>\n",
       "      <td>0.012</td>\n",
       "      <td>0.20</td>\n",
       "      <td>0.062</td>\n",
       "      <td>13</td>\n",
       "      <td>0.969</td>\n",
       "      <td>0.007</td>\n",
       "      <td>0.084</td>\n",
       "      <td>0.682</td>\n",
       "      <td>1.0</td>\n",
       "      <td>1.0</td>\n",
       "    </tr>\n",
       "    <tr>\n",
       "      <th>8</th>\n",
       "      <td>8</td>\n",
       "      <td>7</td>\n",
       "      <td>1.64</td>\n",
       "      <td>0.47</td>\n",
       "      <td>0.098</td>\n",
       "      <td>0.098</td>\n",
       "      <td>0.25</td>\n",
       "      <td>0.078</td>\n",
       "      <td>12</td>\n",
       "      <td>0.969</td>\n",
       "      <td>0.015</td>\n",
       "      <td>0.137</td>\n",
       "      <td>0.711</td>\n",
       "      <td>1.0</td>\n",
       "      <td>1.0</td>\n",
       "    </tr>\n",
       "    <tr>\n",
       "      <th>9</th>\n",
       "      <td>9</td>\n",
       "      <td>3</td>\n",
       "      <td>0.76</td>\n",
       "      <td>0.40</td>\n",
       "      <td>0.028</td>\n",
       "      <td>0.028</td>\n",
       "      <td>0.20</td>\n",
       "      <td>0.121</td>\n",
       "      <td>34</td>\n",
       "      <td>0.969</td>\n",
       "      <td>0.027</td>\n",
       "      <td>0.080</td>\n",
       "      <td>0.800</td>\n",
       "      <td>1.0</td>\n",
       "      <td>1.0</td>\n",
       "    </tr>\n",
       "    <tr>\n",
       "      <th>10</th>\n",
       "      <td>9</td>\n",
       "      <td>4</td>\n",
       "      <td>0.65</td>\n",
       "      <td>0.44</td>\n",
       "      <td>0.018</td>\n",
       "      <td>0.018</td>\n",
       "      <td>0.15</td>\n",
       "      <td>0.125</td>\n",
       "      <td>22</td>\n",
       "      <td>0.969</td>\n",
       "      <td>0.023</td>\n",
       "      <td>0.126</td>\n",
       "      <td>0.784</td>\n",
       "      <td>1.0</td>\n",
       "      <td>1.0</td>\n",
       "    </tr>\n",
       "    <tr>\n",
       "      <th>11</th>\n",
       "      <td>9</td>\n",
       "      <td>5</td>\n",
       "      <td>1.34</td>\n",
       "      <td>0.40</td>\n",
       "      <td>0.012</td>\n",
       "      <td>0.012</td>\n",
       "      <td>0.25</td>\n",
       "      <td>0.088</td>\n",
       "      <td>16</td>\n",
       "      <td>0.969</td>\n",
       "      <td>0.018</td>\n",
       "      <td>0.107</td>\n",
       "      <td>0.767</td>\n",
       "      <td>1.0</td>\n",
       "      <td>1.0</td>\n",
       "    </tr>\n",
       "    <tr>\n",
       "      <th>12</th>\n",
       "      <td>9</td>\n",
       "      <td>6</td>\n",
       "      <td>1.66</td>\n",
       "      <td>0.48</td>\n",
       "      <td>0.095</td>\n",
       "      <td>0.095</td>\n",
       "      <td>0.20</td>\n",
       "      <td>0.062</td>\n",
       "      <td>13</td>\n",
       "      <td>0.969</td>\n",
       "      <td>0.007</td>\n",
       "      <td>0.127</td>\n",
       "      <td>0.697</td>\n",
       "      <td>1.0</td>\n",
       "      <td>1.0</td>\n",
       "    </tr>\n",
       "    <tr>\n",
       "      <th>13</th>\n",
       "      <td>9</td>\n",
       "      <td>7</td>\n",
       "      <td>1.66</td>\n",
       "      <td>0.49</td>\n",
       "      <td>0.090</td>\n",
       "      <td>0.090</td>\n",
       "      <td>0.20</td>\n",
       "      <td>0.063</td>\n",
       "      <td>11</td>\n",
       "      <td>0.969</td>\n",
       "      <td>0.007</td>\n",
       "      <td>0.075</td>\n",
       "      <td>0.676</td>\n",
       "      <td>1.0</td>\n",
       "      <td>1.0</td>\n",
       "    </tr>\n",
       "    <tr>\n",
       "      <th>14</th>\n",
       "      <td>9</td>\n",
       "      <td>8</td>\n",
       "      <td>1.59</td>\n",
       "      <td>0.44</td>\n",
       "      <td>0.003</td>\n",
       "      <td>0.003</td>\n",
       "      <td>0.15</td>\n",
       "      <td>0.049</td>\n",
       "      <td>9</td>\n",
       "      <td>0.969</td>\n",
       "      <td>0.002</td>\n",
       "      <td>0.133</td>\n",
       "      <td>0.697</td>\n",
       "      <td>1.0</td>\n",
       "      <td>1.0</td>\n",
       "    </tr>\n",
       "    <tr>\n",
       "      <th>15</th>\n",
       "      <td>10</td>\n",
       "      <td>3</td>\n",
       "      <td>0.82</td>\n",
       "      <td>0.50</td>\n",
       "      <td>0.060</td>\n",
       "      <td>0.060</td>\n",
       "      <td>0.15</td>\n",
       "      <td>0.097</td>\n",
       "      <td>32</td>\n",
       "      <td>0.969</td>\n",
       "      <td>0.015</td>\n",
       "      <td>0.130</td>\n",
       "      <td>0.766</td>\n",
       "      <td>1.0</td>\n",
       "      <td>1.0</td>\n",
       "    </tr>\n",
       "    <tr>\n",
       "      <th>16</th>\n",
       "      <td>10</td>\n",
       "      <td>4</td>\n",
       "      <td>0.65</td>\n",
       "      <td>0.44</td>\n",
       "      <td>0.018</td>\n",
       "      <td>0.018</td>\n",
       "      <td>0.15</td>\n",
       "      <td>0.125</td>\n",
       "      <td>22</td>\n",
       "      <td>0.969</td>\n",
       "      <td>0.023</td>\n",
       "      <td>0.126</td>\n",
       "      <td>0.784</td>\n",
       "      <td>1.0</td>\n",
       "      <td>1.0</td>\n",
       "    </tr>\n",
       "    <tr>\n",
       "      <th>17</th>\n",
       "      <td>10</td>\n",
       "      <td>5</td>\n",
       "      <td>1.34</td>\n",
       "      <td>0.40</td>\n",
       "      <td>0.012</td>\n",
       "      <td>0.012</td>\n",
       "      <td>0.25</td>\n",
       "      <td>0.088</td>\n",
       "      <td>16</td>\n",
       "      <td>0.969</td>\n",
       "      <td>0.018</td>\n",
       "      <td>0.107</td>\n",
       "      <td>0.767</td>\n",
       "      <td>1.0</td>\n",
       "      <td>1.0</td>\n",
       "    </tr>\n",
       "    <tr>\n",
       "      <th>18</th>\n",
       "      <td>10</td>\n",
       "      <td>6</td>\n",
       "      <td>1.66</td>\n",
       "      <td>0.48</td>\n",
       "      <td>0.095</td>\n",
       "      <td>0.095</td>\n",
       "      <td>0.20</td>\n",
       "      <td>0.062</td>\n",
       "      <td>13</td>\n",
       "      <td>0.969</td>\n",
       "      <td>0.007</td>\n",
       "      <td>0.127</td>\n",
       "      <td>0.697</td>\n",
       "      <td>1.0</td>\n",
       "      <td>1.0</td>\n",
       "    </tr>\n",
       "    <tr>\n",
       "      <th>19</th>\n",
       "      <td>10</td>\n",
       "      <td>7</td>\n",
       "      <td>1.66</td>\n",
       "      <td>0.49</td>\n",
       "      <td>0.090</td>\n",
       "      <td>0.090</td>\n",
       "      <td>0.20</td>\n",
       "      <td>0.063</td>\n",
       "      <td>11</td>\n",
       "      <td>0.969</td>\n",
       "      <td>0.007</td>\n",
       "      <td>0.075</td>\n",
       "      <td>0.676</td>\n",
       "      <td>1.0</td>\n",
       "      <td>1.0</td>\n",
       "    </tr>\n",
       "    <tr>\n",
       "      <th>20</th>\n",
       "      <td>10</td>\n",
       "      <td>8</td>\n",
       "      <td>1.59</td>\n",
       "      <td>0.44</td>\n",
       "      <td>0.003</td>\n",
       "      <td>0.003</td>\n",
       "      <td>0.15</td>\n",
       "      <td>0.049</td>\n",
       "      <td>9</td>\n",
       "      <td>0.969</td>\n",
       "      <td>0.002</td>\n",
       "      <td>0.133</td>\n",
       "      <td>0.697</td>\n",
       "      <td>1.0</td>\n",
       "      <td>1.0</td>\n",
       "    </tr>\n",
       "  </tbody>\n",
       "</table>\n",
       "</div>"
      ],
      "text/plain": [
       "     K  C  wdSH  pkSh  shotRec_01  shotPr_01  shotRec  shotPr  sceneShot  \\\n",
       "0    7  3  0.76  0.40       0.028      0.028     0.20   0.121         34   \n",
       "1    7  4  0.66  0.44       0.043      0.043     0.15   0.120         23   \n",
       "2    7  5  1.42  0.45       0.017      0.017     0.20   0.069         17   \n",
       "3    7  6  1.69  0.51       0.012      0.012     0.20   0.062         13   \n",
       "4    8  3  0.76  0.40       0.028      0.028     0.20   0.121         34   \n",
       "5    8  4  0.66  0.44       0.043      0.043     0.15   0.120         23   \n",
       "6    8  5  1.42  0.45       0.017      0.017     0.20   0.069         17   \n",
       "7    8  6  1.69  0.51       0.012      0.012     0.20   0.062         13   \n",
       "8    8  7  1.64  0.47       0.098      0.098     0.25   0.078         12   \n",
       "9    9  3  0.76  0.40       0.028      0.028     0.20   0.121         34   \n",
       "10   9  4  0.65  0.44       0.018      0.018     0.15   0.125         22   \n",
       "11   9  5  1.34  0.40       0.012      0.012     0.25   0.088         16   \n",
       "12   9  6  1.66  0.48       0.095      0.095     0.20   0.062         13   \n",
       "13   9  7  1.66  0.49       0.090      0.090     0.20   0.063         11   \n",
       "14   9  8  1.59  0.44       0.003      0.003     0.15   0.049          9   \n",
       "15  10  3  0.82  0.50       0.060      0.060     0.15   0.097         32   \n",
       "16  10  4  0.65  0.44       0.018      0.018     0.15   0.125         22   \n",
       "17  10  5  1.34  0.40       0.012      0.012     0.25   0.088         16   \n",
       "18  10  6  1.66  0.48       0.095      0.095     0.20   0.062         13   \n",
       "19  10  7  1.66  0.49       0.090      0.090     0.20   0.063         11   \n",
       "20  10  8  1.59  0.44       0.003      0.003     0.15   0.049          9   \n",
       "\n",
       "    purity_01  NMI_01  purity    NMI  Coverage  Coverage1  \n",
       "0       0.969   0.027   0.080  0.800       1.0        1.0  \n",
       "1       0.969   0.022   0.126  0.783       1.0        1.0  \n",
       "2       0.969   0.009   0.137  0.732       1.0        1.0  \n",
       "3       0.969   0.007   0.084  0.682       1.0        1.0  \n",
       "4       0.969   0.027   0.080  0.800       1.0        1.0  \n",
       "5       0.969   0.022   0.126  0.783       1.0        1.0  \n",
       "6       0.969   0.009   0.137  0.732       1.0        1.0  \n",
       "7       0.969   0.007   0.084  0.682       1.0        1.0  \n",
       "8       0.969   0.015   0.137  0.711       1.0        1.0  \n",
       "9       0.969   0.027   0.080  0.800       1.0        1.0  \n",
       "10      0.969   0.023   0.126  0.784       1.0        1.0  \n",
       "11      0.969   0.018   0.107  0.767       1.0        1.0  \n",
       "12      0.969   0.007   0.127  0.697       1.0        1.0  \n",
       "13      0.969   0.007   0.075  0.676       1.0        1.0  \n",
       "14      0.969   0.002   0.133  0.697       1.0        1.0  \n",
       "15      0.969   0.015   0.130  0.766       1.0        1.0  \n",
       "16      0.969   0.023   0.126  0.784       1.0        1.0  \n",
       "17      0.969   0.018   0.107  0.767       1.0        1.0  \n",
       "18      0.969   0.007   0.127  0.697       1.0        1.0  \n",
       "19      0.969   0.007   0.075  0.676       1.0        1.0  \n",
       "20      0.969   0.002   0.133  0.697       1.0        1.0  "
      ]
     },
     "execution_count": 149,
     "metadata": {},
     "output_type": "execute_result"
    }
   ],
   "source": [
    "resulDF"
   ]
  },
  {
   "cell_type": "code",
   "execution_count": 39,
   "metadata": {},
   "outputs": [
    {
     "data": {
      "text/plain": [
       "(652, 652)"
      ]
     },
     "execution_count": 39,
     "metadata": {},
     "output_type": "execute_result"
    }
   ],
   "source": [
    "l1,l2"
   ]
  },
  {
   "cell_type": "code",
   "execution_count": 38,
   "metadata": {},
   "outputs": [
    {
     "data": {
      "text/plain": [
       "K              7.000\n",
       "C              4.000\n",
       "wdSH           0.600\n",
       "pkSh           0.390\n",
       "shotRec_01     0.037\n",
       "shotPr_01      0.037\n",
       "shotRec        0.136\n",
       "shotPr         0.136\n",
       "sceneShot     23.000\n",
       "purity_01      0.675\n",
       "NMI_01         0.794\n",
       "purity         0.675\n",
       "NMI            0.794\n",
       "Coverage       1.000\n",
       "Coverage1      1.000\n",
       "Name: 1, dtype: float64"
      ]
     },
     "execution_count": 38,
     "metadata": {},
     "output_type": "execute_result"
    }
   ],
   "source": [
    "resulDF.loc[resulDF['purity'].idxmax()]"
   ]
  },
  {
   "cell_type": "code",
   "execution_count": 37,
   "metadata": {},
   "outputs": [
    {
     "data": {
      "text/plain": [
       "K             9.000\n",
       "C             8.000\n",
       "wdSH          0.450\n",
       "pkSh          0.350\n",
       "shotRec_01    0.006\n",
       "shotPr_01     0.006\n",
       "shotRec       0.053\n",
       "shotPr        0.111\n",
       "sceneShot     9.000\n",
       "purity_01     0.520\n",
       "NMI_01        0.723\n",
       "purity        0.520\n",
       "NMI           0.723\n",
       "Coverage      1.000\n",
       "Coverage1     1.000\n",
       "Name: 14, dtype: float64"
      ]
     },
     "execution_count": 37,
     "metadata": {},
     "output_type": "execute_result"
    }
   ],
   "source": [
    "resulDF.loc[resulDF['pkSh'].idxmin()]"
   ]
  },
  {
   "cell_type": "code",
   "execution_count": 93,
   "metadata": {},
   "outputs": [
    {
     "data": {
      "text/plain": [
       "K             10.000\n",
       "C              8.000\n",
       "wdSH           0.550\n",
       "pkSh           0.370\n",
       "shotRec_01     0.100\n",
       "shotPr_01      0.007\n",
       "shotRec        0.100\n",
       "shotPr         0.068\n",
       "sceneShot     23.000\n",
       "purity_01      0.703\n",
       "NMI_01         0.787\n",
       "purity         0.703\n",
       "NMI            0.787\n",
       "dtype: float64"
      ]
     },
     "execution_count": 93,
     "metadata": {},
     "output_type": "execute_result"
    }
   ],
   "source": [
    "resulDF.max(axis=None, skipna=None, level=None, numeric_only=None)"
   ]
  },
  {
   "cell_type": "code",
   "execution_count": null,
   "metadata": {},
   "outputs": [],
   "source": [
    "def recall(ref, hyp):\n",
    "    if len(ref)>len(hyp):\n",
    "        ref=ref[0:len(hyp)]\n",
    "    else:\n",
    "        hyp=hyp[:len(ref)]\n",
    "    \n",
    "    return [len(hyp),len(ref)]"
   ]
  },
  {
   "cell_type": "code",
   "execution_count": null,
   "metadata": {},
   "outputs": [],
   "source": [
    "recall_score(episodesTVA,episodeTVM)"
   ]
  },
  {
   "cell_type": "code",
   "execution_count": null,
   "metadata": {},
   "outputs": [],
   "source": [
    "from sklearn.metrics import recall_score,precision_score,f1_score "
   ]
  },
  {
   "cell_type": "code",
   "execution_count": 23,
   "metadata": {},
   "outputs": [],
   "source": [
    "import numpy as np"
   ]
  },
  {
   "cell_type": "code",
   "execution_count": null,
   "metadata": {},
   "outputs": [],
   "source": [
    "episodesTVA=[int(i) for i in episodesTVA]\n",
    "episodeTVM=[int(i) for i in episodeTVM]"
   ]
  },
  {
   "cell_type": "code",
   "execution_count": null,
   "metadata": {},
   "outputs": [],
   "source": [
    "episodesTVA=np.array(episodesTVA)\n",
    "episodeTVM=np.array(episodeTVM)"
   ]
  },
  {
   "cell_type": "code",
   "execution_count": null,
   "metadata": {},
   "outputs": [],
   "source": [
    "episodesTVA.shape,episodeTVM.shape"
   ]
  },
  {
   "cell_type": "code",
   "execution_count": null,
   "metadata": {},
   "outputs": [],
   "source": [
    "episodeTVM=episodeTVM[:len(episodesTVA)]"
   ]
  },
  {
   "cell_type": "code",
   "execution_count": null,
   "metadata": {},
   "outputs": [],
   "source": [
    "em.recall2(episodesTVA,episodeTVM)"
   ]
  },
  {
   "cell_type": "code",
   "execution_count": null,
   "metadata": {},
   "outputs": [],
   "source": [
    "episodeTVM"
   ]
  },
  {
   "cell_type": "code",
   "execution_count": null,
   "metadata": {},
   "outputs": [],
   "source": [
    "episodesTVA"
   ]
  },
  {
   "cell_type": "code",
   "execution_count": 23,
   "metadata": {},
   "outputs": [
    {
     "data": {
      "text/plain": [
       "0.01"
      ]
     },
     "execution_count": 23,
     "metadata": {},
     "output_type": "execute_result"
    }
   ],
   "source": [
    "round(em.nmi(episodeTVM,episodesTVA),2)"
   ]
  },
  {
   "cell_type": "code",
   "execution_count": 24,
   "metadata": {},
   "outputs": [
    {
     "data": {
      "text/plain": [
       "0.97"
      ]
     },
     "execution_count": 24,
     "metadata": {},
     "output_type": "execute_result"
    }
   ],
   "source": [
    "round(em.purity_score(episodeTVM,episodesTVA),2)"
   ]
  },
  {
   "cell_type": "code",
   "execution_count": 43,
   "metadata": {},
   "outputs": [
    {
     "data": {
      "text/plain": [
       "2328"
      ]
     },
     "execution_count": 43,
     "metadata": {},
     "output_type": "execute_result"
    }
   ],
   "source": [
    "len(episodesTVA)"
   ]
  },
  {
   "cell_type": "code",
   "execution_count": 45,
   "metadata": {},
   "outputs": [
    {
     "data": {
      "text/plain": [
       "977"
      ]
     },
     "execution_count": 45,
     "metadata": {},
     "output_type": "execute_result"
    }
   ],
   "source": [
    "len(episodeTVM)"
   ]
  },
  {
   "cell_type": "code",
   "execution_count": 2,
   "metadata": {},
   "outputs": [],
   "source": [
    "def plotBoundries(referenceBoundries, hypothesisBoundries, start=0,end=len(referenceBoundries)):\n",
    "    for segment in hypothesisBoundries[start:end]:\n",
    "        plt.plot([segment, segment], [-10, -0.5], 'r')\n",
    "    for segment in referenceBoundries[start:end]:\n",
    "        plt.plot([segment, segment], [0.5, 10], 'g')\n",
    "\n",
    "    plt.ylim(-11, 11);\n",
    "    plt.xlim(0, segment);\n",
    "    plt.xlabel('Time (seconds)');"
   ]
  },
  {
   "cell_type": "code",
   "execution_count": null,
   "metadata": {},
   "outputs": [],
   "source": []
  }
 ],
 "metadata": {
  "kernelspec": {
   "display_name": "Python 3",
   "language": "python",
   "name": "python3"
  },
  "language_info": {
   "codemirror_mode": {
    "name": "ipython",
    "version": 2
   },
   "file_extension": ".py",
   "mimetype": "text/x-python",
   "name": "python",
   "nbconvert_exporter": "python",
   "pygments_lexer": "ipython2",
   "version": "2.7.12"
  }
 },
 "nbformat": 4,
 "nbformat_minor": 2
}
