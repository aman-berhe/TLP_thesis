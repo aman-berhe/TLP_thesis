{
 "cells": [
  {
   "cell_type": "code",
   "execution_count": 1,
   "metadata": {},
   "outputs": [],
   "source": [
    "import sys\n",
    "sys.path.insert(0,'/home/berhe/Desktop/Thesis_git/TLP_thesis/codes/')\n",
    "import Segmantation_lib as est\n",
    "import Subtitle_truthvalue as stv\n",
    "import evaluationMetrics as em\n",
    "import pandas as pd\n",
    "import os\n",
    "from pyannote.metrics.diarization import DiarizationCoverage\n",
    "import numpy as np"
   ]
  },
  {
   "cell_type": "markdown",
   "metadata": {},
   "source": [
    "Subtitle files and Scene boundries files directory"
   ]
  },
  {
   "cell_type": "code",
   "execution_count": 2,
   "metadata": {},
   "outputs": [],
   "source": [
    "scenes_dir='/home/berhe/Desktop/Thesis_git/TLP_thesis/Scenes/'\n",
    "subtitle_dir='/home/berhe/Desktop/Thesis_git/TLP_thesis/subtitles/'\n",
    "\n",
    "subtitleFiles=[]\n",
    "for fl in os.listdir(subtitle_dir):\n",
    "    if '.en.srt' in fl:\n",
    "       subtitleFiles.append(fl)\n",
    "\n",
    "scenesegementedFiles=[]\n",
    "for fl in os.listdir(scenes_dir):\n",
    "    if 'Episode' in fl:\n",
    "       scenesegementedFiles.append(fl)\n",
    "    \n",
    "subtitleFiles.sort()\n",
    "scenesegementedFiles.sort()"
   ]
  },
  {
   "cell_type": "code",
   "execution_count": 3,
   "metadata": {},
   "outputs": [],
   "source": [
    "threads='/home/berhe/Desktop/Thesis_git/TLP_thesis/threadsShot/thread_output5_15_15.json'\n",
    "shotSeq, shotBondry, _=est.preprocessingThreads(threads=threads)"
   ]
  },
  {
   "cell_type": "code",
   "execution_count": 4,
   "metadata": {},
   "outputs": [],
   "source": [
    "scenesShotSequence=est.segmentation_speakers(shotSeq,7,4)"
   ]
  },
  {
   "cell_type": "code",
   "execution_count": 5,
   "metadata": {},
   "outputs": [
    {
     "data": {
      "text/plain": [
       "(74, 637)"
      ]
     },
     "execution_count": 5,
     "metadata": {},
     "output_type": "execute_result"
    }
   ],
   "source": [
    "len(scenesShotSequence),len(shotSeq)"
   ]
  },
  {
   "cell_type": "code",
   "execution_count": 6,
   "metadata": {},
   "outputs": [
    {
     "data": {
      "text/plain": [
       "74"
      ]
     },
     "execution_count": 6,
     "metadata": {},
     "output_type": "execute_result"
    }
   ],
   "source": [
    "sceneShotBoundry=[]\n",
    "for i in scenesShotSequence:\n",
    "    sceneShotBoundry.append(shotBondry[i])\n",
    "\n",
    "start=sceneShotBoundry\n",
    "start=[0.]+start\n",
    "del start[-1]\n",
    "len(start)"
   ]
  },
  {
   "cell_type": "code",
   "execution_count": 7,
   "metadata": {},
   "outputs": [],
   "source": [
    "scenesegFile=scenes_dir+scenesegementedFiles[4]\n",
    "subtFile=subtitle_dir+subtitleFiles[4]"
   ]
  },
  {
   "cell_type": "code",
   "execution_count": 8,
   "metadata": {},
   "outputs": [],
   "source": [
    "_,_,sc_start,sc_end=stv.sceneTexts(scenesegFile,subtFile)"
   ]
  },
  {
   "cell_type": "code",
   "execution_count": 9,
   "metadata": {},
   "outputs": [
    {
     "data": {
      "text/plain": [
       "([17.0,\n",
       "  50.36,\n",
       "  58.76,\n",
       "  71.08,\n",
       "  76.76,\n",
       "  90.2,\n",
       "  102.24000000000001,\n",
       "  107.12,\n",
       "  113.4,\n",
       "  240.52],\n",
       " [0.0, 6044.0, 112655.0],\n",
       " [6044.0, 112655.0, 136963.0])"
      ]
     },
     "execution_count": 9,
     "metadata": {},
     "output_type": "execute_result"
    }
   ],
   "source": [
    "sceneShotBoundry[0:10],sc_start[0:3],(sc_end[0:3])"
   ]
  },
  {
   "cell_type": "code",
   "execution_count": 10,
   "metadata": {},
   "outputs": [],
   "source": [
    "df=stv.get_text_time(subtFile)"
   ]
  },
  {
   "cell_type": "code",
   "execution_count": 11,
   "metadata": {},
   "outputs": [
    {
     "data": {
      "text/plain": [
       "781"
      ]
     },
     "execution_count": 11,
     "metadata": {},
     "output_type": "execute_result"
    }
   ],
   "source": [
    "len(df['start_seconds'])"
   ]
  },
  {
   "cell_type": "code",
   "execution_count": 12,
   "metadata": {},
   "outputs": [
    {
     "data": {
      "text/plain": [
       "(u'(Horse whinnies)', 121, 119)"
      ]
     },
     "execution_count": 12,
     "metadata": {},
     "output_type": "execute_result"
    }
   ],
   "source": [
    "df['textList'][1],df['end_second'][1],df['start_seconds'][1]"
   ]
  },
  {
   "cell_type": "code",
   "execution_count": 13,
   "metadata": {},
   "outputs": [],
   "source": [
    "scene_texts,scene_lbls,start,end=stv.sceneTexts(scenesegFile,subtFile)"
   ]
  },
  {
   "cell_type": "code",
   "execution_count": 14,
   "metadata": {},
   "outputs": [
    {
     "data": {
      "text/plain": [
       "(28, 28, 28, 28)"
      ]
     },
     "execution_count": 14,
     "metadata": {},
     "output_type": "execute_result"
    }
   ],
   "source": [
    "len(scene_texts),len(scene_lbls),len(start),len(end)"
   ]
  },
  {
   "cell_type": "code",
   "execution_count": 15,
   "metadata": {},
   "outputs": [],
   "source": [
    "cl_sc=stv.split_into_sentences(scene_texts[2])"
   ]
  },
  {
   "cell_type": "code",
   "execution_count": 16,
   "metadata": {},
   "outputs": [],
   "source": [
    "from nltk import sent_tokenize\n",
    "cl_sc=sent_tokenize(scene_texts[10])"
   ]
  },
  {
   "cell_type": "code",
   "execution_count": 17,
   "metadata": {},
   "outputs": [
    {
     "data": {
      "text/plain": [
       "(107, 2)"
      ]
     },
     "execution_count": 17,
     "metadata": {},
     "output_type": "execute_result"
    }
   ],
   "source": [
    "len(scene_texts[10]),len(cl_sc)"
   ]
  },
  {
   "cell_type": "code",
   "execution_count": 18,
   "metadata": {},
   "outputs": [],
   "source": [
    "episodeTVM,episodeTVMB,l1=stv.episodTruthValueMan1(scenesegementedFile=scenesegFile,subtitleFile=subtFile)\n",
    "episodesTVA,episodesTVAB,l2=stv.episodTruthValueShot1(scene_start=start,scene_end=sceneShotBoundry,subtitleFile=subtFile)"
   ]
  },
  {
   "cell_type": "code",
   "execution_count": 19,
   "metadata": {},
   "outputs": [
    {
     "data": {
      "text/plain": [
       "(781, 781, 781, 781)"
      ]
     },
     "execution_count": 19,
     "metadata": {},
     "output_type": "execute_result"
    }
   ],
   "source": [
    "len(episodesTVA),len(episodeTVM),l1,l2"
   ]
  },
  {
   "cell_type": "code",
   "execution_count": 20,
   "metadata": {},
   "outputs": [
    {
     "data": {
      "text/plain": [
       "([9, 9, 9, 9, 9, 9, 9, 9, 9, 9, 9, 9, 10, 10, 10],\n",
       " [0, 0, 0, 0, 0, 0, 0, 0, 0, 0, 0, 1, 0, 0, 0])"
      ]
     },
     "execution_count": 20,
     "metadata": {},
     "output_type": "execute_result"
    }
   ],
   "source": [
    "episodesTVAB[25:40],episodesTVA[25:40]"
   ]
  },
  {
   "cell_type": "code",
   "execution_count": 21,
   "metadata": {},
   "outputs": [
    {
     "data": {
      "text/plain": [
       "0.4302477183833116"
      ]
     },
     "execution_count": 21,
     "metadata": {},
     "output_type": "execute_result"
    }
   ],
   "source": [
    "em.pk(episodeTVM,episodesTVA,k=15,boundary=1)"
   ]
  },
  {
   "cell_type": "code",
   "execution_count": 22,
   "metadata": {},
   "outputs": [
    {
     "data": {
      "text/plain": [
       "1.1028645833333333"
      ]
     },
     "execution_count": 22,
     "metadata": {},
     "output_type": "execute_result"
    }
   ],
   "source": [
    "em.windowdiff(episodeTVM,episodesTVA,k=13,boundary=1)"
   ]
  },
  {
   "cell_type": "code",
   "execution_count": 23,
   "metadata": {},
   "outputs": [
    {
     "data": {
      "text/plain": [
       "(27, 73)"
      ]
     },
     "execution_count": 23,
     "metadata": {},
     "output_type": "execute_result"
    }
   ],
   "source": [
    "episodeTVM.count(1)+1,episodesTVA.count(1)+1"
   ]
  },
  {
   "cell_type": "code",
   "execution_count": 24,
   "metadata": {},
   "outputs": [],
   "source": [
    "K=(len(episodeTVM)/(2*((episodeTVM.count(1)+1))))"
   ]
  },
  {
   "cell_type": "code",
   "execution_count": 25,
   "metadata": {},
   "outputs": [
    {
     "data": {
      "text/plain": [
       "14"
      ]
     },
     "execution_count": 25,
     "metadata": {},
     "output_type": "execute_result"
    }
   ],
   "source": [
    "K"
   ]
  },
  {
   "cell_type": "markdown",
   "metadata": {},
   "source": [
    "Computing all evaluations for every different K and C values "
   ]
  },
  {
   "cell_type": "code",
   "execution_count": 26,
   "metadata": {},
   "outputs": [
    {
     "name": "stdout",
     "output_type": "stream",
     "text": [
      "[1, 1, 1, 1, 1, 1, 1, 1, 1, 0, 0, 0, 0, 0, 0, 0, 0, 0, 0, 0, 0, 0, 0, 0, 0, 0, 0, 0, 0, 0, 0, 0, 0, 0, 0, 0, 1, 0, 0, 0, 0, 0, 0, 0, 0, 0, 0, 1, 0, 0]\n",
      "[1 1 0 0 1 0 0 0 0 0 0 0 0 0 0 0 0 0 0 0 0 0 0 0 0 0 0 0 0 0 0 0 0 1 0 0 0\n",
      " 0 0 0 0 0 0 0 0 0 0 0 0 0]\n",
      "[0, 1, 2, 3, 4, 5, 6, 7, 8, 9, 9, 9, 9, 9, 9, 9, 9, 9, 9, 9, 9, 9, 9, 9, 9, 9, 9, 9, 9, 9, 9, 9, 9, 9, 9, 9, 9, 10, 10, 10, 10, 10, 10, 10, 10, 10, 10, 10, 11, 11]\n",
      "[0 1 2 2 2 3 3 3 3 3 3 3 3 3 3 3 3 3 3 3 3 3 3 3 3 3 3 3 3 3 3 3 3 3 4 4 4\n",
      " 4 4 4 4 4 4 4 4 4 4 4 4 4]\n"
     ]
    }
   ],
   "source": [
    "kvalues=[]\n",
    "cvalues=[]\n",
    "windiffSHotA=[]\n",
    "pkShotA=[]\n",
    "shotRecA=[]\n",
    "shotPrA=[]\n",
    "shotRecB=[]\n",
    "shotPrB=[]\n",
    "sceneShot=[]\n",
    "PurityB=[]\n",
    "NMIAB=[]\n",
    "Purity=[]\n",
    "NMIA=[]\n",
    "Coverage=[]\n",
    "Coverage1=[]\n",
    "Coverage2=[]\n",
    "Coverage3=[]\n",
    "for k in range(7, 11):\n",
    "    for c in range(3,9):\n",
    "        if c<k:\n",
    "            scenesShotSequence=est.segmentation_speakers(shotSeq,k,c)\n",
    "            sceneShotBoundry=[]\n",
    "            for i in scenesShotSequence:\n",
    "                sceneShotBoundry.append(shotBondry[i])\n",
    "\n",
    "            start=sceneShotBoundry\n",
    "            start=[0.]+start\n",
    "            del start[-1]\n",
    "            len(start)\n",
    "            \n",
    "            episodeTVM,episodeTVMB,l1=stv.episodTruthValueMan1(scenesegementedFile=scenesegFile,subtitleFile=subtFile)\n",
    "            episodeTVA,episodeTVAB,l2=stv.episodTruthValueShot1(scene_start=start,scene_end=sceneShotBoundry,subtitleFile=subtFile)\n",
    "            \n",
    "            \n",
    "            windiffSHot=round(em.windowdiff(episodeTVM,episodeTVA,k=K,boundary=1),2)\n",
    "            pkShot=round(em.pk(episodeTVM,episodeTVA,k=K,boundary=1),2)\n",
    "            \n",
    "            episodeTVA=[int(i) for i in episodeTVA]\n",
    "            episodeTVM=[int(i) for i in episodeTVM]\n",
    "            episodeTVAB=[int(i) for i in episodeTVAB]\n",
    "            episodeTVMB=[int(i) for i in episodeTVMB]\n",
    "            episodeTVA=np.array(episodeTVA)\n",
    "            episodeTVM=np.array(episodeTVM)\n",
    "            episodeTVAB=np.array(episodeTVAB)\n",
    "            episodeTVMB=np.array(episodeTVMB)\n",
    "                \n",
    "            shotRec=round(em.recall(episodeTVM,episodeTVA),3)\n",
    "            shotPr=round(em.precision(episodeTVM,episodeTVA),3)\n",
    "            shotRecb=round(em.recall(episodeTVMB,episodeTVAB,rType='micro'),3)\n",
    "            shotPrb=round(em.precision(episodeTVMB,episodeTVAB,rType='micro'),3)\n",
    "            purityb=round(em.purity_score(y_true=episodeTVMB,y_pred=episodeTVAB),3)\n",
    "            nmib=round(em.nmi(episodeTVMB,episodeTVAB),3)\n",
    "            purity=round(em.purity_score(y_true=episodeTVM,y_pred=episodeTVA),3)\n",
    "            nmie=round(em.nmi(episodeTVM,episodeTVA),3)\n",
    "            #coverage=DiarizationCoverage()\n",
    "            dc=round(em.coverage(y_true=episodeTVM,y_pred=episodeTVA),3)\n",
    "            dc1=round(em.coverage(y_true=episodeTVMB,y_pred=episodeTVAB),3)\n",
    "            dc2=round(em.purity_score(y_true=episodeTVA,y_pred=episodeTVM),3)\n",
    "            dc3=round(em.purity_score(y_true=episodeTVAB,y_pred=episodeTVMB),3)\n",
    "                \n",
    "            \n",
    "            kvalues.append(k)\n",
    "            cvalues.append(c)\n",
    "            windiffSHotA.append(windiffSHot)\n",
    "            pkShotA.append(pkShot)\n",
    "            shotRecA.append(shotRec)\n",
    "            shotRecB.append(shotRecb)\n",
    "            PurityB.append(purityb)\n",
    "            NMIAB.append(nmib)\n",
    "            Purity.append(purity)\n",
    "            NMIA.append(nmie)\n",
    "            shotPrA.append(shotPr)\n",
    "            shotPrB.append(shotPrb)\n",
    "            sceneShot.append(len(scenesShotSequence))\n",
    "            Coverage.append(dc)\n",
    "            Coverage1.append(dc1)\n",
    "            Coverage2.append(dc2)\n",
    "            Coverage3.append(dc3)\n",
    "        else:\n",
    "            break\n",
    "print(episodesTVA[0:50])\n",
    "print(episodeTVM[0:50])\n",
    "print(episodesTVAB[0:50])\n",
    "print(episodeTVMB[0:50])"
   ]
  },
  {
   "cell_type": "markdown",
   "metadata": {},
   "source": [
    "Representing the Evaluation as a table (dataframe)"
   ]
  },
  {
   "cell_type": "code",
   "execution_count": 27,
   "metadata": {},
   "outputs": [],
   "source": [
    "resulDF=pd.DataFrame()\n",
    "resulDF['K']=kvalues\n",
    "resulDF['C']=cvalues\n",
    "resulDF['wdSH']=windiffSHotA\n",
    "resulDF['pkSh']=pkShotA\n",
    "#resulDF['rSh']=recallShot\n",
    "resulDF['shotRec_01']=shotRecB\n",
    "resulDF['shotPr_01']=shotPrB\n",
    "resulDF['shotRec']=shotRecA\n",
    "resulDF['shotPr']=shotPrA\n",
    "resulDF['sceneShot']=sceneShot\n",
    "resulDF['purity_01']=PurityB\n",
    "resulDF['NMI_01']=NMIAB\n",
    "resulDF['purity']=Purity\n",
    "resulDF['NMI']=NMIA\n",
    "resulDF['Coverage']=Coverage\n",
    "resulDF['Coverage1']=Coverage1\n",
    "resulDF['CoverageP']=Coverage2\n",
    "resulDF['CoverageP1']=Coverage3"
   ]
  },
  {
   "cell_type": "code",
   "execution_count": 28,
   "metadata": {},
   "outputs": [
    {
     "data": {
      "text/html": [
       "<div>\n",
       "<style scoped>\n",
       "    .dataframe tbody tr th:only-of-type {\n",
       "        vertical-align: middle;\n",
       "    }\n",
       "\n",
       "    .dataframe tbody tr th {\n",
       "        vertical-align: top;\n",
       "    }\n",
       "\n",
       "    .dataframe thead th {\n",
       "        text-align: right;\n",
       "    }\n",
       "</style>\n",
       "<table border=\"1\" class=\"dataframe\">\n",
       "  <thead>\n",
       "    <tr style=\"text-align: right;\">\n",
       "      <th></th>\n",
       "      <th>K</th>\n",
       "      <th>C</th>\n",
       "      <th>wdSH</th>\n",
       "      <th>pkSh</th>\n",
       "      <th>shotRec_01</th>\n",
       "      <th>shotPr_01</th>\n",
       "      <th>shotRec</th>\n",
       "      <th>shotPr</th>\n",
       "      <th>sceneShot</th>\n",
       "      <th>purity_01</th>\n",
       "      <th>NMI_01</th>\n",
       "      <th>purity</th>\n",
       "      <th>NMI</th>\n",
       "      <th>Coverage</th>\n",
       "      <th>Coverage1</th>\n",
       "      <th>CoverageP</th>\n",
       "      <th>CoverageP1</th>\n",
       "    </tr>\n",
       "  </thead>\n",
       "  <tbody>\n",
       "    <tr>\n",
       "      <th>0</th>\n",
       "      <td>7</td>\n",
       "      <td>3</td>\n",
       "      <td>1.79</td>\n",
       "      <td>0.50</td>\n",
       "      <td>0.004</td>\n",
       "      <td>0.004</td>\n",
       "      <td>0.346</td>\n",
       "      <td>0.084</td>\n",
       "      <td>113</td>\n",
       "      <td>0.843</td>\n",
       "      <td>0.789</td>\n",
       "      <td>0.967</td>\n",
       "      <td>0.020</td>\n",
       "      <td>0.863</td>\n",
       "      <td>0.583</td>\n",
       "      <td>0.863</td>\n",
       "      <td>0.583</td>\n",
       "    </tr>\n",
       "    <tr>\n",
       "      <th>1</th>\n",
       "      <td>7</td>\n",
       "      <td>4</td>\n",
       "      <td>1.16</td>\n",
       "      <td>0.43</td>\n",
       "      <td>0.004</td>\n",
       "      <td>0.004</td>\n",
       "      <td>0.192</td>\n",
       "      <td>0.069</td>\n",
       "      <td>74</td>\n",
       "      <td>0.814</td>\n",
       "      <td>0.804</td>\n",
       "      <td>0.967</td>\n",
       "      <td>0.008</td>\n",
       "      <td>0.908</td>\n",
       "      <td>0.672</td>\n",
       "      <td>0.908</td>\n",
       "      <td>0.672</td>\n",
       "    </tr>\n",
       "    <tr>\n",
       "      <th>2</th>\n",
       "      <td>7</td>\n",
       "      <td>5</td>\n",
       "      <td>0.94</td>\n",
       "      <td>0.41</td>\n",
       "      <td>0.004</td>\n",
       "      <td>0.004</td>\n",
       "      <td>0.154</td>\n",
       "      <td>0.070</td>\n",
       "      <td>58</td>\n",
       "      <td>0.768</td>\n",
       "      <td>0.806</td>\n",
       "      <td>0.967</td>\n",
       "      <td>0.007</td>\n",
       "      <td>0.927</td>\n",
       "      <td>0.727</td>\n",
       "      <td>0.927</td>\n",
       "      <td>0.727</td>\n",
       "    </tr>\n",
       "    <tr>\n",
       "      <th>3</th>\n",
       "      <td>7</td>\n",
       "      <td>6</td>\n",
       "      <td>0.74</td>\n",
       "      <td>0.37</td>\n",
       "      <td>0.004</td>\n",
       "      <td>0.004</td>\n",
       "      <td>0.231</td>\n",
       "      <td>0.133</td>\n",
       "      <td>45</td>\n",
       "      <td>0.767</td>\n",
       "      <td>0.824</td>\n",
       "      <td>0.967</td>\n",
       "      <td>0.032</td>\n",
       "      <td>0.942</td>\n",
       "      <td>0.795</td>\n",
       "      <td>0.942</td>\n",
       "      <td>0.795</td>\n",
       "    </tr>\n",
       "    <tr>\n",
       "      <th>4</th>\n",
       "      <td>8</td>\n",
       "      <td>3</td>\n",
       "      <td>1.76</td>\n",
       "      <td>0.51</td>\n",
       "      <td>0.004</td>\n",
       "      <td>0.004</td>\n",
       "      <td>0.346</td>\n",
       "      <td>0.086</td>\n",
       "      <td>111</td>\n",
       "      <td>0.841</td>\n",
       "      <td>0.790</td>\n",
       "      <td>0.967</td>\n",
       "      <td>0.021</td>\n",
       "      <td>0.866</td>\n",
       "      <td>0.585</td>\n",
       "      <td>0.866</td>\n",
       "      <td>0.585</td>\n",
       "    </tr>\n",
       "    <tr>\n",
       "      <th>5</th>\n",
       "      <td>8</td>\n",
       "      <td>4</td>\n",
       "      <td>1.16</td>\n",
       "      <td>0.43</td>\n",
       "      <td>0.004</td>\n",
       "      <td>0.004</td>\n",
       "      <td>0.192</td>\n",
       "      <td>0.069</td>\n",
       "      <td>74</td>\n",
       "      <td>0.813</td>\n",
       "      <td>0.803</td>\n",
       "      <td>0.967</td>\n",
       "      <td>0.008</td>\n",
       "      <td>0.908</td>\n",
       "      <td>0.670</td>\n",
       "      <td>0.908</td>\n",
       "      <td>0.670</td>\n",
       "    </tr>\n",
       "    <tr>\n",
       "      <th>6</th>\n",
       "      <td>8</td>\n",
       "      <td>5</td>\n",
       "      <td>0.90</td>\n",
       "      <td>0.41</td>\n",
       "      <td>0.004</td>\n",
       "      <td>0.004</td>\n",
       "      <td>0.154</td>\n",
       "      <td>0.073</td>\n",
       "      <td>56</td>\n",
       "      <td>0.768</td>\n",
       "      <td>0.806</td>\n",
       "      <td>0.967</td>\n",
       "      <td>0.007</td>\n",
       "      <td>0.930</td>\n",
       "      <td>0.726</td>\n",
       "      <td>0.930</td>\n",
       "      <td>0.726</td>\n",
       "    </tr>\n",
       "    <tr>\n",
       "      <th>7</th>\n",
       "      <td>8</td>\n",
       "      <td>6</td>\n",
       "      <td>0.74</td>\n",
       "      <td>0.38</td>\n",
       "      <td>0.004</td>\n",
       "      <td>0.004</td>\n",
       "      <td>0.231</td>\n",
       "      <td>0.136</td>\n",
       "      <td>44</td>\n",
       "      <td>0.758</td>\n",
       "      <td>0.823</td>\n",
       "      <td>0.967</td>\n",
       "      <td>0.033</td>\n",
       "      <td>0.944</td>\n",
       "      <td>0.791</td>\n",
       "      <td>0.944</td>\n",
       "      <td>0.791</td>\n",
       "    </tr>\n",
       "    <tr>\n",
       "      <th>8</th>\n",
       "      <td>8</td>\n",
       "      <td>7</td>\n",
       "      <td>0.77</td>\n",
       "      <td>0.48</td>\n",
       "      <td>0.004</td>\n",
       "      <td>0.004</td>\n",
       "      <td>0.231</td>\n",
       "      <td>0.150</td>\n",
       "      <td>40</td>\n",
       "      <td>0.703</td>\n",
       "      <td>0.788</td>\n",
       "      <td>0.967</td>\n",
       "      <td>0.038</td>\n",
       "      <td>0.949</td>\n",
       "      <td>0.717</td>\n",
       "      <td>0.949</td>\n",
       "      <td>0.717</td>\n",
       "    </tr>\n",
       "    <tr>\n",
       "      <th>9</th>\n",
       "      <td>9</td>\n",
       "      <td>3</td>\n",
       "      <td>1.72</td>\n",
       "      <td>0.51</td>\n",
       "      <td>0.004</td>\n",
       "      <td>0.004</td>\n",
       "      <td>0.346</td>\n",
       "      <td>0.087</td>\n",
       "      <td>109</td>\n",
       "      <td>0.841</td>\n",
       "      <td>0.790</td>\n",
       "      <td>0.967</td>\n",
       "      <td>0.022</td>\n",
       "      <td>0.868</td>\n",
       "      <td>0.586</td>\n",
       "      <td>0.868</td>\n",
       "      <td>0.586</td>\n",
       "    </tr>\n",
       "    <tr>\n",
       "      <th>10</th>\n",
       "      <td>9</td>\n",
       "      <td>4</td>\n",
       "      <td>1.11</td>\n",
       "      <td>0.43</td>\n",
       "      <td>0.004</td>\n",
       "      <td>0.004</td>\n",
       "      <td>0.192</td>\n",
       "      <td>0.072</td>\n",
       "      <td>71</td>\n",
       "      <td>0.817</td>\n",
       "      <td>0.806</td>\n",
       "      <td>0.967</td>\n",
       "      <td>0.009</td>\n",
       "      <td>0.912</td>\n",
       "      <td>0.682</td>\n",
       "      <td>0.912</td>\n",
       "      <td>0.682</td>\n",
       "    </tr>\n",
       "    <tr>\n",
       "      <th>11</th>\n",
       "      <td>9</td>\n",
       "      <td>5</td>\n",
       "      <td>0.91</td>\n",
       "      <td>0.41</td>\n",
       "      <td>0.004</td>\n",
       "      <td>0.004</td>\n",
       "      <td>0.154</td>\n",
       "      <td>0.073</td>\n",
       "      <td>56</td>\n",
       "      <td>0.771</td>\n",
       "      <td>0.806</td>\n",
       "      <td>0.967</td>\n",
       "      <td>0.007</td>\n",
       "      <td>0.930</td>\n",
       "      <td>0.729</td>\n",
       "      <td>0.930</td>\n",
       "      <td>0.729</td>\n",
       "    </tr>\n",
       "    <tr>\n",
       "      <th>12</th>\n",
       "      <td>9</td>\n",
       "      <td>6</td>\n",
       "      <td>0.74</td>\n",
       "      <td>0.38</td>\n",
       "      <td>0.004</td>\n",
       "      <td>0.004</td>\n",
       "      <td>0.231</td>\n",
       "      <td>0.136</td>\n",
       "      <td>44</td>\n",
       "      <td>0.758</td>\n",
       "      <td>0.823</td>\n",
       "      <td>0.967</td>\n",
       "      <td>0.033</td>\n",
       "      <td>0.944</td>\n",
       "      <td>0.791</td>\n",
       "      <td>0.944</td>\n",
       "      <td>0.791</td>\n",
       "    </tr>\n",
       "    <tr>\n",
       "      <th>13</th>\n",
       "      <td>9</td>\n",
       "      <td>7</td>\n",
       "      <td>0.77</td>\n",
       "      <td>0.48</td>\n",
       "      <td>0.004</td>\n",
       "      <td>0.004</td>\n",
       "      <td>0.231</td>\n",
       "      <td>0.150</td>\n",
       "      <td>40</td>\n",
       "      <td>0.695</td>\n",
       "      <td>0.784</td>\n",
       "      <td>0.967</td>\n",
       "      <td>0.038</td>\n",
       "      <td>0.949</td>\n",
       "      <td>0.698</td>\n",
       "      <td>0.949</td>\n",
       "      <td>0.698</td>\n",
       "    </tr>\n",
       "    <tr>\n",
       "      <th>14</th>\n",
       "      <td>9</td>\n",
       "      <td>8</td>\n",
       "      <td>0.70</td>\n",
       "      <td>0.47</td>\n",
       "      <td>0.014</td>\n",
       "      <td>0.014</td>\n",
       "      <td>0.115</td>\n",
       "      <td>0.091</td>\n",
       "      <td>34</td>\n",
       "      <td>0.625</td>\n",
       "      <td>0.761</td>\n",
       "      <td>0.967</td>\n",
       "      <td>0.010</td>\n",
       "      <td>0.958</td>\n",
       "      <td>0.699</td>\n",
       "      <td>0.958</td>\n",
       "      <td>0.699</td>\n",
       "    </tr>\n",
       "    <tr>\n",
       "      <th>15</th>\n",
       "      <td>10</td>\n",
       "      <td>3</td>\n",
       "      <td>1.72</td>\n",
       "      <td>0.51</td>\n",
       "      <td>0.004</td>\n",
       "      <td>0.004</td>\n",
       "      <td>0.346</td>\n",
       "      <td>0.087</td>\n",
       "      <td>109</td>\n",
       "      <td>0.841</td>\n",
       "      <td>0.790</td>\n",
       "      <td>0.967</td>\n",
       "      <td>0.022</td>\n",
       "      <td>0.868</td>\n",
       "      <td>0.586</td>\n",
       "      <td>0.868</td>\n",
       "      <td>0.586</td>\n",
       "    </tr>\n",
       "    <tr>\n",
       "      <th>16</th>\n",
       "      <td>10</td>\n",
       "      <td>4</td>\n",
       "      <td>1.11</td>\n",
       "      <td>0.43</td>\n",
       "      <td>0.004</td>\n",
       "      <td>0.004</td>\n",
       "      <td>0.192</td>\n",
       "      <td>0.072</td>\n",
       "      <td>71</td>\n",
       "      <td>0.817</td>\n",
       "      <td>0.806</td>\n",
       "      <td>0.967</td>\n",
       "      <td>0.009</td>\n",
       "      <td>0.912</td>\n",
       "      <td>0.682</td>\n",
       "      <td>0.912</td>\n",
       "      <td>0.682</td>\n",
       "    </tr>\n",
       "    <tr>\n",
       "      <th>17</th>\n",
       "      <td>10</td>\n",
       "      <td>5</td>\n",
       "      <td>0.91</td>\n",
       "      <td>0.41</td>\n",
       "      <td>0.004</td>\n",
       "      <td>0.004</td>\n",
       "      <td>0.154</td>\n",
       "      <td>0.073</td>\n",
       "      <td>56</td>\n",
       "      <td>0.771</td>\n",
       "      <td>0.806</td>\n",
       "      <td>0.967</td>\n",
       "      <td>0.007</td>\n",
       "      <td>0.930</td>\n",
       "      <td>0.729</td>\n",
       "      <td>0.930</td>\n",
       "      <td>0.729</td>\n",
       "    </tr>\n",
       "    <tr>\n",
       "      <th>18</th>\n",
       "      <td>10</td>\n",
       "      <td>6</td>\n",
       "      <td>0.74</td>\n",
       "      <td>0.38</td>\n",
       "      <td>0.004</td>\n",
       "      <td>0.004</td>\n",
       "      <td>0.231</td>\n",
       "      <td>0.136</td>\n",
       "      <td>44</td>\n",
       "      <td>0.758</td>\n",
       "      <td>0.823</td>\n",
       "      <td>0.967</td>\n",
       "      <td>0.033</td>\n",
       "      <td>0.944</td>\n",
       "      <td>0.791</td>\n",
       "      <td>0.944</td>\n",
       "      <td>0.791</td>\n",
       "    </tr>\n",
       "    <tr>\n",
       "      <th>19</th>\n",
       "      <td>10</td>\n",
       "      <td>7</td>\n",
       "      <td>0.77</td>\n",
       "      <td>0.48</td>\n",
       "      <td>0.004</td>\n",
       "      <td>0.004</td>\n",
       "      <td>0.192</td>\n",
       "      <td>0.125</td>\n",
       "      <td>40</td>\n",
       "      <td>0.703</td>\n",
       "      <td>0.785</td>\n",
       "      <td>0.967</td>\n",
       "      <td>0.026</td>\n",
       "      <td>0.949</td>\n",
       "      <td>0.706</td>\n",
       "      <td>0.949</td>\n",
       "      <td>0.706</td>\n",
       "    </tr>\n",
       "    <tr>\n",
       "      <th>20</th>\n",
       "      <td>10</td>\n",
       "      <td>8</td>\n",
       "      <td>0.64</td>\n",
       "      <td>0.41</td>\n",
       "      <td>0.014</td>\n",
       "      <td>0.014</td>\n",
       "      <td>0.115</td>\n",
       "      <td>0.094</td>\n",
       "      <td>33</td>\n",
       "      <td>0.679</td>\n",
       "      <td>0.788</td>\n",
       "      <td>0.967</td>\n",
       "      <td>0.011</td>\n",
       "      <td>0.959</td>\n",
       "      <td>0.771</td>\n",
       "      <td>0.959</td>\n",
       "      <td>0.771</td>\n",
       "    </tr>\n",
       "  </tbody>\n",
       "</table>\n",
       "</div>"
      ],
      "text/plain": [
       "     K  C  wdSH  pkSh  shotRec_01  shotPr_01  shotRec  shotPr  sceneShot  \\\n",
       "0    7  3  1.79  0.50       0.004      0.004    0.346   0.084        113   \n",
       "1    7  4  1.16  0.43       0.004      0.004    0.192   0.069         74   \n",
       "2    7  5  0.94  0.41       0.004      0.004    0.154   0.070         58   \n",
       "3    7  6  0.74  0.37       0.004      0.004    0.231   0.133         45   \n",
       "4    8  3  1.76  0.51       0.004      0.004    0.346   0.086        111   \n",
       "5    8  4  1.16  0.43       0.004      0.004    0.192   0.069         74   \n",
       "6    8  5  0.90  0.41       0.004      0.004    0.154   0.073         56   \n",
       "7    8  6  0.74  0.38       0.004      0.004    0.231   0.136         44   \n",
       "8    8  7  0.77  0.48       0.004      0.004    0.231   0.150         40   \n",
       "9    9  3  1.72  0.51       0.004      0.004    0.346   0.087        109   \n",
       "10   9  4  1.11  0.43       0.004      0.004    0.192   0.072         71   \n",
       "11   9  5  0.91  0.41       0.004      0.004    0.154   0.073         56   \n",
       "12   9  6  0.74  0.38       0.004      0.004    0.231   0.136         44   \n",
       "13   9  7  0.77  0.48       0.004      0.004    0.231   0.150         40   \n",
       "14   9  8  0.70  0.47       0.014      0.014    0.115   0.091         34   \n",
       "15  10  3  1.72  0.51       0.004      0.004    0.346   0.087        109   \n",
       "16  10  4  1.11  0.43       0.004      0.004    0.192   0.072         71   \n",
       "17  10  5  0.91  0.41       0.004      0.004    0.154   0.073         56   \n",
       "18  10  6  0.74  0.38       0.004      0.004    0.231   0.136         44   \n",
       "19  10  7  0.77  0.48       0.004      0.004    0.192   0.125         40   \n",
       "20  10  8  0.64  0.41       0.014      0.014    0.115   0.094         33   \n",
       "\n",
       "    purity_01  NMI_01  purity    NMI  Coverage  Coverage1  CoverageP  \\\n",
       "0       0.843   0.789   0.967  0.020     0.863      0.583      0.863   \n",
       "1       0.814   0.804   0.967  0.008     0.908      0.672      0.908   \n",
       "2       0.768   0.806   0.967  0.007     0.927      0.727      0.927   \n",
       "3       0.767   0.824   0.967  0.032     0.942      0.795      0.942   \n",
       "4       0.841   0.790   0.967  0.021     0.866      0.585      0.866   \n",
       "5       0.813   0.803   0.967  0.008     0.908      0.670      0.908   \n",
       "6       0.768   0.806   0.967  0.007     0.930      0.726      0.930   \n",
       "7       0.758   0.823   0.967  0.033     0.944      0.791      0.944   \n",
       "8       0.703   0.788   0.967  0.038     0.949      0.717      0.949   \n",
       "9       0.841   0.790   0.967  0.022     0.868      0.586      0.868   \n",
       "10      0.817   0.806   0.967  0.009     0.912      0.682      0.912   \n",
       "11      0.771   0.806   0.967  0.007     0.930      0.729      0.930   \n",
       "12      0.758   0.823   0.967  0.033     0.944      0.791      0.944   \n",
       "13      0.695   0.784   0.967  0.038     0.949      0.698      0.949   \n",
       "14      0.625   0.761   0.967  0.010     0.958      0.699      0.958   \n",
       "15      0.841   0.790   0.967  0.022     0.868      0.586      0.868   \n",
       "16      0.817   0.806   0.967  0.009     0.912      0.682      0.912   \n",
       "17      0.771   0.806   0.967  0.007     0.930      0.729      0.930   \n",
       "18      0.758   0.823   0.967  0.033     0.944      0.791      0.944   \n",
       "19      0.703   0.785   0.967  0.026     0.949      0.706      0.949   \n",
       "20      0.679   0.788   0.967  0.011     0.959      0.771      0.959   \n",
       "\n",
       "    CoverageP1  \n",
       "0        0.583  \n",
       "1        0.672  \n",
       "2        0.727  \n",
       "3        0.795  \n",
       "4        0.585  \n",
       "5        0.670  \n",
       "6        0.726  \n",
       "7        0.791  \n",
       "8        0.717  \n",
       "9        0.586  \n",
       "10       0.682  \n",
       "11       0.729  \n",
       "12       0.791  \n",
       "13       0.698  \n",
       "14       0.699  \n",
       "15       0.586  \n",
       "16       0.682  \n",
       "17       0.729  \n",
       "18       0.791  \n",
       "19       0.706  \n",
       "20       0.771  "
      ]
     },
     "execution_count": 28,
     "metadata": {},
     "output_type": "execute_result"
    }
   ],
   "source": [
    "resulDF"
   ]
  },
  {
   "cell_type": "code",
   "execution_count": 40,
   "metadata": {},
   "outputs": [
    {
     "data": {
      "text/plain": [
       "K               7.0000\n",
       "C               3.0000\n",
       "wdSH            1.7900\n",
       "pkSh            0.5000\n",
       "shotRec_01      0.0040\n",
       "shotPr_01       0.0040\n",
       "shotRec         0.3460\n",
       "shotPr          0.0840\n",
       "sceneShot     113.0000\n",
       "purity_01       0.8430\n",
       "NMI_01          0.7890\n",
       "purity          0.9670\n",
       "NMI             0.0200\n",
       "Coverage        0.8630\n",
       "Coverage1       0.0474\n",
       "Coverage2       0.8630\n",
       "Coverage3       0.5826\n",
       "Name: 0, dtype: float64"
      ]
     },
     "execution_count": 40,
     "metadata": {},
     "output_type": "execute_result"
    }
   ],
   "source": [
    "resulDF.loc[resulDF['purity'].idxmax()]"
   ]
  },
  {
   "cell_type": "code",
   "execution_count": 41,
   "metadata": {},
   "outputs": [
    {
     "data": {
      "text/plain": [
       "K              7.0000\n",
       "C              6.0000\n",
       "wdSH           0.7400\n",
       "pkSh           0.3700\n",
       "shotRec_01     0.0040\n",
       "shotPr_01      0.0040\n",
       "shotRec        0.2310\n",
       "shotPr         0.1330\n",
       "sceneShot     45.0000\n",
       "purity_01      0.7670\n",
       "NMI_01         0.8240\n",
       "purity         0.9670\n",
       "NMI            0.0320\n",
       "Coverage       0.9424\n",
       "Coverage1      0.1140\n",
       "Coverage2      0.9424\n",
       "Coverage3      0.7951\n",
       "Name: 3, dtype: float64"
      ]
     },
     "execution_count": 41,
     "metadata": {},
     "output_type": "execute_result"
    }
   ],
   "source": [
    "resulDF.loc[resulDF['pkSh'].idxmin()]"
   ]
  },
  {
   "cell_type": "code",
   "execution_count": 42,
   "metadata": {},
   "outputs": [
    {
     "data": {
      "text/plain": [
       "K              10.0000\n",
       "C               8.0000\n",
       "wdSH            1.7900\n",
       "pkSh            0.5100\n",
       "shotRec_01      0.0140\n",
       "shotPr_01       0.0140\n",
       "shotRec         0.3460\n",
       "shotPr          0.1500\n",
       "sceneShot     113.0000\n",
       "purity_01       0.8430\n",
       "NMI_01          0.8240\n",
       "purity          0.9670\n",
       "NMI             0.0380\n",
       "Coverage        0.9590\n",
       "Coverage1       0.4673\n",
       "Coverage2       0.9590\n",
       "Coverage3       0.7951\n",
       "dtype: float64"
      ]
     },
     "execution_count": 42,
     "metadata": {},
     "output_type": "execute_result"
    }
   ],
   "source": [
    "resulDF.max(axis=None, skipna=None, level=None, numeric_only=None)"
   ]
  },
  {
   "cell_type": "code",
   "execution_count": 43,
   "metadata": {},
   "outputs": [],
   "source": [
    "labels_true = episodeTVM\n",
    "labels_true2 = episodeTVMB\n",
    "#[1, 1, 1, 1, 0, 0, 0, 0, 0, 0, 0, 0, 0, 0, 0, 0, 0, 0, 0, 0, 0, 0, 0, 0, 0, 0, 0, 0, 0, 0, 0, 0, 0, 0, 0, 0, 0,\n",
    "#0, 0, 0, 0, 1, 0, 0, 0, 0, 0, 0, 0, 0,]\n",
    "labels_pred = episodeTVA\n",
    "labels_pred2 = episodeTVAB\n",
    "#[1, 1, 0, 0, 1, 0, 0, 0, 0, 0, 0, 0, 0, 0, 0, 0, 0, 0, 0, 0, 0, 0, 0, 0, 0, 0, 0, 0, 0, 0, 0, 0, 0, 1, 0, 0, 0,\n",
    " #0, 0, 0, 0, 0, 0, 0, 0, 0, 0, 0, 0, 0]\n",
    "labels_pred=np.array(labels_pred)\n",
    "labels_true=np.array(labels_true)\n",
    "labels_pred2=np.array(labels_pred2)\n",
    "labels_true2=np.array(labels_true2)"
   ]
  },
  {
   "cell_type": "code",
   "execution_count": 44,
   "metadata": {},
   "outputs": [
    {
     "data": {
      "text/plain": [
       "(0.9667093469910372, 0.678617157490397)"
      ]
     },
     "execution_count": 44,
     "metadata": {},
     "output_type": "execute_result"
    }
   ],
   "source": [
    "em.purity_score(y_true=labels_true,y_pred=labels_pred),em.purity_score(y_true=labels_true2,y_pred=labels_pred2)"
   ]
  },
  {
   "cell_type": "code",
   "execution_count": 45,
   "metadata": {},
   "outputs": [
    {
     "data": {
      "text/plain": [
       "(0.9590268886043534, 0.4673495518565941)"
      ]
     },
     "execution_count": 45,
     "metadata": {},
     "output_type": "execute_result"
    }
   ],
   "source": [
    "em.coverage(y_true=labels_true,y_pred=labels_pred),em.coverage(y_true=labels_true2,y_pred=labels_pred2)"
   ]
  },
  {
   "cell_type": "code",
   "execution_count": 46,
   "metadata": {},
   "outputs": [
    {
     "data": {
      "text/plain": [
       "(0.9590268886043534, 0.7708066581306018)"
      ]
     },
     "execution_count": 46,
     "metadata": {},
     "output_type": "execute_result"
    }
   ],
   "source": [
    "em.purity_score(y_true=labels_pred,y_pred=labels_true),em.purity_score(y_true=labels_pred2,y_pred=labels_true2)"
   ]
  },
  {
   "cell_type": "code",
   "execution_count": 36,
   "metadata": {},
   "outputs": [
    {
     "data": {
      "text/plain": [
       "(1.0, 1.0)"
      ]
     },
     "execution_count": 36,
     "metadata": {},
     "output_type": "execute_result"
    }
   ],
   "source": [
    "em.purity_score(y_true=labels_pred,y_pred=labels_pred),em.purity_score(y_true=labels_pred2,y_pred=labels_pred2)"
   ]
  },
  {
   "cell_type": "code",
   "execution_count": null,
   "metadata": {},
   "outputs": [],
   "source": []
  }
 ],
 "metadata": {
  "kernelspec": {
   "display_name": "Python 3",
   "language": "python",
   "name": "python3"
  },
  "language_info": {
   "codemirror_mode": {
    "name": "ipython",
    "version": 2
   },
   "file_extension": ".py",
   "mimetype": "text/x-python",
   "name": "python",
   "nbconvert_exporter": "python",
   "pygments_lexer": "ipython2",
   "version": "2.7.12"
  }
 },
 "nbformat": 4,
 "nbformat_minor": 2
}
