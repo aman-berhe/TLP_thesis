{
 "cells": [
  {
   "cell_type": "code",
   "execution_count": 1,
   "metadata": {},
   "outputs": [],
   "source": [
    "import sys\n",
    "sys.path.insert(0,'/home/berhe/Desktop/Thesis_git/TLP_thesis/codes/')\n",
    "import Segmantation_lib as est\n",
    "import Subtitle_truthvalue as stv\n",
    "import evaluationMetrics as em\n",
    "import pandas as pd\n",
    "import os\n",
    "from pyannote.metrics.diarization import DiarizationCoverage\n",
    "import numpy as np"
   ]
  },
  {
   "cell_type": "markdown",
   "metadata": {},
   "source": [
    "Subtitle files and Scene boundries files directory"
   ]
  },
  {
   "cell_type": "code",
   "execution_count": 2,
   "metadata": {},
   "outputs": [],
   "source": [
    "scenes_dir='/home/berhe/Desktop/Thesis_git/TLP_thesis/Scenes/'\n",
    "subtitle_dir='/home/berhe/Desktop/Thesis_git/TLP_thesis/subtitles/'\n",
    "\n",
    "subtitleFiles=[]\n",
    "for fl in os.listdir(subtitle_dir):\n",
    "    if '.en.srt' in fl:\n",
    "       subtitleFiles.append(fl)\n",
    "\n",
    "scenesegementedFiles=[]\n",
    "for fl in os.listdir(scenes_dir):\n",
    "    if 'Episode' in fl:\n",
    "       scenesegementedFiles.append(fl)\n",
    "    \n",
    "subtitleFiles.sort()\n",
    "scenesegementedFiles.sort()"
   ]
  },
  {
   "cell_type": "code",
   "execution_count": 4,
   "metadata": {},
   "outputs": [],
   "source": [
    "threads='/home/berhe/Desktop/Thesis_git/TLP_thesis/threadsShot/thread_output9_10_10.json'\n",
    "shotSeq, shotBondry, _=est.preprocessingThreads(threads=threads)"
   ]
  },
  {
   "cell_type": "code",
   "execution_count": 5,
   "metadata": {},
   "outputs": [],
   "source": [
    "scenesShotSequence=est.segmentation_speakers(shotSeq,7,4)"
   ]
  },
  {
   "cell_type": "code",
   "execution_count": 6,
   "metadata": {},
   "outputs": [
    {
     "data": {
      "text/plain": [
       "(33, 253)"
      ]
     },
     "execution_count": 6,
     "metadata": {},
     "output_type": "execute_result"
    }
   ],
   "source": [
    "len(scenesShotSequence),len(shotSeq)"
   ]
  },
  {
   "cell_type": "code",
   "execution_count": 7,
   "metadata": {},
   "outputs": [
    {
     "data": {
      "text/plain": [
       "33"
      ]
     },
     "execution_count": 7,
     "metadata": {},
     "output_type": "execute_result"
    }
   ],
   "source": [
    "sceneShotBoundry=[]\n",
    "for i in scenesShotSequence:\n",
    "    sceneShotBoundry.append(shotBondry[i])\n",
    "\n",
    "start=sceneShotBoundry\n",
    "start=[0.]+start\n",
    "del start[-1]\n",
    "len(start)"
   ]
  },
  {
   "cell_type": "code",
   "execution_count": 8,
   "metadata": {},
   "outputs": [],
   "source": [
    "scenesegFile=scenes_dir+scenesegementedFiles[1]\n",
    "subtFile=subtitle_dir+subtitleFiles[1]"
   ]
  },
  {
   "cell_type": "code",
   "execution_count": 9,
   "metadata": {},
   "outputs": [],
   "source": [
    "_,_,sc_start,sc_end=stv.sceneTexts(scenesegFile,subtFile)"
   ]
  },
  {
   "cell_type": "code",
   "execution_count": null,
   "metadata": {},
   "outputs": [],
   "source": []
  },
  {
   "cell_type": "code",
   "execution_count": 641,
   "metadata": {},
   "outputs": [
    {
     "data": {
      "text/plain": [
       "([5.24, 17.0, 22.44, 66.76, 72.44, 89.64, 102.88, 111.56, 119.56, 121.84],\n",
       " [0.0, 6000.0, 116100.0],\n",
       " [6000.0, 116100.0, 350000.0])"
      ]
     },
     "execution_count": 641,
     "metadata": {},
     "output_type": "execute_result"
    }
   ],
   "source": [
    "sceneShotBoundry[0:10],sc_start[0:3],(sc_end[0:3])"
   ]
  },
  {
   "cell_type": "code",
   "execution_count": 10,
   "metadata": {},
   "outputs": [],
   "source": [
    "df=stv.get_text_time(subtFile)"
   ]
  },
  {
   "cell_type": "code",
   "execution_count": 15,
   "metadata": {},
   "outputs": [
    {
     "data": {
      "text/plain": [
       "u'I never knew.'"
      ]
     },
     "execution_count": 15,
     "metadata": {},
     "output_type": "execute_result"
    }
   ],
   "source": [
    "df['textList'][101]"
   ]
  },
  {
   "cell_type": "code",
   "execution_count": 643,
   "metadata": {},
   "outputs": [
    {
     "data": {
      "text/plain": [
       "732"
      ]
     },
     "execution_count": 643,
     "metadata": {},
     "output_type": "execute_result"
    }
   ],
   "source": [
    "len(df['start_seconds'])"
   ]
  },
  {
   "cell_type": "code",
   "execution_count": 644,
   "metadata": {},
   "outputs": [
    {
     "data": {
      "text/plain": [
       "(u\"(Varys) You've seen better days, my lord.\", 125, 123)"
      ]
     },
     "execution_count": 644,
     "metadata": {},
     "output_type": "execute_result"
    }
   ],
   "source": [
    "df['textList'][1],df['end_second'][1],df['start_seconds'][1]"
   ]
  },
  {
   "cell_type": "code",
   "execution_count": 645,
   "metadata": {},
   "outputs": [],
   "source": [
    "scene_texts,scene_lbls,start,end=stv.sceneTexts(scenesegFile,subtFile)"
   ]
  },
  {
   "cell_type": "code",
   "execution_count": 646,
   "metadata": {},
   "outputs": [
    {
     "data": {
      "text/plain": [
       "(26, 26, 26, 26)"
      ]
     },
     "execution_count": 646,
     "metadata": {},
     "output_type": "execute_result"
    }
   ],
   "source": [
    "len(scene_texts),len(scene_lbls),len(start),len(end)"
   ]
  },
  {
   "cell_type": "code",
   "execution_count": 647,
   "metadata": {},
   "outputs": [],
   "source": [
    "cl_sc=stv.split_into_sentences(scene_texts[2])"
   ]
  },
  {
   "cell_type": "code",
   "execution_count": 648,
   "metadata": {},
   "outputs": [],
   "source": [
    "from nltk import sent_tokenize\n",
    "cl_sc=sent_tokenize(scene_texts[10])"
   ]
  },
  {
   "cell_type": "code",
   "execution_count": 649,
   "metadata": {},
   "outputs": [
    {
     "data": {
      "text/plain": [
       "(275, 6)"
      ]
     },
     "execution_count": 649,
     "metadata": {},
     "output_type": "execute_result"
    }
   ],
   "source": [
    "len(scene_texts[10]),len(cl_sc)"
   ]
  },
  {
   "cell_type": "code",
   "execution_count": 650,
   "metadata": {},
   "outputs": [],
   "source": [
    "episodeTVM,episodeTVMB,l1=stv.episodTruthValueMan1(scenesegementedFile=scenesegFile,subtitleFile=subtFile)\n",
    "episodesTVA,episodesTVAB,l2=stv.episodTruthValueShot1(scene_start=start,scene_end=sceneShotBoundry,subtitleFile=subtFile)"
   ]
  },
  {
   "cell_type": "code",
   "execution_count": 651,
   "metadata": {},
   "outputs": [
    {
     "data": {
      "text/plain": [
       "(732, 732, 732, 732)"
      ]
     },
     "execution_count": 651,
     "metadata": {},
     "output_type": "execute_result"
    }
   ],
   "source": [
    "len(episodesTVA),len(episodeTVM),l1,l2"
   ]
  },
  {
   "cell_type": "code",
   "execution_count": 652,
   "metadata": {},
   "outputs": [
    {
     "data": {
      "text/plain": [
       "([11, 11, 11, 11, 11, 11, 11, 11, 11, 11, 11, 11, 11, 11, 11],\n",
       " [0, 0, 0, 0, 0, 0, 0, 0, 0, 0, 0, 0, 0, 0, 0])"
      ]
     },
     "execution_count": 652,
     "metadata": {},
     "output_type": "execute_result"
    }
   ],
   "source": [
    "episodesTVAB[25:40],episodesTVA[25:40]"
   ]
  },
  {
   "cell_type": "code",
   "execution_count": 653,
   "metadata": {},
   "outputs": [
    {
     "data": {
      "text/plain": [
       "0.479108635097493"
      ]
     },
     "execution_count": 653,
     "metadata": {},
     "output_type": "execute_result"
    }
   ],
   "source": [
    "em.pk(episodeTVM,episodesTVA,k=15,boundary=1)"
   ]
  },
  {
   "cell_type": "code",
   "execution_count": 654,
   "metadata": {},
   "outputs": [
    {
     "data": {
      "text/plain": [
       "1.1015299026425591"
      ]
     },
     "execution_count": 654,
     "metadata": {},
     "output_type": "execute_result"
    }
   ],
   "source": [
    "em.windowdiff(episodeTVM,episodesTVA,k=13,boundary=1)"
   ]
  },
  {
   "cell_type": "code",
   "execution_count": 655,
   "metadata": {},
   "outputs": [
    {
     "data": {
      "text/plain": [
       "(25, 61)"
      ]
     },
     "execution_count": 655,
     "metadata": {},
     "output_type": "execute_result"
    }
   ],
   "source": [
    "episodeTVM.count(1)+1,episodesTVA.count(1)+1"
   ]
  },
  {
   "cell_type": "code",
   "execution_count": 656,
   "metadata": {},
   "outputs": [],
   "source": [
    "K=(len(episodeTVM)/(2*((episodeTVM.count(1)+1))))"
   ]
  },
  {
   "cell_type": "code",
   "execution_count": 657,
   "metadata": {},
   "outputs": [
    {
     "data": {
      "text/plain": [
       "14"
      ]
     },
     "execution_count": 657,
     "metadata": {},
     "output_type": "execute_result"
    }
   ],
   "source": [
    "K"
   ]
  },
  {
   "cell_type": "markdown",
   "metadata": {},
   "source": [
    "Computing all evaluations for every different K and C values "
   ]
  },
  {
   "cell_type": "code",
   "execution_count": 658,
   "metadata": {},
   "outputs": [],
   "source": [
    "kvalues=[]\n",
    "cvalues=[]\n",
    "windiffSHotA=[]\n",
    "pkShotA=[]\n",
    "shotRecA=[]\n",
    "shotPrA=[]\n",
    "shotRecB=[]\n",
    "shotPrB=[]\n",
    "sceneShot=[]\n",
    "PurityB=[]\n",
    "NMIAB=[]\n",
    "Purity=[]\n",
    "NMIA=[]\n",
    "Coverage=[]\n",
    "Coverage1=[]\n",
    "Coverage2=[]\n",
    "Coverage3=[]\n",
    "for k in range(4, 11):\n",
    "    for c in range(2,9):\n",
    "        if c<k:\n",
    "            scenesShotSequence=est.segmentation_speakers(shotSeq,k,c)\n",
    "            sceneShotBoundry=[]\n",
    "            for i in scenesShotSequence:\n",
    "                sceneShotBoundry.append(shotBondry[i])\n",
    "\n",
    "            start=sceneShotBoundry\n",
    "            start=[0.]+start\n",
    "            del start[-1]\n",
    "            len(start)\n",
    "            \n",
    "            episodeTVM,episodeTVMB,l1=stv.episodTruthValueMan1(scenesegementedFile=scenesegFile,subtitleFile=subtFile)\n",
    "            episodeTVA,episodeTVAB,l2=stv.episodTruthValueShot1(scene_start=start,scene_end=sceneShotBoundry,subtitleFile=subtFile)\n",
    "            \n",
    "            \n",
    "            windiffSHot=round(em.windowdiff(episodeTVM,episodeTVA,k=K,boundary=1),2)\n",
    "            pkShot=round(em.pk(episodeTVM,episodeTVA,k=K,boundary=1),2)\n",
    "            \n",
    "            episodeTVA=[int(i) for i in episodeTVA]\n",
    "            episodeTVM=[int(i) for i in episodeTVM]\n",
    "            episodeTVAB=[int(i) for i in episodeTVAB]\n",
    "            episodeTVMB=[int(i) for i in episodeTVMB]\n",
    "            episodeTVA=np.array(episodeTVA)\n",
    "            episodeTVM=np.array(episodeTVM)\n",
    "            episodeTVAB=np.array(episodeTVAB)\n",
    "            episodeTVMB=np.array(episodeTVMB)\n",
    "                \n",
    "            shotRec=round(em.recall(episodeTVM,episodeTVA),3)\n",
    "            shotPr=round(em.precision(episodeTVM,episodeTVA),3)\n",
    "            shotRecb=round(em.recall(episodeTVMB,episodeTVAB,rType='micro'),3)\n",
    "            shotPrb=round(em.precision(episodeTVMB,episodeTVAB,rType='micro'),3)\n",
    "            purityb=round(em.purity_score(y_true=episodeTVMB,y_pred=episodeTVAB),3)\n",
    "            nmib=round(em.nmi(episodeTVMB,episodeTVAB),3)\n",
    "            purity=round(em.purity_score(y_true=episodeTVM,y_pred=episodeTVA),3)\n",
    "            nmie=round(em.nmi(episodeTVM,episodeTVA),3)\n",
    "            #coverage=DiarizationCoverage()\n",
    "            dc=round(em.coverage(y_true=episodeTVM,y_pred=episodeTVA),3)\n",
    "            dc1=round(em.coverage(y_true=episodeTVMB,y_pred=episodeTVAB),3)\n",
    "            dc2=round(em.purity_score(y_true=episodeTVA,y_pred=episodeTVM),3)\n",
    "            dc3=round(em.purity_score(y_true=episodeTVAB,y_pred=episodeTVMB),3)\n",
    "                \n",
    "            \n",
    "            kvalues.append(k)\n",
    "            cvalues.append(c)\n",
    "            windiffSHotA.append(windiffSHot)\n",
    "            pkShotA.append(pkShot)\n",
    "            shotRecA.append(shotRec)\n",
    "            shotRecB.append(shotRecb)\n",
    "            PurityB.append(purityb)\n",
    "            NMIAB.append(nmib)\n",
    "            Purity.append(purity)\n",
    "            NMIA.append(nmie)\n",
    "            shotPrA.append(shotPr)\n",
    "            shotPrB.append(shotPrb)\n",
    "            sceneShot.append(len(scenesShotSequence))\n",
    "            Coverage.append(dc)\n",
    "            Coverage1.append(dc1)\n",
    "            Coverage2.append(dc2)\n",
    "            Coverage3.append(dc3)\n",
    "        else:\n",
    "            break"
   ]
  },
  {
   "cell_type": "markdown",
   "metadata": {},
   "source": [
    "Representing the Evaluation as a table (dataframe)"
   ]
  },
  {
   "cell_type": "code",
   "execution_count": 659,
   "metadata": {},
   "outputs": [],
   "source": [
    "resulDF=pd.DataFrame()\n",
    "resulDF['K']=kvalues\n",
    "resulDF['C']=cvalues\n",
    "resulDF['wdSH']=windiffSHotA\n",
    "resulDF['pkSh']=pkShotA\n",
    "#resulDF['rSh']=recallShot\n",
    "resulDF['shotRec_01']=shotRecB\n",
    "resulDF['shotPr_01']=shotPrB\n",
    "resulDF['shotRec']=shotRecA\n",
    "resulDF['shotPr']=shotPrA\n",
    "resulDF['sceneShot']=sceneShot\n",
    "resulDF['purity']=Purity\n",
    "resulDF['NMI']=NMIA\n",
    "resulDF['purity_01']=PurityB\n",
    "resulDF['NMI_01']=NMIAB\n",
    "resulDF['Coverage']=Coverage\n",
    "resulDF['Coverage1']=Coverage1\n",
    "resulDF['CoverageP']=Coverage2\n",
    "resulDF['CoverageP1']=Coverage3"
   ]
  },
  {
   "cell_type": "code",
   "execution_count": 660,
   "metadata": {},
   "outputs": [
    {
     "data": {
      "text/html": [
       "<div>\n",
       "<style scoped>\n",
       "    .dataframe tbody tr th:only-of-type {\n",
       "        vertical-align: middle;\n",
       "    }\n",
       "\n",
       "    .dataframe tbody tr th {\n",
       "        vertical-align: top;\n",
       "    }\n",
       "\n",
       "    .dataframe thead th {\n",
       "        text-align: right;\n",
       "    }\n",
       "</style>\n",
       "<table border=\"1\" class=\"dataframe\">\n",
       "  <thead>\n",
       "    <tr style=\"text-align: right;\">\n",
       "      <th></th>\n",
       "      <th>K</th>\n",
       "      <th>C</th>\n",
       "      <th>wdSH</th>\n",
       "      <th>pkSh</th>\n",
       "      <th>shotRec_01</th>\n",
       "      <th>shotPr_01</th>\n",
       "      <th>shotRec</th>\n",
       "      <th>shotPr</th>\n",
       "      <th>sceneShot</th>\n",
       "      <th>purity</th>\n",
       "      <th>NMI</th>\n",
       "      <th>purity_01</th>\n",
       "      <th>NMI_01</th>\n",
       "      <th>Coverage</th>\n",
       "      <th>Coverage1</th>\n",
       "      <th>CoverageP</th>\n",
       "      <th>CoverageP1</th>\n",
       "    </tr>\n",
       "  </thead>\n",
       "  <tbody>\n",
       "    <tr>\n",
       "      <th>0</th>\n",
       "      <td>4</td>\n",
       "      <td>2</td>\n",
       "      <td>1.53</td>\n",
       "      <td>0.48</td>\n",
       "      <td>0.004</td>\n",
       "      <td>0.004</td>\n",
       "      <td>0.167</td>\n",
       "      <td>0.048</td>\n",
       "      <td>85</td>\n",
       "      <td>0.967</td>\n",
       "      <td>0.002</td>\n",
       "      <td>0.787</td>\n",
       "      <td>0.762</td>\n",
       "      <td>0.885</td>\n",
       "      <td>0.628</td>\n",
       "      <td>0.885</td>\n",
       "      <td>0.628</td>\n",
       "    </tr>\n",
       "    <tr>\n",
       "      <th>1</th>\n",
       "      <td>4</td>\n",
       "      <td>3</td>\n",
       "      <td>0.84</td>\n",
       "      <td>0.42</td>\n",
       "      <td>0.004</td>\n",
       "      <td>0.004</td>\n",
       "      <td>0.208</td>\n",
       "      <td>0.109</td>\n",
       "      <td>47</td>\n",
       "      <td>0.967</td>\n",
       "      <td>0.022</td>\n",
       "      <td>0.746</td>\n",
       "      <td>0.783</td>\n",
       "      <td>0.937</td>\n",
       "      <td>0.732</td>\n",
       "      <td>0.937</td>\n",
       "      <td>0.732</td>\n",
       "    </tr>\n",
       "    <tr>\n",
       "      <th>2</th>\n",
       "      <td>5</td>\n",
       "      <td>2</td>\n",
       "      <td>1.53</td>\n",
       "      <td>0.48</td>\n",
       "      <td>0.004</td>\n",
       "      <td>0.004</td>\n",
       "      <td>0.167</td>\n",
       "      <td>0.048</td>\n",
       "      <td>85</td>\n",
       "      <td>0.967</td>\n",
       "      <td>0.002</td>\n",
       "      <td>0.787</td>\n",
       "      <td>0.762</td>\n",
       "      <td>0.885</td>\n",
       "      <td>0.628</td>\n",
       "      <td>0.885</td>\n",
       "      <td>0.628</td>\n",
       "    </tr>\n",
       "    <tr>\n",
       "      <th>3</th>\n",
       "      <td>5</td>\n",
       "      <td>3</td>\n",
       "      <td>0.84</td>\n",
       "      <td>0.42</td>\n",
       "      <td>0.004</td>\n",
       "      <td>0.004</td>\n",
       "      <td>0.167</td>\n",
       "      <td>0.089</td>\n",
       "      <td>46</td>\n",
       "      <td>0.967</td>\n",
       "      <td>0.013</td>\n",
       "      <td>0.716</td>\n",
       "      <td>0.771</td>\n",
       "      <td>0.939</td>\n",
       "      <td>0.768</td>\n",
       "      <td>0.939</td>\n",
       "      <td>0.768</td>\n",
       "    </tr>\n",
       "    <tr>\n",
       "      <th>4</th>\n",
       "      <td>5</td>\n",
       "      <td>4</td>\n",
       "      <td>1.16</td>\n",
       "      <td>0.48</td>\n",
       "      <td>0.004</td>\n",
       "      <td>0.004</td>\n",
       "      <td>0.167</td>\n",
       "      <td>0.066</td>\n",
       "      <td>34</td>\n",
       "      <td>0.967</td>\n",
       "      <td>0.006</td>\n",
       "      <td>0.653</td>\n",
       "      <td>0.743</td>\n",
       "      <td>0.917</td>\n",
       "      <td>0.768</td>\n",
       "      <td>0.917</td>\n",
       "      <td>0.768</td>\n",
       "    </tr>\n",
       "    <tr>\n",
       "      <th>5</th>\n",
       "      <td>6</td>\n",
       "      <td>2</td>\n",
       "      <td>1.53</td>\n",
       "      <td>0.48</td>\n",
       "      <td>0.004</td>\n",
       "      <td>0.004</td>\n",
       "      <td>0.167</td>\n",
       "      <td>0.048</td>\n",
       "      <td>85</td>\n",
       "      <td>0.967</td>\n",
       "      <td>0.002</td>\n",
       "      <td>0.787</td>\n",
       "      <td>0.762</td>\n",
       "      <td>0.885</td>\n",
       "      <td>0.628</td>\n",
       "      <td>0.885</td>\n",
       "      <td>0.628</td>\n",
       "    </tr>\n",
       "    <tr>\n",
       "      <th>6</th>\n",
       "      <td>6</td>\n",
       "      <td>3</td>\n",
       "      <td>0.83</td>\n",
       "      <td>0.44</td>\n",
       "      <td>0.004</td>\n",
       "      <td>0.004</td>\n",
       "      <td>0.208</td>\n",
       "      <td>0.114</td>\n",
       "      <td>45</td>\n",
       "      <td>0.967</td>\n",
       "      <td>0.024</td>\n",
       "      <td>0.706</td>\n",
       "      <td>0.772</td>\n",
       "      <td>0.940</td>\n",
       "      <td>0.736</td>\n",
       "      <td>0.940</td>\n",
       "      <td>0.736</td>\n",
       "    </tr>\n",
       "    <tr>\n",
       "      <th>7</th>\n",
       "      <td>6</td>\n",
       "      <td>4</td>\n",
       "      <td>1.16</td>\n",
       "      <td>0.48</td>\n",
       "      <td>0.004</td>\n",
       "      <td>0.004</td>\n",
       "      <td>0.167</td>\n",
       "      <td>0.066</td>\n",
       "      <td>34</td>\n",
       "      <td>0.967</td>\n",
       "      <td>0.006</td>\n",
       "      <td>0.653</td>\n",
       "      <td>0.743</td>\n",
       "      <td>0.917</td>\n",
       "      <td>0.768</td>\n",
       "      <td>0.917</td>\n",
       "      <td>0.768</td>\n",
       "    </tr>\n",
       "    <tr>\n",
       "      <th>8</th>\n",
       "      <td>6</td>\n",
       "      <td>5</td>\n",
       "      <td>0.61</td>\n",
       "      <td>0.41</td>\n",
       "      <td>0.004</td>\n",
       "      <td>0.004</td>\n",
       "      <td>0.167</td>\n",
       "      <td>0.138</td>\n",
       "      <td>27</td>\n",
       "      <td>0.967</td>\n",
       "      <td>0.027</td>\n",
       "      <td>0.649</td>\n",
       "      <td>0.769</td>\n",
       "      <td>0.960</td>\n",
       "      <td>0.818</td>\n",
       "      <td>0.960</td>\n",
       "      <td>0.818</td>\n",
       "    </tr>\n",
       "    <tr>\n",
       "      <th>9</th>\n",
       "      <td>7</td>\n",
       "      <td>2</td>\n",
       "      <td>1.53</td>\n",
       "      <td>0.48</td>\n",
       "      <td>0.004</td>\n",
       "      <td>0.004</td>\n",
       "      <td>0.167</td>\n",
       "      <td>0.048</td>\n",
       "      <td>85</td>\n",
       "      <td>0.967</td>\n",
       "      <td>0.002</td>\n",
       "      <td>0.787</td>\n",
       "      <td>0.762</td>\n",
       "      <td>0.885</td>\n",
       "      <td>0.628</td>\n",
       "      <td>0.885</td>\n",
       "      <td>0.628</td>\n",
       "    </tr>\n",
       "    <tr>\n",
       "      <th>10</th>\n",
       "      <td>7</td>\n",
       "      <td>3</td>\n",
       "      <td>0.83</td>\n",
       "      <td>0.44</td>\n",
       "      <td>0.004</td>\n",
       "      <td>0.004</td>\n",
       "      <td>0.208</td>\n",
       "      <td>0.114</td>\n",
       "      <td>45</td>\n",
       "      <td>0.967</td>\n",
       "      <td>0.024</td>\n",
       "      <td>0.706</td>\n",
       "      <td>0.772</td>\n",
       "      <td>0.940</td>\n",
       "      <td>0.736</td>\n",
       "      <td>0.940</td>\n",
       "      <td>0.736</td>\n",
       "    </tr>\n",
       "    <tr>\n",
       "      <th>11</th>\n",
       "      <td>7</td>\n",
       "      <td>4</td>\n",
       "      <td>1.14</td>\n",
       "      <td>0.48</td>\n",
       "      <td>0.004</td>\n",
       "      <td>0.004</td>\n",
       "      <td>0.167</td>\n",
       "      <td>0.067</td>\n",
       "      <td>33</td>\n",
       "      <td>0.967</td>\n",
       "      <td>0.006</td>\n",
       "      <td>0.653</td>\n",
       "      <td>0.744</td>\n",
       "      <td>0.918</td>\n",
       "      <td>0.768</td>\n",
       "      <td>0.918</td>\n",
       "      <td>0.768</td>\n",
       "    </tr>\n",
       "    <tr>\n",
       "      <th>12</th>\n",
       "      <td>7</td>\n",
       "      <td>5</td>\n",
       "      <td>0.55</td>\n",
       "      <td>0.41</td>\n",
       "      <td>0.324</td>\n",
       "      <td>0.324</td>\n",
       "      <td>0.167</td>\n",
       "      <td>0.160</td>\n",
       "      <td>23</td>\n",
       "      <td>0.967</td>\n",
       "      <td>0.034</td>\n",
       "      <td>0.649</td>\n",
       "      <td>0.768</td>\n",
       "      <td>0.966</td>\n",
       "      <td>0.791</td>\n",
       "      <td>0.966</td>\n",
       "      <td>0.791</td>\n",
       "    </tr>\n",
       "    <tr>\n",
       "      <th>13</th>\n",
       "      <td>7</td>\n",
       "      <td>6</td>\n",
       "      <td>1.49</td>\n",
       "      <td>0.42</td>\n",
       "      <td>0.015</td>\n",
       "      <td>0.015</td>\n",
       "      <td>0.208</td>\n",
       "      <td>0.067</td>\n",
       "      <td>18</td>\n",
       "      <td>0.967</td>\n",
       "      <td>0.008</td>\n",
       "      <td>0.620</td>\n",
       "      <td>0.732</td>\n",
       "      <td>0.898</td>\n",
       "      <td>0.760</td>\n",
       "      <td>0.898</td>\n",
       "      <td>0.760</td>\n",
       "    </tr>\n",
       "    <tr>\n",
       "      <th>14</th>\n",
       "      <td>8</td>\n",
       "      <td>2</td>\n",
       "      <td>1.53</td>\n",
       "      <td>0.48</td>\n",
       "      <td>0.004</td>\n",
       "      <td>0.004</td>\n",
       "      <td>0.167</td>\n",
       "      <td>0.048</td>\n",
       "      <td>85</td>\n",
       "      <td>0.967</td>\n",
       "      <td>0.002</td>\n",
       "      <td>0.787</td>\n",
       "      <td>0.762</td>\n",
       "      <td>0.885</td>\n",
       "      <td>0.628</td>\n",
       "      <td>0.885</td>\n",
       "      <td>0.628</td>\n",
       "    </tr>\n",
       "    <tr>\n",
       "      <th>15</th>\n",
       "      <td>8</td>\n",
       "      <td>3</td>\n",
       "      <td>0.77</td>\n",
       "      <td>0.41</td>\n",
       "      <td>0.004</td>\n",
       "      <td>0.004</td>\n",
       "      <td>0.208</td>\n",
       "      <td>0.116</td>\n",
       "      <td>44</td>\n",
       "      <td>0.967</td>\n",
       "      <td>0.024</td>\n",
       "      <td>0.746</td>\n",
       "      <td>0.786</td>\n",
       "      <td>0.941</td>\n",
       "      <td>0.751</td>\n",
       "      <td>0.941</td>\n",
       "      <td>0.751</td>\n",
       "    </tr>\n",
       "    <tr>\n",
       "      <th>16</th>\n",
       "      <td>8</td>\n",
       "      <td>4</td>\n",
       "      <td>1.14</td>\n",
       "      <td>0.48</td>\n",
       "      <td>0.004</td>\n",
       "      <td>0.004</td>\n",
       "      <td>0.167</td>\n",
       "      <td>0.067</td>\n",
       "      <td>33</td>\n",
       "      <td>0.967</td>\n",
       "      <td>0.006</td>\n",
       "      <td>0.653</td>\n",
       "      <td>0.744</td>\n",
       "      <td>0.918</td>\n",
       "      <td>0.768</td>\n",
       "      <td>0.918</td>\n",
       "      <td>0.768</td>\n",
       "    </tr>\n",
       "    <tr>\n",
       "      <th>17</th>\n",
       "      <td>8</td>\n",
       "      <td>5</td>\n",
       "      <td>0.55</td>\n",
       "      <td>0.41</td>\n",
       "      <td>0.324</td>\n",
       "      <td>0.324</td>\n",
       "      <td>0.167</td>\n",
       "      <td>0.160</td>\n",
       "      <td>23</td>\n",
       "      <td>0.967</td>\n",
       "      <td>0.034</td>\n",
       "      <td>0.649</td>\n",
       "      <td>0.768</td>\n",
       "      <td>0.966</td>\n",
       "      <td>0.791</td>\n",
       "      <td>0.966</td>\n",
       "      <td>0.791</td>\n",
       "    </tr>\n",
       "    <tr>\n",
       "      <th>18</th>\n",
       "      <td>8</td>\n",
       "      <td>6</td>\n",
       "      <td>1.49</td>\n",
       "      <td>0.42</td>\n",
       "      <td>0.015</td>\n",
       "      <td>0.015</td>\n",
       "      <td>0.208</td>\n",
       "      <td>0.067</td>\n",
       "      <td>18</td>\n",
       "      <td>0.967</td>\n",
       "      <td>0.008</td>\n",
       "      <td>0.620</td>\n",
       "      <td>0.732</td>\n",
       "      <td>0.898</td>\n",
       "      <td>0.760</td>\n",
       "      <td>0.898</td>\n",
       "      <td>0.760</td>\n",
       "    </tr>\n",
       "    <tr>\n",
       "      <th>19</th>\n",
       "      <td>8</td>\n",
       "      <td>7</td>\n",
       "      <td>1.44</td>\n",
       "      <td>0.43</td>\n",
       "      <td>0.011</td>\n",
       "      <td>0.011</td>\n",
       "      <td>0.208</td>\n",
       "      <td>0.071</td>\n",
       "      <td>17</td>\n",
       "      <td>0.967</td>\n",
       "      <td>0.009</td>\n",
       "      <td>0.594</td>\n",
       "      <td>0.722</td>\n",
       "      <td>0.904</td>\n",
       "      <td>0.769</td>\n",
       "      <td>0.904</td>\n",
       "      <td>0.769</td>\n",
       "    </tr>\n",
       "    <tr>\n",
       "      <th>20</th>\n",
       "      <td>9</td>\n",
       "      <td>2</td>\n",
       "      <td>1.53</td>\n",
       "      <td>0.48</td>\n",
       "      <td>0.004</td>\n",
       "      <td>0.004</td>\n",
       "      <td>0.167</td>\n",
       "      <td>0.048</td>\n",
       "      <td>85</td>\n",
       "      <td>0.967</td>\n",
       "      <td>0.002</td>\n",
       "      <td>0.787</td>\n",
       "      <td>0.762</td>\n",
       "      <td>0.885</td>\n",
       "      <td>0.628</td>\n",
       "      <td>0.885</td>\n",
       "      <td>0.628</td>\n",
       "    </tr>\n",
       "    <tr>\n",
       "      <th>21</th>\n",
       "      <td>9</td>\n",
       "      <td>3</td>\n",
       "      <td>0.77</td>\n",
       "      <td>0.41</td>\n",
       "      <td>0.004</td>\n",
       "      <td>0.004</td>\n",
       "      <td>0.208</td>\n",
       "      <td>0.116</td>\n",
       "      <td>44</td>\n",
       "      <td>0.967</td>\n",
       "      <td>0.024</td>\n",
       "      <td>0.746</td>\n",
       "      <td>0.786</td>\n",
       "      <td>0.941</td>\n",
       "      <td>0.751</td>\n",
       "      <td>0.941</td>\n",
       "      <td>0.751</td>\n",
       "    </tr>\n",
       "    <tr>\n",
       "      <th>22</th>\n",
       "      <td>9</td>\n",
       "      <td>4</td>\n",
       "      <td>1.14</td>\n",
       "      <td>0.48</td>\n",
       "      <td>0.004</td>\n",
       "      <td>0.004</td>\n",
       "      <td>0.167</td>\n",
       "      <td>0.067</td>\n",
       "      <td>33</td>\n",
       "      <td>0.967</td>\n",
       "      <td>0.006</td>\n",
       "      <td>0.653</td>\n",
       "      <td>0.744</td>\n",
       "      <td>0.918</td>\n",
       "      <td>0.768</td>\n",
       "      <td>0.918</td>\n",
       "      <td>0.768</td>\n",
       "    </tr>\n",
       "    <tr>\n",
       "      <th>23</th>\n",
       "      <td>9</td>\n",
       "      <td>5</td>\n",
       "      <td>0.55</td>\n",
       "      <td>0.41</td>\n",
       "      <td>0.324</td>\n",
       "      <td>0.324</td>\n",
       "      <td>0.167</td>\n",
       "      <td>0.160</td>\n",
       "      <td>23</td>\n",
       "      <td>0.967</td>\n",
       "      <td>0.034</td>\n",
       "      <td>0.649</td>\n",
       "      <td>0.768</td>\n",
       "      <td>0.966</td>\n",
       "      <td>0.791</td>\n",
       "      <td>0.966</td>\n",
       "      <td>0.791</td>\n",
       "    </tr>\n",
       "    <tr>\n",
       "      <th>24</th>\n",
       "      <td>9</td>\n",
       "      <td>6</td>\n",
       "      <td>1.49</td>\n",
       "      <td>0.42</td>\n",
       "      <td>0.015</td>\n",
       "      <td>0.015</td>\n",
       "      <td>0.208</td>\n",
       "      <td>0.067</td>\n",
       "      <td>18</td>\n",
       "      <td>0.967</td>\n",
       "      <td>0.008</td>\n",
       "      <td>0.620</td>\n",
       "      <td>0.732</td>\n",
       "      <td>0.898</td>\n",
       "      <td>0.760</td>\n",
       "      <td>0.898</td>\n",
       "      <td>0.760</td>\n",
       "    </tr>\n",
       "    <tr>\n",
       "      <th>25</th>\n",
       "      <td>9</td>\n",
       "      <td>7</td>\n",
       "      <td>1.44</td>\n",
       "      <td>0.43</td>\n",
       "      <td>0.011</td>\n",
       "      <td>0.011</td>\n",
       "      <td>0.208</td>\n",
       "      <td>0.071</td>\n",
       "      <td>17</td>\n",
       "      <td>0.967</td>\n",
       "      <td>0.009</td>\n",
       "      <td>0.594</td>\n",
       "      <td>0.722</td>\n",
       "      <td>0.904</td>\n",
       "      <td>0.769</td>\n",
       "      <td>0.904</td>\n",
       "      <td>0.769</td>\n",
       "    </tr>\n",
       "    <tr>\n",
       "      <th>26</th>\n",
       "      <td>9</td>\n",
       "      <td>8</td>\n",
       "      <td>1.80</td>\n",
       "      <td>0.41</td>\n",
       "      <td>0.014</td>\n",
       "      <td>0.014</td>\n",
       "      <td>0.208</td>\n",
       "      <td>0.057</td>\n",
       "      <td>13</td>\n",
       "      <td>0.967</td>\n",
       "      <td>0.005</td>\n",
       "      <td>0.592</td>\n",
       "      <td>0.721</td>\n",
       "      <td>0.881</td>\n",
       "      <td>0.776</td>\n",
       "      <td>0.881</td>\n",
       "      <td>0.776</td>\n",
       "    </tr>\n",
       "    <tr>\n",
       "      <th>27</th>\n",
       "      <td>10</td>\n",
       "      <td>2</td>\n",
       "      <td>1.53</td>\n",
       "      <td>0.48</td>\n",
       "      <td>0.004</td>\n",
       "      <td>0.004</td>\n",
       "      <td>0.167</td>\n",
       "      <td>0.048</td>\n",
       "      <td>85</td>\n",
       "      <td>0.967</td>\n",
       "      <td>0.002</td>\n",
       "      <td>0.787</td>\n",
       "      <td>0.762</td>\n",
       "      <td>0.885</td>\n",
       "      <td>0.628</td>\n",
       "      <td>0.885</td>\n",
       "      <td>0.628</td>\n",
       "    </tr>\n",
       "    <tr>\n",
       "      <th>28</th>\n",
       "      <td>10</td>\n",
       "      <td>3</td>\n",
       "      <td>0.77</td>\n",
       "      <td>0.41</td>\n",
       "      <td>0.004</td>\n",
       "      <td>0.004</td>\n",
       "      <td>0.208</td>\n",
       "      <td>0.116</td>\n",
       "      <td>44</td>\n",
       "      <td>0.967</td>\n",
       "      <td>0.024</td>\n",
       "      <td>0.746</td>\n",
       "      <td>0.786</td>\n",
       "      <td>0.941</td>\n",
       "      <td>0.751</td>\n",
       "      <td>0.941</td>\n",
       "      <td>0.751</td>\n",
       "    </tr>\n",
       "    <tr>\n",
       "      <th>29</th>\n",
       "      <td>10</td>\n",
       "      <td>4</td>\n",
       "      <td>1.14</td>\n",
       "      <td>0.48</td>\n",
       "      <td>0.004</td>\n",
       "      <td>0.004</td>\n",
       "      <td>0.167</td>\n",
       "      <td>0.067</td>\n",
       "      <td>33</td>\n",
       "      <td>0.967</td>\n",
       "      <td>0.006</td>\n",
       "      <td>0.653</td>\n",
       "      <td>0.744</td>\n",
       "      <td>0.918</td>\n",
       "      <td>0.768</td>\n",
       "      <td>0.918</td>\n",
       "      <td>0.768</td>\n",
       "    </tr>\n",
       "    <tr>\n",
       "      <th>30</th>\n",
       "      <td>10</td>\n",
       "      <td>5</td>\n",
       "      <td>0.55</td>\n",
       "      <td>0.41</td>\n",
       "      <td>0.324</td>\n",
       "      <td>0.324</td>\n",
       "      <td>0.167</td>\n",
       "      <td>0.160</td>\n",
       "      <td>23</td>\n",
       "      <td>0.967</td>\n",
       "      <td>0.034</td>\n",
       "      <td>0.649</td>\n",
       "      <td>0.768</td>\n",
       "      <td>0.966</td>\n",
       "      <td>0.791</td>\n",
       "      <td>0.966</td>\n",
       "      <td>0.791</td>\n",
       "    </tr>\n",
       "    <tr>\n",
       "      <th>31</th>\n",
       "      <td>10</td>\n",
       "      <td>6</td>\n",
       "      <td>1.49</td>\n",
       "      <td>0.42</td>\n",
       "      <td>0.015</td>\n",
       "      <td>0.015</td>\n",
       "      <td>0.208</td>\n",
       "      <td>0.067</td>\n",
       "      <td>18</td>\n",
       "      <td>0.967</td>\n",
       "      <td>0.008</td>\n",
       "      <td>0.620</td>\n",
       "      <td>0.732</td>\n",
       "      <td>0.898</td>\n",
       "      <td>0.760</td>\n",
       "      <td>0.898</td>\n",
       "      <td>0.760</td>\n",
       "    </tr>\n",
       "    <tr>\n",
       "      <th>32</th>\n",
       "      <td>10</td>\n",
       "      <td>7</td>\n",
       "      <td>1.44</td>\n",
       "      <td>0.43</td>\n",
       "      <td>0.011</td>\n",
       "      <td>0.011</td>\n",
       "      <td>0.208</td>\n",
       "      <td>0.071</td>\n",
       "      <td>17</td>\n",
       "      <td>0.967</td>\n",
       "      <td>0.009</td>\n",
       "      <td>0.594</td>\n",
       "      <td>0.722</td>\n",
       "      <td>0.904</td>\n",
       "      <td>0.769</td>\n",
       "      <td>0.904</td>\n",
       "      <td>0.769</td>\n",
       "    </tr>\n",
       "    <tr>\n",
       "      <th>33</th>\n",
       "      <td>10</td>\n",
       "      <td>8</td>\n",
       "      <td>1.80</td>\n",
       "      <td>0.41</td>\n",
       "      <td>0.014</td>\n",
       "      <td>0.014</td>\n",
       "      <td>0.208</td>\n",
       "      <td>0.057</td>\n",
       "      <td>13</td>\n",
       "      <td>0.967</td>\n",
       "      <td>0.005</td>\n",
       "      <td>0.592</td>\n",
       "      <td>0.721</td>\n",
       "      <td>0.881</td>\n",
       "      <td>0.776</td>\n",
       "      <td>0.881</td>\n",
       "      <td>0.776</td>\n",
       "    </tr>\n",
       "  </tbody>\n",
       "</table>\n",
       "</div>"
      ],
      "text/plain": [
       "     K  C  wdSH  pkSh  shotRec_01  shotPr_01  shotRec  shotPr  sceneShot  \\\n",
       "0    4  2  1.53  0.48       0.004      0.004    0.167   0.048         85   \n",
       "1    4  3  0.84  0.42       0.004      0.004    0.208   0.109         47   \n",
       "2    5  2  1.53  0.48       0.004      0.004    0.167   0.048         85   \n",
       "3    5  3  0.84  0.42       0.004      0.004    0.167   0.089         46   \n",
       "4    5  4  1.16  0.48       0.004      0.004    0.167   0.066         34   \n",
       "5    6  2  1.53  0.48       0.004      0.004    0.167   0.048         85   \n",
       "6    6  3  0.83  0.44       0.004      0.004    0.208   0.114         45   \n",
       "7    6  4  1.16  0.48       0.004      0.004    0.167   0.066         34   \n",
       "8    6  5  0.61  0.41       0.004      0.004    0.167   0.138         27   \n",
       "9    7  2  1.53  0.48       0.004      0.004    0.167   0.048         85   \n",
       "10   7  3  0.83  0.44       0.004      0.004    0.208   0.114         45   \n",
       "11   7  4  1.14  0.48       0.004      0.004    0.167   0.067         33   \n",
       "12   7  5  0.55  0.41       0.324      0.324    0.167   0.160         23   \n",
       "13   7  6  1.49  0.42       0.015      0.015    0.208   0.067         18   \n",
       "14   8  2  1.53  0.48       0.004      0.004    0.167   0.048         85   \n",
       "15   8  3  0.77  0.41       0.004      0.004    0.208   0.116         44   \n",
       "16   8  4  1.14  0.48       0.004      0.004    0.167   0.067         33   \n",
       "17   8  5  0.55  0.41       0.324      0.324    0.167   0.160         23   \n",
       "18   8  6  1.49  0.42       0.015      0.015    0.208   0.067         18   \n",
       "19   8  7  1.44  0.43       0.011      0.011    0.208   0.071         17   \n",
       "20   9  2  1.53  0.48       0.004      0.004    0.167   0.048         85   \n",
       "21   9  3  0.77  0.41       0.004      0.004    0.208   0.116         44   \n",
       "22   9  4  1.14  0.48       0.004      0.004    0.167   0.067         33   \n",
       "23   9  5  0.55  0.41       0.324      0.324    0.167   0.160         23   \n",
       "24   9  6  1.49  0.42       0.015      0.015    0.208   0.067         18   \n",
       "25   9  7  1.44  0.43       0.011      0.011    0.208   0.071         17   \n",
       "26   9  8  1.80  0.41       0.014      0.014    0.208   0.057         13   \n",
       "27  10  2  1.53  0.48       0.004      0.004    0.167   0.048         85   \n",
       "28  10  3  0.77  0.41       0.004      0.004    0.208   0.116         44   \n",
       "29  10  4  1.14  0.48       0.004      0.004    0.167   0.067         33   \n",
       "30  10  5  0.55  0.41       0.324      0.324    0.167   0.160         23   \n",
       "31  10  6  1.49  0.42       0.015      0.015    0.208   0.067         18   \n",
       "32  10  7  1.44  0.43       0.011      0.011    0.208   0.071         17   \n",
       "33  10  8  1.80  0.41       0.014      0.014    0.208   0.057         13   \n",
       "\n",
       "    purity    NMI  purity_01  NMI_01  Coverage  Coverage1  CoverageP  \\\n",
       "0    0.967  0.002      0.787   0.762     0.885      0.628      0.885   \n",
       "1    0.967  0.022      0.746   0.783     0.937      0.732      0.937   \n",
       "2    0.967  0.002      0.787   0.762     0.885      0.628      0.885   \n",
       "3    0.967  0.013      0.716   0.771     0.939      0.768      0.939   \n",
       "4    0.967  0.006      0.653   0.743     0.917      0.768      0.917   \n",
       "5    0.967  0.002      0.787   0.762     0.885      0.628      0.885   \n",
       "6    0.967  0.024      0.706   0.772     0.940      0.736      0.940   \n",
       "7    0.967  0.006      0.653   0.743     0.917      0.768      0.917   \n",
       "8    0.967  0.027      0.649   0.769     0.960      0.818      0.960   \n",
       "9    0.967  0.002      0.787   0.762     0.885      0.628      0.885   \n",
       "10   0.967  0.024      0.706   0.772     0.940      0.736      0.940   \n",
       "11   0.967  0.006      0.653   0.744     0.918      0.768      0.918   \n",
       "12   0.967  0.034      0.649   0.768     0.966      0.791      0.966   \n",
       "13   0.967  0.008      0.620   0.732     0.898      0.760      0.898   \n",
       "14   0.967  0.002      0.787   0.762     0.885      0.628      0.885   \n",
       "15   0.967  0.024      0.746   0.786     0.941      0.751      0.941   \n",
       "16   0.967  0.006      0.653   0.744     0.918      0.768      0.918   \n",
       "17   0.967  0.034      0.649   0.768     0.966      0.791      0.966   \n",
       "18   0.967  0.008      0.620   0.732     0.898      0.760      0.898   \n",
       "19   0.967  0.009      0.594   0.722     0.904      0.769      0.904   \n",
       "20   0.967  0.002      0.787   0.762     0.885      0.628      0.885   \n",
       "21   0.967  0.024      0.746   0.786     0.941      0.751      0.941   \n",
       "22   0.967  0.006      0.653   0.744     0.918      0.768      0.918   \n",
       "23   0.967  0.034      0.649   0.768     0.966      0.791      0.966   \n",
       "24   0.967  0.008      0.620   0.732     0.898      0.760      0.898   \n",
       "25   0.967  0.009      0.594   0.722     0.904      0.769      0.904   \n",
       "26   0.967  0.005      0.592   0.721     0.881      0.776      0.881   \n",
       "27   0.967  0.002      0.787   0.762     0.885      0.628      0.885   \n",
       "28   0.967  0.024      0.746   0.786     0.941      0.751      0.941   \n",
       "29   0.967  0.006      0.653   0.744     0.918      0.768      0.918   \n",
       "30   0.967  0.034      0.649   0.768     0.966      0.791      0.966   \n",
       "31   0.967  0.008      0.620   0.732     0.898      0.760      0.898   \n",
       "32   0.967  0.009      0.594   0.722     0.904      0.769      0.904   \n",
       "33   0.967  0.005      0.592   0.721     0.881      0.776      0.881   \n",
       "\n",
       "    CoverageP1  \n",
       "0        0.628  \n",
       "1        0.732  \n",
       "2        0.628  \n",
       "3        0.768  \n",
       "4        0.768  \n",
       "5        0.628  \n",
       "6        0.736  \n",
       "7        0.768  \n",
       "8        0.818  \n",
       "9        0.628  \n",
       "10       0.736  \n",
       "11       0.768  \n",
       "12       0.791  \n",
       "13       0.760  \n",
       "14       0.628  \n",
       "15       0.751  \n",
       "16       0.768  \n",
       "17       0.791  \n",
       "18       0.760  \n",
       "19       0.769  \n",
       "20       0.628  \n",
       "21       0.751  \n",
       "22       0.768  \n",
       "23       0.791  \n",
       "24       0.760  \n",
       "25       0.769  \n",
       "26       0.776  \n",
       "27       0.628  \n",
       "28       0.751  \n",
       "29       0.768  \n",
       "30       0.791  \n",
       "31       0.760  \n",
       "32       0.769  \n",
       "33       0.776  "
      ]
     },
     "execution_count": 660,
     "metadata": {},
     "output_type": "execute_result"
    }
   ],
   "source": [
    "resulDF"
   ]
  },
  {
   "cell_type": "code",
   "execution_count": 634,
   "metadata": {},
   "outputs": [
    {
     "data": {
      "text/plain": [
       "K               4.000\n",
       "C               2.000\n",
       "wdSH            3.290\n",
       "pkSh            0.560\n",
       "shotRec_01      0.004\n",
       "shotPr_01       0.004\n",
       "shotRec         0.500\n",
       "shotPr          0.066\n",
       "sceneShot     191.000\n",
       "purity          0.967\n",
       "NMI             0.017\n",
       "purity_01       0.919\n",
       "NMI_01          0.753\n",
       "Coverage        0.750\n",
       "Coverage1       0.404\n",
       "CoverageP       0.750\n",
       "CoverageP1      0.404\n",
       "Name: 0, dtype: float64"
      ]
     },
     "execution_count": 634,
     "metadata": {},
     "output_type": "execute_result"
    }
   ],
   "source": [
    "resulDF.loc[resulDF['purity'].idxmax()]"
   ]
  },
  {
   "cell_type": "code",
   "execution_count": 31,
   "metadata": {},
   "outputs": [
    {
     "data": {
      "text/plain": [
       "K              7.000\n",
       "C              6.000\n",
       "wdSH           0.740\n",
       "pkSh           0.370\n",
       "shotRec_01     0.004\n",
       "shotPr_01      0.004\n",
       "shotRec        0.231\n",
       "shotPr         0.133\n",
       "sceneShot     45.000\n",
       "purity         0.967\n",
       "NMI            0.032\n",
       "purity_01      0.767\n",
       "NMI_01         0.824\n",
       "Coverage       0.942\n",
       "Coverage1      0.795\n",
       "CoverageP      0.942\n",
       "CoverageP1     0.795\n",
       "Name: 3, dtype: float64"
      ]
     },
     "execution_count": 31,
     "metadata": {},
     "output_type": "execute_result"
    }
   ],
   "source": [
    "resulDF.loc[resulDF['pkSh'].idxmin()]"
   ]
  },
  {
   "cell_type": "code",
   "execution_count": 32,
   "metadata": {},
   "outputs": [
    {
     "data": {
      "text/plain": [
       "K              10.000\n",
       "C               8.000\n",
       "wdSH            1.790\n",
       "pkSh            0.510\n",
       "shotRec_01      0.014\n",
       "shotPr_01       0.014\n",
       "shotRec         0.346\n",
       "shotPr          0.150\n",
       "sceneShot     113.000\n",
       "purity          0.967\n",
       "NMI             0.038\n",
       "purity_01       0.843\n",
       "NMI_01          0.824\n",
       "Coverage        0.959\n",
       "Coverage1       0.795\n",
       "CoverageP       0.959\n",
       "CoverageP1      0.795\n",
       "dtype: float64"
      ]
     },
     "execution_count": 32,
     "metadata": {},
     "output_type": "execute_result"
    }
   ],
   "source": [
    "resulDF.max(axis=None, skipna=None, level=None, numeric_only=None)"
   ]
  },
  {
   "cell_type": "code",
   "execution_count": 33,
   "metadata": {},
   "outputs": [],
   "source": [
    "labels_true = episodeTVM\n",
    "labels_true2 = episodeTVMB\n",
    "#[1, 1, 1, 1, 0, 0, 0, 0, 0, 0, 0, 0, 0, 0, 0, 0, 0, 0, 0, 0, 0, 0, 0, 0, 0, 0, 0, 0, 0, 0, 0, 0, 0, 0, 0, 0, 0,\n",
    "#0, 0, 0, 0, 1, 0, 0, 0, 0, 0, 0, 0, 0,]\n",
    "labels_pred = episodeTVA\n",
    "labels_pred2 = episodeTVAB\n",
    "#[1, 1, 0, 0, 1, 0, 0, 0, 0, 0, 0, 0, 0, 0, 0, 0, 0, 0, 0, 0, 0, 0, 0, 0, 0, 0, 0, 0, 0, 0, 0, 0, 0, 1, 0, 0, 0,\n",
    " #0, 0, 0, 0, 0, 0, 0, 0, 0, 0, 0, 0, 0]\n",
    "labels_pred=np.array(labels_pred)\n",
    "labels_true=np.array(labels_true)\n",
    "labels_pred2=np.array(labels_pred2)\n",
    "labels_true2=np.array(labels_true2)"
   ]
  },
  {
   "cell_type": "code",
   "execution_count": 34,
   "metadata": {},
   "outputs": [
    {
     "data": {
      "text/plain": [
       "(0.9667093469910372, 0.678617157490397)"
      ]
     },
     "execution_count": 34,
     "metadata": {},
     "output_type": "execute_result"
    }
   ],
   "source": [
    "em.purity_score(y_true=labels_true,y_pred=labels_pred),em.purity_score(y_true=labels_true2,y_pred=labels_pred2)"
   ]
  },
  {
   "cell_type": "code",
   "execution_count": 35,
   "metadata": {},
   "outputs": [
    {
     "data": {
      "text/plain": [
       "(0.9590268886043534, 0.7708066581306018)"
      ]
     },
     "execution_count": 35,
     "metadata": {},
     "output_type": "execute_result"
    }
   ],
   "source": [
    "em.coverage(y_true=labels_true,y_pred=labels_pred),em.coverage(y_true=labels_true2,y_pred=labels_pred2)"
   ]
  },
  {
   "cell_type": "code",
   "execution_count": 36,
   "metadata": {},
   "outputs": [
    {
     "data": {
      "text/plain": [
       "(0.9590268886043534, 0.7708066581306018)"
      ]
     },
     "execution_count": 36,
     "metadata": {},
     "output_type": "execute_result"
    }
   ],
   "source": [
    "em.purity_score(y_true=labels_pred,y_pred=labels_true),em.purity_score(y_true=labels_pred2,y_pred=labels_true2)"
   ]
  },
  {
   "cell_type": "code",
   "execution_count": 38,
   "metadata": {},
   "outputs": [
    {
     "data": {
      "text/plain": [
       "(1.0, 1.0)"
      ]
     },
     "execution_count": 38,
     "metadata": {},
     "output_type": "execute_result"
    }
   ],
   "source": [
    "em.purity_score(y_true=labels_pred,y_pred=labels_pred),em.coverage(y_true=labels_pred2,y_pred=labels_pred2)"
   ]
  },
  {
   "cell_type": "code",
   "execution_count": null,
   "metadata": {},
   "outputs": [],
   "source": []
  }
 ],
 "metadata": {
  "kernelspec": {
   "display_name": "Python 3",
   "language": "python",
   "name": "python3"
  },
  "language_info": {
   "codemirror_mode": {
    "name": "ipython",
    "version": 3
   },
   "file_extension": ".py",
   "mimetype": "text/x-python",
   "name": "python",
   "nbconvert_exporter": "python",
   "pygments_lexer": "ipython3",
   "version": "3.6.5"
  }
 },
 "nbformat": 4,
 "nbformat_minor": 2
}
