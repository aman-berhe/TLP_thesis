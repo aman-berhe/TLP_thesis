{
 "cells": [
  {
   "cell_type": "code",
   "execution_count": 1,
   "metadata": {},
   "outputs": [
    {
     "ename": "ModuleNotFoundError",
     "evalue": "No module named 'Eastenders_Lib'",
     "output_type": "error",
     "traceback": [
      "\u001b[0;31m---------------------------------------------------------------------------\u001b[0m",
      "\u001b[0;31mModuleNotFoundError\u001b[0m                       Traceback (most recent call last)",
      "\u001b[0;32m<ipython-input-1-e26bcd48d3bc>\u001b[0m in \u001b[0;36m<module>\u001b[0;34m()\u001b[0m\n\u001b[0;32m----> 1\u001b[0;31m \u001b[0;32mimport\u001b[0m \u001b[0mEastenders_Lib\u001b[0m \u001b[0;32mas\u001b[0m \u001b[0mest\u001b[0m\u001b[0;34m\u001b[0m\u001b[0m\n\u001b[0m\u001b[1;32m      2\u001b[0m \u001b[0;32mimport\u001b[0m \u001b[0mSubtitle_truthvalue\u001b[0m \u001b[0;32mas\u001b[0m \u001b[0mstv\u001b[0m\u001b[0;34m\u001b[0m\u001b[0m\n",
      "\u001b[0;31mModuleNotFoundError\u001b[0m: No module named 'Eastenders_Lib'"
     ]
    }
   ],
   "source": [
    "import Eastenders_Lib as est\n",
    "import Subtitle_truthvalue as stv"
   ]
  },
  {
   "cell_type": "code",
   "execution_count": 2,
   "metadata": {},
   "outputs": [],
   "source": [
    "import pandas as pd"
   ]
  },
  {
   "cell_type": "code",
   "execution_count": 3,
   "metadata": {},
   "outputs": [],
   "source": [
    "shotdir='Desktop/TrecVid/5082189274976367100.shots1.json'\n",
    "threads='Desktop/TV-series/video/thread_output1_10_10.json'\n",
    "manualScen='Desktop/TrecVid/Eastender_manual_segmentation_inSeconds.json'"
   ]
  },
  {
   "cell_type": "code",
   "execution_count": 4,
   "metadata": {},
   "outputs": [],
   "source": [
    "filename=\"Desktop/TrecVid/Annotations_5082189274976367100 (times in seconds) - Sheet1.csv\""
   ]
  },
  {
   "cell_type": "code",
   "execution_count": 5,
   "metadata": {},
   "outputs": [],
   "source": [
    "manualBoundry, shotSeq, shotBondry, data1 =est.preprocessingEastender(manualScen=manualScen,threads=threads)"
   ]
  },
  {
   "cell_type": "code",
   "execution_count": 6,
   "metadata": {
    "scrolled": true
   },
   "outputs": [],
   "source": [
    "SpeakerSequence,SpeakerDF,textSent,lematizedText=est.preprocessAnnotationFile(filename)"
   ]
  },
  {
   "cell_type": "code",
   "execution_count": 7,
   "metadata": {},
   "outputs": [
    {
     "data": {
      "text/plain": [
       "(2964, 2964, 2964, 2964)"
      ]
     },
     "execution_count": 7,
     "metadata": {},
     "output_type": "execute_result"
    }
   ],
   "source": [
    "len(textSent),len(SpeakerDF),len(lematizedText),len(SpeakerSequence)"
   ]
  },
  {
   "cell_type": "code",
   "execution_count": 8,
   "metadata": {},
   "outputs": [
    {
     "data": {
      "text/plain": [
       "(475, 475)"
      ]
     },
     "execution_count": 8,
     "metadata": {},
     "output_type": "execute_result"
    }
   ],
   "source": [
    "len(shotSeq),len(shotBondry)"
   ]
  },
  {
   "cell_type": "code",
   "execution_count": null,
   "metadata": {},
   "outputs": [],
   "source": []
  },
  {
   "cell_type": "code",
   "execution_count": 13,
   "metadata": {},
   "outputs": [],
   "source": [
    "shotSpeakers=[]\n",
    "shotLabel=[]\n",
    "pos=0\n",
    "for j in range(pos,len(SpeakerDF)):\n",
    "    if pos<len(shotBondry):\n",
    "        if SpeakerDF['Duration end XML'][j]<=shotBondry[pos]:\n",
    "            shotSpeakers.append(shotBondry[pos])\n",
    "            shotLabel.append(shotSeq[pos])\n",
    "            print(j)\n",
    "        else:\n",
    "            shotSpeakers.append(shotBondry[pos])\n",
    "            shotLabel.append(shotSeq[pos])\n",
    "            pos=pos+1\n",
    "            continue\n",
    "    else:\n",
    "        break\n",
    "    "
   ]
  },
  {
   "cell_type": "code",
   "execution_count": 15,
   "metadata": {},
   "outputs": [],
   "source": [
    "SpeakerDF=pd.DataFrame()"
   ]
  },
  {
   "cell_type": "code",
   "execution_count": 16,
   "metadata": {},
   "outputs": [],
   "source": [
    "SpeakerDF['shotLabel']=shotLabel\n",
    "SpeakerDF['shotTime']=shotSpeakers"
   ]
  },
  {
   "cell_type": "code",
   "execution_count": 17,
   "metadata": {},
   "outputs": [
    {
     "data": {
      "text/plain": [
       "(u'A', 1.4000000000000001)"
      ]
     },
     "execution_count": 17,
     "metadata": {},
     "output_type": "execute_result"
    }
   ],
   "source": [
    "shotSeq[0],shotBondry[0]"
   ]
  },
  {
   "cell_type": "code",
   "execution_count": 18,
   "metadata": {},
   "outputs": [],
   "source": [
    "import uts "
   ]
  },
  {
   "cell_type": "code",
   "execution_count": 19,
   "metadata": {},
   "outputs": [],
   "source": [
    "textwithSpeaker=[]\n",
    "for i in range(len(textSent)):\n",
    "    textwithSpeaker.append((textSent[i]+' '+str(SpeakerSequence[i])))"
   ]
  },
  {
   "cell_type": "code",
   "execution_count": 20,
   "metadata": {},
   "outputs": [
    {
     "data": {
      "text/plain": [
       "406"
      ]
     },
     "execution_count": 20,
     "metadata": {},
     "output_type": "execute_result"
    }
   ],
   "source": [
    "modelTexttiling=uts.TextTiling(window=2)\n",
    "boundryTexttiling=modelTexttiling.segment(textSent)\n",
    "boundryTexttiling.count(1)"
   ]
  },
  {
   "cell_type": "code",
   "execution_count": 21,
   "metadata": {},
   "outputs": [
    {
     "data": {
      "text/plain": [
       "422"
      ]
     },
     "execution_count": 21,
     "metadata": {},
     "output_type": "execute_result"
    }
   ],
   "source": [
    "modelTexttiling=uts.TextTiling(window=2)\n",
    "boundryTexttiling=modelTexttiling.segment(textwithSpeaker)\n",
    "boundryTexttiling.count(1)"
   ]
  },
  {
   "cell_type": "code",
   "execution_count": 22,
   "metadata": {},
   "outputs": [
    {
     "ename": "NameError",
     "evalue": "name 'truthValueManualSegmentation' is not defined",
     "output_type": "error",
     "traceback": [
      "\u001b[0;31m---------------------------------------------------------------------------\u001b[0m",
      "\u001b[0;31mNameError\u001b[0m                                 Traceback (most recent call last)",
      "\u001b[0;32m<ipython-input-22-1783adf37ddd>\u001b[0m in \u001b[0;36m<module>\u001b[0;34m()\u001b[0m\n\u001b[0;32m----> 1\u001b[0;31m \u001b[0mboundryTexttiling\u001b[0m\u001b[0;34m=\u001b[0m\u001b[0mboundryTexttiling\u001b[0m\u001b[0;34m[\u001b[0m\u001b[0;36m0\u001b[0m\u001b[0;34m:\u001b[0m\u001b[0mlen\u001b[0m\u001b[0;34m(\u001b[0m\u001b[0mtruthValueManualSegmentation\u001b[0m\u001b[0;34m)\u001b[0m\u001b[0;34m]\u001b[0m\u001b[0;34m\u001b[0m\u001b[0m\n\u001b[0m\u001b[1;32m      2\u001b[0m \u001b[0mest\u001b[0m\u001b[0;34m.\u001b[0m\u001b[0mrecall_score\u001b[0m\u001b[0;34m(\u001b[0m\u001b[0mboundryTexttiling\u001b[0m\u001b[0;34m,\u001b[0m\u001b[0mtruthValueManualSegmentation\u001b[0m\u001b[0;34m)\u001b[0m\u001b[0;34m\u001b[0m\u001b[0m\n",
      "\u001b[0;31mNameError\u001b[0m: name 'truthValueManualSegmentation' is not defined"
     ]
    }
   ],
   "source": [
    "boundryTexttiling=boundryTexttiling[0:len(truthValueManualSegmentation)]\n",
    "est.recall_score(boundryTexttiling,truthValueManualSegmentation)"
   ]
  },
  {
   "cell_type": "code",
   "execution_count": 102,
   "metadata": {},
   "outputs": [
    {
     "data": {
      "text/plain": [
       "0.2288135593220339"
      ]
     },
     "execution_count": 102,
     "metadata": {},
     "output_type": "execute_result"
    }
   ],
   "source": [
    "est.precision_score(boundryTexttiling,truthValueManualSegmentation)"
   ]
  },
  {
   "cell_type": "code",
   "execution_count": 94,
   "metadata": {},
   "outputs": [
    {
     "data": {
      "text/plain": [
       "1764"
      ]
     },
     "execution_count": 94,
     "metadata": {},
     "output_type": "execute_result"
    }
   ],
   "source": [
    "modelC99 = uts.C99(window=4)\n",
    "boundryC99=modelC99.segment(textSent)\n",
    "len(boundryC99)\n",
    "boundryC99.count(0)"
   ]
  },
  {
   "cell_type": "code",
   "execution_count": 95,
   "metadata": {},
   "outputs": [
    {
     "data": {
      "text/plain": [
       "2825"
      ]
     },
     "execution_count": 95,
     "metadata": {},
     "output_type": "execute_result"
    }
   ],
   "source": [
    "modelC99 = uts.C99(window=4)\n",
    "boundryC99=modelC99.segment(textwithSpeaker)\n",
    "len(boundryC99)\n",
    "boundryC99.count(0)"
   ]
  },
  {
   "cell_type": "code",
   "execution_count": 96,
   "metadata": {},
   "outputs": [
    {
     "data": {
      "text/plain": [
       "139"
      ]
     },
     "execution_count": 96,
     "metadata": {},
     "output_type": "execute_result"
    }
   ],
   "source": [
    "boundryC99.count(1)"
   ]
  },
  {
   "cell_type": "code",
   "execution_count": 98,
   "metadata": {},
   "outputs": [],
   "source": [
    "boundryC99=boundryC99[0:len(truthValueManualSegmentation)]"
   ]
  },
  {
   "cell_type": "code",
   "execution_count": 99,
   "metadata": {},
   "outputs": [
    {
     "data": {
      "text/plain": [
       "0.38848920863309355"
      ]
     },
     "execution_count": 99,
     "metadata": {},
     "output_type": "execute_result"
    }
   ],
   "source": [
    "est.recall_score(boundryC99,truthValueManualSegmentation)"
   ]
  },
  {
   "cell_type": "code",
   "execution_count": 104,
   "metadata": {},
   "outputs": [
    {
     "data": {
      "text/plain": [
       "0.4576271186440678"
      ]
     },
     "execution_count": 104,
     "metadata": {},
     "output_type": "execute_result"
    }
   ],
   "source": [
    "est.precision_score(boundryC99,truthValueManualSegmentation)"
   ]
  },
  {
   "cell_type": "code",
   "execution_count": 21,
   "metadata": {},
   "outputs": [],
   "source": [
    "processeLemma=[]\n",
    "for i in lematizedText:\n",
    "    tmpWords=''\n",
    "    for j in i:\n",
    "        tmpWords=tmpWords+' '+j\n",
    "    processeLemma.append(tmpWords)"
   ]
  },
  {
   "cell_type": "code",
   "execution_count": 22,
   "metadata": {},
   "outputs": [],
   "source": [
    "a=[i for i in processeLemma if len(i)>4]"
   ]
  },
  {
   "cell_type": "code",
   "execution_count": 23,
   "metadata": {},
   "outputs": [
    {
     "ename": "NameError",
     "evalue": "name 'textwithSpeaker' is not defined",
     "output_type": "error",
     "traceback": [
      "\u001b[0;31m---------------------------------------------------------------------------\u001b[0m",
      "\u001b[0;31mNameError\u001b[0m                                 Traceback (most recent call last)",
      "\u001b[0;32m<ipython-input-23-8a1b1464f15b>\u001b[0m in \u001b[0;36m<module>\u001b[0;34m()\u001b[0m\n\u001b[0;32m----> 1\u001b[0;31m \u001b[0mtextwithSpeaker\u001b[0m\u001b[0;34m[\u001b[0m\u001b[0;36m0\u001b[0m\u001b[0;34m:\u001b[0m\u001b[0;36m2\u001b[0m\u001b[0;34m]\u001b[0m\u001b[0;34m\u001b[0m\u001b[0m\n\u001b[0m",
      "\u001b[0;31mNameError\u001b[0m: name 'textwithSpeaker' is not defined"
     ]
    }
   ],
   "source": [
    "textwithSpeaker[0:2]"
   ]
  },
  {
   "cell_type": "code",
   "execution_count": null,
   "metadata": {},
   "outputs": [],
   "source": []
  },
  {
   "cell_type": "markdown",
   "metadata": {},
   "source": [
    "Segmentation choosing values for k and C in segmentation algorithm"
   ]
  },
  {
   "cell_type": "code",
   "execution_count": 9,
   "metadata": {},
   "outputs": [],
   "source": [
    "scenes=est.segmentation_speakers(SpeakerSequence,7, 3)"
   ]
  },
  {
   "cell_type": "code",
   "execution_count": 10,
   "metadata": {},
   "outputs": [
    {
     "data": {
      "text/plain": [
       "135"
      ]
     },
     "execution_count": 10,
     "metadata": {},
     "output_type": "execute_result"
    }
   ],
   "source": [
    "len(scenes)"
   ]
  },
  {
   "cell_type": "code",
   "execution_count": 11,
   "metadata": {},
   "outputs": [],
   "source": [
    "scenesShotSequence=est.segmentation_speakers(shotSeq,7,4)"
   ]
  },
  {
   "cell_type": "code",
   "execution_count": 12,
   "metadata": {},
   "outputs": [
    {
     "data": {
      "text/plain": [
       "59"
      ]
     },
     "execution_count": 12,
     "metadata": {},
     "output_type": "execute_result"
    }
   ],
   "source": [
    "len(scenesShotSequence)"
   ]
  },
  {
   "cell_type": "code",
   "execution_count": 13,
   "metadata": {},
   "outputs": [],
   "source": [
    "sceneShotBoundry=[]\n",
    "for i in scenesShotSequence:\n",
    "    sceneShotBoundry.append(shotBondry[i])"
   ]
  },
  {
   "cell_type": "code",
   "execution_count": 14,
   "metadata": {},
   "outputs": [
    {
     "data": {
      "text/plain": [
       "391.40000000000003"
      ]
     },
     "execution_count": 14,
     "metadata": {},
     "output_type": "execute_result"
    }
   ],
   "source": [
    "sceneShotBoundry[10]"
   ]
  },
  {
   "cell_type": "code",
   "execution_count": 15,
   "metadata": {},
   "outputs": [],
   "source": [
    "sceneSpeakerBoundry=[]\n",
    "for i in scenes:\n",
    "    sceneSpeakerBoundry.append(SpeakerDF['Duration end XML'][i])"
   ]
  },
  {
   "cell_type": "code",
   "execution_count": 16,
   "metadata": {},
   "outputs": [
    {
     "data": {
      "text/plain": [
       "135"
      ]
     },
     "execution_count": 16,
     "metadata": {},
     "output_type": "execute_result"
    }
   ],
   "source": [
    "len(sceneSpeakerBoundry)"
   ]
  },
  {
   "cell_type": "code",
   "execution_count": 17,
   "metadata": {},
   "outputs": [],
   "source": [
    "def truthValueNew(scenesBoundry):\n",
    "    truthValue=[]\n",
    "    pos=0\n",
    "    i=0\n",
    "    #print('hello')\n",
    "    # sceneSpeakerBoundry=[]\n",
    "    # speakerBoundry=list(DF['Duration end XML'])\n",
    "    # for i in scenes:\n",
    "    # \tsceneSpeakerBoundry.append(speakerBoundry[i])\n",
    "    try:\n",
    "        for x in range(len(SpeakerDF)):\n",
    "            if SpeakerDF['Duration end XML'][x]<scenesBoundry[pos]:\n",
    "                truthValue.append(0)\n",
    "                i=i+1\n",
    "            else:\n",
    "                truthValue.append(1)\n",
    "                if pos <len(scenesBoundry):\n",
    "                    pos=pos+1\n",
    "                #i=i+1\n",
    "                else:\n",
    "                    break\n",
    "    except:\n",
    "        print('finished')\n",
    "    return truthValue"
   ]
  },
  {
   "cell_type": "code",
   "execution_count": 18,
   "metadata": {},
   "outputs": [],
   "source": [
    "def shotTruthValue(data,sceneBoundry):\n",
    "    truthValue=[]\n",
    "    pos=0\n",
    "    i=0\n",
    "    print(len(data['content']))\n",
    "    try:\n",
    "        for x in data['content']:\n",
    "            if x['segment']['end']<sceneBoundry[pos]:\n",
    "                truthValue.append(0)\n",
    "                i=i+1\n",
    "            else:\n",
    "                truthValue.append(1)\n",
    "                i=i+1\n",
    "                if pos <len(sceneBoundry):\n",
    "                    pos=pos+1\n",
    "                    continue\n",
    "                else:\n",
    "                    break\n",
    "    except:\n",
    "        print('error')\n",
    "    return truthValue,i,pos\n"
   ]
  },
  {
   "cell_type": "markdown",
   "metadata": {},
   "source": [
    "Game of Thrones"
   ]
  },
  {
   "cell_type": "code",
   "execution_count": 19,
   "metadata": {},
   "outputs": [],
   "source": [
    "scenes_dir='/home/berhe/Desktop/LIMSI/TLP_thesis/Scenes/'\n",
    "subtitle_dir='/home/berhe/Desktop/LIMSI/TLP_thesis/subtitles/'"
   ]
  },
  {
   "cell_type": "code",
   "execution_count": 20,
   "metadata": {},
   "outputs": [],
   "source": [
    "import os\n",
    "subtitleFiles=[]\n",
    "for fl in os.listdir(subtitle_dir):\n",
    "    if '.en.srt' in fl:\n",
    "       subtitleFiles.append(fl)\n",
    "\n",
    "scenesegementedFiles=[]\n",
    "for fl in os.listdir(scenes_dir):\n",
    "    if 'Episode' in fl:\n",
    "       scenesegementedFiles.append(fl)"
   ]
  },
  {
   "cell_type": "code",
   "execution_count": 21,
   "metadata": {},
   "outputs": [],
   "source": [
    "subtitleFiles.sort()\n",
    "scenesegementedFiles.sort()"
   ]
  },
  {
   "cell_type": "code",
   "execution_count": 22,
   "metadata": {},
   "outputs": [],
   "source": [
    "threads='Desktop/TV-series/video/thread_output4_10_10.json'\n",
    "_, shotSeq, shotBondry, _=est.preprocessingEastender(manualScen=manualScen,threads=threads)"
   ]
  },
  {
   "cell_type": "code",
   "execution_count": 23,
   "metadata": {},
   "outputs": [
    {
     "data": {
      "text/plain": [
       "(566, 566, 1.4000000000000001)"
      ]
     },
     "execution_count": 23,
     "metadata": {},
     "output_type": "execute_result"
    }
   ],
   "source": [
    "len(shotBondry),len(shotSeq),shotBondry[0]"
   ]
  },
  {
   "cell_type": "code",
   "execution_count": 24,
   "metadata": {},
   "outputs": [],
   "source": [
    "scenesShotSequence=est.segmentation_speakers(shotSeq,4,3)"
   ]
  },
  {
   "cell_type": "code",
   "execution_count": 25,
   "metadata": {},
   "outputs": [],
   "source": [
    "len(scenesShotSequence)\n",
    "sceneShotBoundry=[]\n",
    "for i in scenesShotSequence:\n",
    "    sceneShotBoundry.append(shotBondry[i])"
   ]
  },
  {
   "cell_type": "code",
   "execution_count": 26,
   "metadata": {},
   "outputs": [
    {
     "data": {
      "text/plain": [
       "121"
      ]
     },
     "execution_count": 26,
     "metadata": {},
     "output_type": "execute_result"
    }
   ],
   "source": [
    "start=sceneShotBoundry\n",
    "start=[0.]+start\n",
    "del start[-1]\n",
    "len(start)"
   ]
  },
  {
   "cell_type": "code",
   "execution_count": 27,
   "metadata": {},
   "outputs": [],
   "source": [
    "episodeTVM=stv.episodTruthValueMan(scenesegementedFile=scenesegementedFiles[3],subtitleFile=subtitleFiles[3])"
   ]
  },
  {
   "cell_type": "code",
   "execution_count": 28,
   "metadata": {},
   "outputs": [
    {
     "data": {
      "text/plain": [
       "947"
      ]
     },
     "execution_count": 28,
     "metadata": {},
     "output_type": "execute_result"
    }
   ],
   "source": [
    "len(episodeTVM)"
   ]
  },
  {
   "cell_type": "code",
   "execution_count": 29,
   "metadata": {},
   "outputs": [],
   "source": [
    "episodesTVA=stv.episodTruthValueShot(scene_start=start,scene_end=sceneShotBoundry,subtitleFile=subtitleFiles[3])"
   ]
  },
  {
   "cell_type": "code",
   "execution_count": 30,
   "metadata": {},
   "outputs": [
    {
     "data": {
      "text/plain": [
       "1102"
      ]
     },
     "execution_count": 30,
     "metadata": {},
     "output_type": "execute_result"
    }
   ],
   "source": [
    "len(episodesTVA)"
   ]
  },
  {
   "cell_type": "code",
   "execution_count": 44,
   "metadata": {},
   "outputs": [],
   "source": [
    "import pickle"
   ]
  },
  {
   "cell_type": "code",
   "execution_count": 31,
   "metadata": {},
   "outputs": [],
   "source": [
    "episodesTVA=[int(i) for i in episodesTVA]\n",
    "episodeTVM=[int(i) for i in episodeTVM]"
   ]
  },
  {
   "cell_type": "code",
   "execution_count": 48,
   "metadata": {},
   "outputs": [],
   "source": [
    "with open(\"b.txt\", \"wb\") as fp:   #Pickling\n",
    "    pickle.dump(episodeTVM, fp)"
   ]
  },
  {
   "cell_type": "code",
   "execution_count": 285,
   "metadata": {},
   "outputs": [],
   "source": [
    "K=(len(episodeTVM)/(2*(episodeTVM.count(1))))"
   ]
  },
  {
   "cell_type": "code",
   "execution_count": 286,
   "metadata": {},
   "outputs": [],
   "source": [
    "windiffSHot=round(est.windowdiff(episodeTVM,episodesTVA,k=K,boundary=1),2)\n",
    "\n",
    "pkShot=round(est.pk(episodeTVM,episodesTVA,k=K,boundary=1),2)\n",
    "ss=episodesTVA\n",
    "ss1=episodeTVM\n",
    "if len(ss)<len(ss1):\n",
    "    t=ss1[0:len(ss)]\n",
    "    shotRec=round(est.recall_score(ss,t),2)\n",
    "    shotPr=round(est.precision_score(ss,t),2)\n",
    "else:\n",
    "    t=ss[0:len(ss1)]\n",
    "    shotRec=round(est.recall_score(ss1,t),2)\n",
    "    shotPr=round(est.precision_score(ss1,t),2)"
   ]
  },
  {
   "cell_type": "code",
   "execution_count": 287,
   "metadata": {},
   "outputs": [
    {
     "data": {
      "text/plain": [
       "(1.53, 0.58, 0.23, 0.07)"
      ]
     },
     "execution_count": 287,
     "metadata": {},
     "output_type": "execute_result"
    }
   ],
   "source": [
    "windiffSHot,pkShot,shotRec,shotPr"
   ]
  },
  {
   "cell_type": "code",
   "execution_count": 115,
   "metadata": {},
   "outputs": [
    {
     "data": {
      "text/plain": [
       "9"
      ]
     },
     "execution_count": 115,
     "metadata": {},
     "output_type": "execute_result"
    }
   ],
   "source": [
    "K"
   ]
  },
  {
   "cell_type": "markdown",
   "metadata": {},
   "source": [
    "TrecVed"
   ]
  },
  {
   "cell_type": "code",
   "execution_count": 18,
   "metadata": {},
   "outputs": [],
   "source": [
    "roundedBoundry=pd.read_csv('Desktop/TrecVid/roundedBoundry.txt',sep='\\t',header=None)"
   ]
  },
  {
   "cell_type": "code",
   "execution_count": 19,
   "metadata": {},
   "outputs": [
    {
     "data": {
      "text/plain": [
       "Int64Index([0, 1, 2], dtype='int64')"
      ]
     },
     "execution_count": 19,
     "metadata": {},
     "output_type": "execute_result"
    }
   ],
   "source": [
    "roundedBoundry.columns"
   ]
  },
  {
   "cell_type": "code",
   "execution_count": 20,
   "metadata": {},
   "outputs": [],
   "source": [
    "roundedmanualBoundry=list(roundedBoundry[2])"
   ]
  },
  {
   "cell_type": "code",
   "execution_count": 21,
   "metadata": {},
   "outputs": [],
   "source": [
    "truthValueSpeakerSequence=truthValueNew(sceneSpeakerBoundry)"
   ]
  },
  {
   "cell_type": "code",
   "execution_count": 22,
   "metadata": {},
   "outputs": [],
   "source": [
    "truthValueShotSequence,ii,po=shotTruthValue(data1,sceneShotBoundry)"
   ]
  },
  {
   "cell_type": "code",
   "execution_count": 23,
   "metadata": {},
   "outputs": [],
   "source": [
    "truthValueManualSegmentation=truthValueNew(roundedmanualBoundry)"
   ]
  },
  {
   "cell_type": "code",
   "execution_count": 24,
   "metadata": {},
   "outputs": [],
   "source": [
    "truthValueManualSegmentationShot,JJ,p=shotTruthValue(data1,roundedmanualBoundry)"
   ]
  },
  {
   "cell_type": "code",
   "execution_count": 25,
   "metadata": {},
   "outputs": [
    {
     "data": {
      "text/plain": [
       "(135, 2937, 217, 1650, 2951, 1604)"
      ]
     },
     "execution_count": 25,
     "metadata": {},
     "output_type": "execute_result"
    }
   ],
   "source": [
    "len(sceneSpeakerBoundry),len(truthValueSpeakerSequence),len(sceneShotBoundry),len(truthValueShotSequence),len(truthValueManualSegmentation),len(truthValueManualSegmentationShot)"
   ]
  },
  {
   "cell_type": "code",
   "execution_count": 26,
   "metadata": {},
   "outputs": [],
   "source": [
    "truthValueManualSegmentation=[int(i) for i in truthValueManualSegmentation]\n",
    "truthValueSpeakerSequence=[int(i) for i in truthValueSpeakerSequence]"
   ]
  },
  {
   "cell_type": "code",
   "execution_count": 27,
   "metadata": {},
   "outputs": [
    {
     "data": {
      "text/plain": [
       "0.0"
      ]
     },
     "execution_count": 27,
     "metadata": {},
     "output_type": "execute_result"
    }
   ],
   "source": [
    "round(est.windowdiff(truthValueManualSegmentation,truthValueSpeakerSequence,k=3,boundary='1'),2)"
   ]
  },
  {
   "cell_type": "code",
   "execution_count": 28,
   "metadata": {},
   "outputs": [],
   "source": [
    "t1=truthValueShotSequence[0:len(truthValueManualSegmentationShot)]"
   ]
  },
  {
   "cell_type": "code",
   "execution_count": 29,
   "metadata": {},
   "outputs": [],
   "source": [
    "t1=[str(i) for i in t1]\n",
    "truthValueManualSegmentationShot=[str(i) for i in truthValueManualSegmentationShot]"
   ]
  },
  {
   "cell_type": "code",
   "execution_count": 30,
   "metadata": {},
   "outputs": [],
   "source": [
    "xlist=[x['segment']['end'] for x in data1['content']]"
   ]
  },
  {
   "cell_type": "code",
   "execution_count": 31,
   "metadata": {},
   "outputs": [
    {
     "data": {
      "text/plain": [
       "(135, 0)"
      ]
     },
     "execution_count": 31,
     "metadata": {},
     "output_type": "execute_result"
    }
   ],
   "source": [
    "truthValueSpeakerSequence.count(1),t1.count(1)"
   ]
  },
  {
   "cell_type": "code",
   "execution_count": 32,
   "metadata": {},
   "outputs": [],
   "source": [
    "t1=[int(x) for x in t1]\n",
    "truthValueManualSegmentationShot=[int(x) for x in truthValueManualSegmentationShot]"
   ]
  },
  {
   "cell_type": "code",
   "execution_count": 33,
   "metadata": {},
   "outputs": [
    {
     "data": {
      "text/plain": [
       "True"
      ]
     },
     "execution_count": 33,
     "metadata": {},
     "output_type": "execute_result"
    }
   ],
   "source": [
    "all(isinstance(n, int) for n in t1)"
   ]
  },
  {
   "cell_type": "code",
   "execution_count": 34,
   "metadata": {},
   "outputs": [
    {
     "data": {
      "text/plain": [
       "0.1694915254237288"
      ]
     },
     "execution_count": 34,
     "metadata": {},
     "output_type": "execute_result"
    }
   ],
   "source": [
    "est.recall_score(truthValueManualSegmentationShot,t1)"
   ]
  },
  {
   "cell_type": "code",
   "execution_count": 35,
   "metadata": {},
   "outputs": [
    {
     "data": {
      "text/plain": [
       "0.0"
      ]
     },
     "execution_count": 35,
     "metadata": {},
     "output_type": "execute_result"
    }
   ],
   "source": [
    "round(est.windowdiff(truthValueManualSegmentation,truthValueManualSegmentationShot,k=3,boundary='1'),2)"
   ]
  },
  {
   "cell_type": "code",
   "execution_count": 36,
   "metadata": {},
   "outputs": [],
   "source": [
    "print(truthValueManualSegmentation[0:30])"
   ]
  },
  {
   "cell_type": "code",
   "execution_count": 37,
   "metadata": {},
   "outputs": [],
   "source": [
    "ls=[x+1 for x in xlist if x<=roundedmanualBoundry[117] and x>=roundedmanualBoundry[116] ]"
   ]
  },
  {
   "cell_type": "code",
   "execution_count": 38,
   "metadata": {},
   "outputs": [
    {
     "data": {
      "text/plain": [
       "43"
      ]
     },
     "execution_count": 38,
     "metadata": {},
     "output_type": "execute_result"
    }
   ],
   "source": [
    "len(ls)"
   ]
  },
  {
   "cell_type": "code",
   "execution_count": 39,
   "metadata": {},
   "outputs": [
    {
     "data": {
      "text/plain": [
       "(2951, 1604, 118)"
      ]
     },
     "execution_count": 39,
     "metadata": {},
     "output_type": "execute_result"
    }
   ],
   "source": [
    "len(truthValueManualSegmentation),len(truthValueManualSegmentationShot),len(manualBoundry)"
   ]
  },
  {
   "cell_type": "code",
   "execution_count": 40,
   "metadata": {},
   "outputs": [
    {
     "data": {
      "text/plain": [
       "(3, 10)"
      ]
     },
     "execution_count": 40,
     "metadata": {},
     "output_type": "execute_result"
    }
   ],
   "source": [
    "kShot=len(shotSeq)/(2*len(scenesShotSequence))\n",
    "kSpeaker=len(SpeakerSequence)/(2*len(scenes))\n",
    "#kTexttiling=len(textSent)/(2*boundryTexttiling.count(1))\n",
    "#kC99=len(textSent)/(2*boundryC99.count(1))\n",
    "kShot, kSpeaker#, kTexttiling, kC99"
   ]
  },
  {
   "cell_type": "code",
   "execution_count": 41,
   "metadata": {},
   "outputs": [
    {
     "data": {
      "text/plain": [
       "(0.0, 0.0)"
      ]
     },
     "execution_count": 41,
     "metadata": {},
     "output_type": "execute_result"
    }
   ],
   "source": [
    "pkResultShot=est.pk(truthValueManualSegmentationShot,truthValueShotSequence,k=kShot,boundary='1')\n",
    "pkResultSpeaker=est.pk(truthValueManualSegmentation,truthValueSpeakerSequence,k=kSpeaker,boundary='1')\n",
    "#pkTexttiling=est.pk(truthValueManualSegmentation,boundryTexttiling,k=kTexttiling,boundary='1')\n",
    "#pkC99=est.pk(truthValueManualSegmentation,boundryC99,k=kC99,boundary='1')\n",
    "\n",
    "pkResultShot,pkResultSpeaker#,pkTexttiling,pkC99"
   ]
  },
  {
   "cell_type": "code",
   "execution_count": 42,
   "metadata": {},
   "outputs": [
    {
     "data": {
      "text/plain": [
       "(0.0, 0.0)"
      ]
     },
     "execution_count": 42,
     "metadata": {},
     "output_type": "execute_result"
    }
   ],
   "source": [
    "windiffSHot=est.windowdiff(truthValueManualSegmentationShot,truthValueShotSequence,k=kShot,boundary='1')\n",
    "windiffSpeaker=est.windowdiff(truthValueManualSegmentation,truthValueSpeakerSequence,k=kSpeaker,boundary='1')\n",
    "#windowdiffText=est.windowdiff(truthValueManualSegmentation,boundryTexttiling,k=kTexttiling,boundary='1')\n",
    "#windiffC99=est.windowdiff(truthValueManualSegmentation,boundryC99,k=kC99,boundary='1')\n",
    "windiffSHot,windiffSpeaker#,windowdiffText,windiffC99"
   ]
  },
  {
   "cell_type": "code",
   "execution_count": 48,
   "metadata": {},
   "outputs": [],
   "source": [
    "def precision(ref, hyp, k=10):\n",
    "    if len(hyp)>k:\n",
    "        hyp = hyp[:k]\n",
    "\n",
    "    score = 0.0\n",
    "    num_hits = 0.0\n",
    "\n",
    "    for i,p in enumerate(hyp):\n",
    "        if p in ref and p not in hyp[:i]:\n",
    "            num_hits += 1.0\n",
    "            score += num_hits / (i+1.0)\n",
    "\n",
    "    if not ref:\n",
    "        return 0.0\n",
    "\n",
    "    return score / min(len(ref), k)"
   ]
  },
  {
   "cell_type": "code",
   "execution_count": 49,
   "metadata": {},
   "outputs": [],
   "source": [
    "def recall(ref, hyp):\n",
    "    tp =0\n",
    "    fp = 0\n",
    "    length=0\n",
    "    if len(ref)>len(hyp):\n",
    "        lenght=len(hyp)\n",
    "    else:\n",
    "        length=len(ref)\n",
    "        \n",
    "    for i in range(length):\n",
    "        if hyp[i] == '1':\n",
    "            if ref[i] == '1':\n",
    "                tp += 1\n",
    "            else:\n",
    "                fp +=1\n",
    "\n",
    "    tn =0\n",
    "    fn = 0\n",
    "    for i in range(length):\n",
    "        if hyp[i] == '0':\n",
    "            if ref[i] == '0':\n",
    "                tn += 1\n",
    "            else:\n",
    "                fn +=1\n",
    "    if (tp!=0 or fn!=0):\n",
    "        return (tp/float((tp+fn)))\n",
    "    else:\n",
    "        return 0"
   ]
  },
  {
   "cell_type": "code",
   "execution_count": 39,
   "metadata": {},
   "outputs": [
    {
     "ename": "NameError",
     "evalue": "name 'truthValueManualSegmentationShot' is not defined",
     "output_type": "error",
     "traceback": [
      "\u001b[0;31m---------------------------------------------------------------------------\u001b[0m",
      "\u001b[0;31mNameError\u001b[0m                                 Traceback (most recent call last)",
      "\u001b[0;32m<ipython-input-39-48d577dad260>\u001b[0m in \u001b[0;36m<module>\u001b[0;34m()\u001b[0m\n\u001b[0;32m----> 1\u001b[0;31m \u001b[0mrecall\u001b[0m\u001b[0;34m(\u001b[0m\u001b[0mtruthValueManualSegmentationShot\u001b[0m\u001b[0;34m,\u001b[0m\u001b[0mtruthValueShotSequence\u001b[0m\u001b[0;34m)\u001b[0m\u001b[0;34m\u001b[0m\u001b[0m\n\u001b[0m",
      "\u001b[0;31mNameError\u001b[0m: name 'truthValueManualSegmentationShot' is not defined"
     ]
    }
   ],
   "source": [
    "recall(truthValueManualSegmentationShot,truthValueShotSequence)"
   ]
  },
  {
   "cell_type": "code",
   "execution_count": 46,
   "metadata": {},
   "outputs": [
    {
     "data": {
      "text/plain": [
       "0"
      ]
     },
     "execution_count": 46,
     "metadata": {},
     "output_type": "execute_result"
    }
   ],
   "source": [
    "recall(truthValueSpeakerSequence,truthValueManualSegmentationShot)"
   ]
  },
  {
   "cell_type": "code",
   "execution_count": 47,
   "metadata": {},
   "outputs": [
    {
     "data": {
      "text/plain": [
       "([0, 1, 0, 0, 0, 1, 0, 0, 0, 1], [1, 0, 0, 0, 0, 0, 0, 0, 0, 0])"
      ]
     },
     "execution_count": 47,
     "metadata": {},
     "output_type": "execute_result"
    }
   ],
   "source": [
    "truthValueShotSequence[0:10],truthValueManualSegmentation[0:10]"
   ]
  },
  {
   "cell_type": "code",
   "execution_count": 48,
   "metadata": {},
   "outputs": [],
   "source": [
    "kvaluies=[]\n",
    "cvalues=[]\n",
    "windiffSHotA=[]\n",
    "windiffSpeakerA=[]\n",
    "pkShotA=[]\n",
    "pkSpeakerA=[]\n",
    "recallShot=[]\n",
    "recallSpeaker=[]\n",
    "metRecA=[]\n",
    "metPrA=[]\n",
    "shotRecA=[]\n",
    "shotPrA=[]\n",
    "sceneShot=[]\n",
    "sceneSP=[]\n",
    "for k in range(4, 15):\n",
    "    for c in range(3,11):\n",
    "        if c<k:\n",
    "            scenesShotSequence=est.segmentation_speakers(shotSeq,k,c)\n",
    "            scenes=est.segmentation_speakers(SpeakerSequence,k, c)\n",
    "            sceneShotBoundry=[]\n",
    "            for i in scenesShotSequence:\n",
    "                sceneShotBoundry.append(shotBondry[i])\n",
    "            truthValueShotSequence,_=est.shotTruthValue(data1,sceneShotBoundry)\n",
    "            truthValueSpeakerSequence=truthValueNew(scenes)\n",
    "            kShot=len(shotSeq)/(2*len(scenesShotSequence))\n",
    "            kSpeaker=len(SpeakerSequence)/(2*len(scenes))\n",
    "            windiffSHot=round(est.windowdiff(truthValueManualSegmentationShot,truthValueShotSequence,k=kShot,boundary='1'),2)\n",
    "            #windiffSpeaker=round(est.windowdiff(truthValueManualSegmentation,truthValueSpeakerSequence,k=kSpeaker,boundary='1'),2)\n",
    "            pkShot=round(est.pk(truthValueManualSegmentationShot,truthValueShotSequence,k=kShot,boundary='1'),2)\n",
    "            recallshot=round(recall(truthValueManualSegmentationShot,truthValueShotSequence),2)\n",
    "            recallspeaker=round(recall(truthValueManualSegmentation,truthValueSpeakerSequence),2)\n",
    "            \n",
    "            if len(truthValueSpeakerSequence)<len(truthValueManualSegmentation):\n",
    "                t=truthValueManualSegmentation[0:len(truthValueSpeakerSequence)]\n",
    "                metRec=round(est.recall_score(t,truthValueSpeakerSequence),2)\n",
    "                metPr=round(est.precision_score(t,truthValueSpeakerSequence),2)\n",
    "            else:\n",
    "                t=truthValueSpeakerSequence[0:len(truthValueManualSegmentation)]\n",
    "                metRec=round(est.recall_score(truthValueManualSegmentation,t),2)\n",
    "                metPr=round(est.precision_score(truthValueManualSegmentation,t),2)\n",
    "            \n",
    "            ss=[int(i) for i in truthValueShotSequence]\n",
    "            ss1=[int(i) for i in truthValueManualSegmentationShot]\n",
    "            if len(ss)<len(ss1):\n",
    "                t=ss1[0:len(ss)]\n",
    "                shotRec=round(est.recall_score(t,ss),2)\n",
    "                shotPr=round(est.precision_score(t,ss),2)\n",
    "            else:\n",
    "                t=ss[0:len(ss1)]\n",
    "                shotRec=round(est.recall_score(ss1,t),2)\n",
    "                shotPr=round(est.precision_score(ss1,t),2)\n",
    "            \n",
    "            tt=[str(i) for i in truthValueManualSegmentation]\n",
    "            tt1=[str(i) for i in truthValueSpeakerSequence]\n",
    "            \n",
    "            windiffSpeaker=round(est.windowdiff(tt1,tt,k=kSpeaker,boundary='1'),2)\n",
    "            pkSpeaker=round(est.pk(tt1,tt,k=kSpeaker,boundary='1'),2)\n",
    "            #metRec=est.recall_score(truthValueManualSegmentation,truthValueSpeakerSequence)\n",
    "            #metPr=est.precision_score(truthValueManualSegmentation,truthValueSpeakerSequence)\n",
    "            \n",
    "            kvaluies.append(k)\n",
    "            cvalues.append(c)\n",
    "            windiffSHotA.append(windiffSHot)\n",
    "            windiffSpeakerA.append(windiffSpeaker)\n",
    "            pkShotA.append(pkShot)\n",
    "            pkSpeakerA.append(pkSpeaker)\n",
    "            recallShot.append(recallshot)\n",
    "            recallSpeaker.append(recallspeaker)\n",
    "            metRecA.append(metRec)\n",
    "            metPrA.append(metPr)\n",
    "            shotRecA.append(shotRec)\n",
    "            shotPrA.append(shotPr)\n",
    "            sceneShot.append(len(scenesShotSequence))\n",
    "            sceneSP.append(len(scenes))\n",
    "        else:\n",
    "            print k\n",
    "            break"
   ]
  },
  {
   "cell_type": "code",
   "execution_count": null,
   "metadata": {},
   "outputs": [],
   "source": []
  },
  {
   "cell_type": "code",
   "execution_count": 49,
   "metadata": {},
   "outputs": [],
   "source": [
    "resulDF=pd.DataFrame()"
   ]
  },
  {
   "cell_type": "code",
   "execution_count": 50,
   "metadata": {},
   "outputs": [],
   "source": [
    "#resulDF['K']=kvaluies\n",
    "resulDF['C']=cvalues\n",
    "resulDF['wdSH']=windiffSHotA\n",
    "resulDF['pkSh']=pkShotA\n",
    "resulDF['wdSP']=windiffSpeakerA\n",
    "resulDF['pkSP']=pkSpeakerA\n",
    "#resulDF['rSh']=recallShot\n",
    "resulDF['spRec']=metRecA\n",
    "resulDF['spPr']=metPrA\n",
    "resulDF['shotRec']=shotRecA\n",
    "resulDF['shotPr']=shotPrA\n",
    "resulDF['sceneShot']=sceneShot\n",
    "resulDF['sceneSP']=sceneSP"
   ]
  },
  {
   "cell_type": "code",
   "execution_count": 51,
   "metadata": {},
   "outputs": [],
   "source": [
    "resulDF=resulDF.round(2)"
   ]
  },
  {
   "cell_type": "code",
   "execution_count": 52,
   "metadata": {},
   "outputs": [
    {
     "data": {
      "text/html": [
       "<div>\n",
       "<style scoped>\n",
       "    .dataframe tbody tr th:only-of-type {\n",
       "        vertical-align: middle;\n",
       "    }\n",
       "\n",
       "    .dataframe tbody tr th {\n",
       "        vertical-align: top;\n",
       "    }\n",
       "\n",
       "    .dataframe thead th {\n",
       "        text-align: right;\n",
       "    }\n",
       "</style>\n",
       "<table border=\"1\" class=\"dataframe\">\n",
       "  <thead>\n",
       "    <tr style=\"text-align: right;\">\n",
       "      <th></th>\n",
       "      <th>C</th>\n",
       "      <th>wdSH</th>\n",
       "      <th>pkSh</th>\n",
       "      <th>wdSP</th>\n",
       "      <th>pkSP</th>\n",
       "      <th>spRec</th>\n",
       "      <th>spPr</th>\n",
       "      <th>shotRec</th>\n",
       "      <th>shotPr</th>\n",
       "      <th>sceneShot</th>\n",
       "      <th>sceneSP</th>\n",
       "    </tr>\n",
       "  </thead>\n",
       "  <tbody>\n",
       "    <tr>\n",
       "      <th>0</th>\n",
       "      <td>3</td>\n",
       "      <td>2.21</td>\n",
       "      <td>0.96</td>\n",
       "      <td>0.90</td>\n",
       "      <td>0.52</td>\n",
       "      <td>0.45</td>\n",
       "      <td>0.15</td>\n",
       "      <td>0.26</td>\n",
       "      <td>0.10</td>\n",
       "      <td>340</td>\n",
       "      <td>152</td>\n",
       "    </tr>\n",
       "    <tr>\n",
       "      <th>1</th>\n",
       "      <td>3</td>\n",
       "      <td>2.14</td>\n",
       "      <td>0.96</td>\n",
       "      <td>0.93</td>\n",
       "      <td>0.50</td>\n",
       "      <td>0.46</td>\n",
       "      <td>0.16</td>\n",
       "      <td>0.25</td>\n",
       "      <td>0.09</td>\n",
       "      <td>329</td>\n",
       "      <td>147</td>\n",
       "    </tr>\n",
       "    <tr>\n",
       "      <th>2</th>\n",
       "      <td>4</td>\n",
       "      <td>1.45</td>\n",
       "      <td>0.89</td>\n",
       "      <td>0.76</td>\n",
       "      <td>0.45</td>\n",
       "      <td>0.39</td>\n",
       "      <td>0.20</td>\n",
       "      <td>0.16</td>\n",
       "      <td>0.09</td>\n",
       "      <td>225</td>\n",
       "      <td>99</td>\n",
       "    </tr>\n",
       "    <tr>\n",
       "      <th>3</th>\n",
       "      <td>3</td>\n",
       "      <td>2.10</td>\n",
       "      <td>0.95</td>\n",
       "      <td>0.88</td>\n",
       "      <td>0.50</td>\n",
       "      <td>0.38</td>\n",
       "      <td>0.13</td>\n",
       "      <td>0.24</td>\n",
       "      <td>0.09</td>\n",
       "      <td>323</td>\n",
       "      <td>141</td>\n",
       "    </tr>\n",
       "    <tr>\n",
       "      <th>4</th>\n",
       "      <td>4</td>\n",
       "      <td>1.41</td>\n",
       "      <td>0.89</td>\n",
       "      <td>0.79</td>\n",
       "      <td>0.44</td>\n",
       "      <td>0.36</td>\n",
       "      <td>0.19</td>\n",
       "      <td>0.14</td>\n",
       "      <td>0.08</td>\n",
       "      <td>219</td>\n",
       "      <td>95</td>\n",
       "    </tr>\n",
       "    <tr>\n",
       "      <th>5</th>\n",
       "      <td>5</td>\n",
       "      <td>1.14</td>\n",
       "      <td>0.82</td>\n",
       "      <td>0.70</td>\n",
       "      <td>0.39</td>\n",
       "      <td>0.29</td>\n",
       "      <td>0.21</td>\n",
       "      <td>0.14</td>\n",
       "      <td>0.10</td>\n",
       "      <td>176</td>\n",
       "      <td>73</td>\n",
       "    </tr>\n",
       "    <tr>\n",
       "      <th>6</th>\n",
       "      <td>3</td>\n",
       "      <td>2.09</td>\n",
       "      <td>0.95</td>\n",
       "      <td>0.85</td>\n",
       "      <td>0.50</td>\n",
       "      <td>0.38</td>\n",
       "      <td>0.14</td>\n",
       "      <td>0.23</td>\n",
       "      <td>0.09</td>\n",
       "      <td>322</td>\n",
       "      <td>135</td>\n",
       "    </tr>\n",
       "    <tr>\n",
       "      <th>7</th>\n",
       "      <td>4</td>\n",
       "      <td>1.40</td>\n",
       "      <td>0.89</td>\n",
       "      <td>0.78</td>\n",
       "      <td>0.42</td>\n",
       "      <td>0.36</td>\n",
       "      <td>0.20</td>\n",
       "      <td>0.14</td>\n",
       "      <td>0.08</td>\n",
       "      <td>217</td>\n",
       "      <td>92</td>\n",
       "    </tr>\n",
       "    <tr>\n",
       "      <th>8</th>\n",
       "      <td>5</td>\n",
       "      <td>1.09</td>\n",
       "      <td>0.79</td>\n",
       "      <td>0.71</td>\n",
       "      <td>0.40</td>\n",
       "      <td>0.24</td>\n",
       "      <td>0.17</td>\n",
       "      <td>0.15</td>\n",
       "      <td>0.11</td>\n",
       "      <td>170</td>\n",
       "      <td>71</td>\n",
       "    </tr>\n",
       "    <tr>\n",
       "      <th>9</th>\n",
       "      <td>6</td>\n",
       "      <td>0.85</td>\n",
       "      <td>0.69</td>\n",
       "      <td>0.65</td>\n",
       "      <td>0.28</td>\n",
       "      <td>0.16</td>\n",
       "      <td>0.15</td>\n",
       "      <td>0.09</td>\n",
       "      <td>0.09</td>\n",
       "      <td>133</td>\n",
       "      <td>55</td>\n",
       "    </tr>\n",
       "    <tr>\n",
       "      <th>10</th>\n",
       "      <td>3</td>\n",
       "      <td>2.09</td>\n",
       "      <td>0.94</td>\n",
       "      <td>0.89</td>\n",
       "      <td>0.49</td>\n",
       "      <td>0.38</td>\n",
       "      <td>0.15</td>\n",
       "      <td>0.23</td>\n",
       "      <td>0.09</td>\n",
       "      <td>322</td>\n",
       "      <td>131</td>\n",
       "    </tr>\n",
       "    <tr>\n",
       "      <th>11</th>\n",
       "      <td>4</td>\n",
       "      <td>1.39</td>\n",
       "      <td>0.88</td>\n",
       "      <td>0.76</td>\n",
       "      <td>0.41</td>\n",
       "      <td>0.38</td>\n",
       "      <td>0.20</td>\n",
       "      <td>0.15</td>\n",
       "      <td>0.09</td>\n",
       "      <td>216</td>\n",
       "      <td>93</td>\n",
       "    </tr>\n",
       "    <tr>\n",
       "      <th>12</th>\n",
       "      <td>5</td>\n",
       "      <td>1.09</td>\n",
       "      <td>0.79</td>\n",
       "      <td>0.71</td>\n",
       "      <td>0.41</td>\n",
       "      <td>0.24</td>\n",
       "      <td>0.17</td>\n",
       "      <td>0.14</td>\n",
       "      <td>0.10</td>\n",
       "      <td>169</td>\n",
       "      <td>71</td>\n",
       "    </tr>\n",
       "    <tr>\n",
       "      <th>13</th>\n",
       "      <td>6</td>\n",
       "      <td>0.85</td>\n",
       "      <td>0.69</td>\n",
       "      <td>0.62</td>\n",
       "      <td>0.26</td>\n",
       "      <td>0.16</td>\n",
       "      <td>0.15</td>\n",
       "      <td>0.10</td>\n",
       "      <td>0.10</td>\n",
       "      <td>133</td>\n",
       "      <td>54</td>\n",
       "    </tr>\n",
       "    <tr>\n",
       "      <th>14</th>\n",
       "      <td>7</td>\n",
       "      <td>0.70</td>\n",
       "      <td>0.60</td>\n",
       "      <td>0.66</td>\n",
       "      <td>0.21</td>\n",
       "      <td>0.20</td>\n",
       "      <td>0.22</td>\n",
       "      <td>0.10</td>\n",
       "      <td>0.12</td>\n",
       "      <td>110</td>\n",
       "      <td>46</td>\n",
       "    </tr>\n",
       "    <tr>\n",
       "      <th>15</th>\n",
       "      <td>3</td>\n",
       "      <td>2.06</td>\n",
       "      <td>0.94</td>\n",
       "      <td>0.84</td>\n",
       "      <td>0.46</td>\n",
       "      <td>0.35</td>\n",
       "      <td>0.14</td>\n",
       "      <td>0.22</td>\n",
       "      <td>0.09</td>\n",
       "      <td>318</td>\n",
       "      <td>126</td>\n",
       "    </tr>\n",
       "    <tr>\n",
       "      <th>16</th>\n",
       "      <td>4</td>\n",
       "      <td>1.37</td>\n",
       "      <td>0.88</td>\n",
       "      <td>0.74</td>\n",
       "      <td>0.39</td>\n",
       "      <td>0.36</td>\n",
       "      <td>0.20</td>\n",
       "      <td>0.16</td>\n",
       "      <td>0.09</td>\n",
       "      <td>213</td>\n",
       "      <td>90</td>\n",
       "    </tr>\n",
       "    <tr>\n",
       "      <th>17</th>\n",
       "      <td>5</td>\n",
       "      <td>1.07</td>\n",
       "      <td>0.78</td>\n",
       "      <td>0.71</td>\n",
       "      <td>0.38</td>\n",
       "      <td>0.24</td>\n",
       "      <td>0.17</td>\n",
       "      <td>0.14</td>\n",
       "      <td>0.11</td>\n",
       "      <td>167</td>\n",
       "      <td>69</td>\n",
       "    </tr>\n",
       "    <tr>\n",
       "      <th>18</th>\n",
       "      <td>6</td>\n",
       "      <td>0.85</td>\n",
       "      <td>0.69</td>\n",
       "      <td>0.67</td>\n",
       "      <td>0.28</td>\n",
       "      <td>0.14</td>\n",
       "      <td>0.13</td>\n",
       "      <td>0.10</td>\n",
       "      <td>0.10</td>\n",
       "      <td>133</td>\n",
       "      <td>53</td>\n",
       "    </tr>\n",
       "    <tr>\n",
       "      <th>19</th>\n",
       "      <td>7</td>\n",
       "      <td>0.70</td>\n",
       "      <td>0.60</td>\n",
       "      <td>0.68</td>\n",
       "      <td>0.24</td>\n",
       "      <td>0.20</td>\n",
       "      <td>0.22</td>\n",
       "      <td>0.09</td>\n",
       "      <td>0.11</td>\n",
       "      <td>109</td>\n",
       "      <td>46</td>\n",
       "    </tr>\n",
       "    <tr>\n",
       "      <th>20</th>\n",
       "      <td>8</td>\n",
       "      <td>0.61</td>\n",
       "      <td>0.54</td>\n",
       "      <td>0.74</td>\n",
       "      <td>0.23</td>\n",
       "      <td>0.12</td>\n",
       "      <td>0.14</td>\n",
       "      <td>0.08</td>\n",
       "      <td>0.10</td>\n",
       "      <td>96</td>\n",
       "      <td>42</td>\n",
       "    </tr>\n",
       "    <tr>\n",
       "      <th>21</th>\n",
       "      <td>3</td>\n",
       "      <td>2.06</td>\n",
       "      <td>0.94</td>\n",
       "      <td>0.85</td>\n",
       "      <td>0.48</td>\n",
       "      <td>0.33</td>\n",
       "      <td>0.13</td>\n",
       "      <td>0.23</td>\n",
       "      <td>0.09</td>\n",
       "      <td>318</td>\n",
       "      <td>127</td>\n",
       "    </tr>\n",
       "    <tr>\n",
       "      <th>22</th>\n",
       "      <td>4</td>\n",
       "      <td>1.36</td>\n",
       "      <td>0.87</td>\n",
       "      <td>0.73</td>\n",
       "      <td>0.41</td>\n",
       "      <td>0.35</td>\n",
       "      <td>0.20</td>\n",
       "      <td>0.16</td>\n",
       "      <td>0.10</td>\n",
       "      <td>211</td>\n",
       "      <td>88</td>\n",
       "    </tr>\n",
       "    <tr>\n",
       "      <th>23</th>\n",
       "      <td>5</td>\n",
       "      <td>1.07</td>\n",
       "      <td>0.78</td>\n",
       "      <td>0.71</td>\n",
       "      <td>0.39</td>\n",
       "      <td>0.27</td>\n",
       "      <td>0.21</td>\n",
       "      <td>0.14</td>\n",
       "      <td>0.11</td>\n",
       "      <td>166</td>\n",
       "      <td>68</td>\n",
       "    </tr>\n",
       "    <tr>\n",
       "      <th>24</th>\n",
       "      <td>6</td>\n",
       "      <td>0.85</td>\n",
       "      <td>0.69</td>\n",
       "      <td>0.69</td>\n",
       "      <td>0.27</td>\n",
       "      <td>0.14</td>\n",
       "      <td>0.14</td>\n",
       "      <td>0.09</td>\n",
       "      <td>0.09</td>\n",
       "      <td>132</td>\n",
       "      <td>51</td>\n",
       "    </tr>\n",
       "    <tr>\n",
       "      <th>25</th>\n",
       "      <td>7</td>\n",
       "      <td>0.70</td>\n",
       "      <td>0.60</td>\n",
       "      <td>0.77</td>\n",
       "      <td>0.29</td>\n",
       "      <td>0.18</td>\n",
       "      <td>0.20</td>\n",
       "      <td>0.09</td>\n",
       "      <td>0.11</td>\n",
       "      <td>109</td>\n",
       "      <td>44</td>\n",
       "    </tr>\n",
       "    <tr>\n",
       "      <th>26</th>\n",
       "      <td>8</td>\n",
       "      <td>0.60</td>\n",
       "      <td>0.53</td>\n",
       "      <td>0.72</td>\n",
       "      <td>0.16</td>\n",
       "      <td>0.14</td>\n",
       "      <td>0.17</td>\n",
       "      <td>0.08</td>\n",
       "      <td>0.10</td>\n",
       "      <td>94</td>\n",
       "      <td>41</td>\n",
       "    </tr>\n",
       "    <tr>\n",
       "      <th>27</th>\n",
       "      <td>9</td>\n",
       "      <td>0.52</td>\n",
       "      <td>0.47</td>\n",
       "      <td>0.80</td>\n",
       "      <td>0.15</td>\n",
       "      <td>0.14</td>\n",
       "      <td>0.19</td>\n",
       "      <td>0.07</td>\n",
       "      <td>0.10</td>\n",
       "      <td>82</td>\n",
       "      <td>36</td>\n",
       "    </tr>\n",
       "    <tr>\n",
       "      <th>28</th>\n",
       "      <td>3</td>\n",
       "      <td>2.06</td>\n",
       "      <td>0.94</td>\n",
       "      <td>0.86</td>\n",
       "      <td>0.49</td>\n",
       "      <td>0.35</td>\n",
       "      <td>0.14</td>\n",
       "      <td>0.23</td>\n",
       "      <td>0.09</td>\n",
       "      <td>318</td>\n",
       "      <td>126</td>\n",
       "    </tr>\n",
       "    <tr>\n",
       "      <th>29</th>\n",
       "      <td>4</td>\n",
       "      <td>1.36</td>\n",
       "      <td>0.87</td>\n",
       "      <td>0.73</td>\n",
       "      <td>0.39</td>\n",
       "      <td>0.34</td>\n",
       "      <td>0.20</td>\n",
       "      <td>0.17</td>\n",
       "      <td>0.10</td>\n",
       "      <td>211</td>\n",
       "      <td>87</td>\n",
       "    </tr>\n",
       "    <tr>\n",
       "      <th>30</th>\n",
       "      <td>5</td>\n",
       "      <td>1.07</td>\n",
       "      <td>0.78</td>\n",
       "      <td>0.70</td>\n",
       "      <td>0.37</td>\n",
       "      <td>0.24</td>\n",
       "      <td>0.19</td>\n",
       "      <td>0.15</td>\n",
       "      <td>0.11</td>\n",
       "      <td>166</td>\n",
       "      <td>64</td>\n",
       "    </tr>\n",
       "    <tr>\n",
       "      <th>31</th>\n",
       "      <td>6</td>\n",
       "      <td>0.84</td>\n",
       "      <td>0.68</td>\n",
       "      <td>0.65</td>\n",
       "      <td>0.25</td>\n",
       "      <td>0.14</td>\n",
       "      <td>0.14</td>\n",
       "      <td>0.10</td>\n",
       "      <td>0.10</td>\n",
       "      <td>131</td>\n",
       "      <td>50</td>\n",
       "    </tr>\n",
       "    <tr>\n",
       "      <th>32</th>\n",
       "      <td>7</td>\n",
       "      <td>0.69</td>\n",
       "      <td>0.59</td>\n",
       "      <td>0.74</td>\n",
       "      <td>0.26</td>\n",
       "      <td>0.20</td>\n",
       "      <td>0.23</td>\n",
       "      <td>0.09</td>\n",
       "      <td>0.11</td>\n",
       "      <td>108</td>\n",
       "      <td>43</td>\n",
       "    </tr>\n",
       "    <tr>\n",
       "      <th>33</th>\n",
       "      <td>8</td>\n",
       "      <td>0.59</td>\n",
       "      <td>0.52</td>\n",
       "      <td>0.74</td>\n",
       "      <td>0.16</td>\n",
       "      <td>0.14</td>\n",
       "      <td>0.17</td>\n",
       "      <td>0.08</td>\n",
       "      <td>0.10</td>\n",
       "      <td>93</td>\n",
       "      <td>40</td>\n",
       "    </tr>\n",
       "    <tr>\n",
       "      <th>34</th>\n",
       "      <td>9</td>\n",
       "      <td>0.52</td>\n",
       "      <td>0.47</td>\n",
       "      <td>0.86</td>\n",
       "      <td>0.17</td>\n",
       "      <td>0.14</td>\n",
       "      <td>0.20</td>\n",
       "      <td>0.07</td>\n",
       "      <td>0.11</td>\n",
       "      <td>81</td>\n",
       "      <td>35</td>\n",
       "    </tr>\n",
       "    <tr>\n",
       "      <th>35</th>\n",
       "      <td>10</td>\n",
       "      <td>0.45</td>\n",
       "      <td>0.41</td>\n",
       "      <td>0.95</td>\n",
       "      <td>0.12</td>\n",
       "      <td>0.12</td>\n",
       "      <td>0.20</td>\n",
       "      <td>0.06</td>\n",
       "      <td>0.10</td>\n",
       "      <td>71</td>\n",
       "      <td>30</td>\n",
       "    </tr>\n",
       "    <tr>\n",
       "      <th>36</th>\n",
       "      <td>3</td>\n",
       "      <td>2.05</td>\n",
       "      <td>0.94</td>\n",
       "      <td>0.86</td>\n",
       "      <td>0.45</td>\n",
       "      <td>0.39</td>\n",
       "      <td>0.16</td>\n",
       "      <td>0.23</td>\n",
       "      <td>0.09</td>\n",
       "      <td>316</td>\n",
       "      <td>122</td>\n",
       "    </tr>\n",
       "    <tr>\n",
       "      <th>37</th>\n",
       "      <td>4</td>\n",
       "      <td>1.36</td>\n",
       "      <td>0.87</td>\n",
       "      <td>0.78</td>\n",
       "      <td>0.41</td>\n",
       "      <td>0.32</td>\n",
       "      <td>0.19</td>\n",
       "      <td>0.16</td>\n",
       "      <td>0.10</td>\n",
       "      <td>212</td>\n",
       "      <td>85</td>\n",
       "    </tr>\n",
       "    <tr>\n",
       "      <th>38</th>\n",
       "      <td>5</td>\n",
       "      <td>1.07</td>\n",
       "      <td>0.78</td>\n",
       "      <td>0.71</td>\n",
       "      <td>0.36</td>\n",
       "      <td>0.30</td>\n",
       "      <td>0.24</td>\n",
       "      <td>0.14</td>\n",
       "      <td>0.11</td>\n",
       "      <td>166</td>\n",
       "      <td>63</td>\n",
       "    </tr>\n",
       "    <tr>\n",
       "      <th>39</th>\n",
       "      <td>6</td>\n",
       "      <td>0.83</td>\n",
       "      <td>0.68</td>\n",
       "      <td>0.68</td>\n",
       "      <td>0.28</td>\n",
       "      <td>0.14</td>\n",
       "      <td>0.14</td>\n",
       "      <td>0.10</td>\n",
       "      <td>0.10</td>\n",
       "      <td>130</td>\n",
       "      <td>50</td>\n",
       "    </tr>\n",
       "    <tr>\n",
       "      <th>40</th>\n",
       "      <td>7</td>\n",
       "      <td>0.69</td>\n",
       "      <td>0.59</td>\n",
       "      <td>0.78</td>\n",
       "      <td>0.25</td>\n",
       "      <td>0.18</td>\n",
       "      <td>0.21</td>\n",
       "      <td>0.10</td>\n",
       "      <td>0.12</td>\n",
       "      <td>108</td>\n",
       "      <td>43</td>\n",
       "    </tr>\n",
       "    <tr>\n",
       "      <th>41</th>\n",
       "      <td>8</td>\n",
       "      <td>0.59</td>\n",
       "      <td>0.52</td>\n",
       "      <td>0.79</td>\n",
       "      <td>0.16</td>\n",
       "      <td>0.14</td>\n",
       "      <td>0.18</td>\n",
       "      <td>0.08</td>\n",
       "      <td>0.10</td>\n",
       "      <td>93</td>\n",
       "      <td>38</td>\n",
       "    </tr>\n",
       "    <tr>\n",
       "      <th>42</th>\n",
       "      <td>9</td>\n",
       "      <td>0.52</td>\n",
       "      <td>0.47</td>\n",
       "      <td>0.97</td>\n",
       "      <td>0.17</td>\n",
       "      <td>0.12</td>\n",
       "      <td>0.19</td>\n",
       "      <td>0.07</td>\n",
       "      <td>0.11</td>\n",
       "      <td>81</td>\n",
       "      <td>32</td>\n",
       "    </tr>\n",
       "    <tr>\n",
       "      <th>43</th>\n",
       "      <td>10</td>\n",
       "      <td>0.45</td>\n",
       "      <td>0.41</td>\n",
       "      <td>1.08</td>\n",
       "      <td>0.14</td>\n",
       "      <td>0.12</td>\n",
       "      <td>0.21</td>\n",
       "      <td>0.07</td>\n",
       "      <td>0.12</td>\n",
       "      <td>71</td>\n",
       "      <td>29</td>\n",
       "    </tr>\n",
       "    <tr>\n",
       "      <th>44</th>\n",
       "      <td>3</td>\n",
       "      <td>2.05</td>\n",
       "      <td>0.94</td>\n",
       "      <td>0.85</td>\n",
       "      <td>0.46</td>\n",
       "      <td>0.35</td>\n",
       "      <td>0.15</td>\n",
       "      <td>0.23</td>\n",
       "      <td>0.09</td>\n",
       "      <td>316</td>\n",
       "      <td>118</td>\n",
       "    </tr>\n",
       "    <tr>\n",
       "      <th>45</th>\n",
       "      <td>4</td>\n",
       "      <td>1.36</td>\n",
       "      <td>0.87</td>\n",
       "      <td>0.84</td>\n",
       "      <td>0.45</td>\n",
       "      <td>0.30</td>\n",
       "      <td>0.18</td>\n",
       "      <td>0.16</td>\n",
       "      <td>0.10</td>\n",
       "      <td>212</td>\n",
       "      <td>84</td>\n",
       "    </tr>\n",
       "    <tr>\n",
       "      <th>46</th>\n",
       "      <td>5</td>\n",
       "      <td>1.07</td>\n",
       "      <td>0.78</td>\n",
       "      <td>0.73</td>\n",
       "      <td>0.34</td>\n",
       "      <td>0.24</td>\n",
       "      <td>0.20</td>\n",
       "      <td>0.14</td>\n",
       "      <td>0.10</td>\n",
       "      <td>166</td>\n",
       "      <td>59</td>\n",
       "    </tr>\n",
       "    <tr>\n",
       "      <th>47</th>\n",
       "      <td>6</td>\n",
       "      <td>0.83</td>\n",
       "      <td>0.68</td>\n",
       "      <td>0.64</td>\n",
       "      <td>0.26</td>\n",
       "      <td>0.22</td>\n",
       "      <td>0.22</td>\n",
       "      <td>0.10</td>\n",
       "      <td>0.10</td>\n",
       "      <td>129</td>\n",
       "      <td>50</td>\n",
       "    </tr>\n",
       "    <tr>\n",
       "      <th>48</th>\n",
       "      <td>7</td>\n",
       "      <td>0.69</td>\n",
       "      <td>0.59</td>\n",
       "      <td>0.78</td>\n",
       "      <td>0.23</td>\n",
       "      <td>0.16</td>\n",
       "      <td>0.19</td>\n",
       "      <td>0.10</td>\n",
       "      <td>0.12</td>\n",
       "      <td>108</td>\n",
       "      <td>42</td>\n",
       "    </tr>\n",
       "    <tr>\n",
       "      <th>49</th>\n",
       "      <td>8</td>\n",
       "      <td>0.59</td>\n",
       "      <td>0.52</td>\n",
       "      <td>0.84</td>\n",
       "      <td>0.18</td>\n",
       "      <td>0.25</td>\n",
       "      <td>0.35</td>\n",
       "      <td>0.08</td>\n",
       "      <td>0.10</td>\n",
       "      <td>92</td>\n",
       "      <td>37</td>\n",
       "    </tr>\n",
       "    <tr>\n",
       "      <th>50</th>\n",
       "      <td>9</td>\n",
       "      <td>0.52</td>\n",
       "      <td>0.47</td>\n",
       "      <td>0.98</td>\n",
       "      <td>0.17</td>\n",
       "      <td>0.20</td>\n",
       "      <td>0.31</td>\n",
       "      <td>0.07</td>\n",
       "      <td>0.11</td>\n",
       "      <td>81</td>\n",
       "      <td>32</td>\n",
       "    </tr>\n",
       "    <tr>\n",
       "      <th>51</th>\n",
       "      <td>10</td>\n",
       "      <td>0.45</td>\n",
       "      <td>0.41</td>\n",
       "      <td>1.07</td>\n",
       "      <td>0.14</td>\n",
       "      <td>0.10</td>\n",
       "      <td>0.17</td>\n",
       "      <td>0.06</td>\n",
       "      <td>0.10</td>\n",
       "      <td>71</td>\n",
       "      <td>29</td>\n",
       "    </tr>\n",
       "    <tr>\n",
       "      <th>52</th>\n",
       "      <td>3</td>\n",
       "      <td>2.05</td>\n",
       "      <td>0.94</td>\n",
       "      <td>0.84</td>\n",
       "      <td>0.47</td>\n",
       "      <td>0.33</td>\n",
       "      <td>0.15</td>\n",
       "      <td>0.23</td>\n",
       "      <td>0.09</td>\n",
       "      <td>316</td>\n",
       "      <td>116</td>\n",
       "    </tr>\n",
       "    <tr>\n",
       "      <th>53</th>\n",
       "      <td>4</td>\n",
       "      <td>1.36</td>\n",
       "      <td>0.87</td>\n",
       "      <td>0.81</td>\n",
       "      <td>0.42</td>\n",
       "      <td>0.34</td>\n",
       "      <td>0.20</td>\n",
       "      <td>0.16</td>\n",
       "      <td>0.10</td>\n",
       "      <td>212</td>\n",
       "      <td>84</td>\n",
       "    </tr>\n",
       "    <tr>\n",
       "      <th>54</th>\n",
       "      <td>5</td>\n",
       "      <td>1.06</td>\n",
       "      <td>0.78</td>\n",
       "      <td>0.70</td>\n",
       "      <td>0.32</td>\n",
       "      <td>0.25</td>\n",
       "      <td>0.22</td>\n",
       "      <td>0.14</td>\n",
       "      <td>0.11</td>\n",
       "      <td>165</td>\n",
       "      <td>58</td>\n",
       "    </tr>\n",
       "    <tr>\n",
       "      <th>55</th>\n",
       "      <td>6</td>\n",
       "      <td>0.83</td>\n",
       "      <td>0.68</td>\n",
       "      <td>0.65</td>\n",
       "      <td>0.24</td>\n",
       "      <td>0.24</td>\n",
       "      <td>0.24</td>\n",
       "      <td>0.10</td>\n",
       "      <td>0.10</td>\n",
       "      <td>129</td>\n",
       "      <td>50</td>\n",
       "    </tr>\n",
       "    <tr>\n",
       "      <th>56</th>\n",
       "      <td>7</td>\n",
       "      <td>0.69</td>\n",
       "      <td>0.59</td>\n",
       "      <td>0.78</td>\n",
       "      <td>0.17</td>\n",
       "      <td>0.22</td>\n",
       "      <td>0.28</td>\n",
       "      <td>0.10</td>\n",
       "      <td>0.12</td>\n",
       "      <td>108</td>\n",
       "      <td>40</td>\n",
       "    </tr>\n",
       "    <tr>\n",
       "      <th>57</th>\n",
       "      <td>8</td>\n",
       "      <td>0.59</td>\n",
       "      <td>0.52</td>\n",
       "      <td>0.90</td>\n",
       "      <td>0.20</td>\n",
       "      <td>0.22</td>\n",
       "      <td>0.31</td>\n",
       "      <td>0.08</td>\n",
       "      <td>0.10</td>\n",
       "      <td>92</td>\n",
       "      <td>36</td>\n",
       "    </tr>\n",
       "    <tr>\n",
       "      <th>58</th>\n",
       "      <td>9</td>\n",
       "      <td>0.52</td>\n",
       "      <td>0.47</td>\n",
       "      <td>0.93</td>\n",
       "      <td>0.16</td>\n",
       "      <td>0.18</td>\n",
       "      <td>0.28</td>\n",
       "      <td>0.08</td>\n",
       "      <td>0.12</td>\n",
       "      <td>81</td>\n",
       "      <td>32</td>\n",
       "    </tr>\n",
       "    <tr>\n",
       "      <th>59</th>\n",
       "      <td>10</td>\n",
       "      <td>0.45</td>\n",
       "      <td>0.41</td>\n",
       "      <td>1.04</td>\n",
       "      <td>0.14</td>\n",
       "      <td>0.16</td>\n",
       "      <td>0.29</td>\n",
       "      <td>0.06</td>\n",
       "      <td>0.10</td>\n",
       "      <td>71</td>\n",
       "      <td>28</td>\n",
       "    </tr>\n",
       "  </tbody>\n",
       "</table>\n",
       "</div>"
      ],
      "text/plain": [
       "     C  wdSH  pkSh  wdSP  pkSP  spRec  spPr  shotRec  shotPr  sceneShot  \\\n",
       "0    3  2.21  0.96  0.90  0.52   0.45  0.15     0.26    0.10        340   \n",
       "1    3  2.14  0.96  0.93  0.50   0.46  0.16     0.25    0.09        329   \n",
       "2    4  1.45  0.89  0.76  0.45   0.39  0.20     0.16    0.09        225   \n",
       "3    3  2.10  0.95  0.88  0.50   0.38  0.13     0.24    0.09        323   \n",
       "4    4  1.41  0.89  0.79  0.44   0.36  0.19     0.14    0.08        219   \n",
       "5    5  1.14  0.82  0.70  0.39   0.29  0.21     0.14    0.10        176   \n",
       "6    3  2.09  0.95  0.85  0.50   0.38  0.14     0.23    0.09        322   \n",
       "7    4  1.40  0.89  0.78  0.42   0.36  0.20     0.14    0.08        217   \n",
       "8    5  1.09  0.79  0.71  0.40   0.24  0.17     0.15    0.11        170   \n",
       "9    6  0.85  0.69  0.65  0.28   0.16  0.15     0.09    0.09        133   \n",
       "10   3  2.09  0.94  0.89  0.49   0.38  0.15     0.23    0.09        322   \n",
       "11   4  1.39  0.88  0.76  0.41   0.38  0.20     0.15    0.09        216   \n",
       "12   5  1.09  0.79  0.71  0.41   0.24  0.17     0.14    0.10        169   \n",
       "13   6  0.85  0.69  0.62  0.26   0.16  0.15     0.10    0.10        133   \n",
       "14   7  0.70  0.60  0.66  0.21   0.20  0.22     0.10    0.12        110   \n",
       "15   3  2.06  0.94  0.84  0.46   0.35  0.14     0.22    0.09        318   \n",
       "16   4  1.37  0.88  0.74  0.39   0.36  0.20     0.16    0.09        213   \n",
       "17   5  1.07  0.78  0.71  0.38   0.24  0.17     0.14    0.11        167   \n",
       "18   6  0.85  0.69  0.67  0.28   0.14  0.13     0.10    0.10        133   \n",
       "19   7  0.70  0.60  0.68  0.24   0.20  0.22     0.09    0.11        109   \n",
       "20   8  0.61  0.54  0.74  0.23   0.12  0.14     0.08    0.10         96   \n",
       "21   3  2.06  0.94  0.85  0.48   0.33  0.13     0.23    0.09        318   \n",
       "22   4  1.36  0.87  0.73  0.41   0.35  0.20     0.16    0.10        211   \n",
       "23   5  1.07  0.78  0.71  0.39   0.27  0.21     0.14    0.11        166   \n",
       "24   6  0.85  0.69  0.69  0.27   0.14  0.14     0.09    0.09        132   \n",
       "25   7  0.70  0.60  0.77  0.29   0.18  0.20     0.09    0.11        109   \n",
       "26   8  0.60  0.53  0.72  0.16   0.14  0.17     0.08    0.10         94   \n",
       "27   9  0.52  0.47  0.80  0.15   0.14  0.19     0.07    0.10         82   \n",
       "28   3  2.06  0.94  0.86  0.49   0.35  0.14     0.23    0.09        318   \n",
       "29   4  1.36  0.87  0.73  0.39   0.34  0.20     0.17    0.10        211   \n",
       "30   5  1.07  0.78  0.70  0.37   0.24  0.19     0.15    0.11        166   \n",
       "31   6  0.84  0.68  0.65  0.25   0.14  0.14     0.10    0.10        131   \n",
       "32   7  0.69  0.59  0.74  0.26   0.20  0.23     0.09    0.11        108   \n",
       "33   8  0.59  0.52  0.74  0.16   0.14  0.17     0.08    0.10         93   \n",
       "34   9  0.52  0.47  0.86  0.17   0.14  0.20     0.07    0.11         81   \n",
       "35  10  0.45  0.41  0.95  0.12   0.12  0.20     0.06    0.10         71   \n",
       "36   3  2.05  0.94  0.86  0.45   0.39  0.16     0.23    0.09        316   \n",
       "37   4  1.36  0.87  0.78  0.41   0.32  0.19     0.16    0.10        212   \n",
       "38   5  1.07  0.78  0.71  0.36   0.30  0.24     0.14    0.11        166   \n",
       "39   6  0.83  0.68  0.68  0.28   0.14  0.14     0.10    0.10        130   \n",
       "40   7  0.69  0.59  0.78  0.25   0.18  0.21     0.10    0.12        108   \n",
       "41   8  0.59  0.52  0.79  0.16   0.14  0.18     0.08    0.10         93   \n",
       "42   9  0.52  0.47  0.97  0.17   0.12  0.19     0.07    0.11         81   \n",
       "43  10  0.45  0.41  1.08  0.14   0.12  0.21     0.07    0.12         71   \n",
       "44   3  2.05  0.94  0.85  0.46   0.35  0.15     0.23    0.09        316   \n",
       "45   4  1.36  0.87  0.84  0.45   0.30  0.18     0.16    0.10        212   \n",
       "46   5  1.07  0.78  0.73  0.34   0.24  0.20     0.14    0.10        166   \n",
       "47   6  0.83  0.68  0.64  0.26   0.22  0.22     0.10    0.10        129   \n",
       "48   7  0.69  0.59  0.78  0.23   0.16  0.19     0.10    0.12        108   \n",
       "49   8  0.59  0.52  0.84  0.18   0.25  0.35     0.08    0.10         92   \n",
       "50   9  0.52  0.47  0.98  0.17   0.20  0.31     0.07    0.11         81   \n",
       "51  10  0.45  0.41  1.07  0.14   0.10  0.17     0.06    0.10         71   \n",
       "52   3  2.05  0.94  0.84  0.47   0.33  0.15     0.23    0.09        316   \n",
       "53   4  1.36  0.87  0.81  0.42   0.34  0.20     0.16    0.10        212   \n",
       "54   5  1.06  0.78  0.70  0.32   0.25  0.22     0.14    0.11        165   \n",
       "55   6  0.83  0.68  0.65  0.24   0.24  0.24     0.10    0.10        129   \n",
       "56   7  0.69  0.59  0.78  0.17   0.22  0.28     0.10    0.12        108   \n",
       "57   8  0.59  0.52  0.90  0.20   0.22  0.31     0.08    0.10         92   \n",
       "58   9  0.52  0.47  0.93  0.16   0.18  0.28     0.08    0.12         81   \n",
       "59  10  0.45  0.41  1.04  0.14   0.16  0.29     0.06    0.10         71   \n",
       "\n",
       "    sceneSP  \n",
       "0       152  \n",
       "1       147  \n",
       "2        99  \n",
       "3       141  \n",
       "4        95  \n",
       "5        73  \n",
       "6       135  \n",
       "7        92  \n",
       "8        71  \n",
       "9        55  \n",
       "10      131  \n",
       "11       93  \n",
       "12       71  \n",
       "13       54  \n",
       "14       46  \n",
       "15      126  \n",
       "16       90  \n",
       "17       69  \n",
       "18       53  \n",
       "19       46  \n",
       "20       42  \n",
       "21      127  \n",
       "22       88  \n",
       "23       68  \n",
       "24       51  \n",
       "25       44  \n",
       "26       41  \n",
       "27       36  \n",
       "28      126  \n",
       "29       87  \n",
       "30       64  \n",
       "31       50  \n",
       "32       43  \n",
       "33       40  \n",
       "34       35  \n",
       "35       30  \n",
       "36      122  \n",
       "37       85  \n",
       "38       63  \n",
       "39       50  \n",
       "40       43  \n",
       "41       38  \n",
       "42       32  \n",
       "43       29  \n",
       "44      118  \n",
       "45       84  \n",
       "46       59  \n",
       "47       50  \n",
       "48       42  \n",
       "49       37  \n",
       "50       32  \n",
       "51       29  \n",
       "52      116  \n",
       "53       84  \n",
       "54       58  \n",
       "55       50  \n",
       "56       40  \n",
       "57       36  \n",
       "58       32  \n",
       "59       28  "
      ]
     },
     "execution_count": 52,
     "metadata": {},
     "output_type": "execute_result"
    }
   ],
   "source": [
    "resulDF"
   ]
  },
  {
   "cell_type": "code",
   "execution_count": 53,
   "metadata": {},
   "outputs": [
    {
     "data": {
      "text/plain": [
       "C             3.00\n",
       "wdSH          0.45\n",
       "pkSh          0.41\n",
       "wdSP          0.62\n",
       "pkSP          0.12\n",
       "spRec         0.10\n",
       "spPr          0.13\n",
       "shotRec       0.06\n",
       "shotPr        0.08\n",
       "sceneShot    71.00\n",
       "sceneSP      28.00\n",
       "dtype: float64"
      ]
     },
     "execution_count": 53,
     "metadata": {},
     "output_type": "execute_result"
    }
   ],
   "source": [
    "resulDF.min(axis=None, skipna=None, level=None, numeric_only=None)"
   ]
  },
  {
   "cell_type": "code",
   "execution_count": 54,
   "metadata": {},
   "outputs": [
    {
     "data": {
      "text/plain": [
       "C             10.00\n",
       "wdSH           2.21\n",
       "pkSh           0.96\n",
       "wdSP           1.08\n",
       "pkSP           0.52\n",
       "spRec          0.46\n",
       "spPr           0.35\n",
       "shotRec        0.26\n",
       "shotPr         0.12\n",
       "sceneShot    340.00\n",
       "sceneSP      152.00\n",
       "dtype: float64"
      ]
     },
     "execution_count": 54,
     "metadata": {},
     "output_type": "execute_result"
    }
   ],
   "source": [
    "resulDF.max(axis=None, skipna=None, level=None, numeric_only=None)"
   ]
  },
  {
   "cell_type": "code",
   "execution_count": 87,
   "metadata": {},
   "outputs": [],
   "source": [
    "import matplotlib.pyplot as plt"
   ]
  },
  {
   "cell_type": "code",
   "execution_count": null,
   "metadata": {},
   "outputs": [],
   "source": [
    "resulDF[['cvalues','windiffSHot','windiffSpeaker']].plot(x='cvalues',linestyle='-')"
   ]
  },
  {
   "cell_type": "code",
   "execution_count": 88,
   "metadata": {},
   "outputs": [],
   "source": [
    "def drawBoundry(a,b,c=1):\n",
    "    boundry1=sceneSpeakerBoundry[a:b]\n",
    "    boundry2=sceneShotBoundry[a:b]\n",
    "    manBound=manualBoundry[a:b]\n",
    "    if c==1:\n",
    "        for segment in boundry1:\n",
    "            plt.plot([segment, segment], [-10, -0.5], 'r')\n",
    "        for segment in manBound:\n",
    "            plt.plot([segment, segment], [0.5, 10], 'g')\n",
    "        plt.ylim(-11, 11);\n",
    "        plt.xlim(0, segment);\n",
    "        plt.xlabel('Time (seconds)');\n",
    "    else:\n",
    "        for segment in boundry2:\n",
    "            plt.plot([segment, segment], [-10, -0.5], 'y')\n",
    "        for segment in manBound:\n",
    "            plt.plot([segment, segment], [0.5, 10], 'g')\n",
    "        plt.ylim(-6, 6);\n",
    "        plt.xlim(0, segment);\n",
    "        plt.xlabel('Time (seconds)');"
   ]
  },
  {
   "cell_type": "code",
   "execution_count": 89,
   "metadata": {},
   "outputs": [
    {
     "data": {
      "image/png": "[encoded data removed]",
      "text/plain": [
       "<matplotlib.figure.Figure at 0x7f89899ae7d0>"
      ]
     },
     "metadata": {},
     "output_type": "display_data"
    }
   ],
   "source": [
    "drawBoundry(0,20,1)"
   ]
  },
  {
   "cell_type": "code",
   "execution_count": null,
   "metadata": {},
   "outputs": [],
   "source": [
    "len(sceneSpeakerBoundry),len(sceneSpeakerBoundry),len(manualBoundry)"
   ]
  },
  {
   "cell_type": "code",
   "execution_count": 143,
   "metadata": {},
   "outputs": [],
   "source": [
    "import numpy as np\n",
    "def find_nearest(listBoundry, value):\n",
    "    array = np.asarray(listBoundry)\n",
    "    idx = (np.abs(array - value)).argmin()\n",
    "    return array[idx]"
   ]
  },
  {
   "cell_type": "code",
   "execution_count": 145,
   "metadata": {},
   "outputs": [],
   "source": [
    "boundryRoundOff=[]\n",
    "for i in manualBoundry:\n",
    "    boundryRoundOff.append(find_nearest(shotBondry,i))"
   ]
  },
  {
   "cell_type": "code",
   "execution_count": 146,
   "metadata": {},
   "outputs": [
    {
     "data": {
      "text/plain": [
       "118"
      ]
     },
     "execution_count": 146,
     "metadata": {},
     "output_type": "execute_result"
    }
   ],
   "source": [
    "len(boundryRoundOff)"
   ]
  },
  {
   "cell_type": "code",
   "execution_count": 149,
   "metadata": {},
   "outputs": [
    {
     "data": {
      "text/plain": [
       "(190, 24.6, 189.64000000000001)"
      ]
     },
     "execution_count": 149,
     "metadata": {},
     "output_type": "execute_result"
    }
   ],
   "source": [
    "manualBoundry[2],shotBondry[0],boundryRoundOff[2]"
   ]
  },
  {
   "cell_type": "code",
   "execution_count": 144,
   "metadata": {},
   "outputs": [
    {
     "data": {
      "text/plain": [
       "117.12"
      ]
     },
     "execution_count": 144,
     "metadata": {},
     "output_type": "execute_result"
    }
   ],
   "source": [
    "find_nearest(shotBondry,manualBoundry[1])"
   ]
  },
  {
   "cell_type": "code",
   "execution_count": 150,
   "metadata": {},
   "outputs": [],
   "source": [
    "timingDF=pd.DataFrame(columns=('manualBoundry','roundedShot'))"
   ]
  },
  {
   "cell_type": "code",
   "execution_count": 151,
   "metadata": {},
   "outputs": [],
   "source": [
    "timingDF.manualBoundry=manualBoundry\n",
    "timingDF.roundedShot=boundryRoundOff"
   ]
  },
  {
   "cell_type": "code",
   "execution_count": 66,
   "metadata": {},
   "outputs": [],
   "source": [
    "roundedmanualBoundry=roundedBoundry[2]"
   ]
  },
  {
   "cell_type": "code",
   "execution_count": null,
   "metadata": {},
   "outputs": [],
   "source": [
    "def segmentationAlgo(sequence, sequenceBoundry):\n",
    "    tempList=[]\n",
    "    currentSpeaker=[]\n",
    "    nextSpeakers=[]\n",
    "    sepPosition=[]\n",
    "    for i in sequence:"
   ]
  },
  {
   "cell_type": "code",
   "execution_count": null,
   "metadata": {},
   "outputs": [],
   "source": [
    "def segmentation_speakers(speakerSequence,k,C):\n",
    "    tempList=[]\n",
    "    sepPosition=[]\n",
    "    count=0\n",
    "    tempList.append(speakerSequence[0:2])\n",
    "    for i in range(2,len(speakerSequence)):\n",
    "        if speakerSequence[i]==tempList[-1]:\n",
    "            continue\n",
    "        if speakerSequence[i] in tempList:\n",
    "            tempList.pop(0)\n",
    "            tempList.append(speakerSequence[i])\n",
    "            count=0\n",
    "        else:\n",
    "            count=count+1\n",
    "            if len(tempList)<k:\n",
    "                tempList.append(speakerSequence[i])\n",
    "            if count==C:\n",
    "                tempList=tempList[C-1:]\n",
    "                sepPosition.append(i-C)\n",
    "                count=0\n",
    "    return sepPosition"
   ]
  }
 ],
 "metadata": {
  "kernelspec": {
   "display_name": "Python 3",
   "language": "python",
   "name": "python3"
  },
  "language_info": {
   "codemirror_mode": {
    "name": "ipython",
    "version": 3
   },
   "file_extension": ".py",
   "mimetype": "text/x-python",
   "name": "python",
   "nbconvert_exporter": "python",
   "pygments_lexer": "ipython3",
   "version": "3.6.5"
  }
 },
 "nbformat": 4,
 "nbformat_minor": 2
}
