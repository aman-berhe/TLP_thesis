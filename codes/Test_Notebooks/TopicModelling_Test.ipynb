{
 "cells": [
  {
   "cell_type": "code",
   "execution_count": 2,
   "metadata": {},
   "outputs": [],
   "source": [
    "import sys\n",
    "sys.path.insert(0, '/home/berhe/Desktop/Thesis_git/TLP_thesis/codes/')\n",
    "import os\n",
    "import TopicModels as tm\n",
    "import evaluationMetrics as em\n",
    "import Scene_Clustering_Representations as scr\n",
    "from sklearn.decomposition import NMF, LatentDirichletAllocation, TruncatedSVD\n",
    "from sklearn.feature_extraction.text import CountVectorizer\n",
    "import pandas as pd\n",
    "import numpy as np\n",
    "#from bokeh.io import push_notebook, show, output_notebook\n",
    "#from bokeh.plotting import figure\n",
    "#from bokeh.models import ColumnDataSource, LabelSet\n",
    "#output_notebook()"
   ]
  },
  {
   "cell_type": "code",
   "execution_count": 3,
   "metadata": {},
   "outputs": [],
   "source": [
    "scenes_dir='/home/berhe/Desktop/LIMSI/TLP_thesis/Scenes/'\n",
    "subtitle_dir='/home/berhe/Desktop/LIMSI/TLP_thesis/subtitles/'\n",
    "\n",
    "subtitleFiles=[]\n",
    "for fl in os.listdir(subtitle_dir):\n",
    "    if '.en.srt' in fl:\n",
    "       subtitleFiles.append(fl)\n",
    "\n",
    "scenesegementedFiles=[]\n",
    "for fl in os.listdir(scenes_dir):\n",
    "    if 'Episode' in fl:\n",
    "       scenesegementedFiles.append(fl)\n",
    "\n",
    "subtitleFiles.sort()\n",
    "scenesegementedFiles.sort()"
   ]
  },
  {
   "cell_type": "code",
   "execution_count": 4,
   "metadata": {},
   "outputs": [
    {
     "name": "stderr",
     "output_type": "stream",
     "text": [
      "/home/berhe/anaconda3/envs/pyannote/lib/python3.6/codecs.py:897: DeprecationWarning: 'U' mode is deprecated\n",
      "  file = builtins.open(filename, mode, buffering)\n",
      "/home/berhe/anaconda3/envs/pyannote/lib/python3.6/codecs.py:897: DeprecationWarning: 'U' mode is deprecated\n",
      "  file = builtins.open(filename, mode, buffering)\n",
      "/home/berhe/anaconda3/envs/pyannote/lib/python3.6/codecs.py:897: DeprecationWarning: 'U' mode is deprecated\n",
      "  file = builtins.open(filename, mode, buffering)\n",
      "/home/berhe/anaconda3/envs/pyannote/lib/python3.6/codecs.py:897: DeprecationWarning: 'U' mode is deprecated\n",
      "  file = builtins.open(filename, mode, buffering)\n",
      "/home/berhe/anaconda3/envs/pyannote/lib/python3.6/codecs.py:897: DeprecationWarning: 'U' mode is deprecated\n",
      "  file = builtins.open(filename, mode, buffering)\n",
      "/home/berhe/anaconda3/envs/pyannote/lib/python3.6/codecs.py:897: DeprecationWarning: 'U' mode is deprecated\n",
      "  file = builtins.open(filename, mode, buffering)\n",
      "/home/berhe/anaconda3/envs/pyannote/lib/python3.6/codecs.py:897: DeprecationWarning: 'U' mode is deprecated\n",
      "  file = builtins.open(filename, mode, buffering)\n",
      "/home/berhe/anaconda3/envs/pyannote/lib/python3.6/codecs.py:897: DeprecationWarning: 'U' mode is deprecated\n",
      "  file = builtins.open(filename, mode, buffering)\n",
      "/home/berhe/anaconda3/envs/pyannote/lib/python3.6/codecs.py:897: DeprecationWarning: 'U' mode is deprecated\n",
      "  file = builtins.open(filename, mode, buffering)\n"
     ]
    }
   ],
   "source": [
    "scene_textsA=[]\n",
    "scene_lblsA=[]\n",
    "startA=[]\n",
    "endA=[]\n",
    "for i in range(len(scenesegementedFiles)):\n",
    "    scene_texts,scene_lbls ,start,end=scr.sceneTexts(scenes_dir+scenesegementedFiles[i],subtitle_dir+subtitleFiles[i])\n",
    "    #print(len(scene_texts),len(scene_lbls))\n",
    "    ind=0\n",
    "    for i in scene_texts:\n",
    "        if len(i)!=0:\n",
    "            scene_textsA.append(i.decode(\"utf-8\"))\n",
    "            scene_lblsA.append(scene_lbls[ind])\n",
    "        ind=ind+1\n",
    "    startA=startA+start\n",
    "    endA=endA+end"
   ]
  },
  {
   "cell_type": "code",
   "execution_count": 5,
   "metadata": {},
   "outputs": [
    {
     "data": {
      "text/plain": [
       "(241, 241)"
      ]
     },
     "execution_count": 5,
     "metadata": {},
     "output_type": "execute_result"
    }
   ],
   "source": [
    "len(scene_textsA),len(scene_lblsA)"
   ]
  },
  {
   "cell_type": "code",
   "execution_count": 6,
   "metadata": {},
   "outputs": [
    {
     "name": "stderr",
     "output_type": "stream",
     "text": [
      "<input>:1: DeprecationWarning: invalid escape sequence \\-\n",
      "<input>:1: DeprecationWarning: invalid escape sequence \\-\n",
      "<input>:1: DeprecationWarning: invalid escape sequence \\-\n",
      "<ipython-input-6-ec6dc6837e4f>:1: DeprecationWarning: invalid escape sequence \\-\n",
      "  vectorize=CountVectorizer(min_df=5,max_df=0.9,lowercase=True,stop_words='english',token_pattern='[a-zA-Z\\-][a-zA-Z\\-]{2,}')\n"
     ]
    }
   ],
   "source": [
    "vectorize=CountVectorizer(min_df=5,max_df=0.9,lowercase=True,stop_words='english',token_pattern='[a-zA-Z\\-][a-zA-Z\\-]{2,}')\n",
    "data_vector=vectorize.fit_transform(scene_textsA)"
   ]
  },
  {
   "cell_type": "code",
   "execution_count": 72,
   "metadata": {},
   "outputs": [
    {
     "data": {
      "text/html": [
       "\n",
       "<div class=\"bk-root\">\n",
       "    <div class=\"bk-plotdiv\" id=\"cba29f33-2629-4376-abc7-3a9e753573b4\"></div>\n",
       "</div>"
      ]
     },
     "metadata": {},
     "output_type": "display_data"
    },
    {
     "data": {
      "application/javascript": [
       "(function(root) {\n",
       "  function embed_document(root) {\n",
       "    \n",
       "  var docs_json = {\"e11ebbae-5df5-475e-8f77-db9cad9857e3\":{\"roots\":{\"references\":[{\"attributes\":{\"plot\":{\"id\":\"4d1884b9-81e1-42dd-8fd8-5d820326386f\",\"subtype\":\"Figure\",\"type\":\"Plot\"},\"ticker\":{\"id\":\"b0d84af7-f06f-4a09-b221-c21c6e3f3d02\",\"type\":\"BasicTicker\"}},\"id\":\"7843fc0f-a15f-4ab2-aae0-0e838c0e1f78\",\"type\":\"Grid\"},{\"attributes\":{},\"id\":\"1372838b-c861-4079-a2d2-3c264af631e9\",\"type\":\"LinearScale\"},{\"attributes\":{\"data_source\":{\"id\":\"63a9da7b-1ff8-4c3d-b792-ad2fefa5d06b\",\"type\":\"ColumnDataSource\"},\"glyph\":{\"id\":\"715428f7-87fb-423a-bbae-87e09beb0de8\",\"type\":\"Circle\"},\"hover_glyph\":null,\"muted_glyph\":null,\"nonselection_glyph\":{\"id\":\"d24aeeed-3777-4ec6-af92-507ae8ea1840\",\"type\":\"Circle\"},\"selection_glyph\":null,\"view\":{\"id\":\"1f38a99d-a718-4139-889e-0e24b58b9315\",\"type\":\"CDSView\"}},\"id\":\"411e991f-3839-4f39-8f56-c1c12f0718bc\",\"type\":\"GlyphRenderer\"},{\"attributes\":{\"fill_alpha\":{\"value\":0.8},\"fill_color\":{\"value\":\"#1f77b4\"},\"size\":{\"units\":\"screen\",\"value\":12},\"x\":{\"field\":\"x\"},\"y\":{\"field\":\"y\"}},\"id\":\"715428f7-87fb-423a-bbae-87e09beb0de8\",\"type\":\"Circle\"},{\"attributes\":{},\"id\":\"8d22c4a1-5b27-48bf-b7cc-f05f44d5746c\",\"type\":\"PanTool\"},{\"attributes\":{\"dimension\":1,\"plot\":{\"id\":\"4d1884b9-81e1-42dd-8fd8-5d820326386f\",\"subtype\":\"Figure\",\"type\":\"Plot\"},\"ticker\":{\"id\":\"6bd57ddc-807d-4ba2-a02f-f3a38ef160e2\",\"type\":\"BasicTicker\"}},\"id\":\"d46ebb3f-b5fd-45b1-b2e0-8dfb84c73abf\",\"type\":\"Grid\"},{\"attributes\":{\"below\":[{\"id\":\"f2eeb00b-bc76-4d18-bb95-3ffd7fb58aec\",\"type\":\"LinearAxis\"}],\"left\":[{\"id\":\"6b25c869-067f-470d-b699-a717a5271241\",\"type\":\"LinearAxis\"}],\"renderers\":[{\"id\":\"f2eeb00b-bc76-4d18-bb95-3ffd7fb58aec\",\"type\":\"LinearAxis\"},{\"id\":\"7843fc0f-a15f-4ab2-aae0-0e838c0e1f78\",\"type\":\"Grid\"},{\"id\":\"6b25c869-067f-470d-b699-a717a5271241\",\"type\":\"LinearAxis\"},{\"id\":\"d46ebb3f-b5fd-45b1-b2e0-8dfb84c73abf\",\"type\":\"Grid\"},{\"id\":\"4c4b35d0-22e6-45ee-a580-fc1af2b2dadf\",\"type\":\"BoxAnnotation\"},{\"id\":\"411e991f-3839-4f39-8f56-c1c12f0718bc\",\"type\":\"GlyphRenderer\"},{\"id\":\"731b2c5f-4284-448c-8eb3-6e4e168b2844\",\"type\":\"LabelSet\"}],\"title\":{\"id\":\"3759dbad-1b08-4415-a5eb-568e92ce20a8\",\"type\":\"Title\"},\"toolbar\":{\"id\":\"013f2feb-39e3-4059-a9d7-d34dd3d43bf3\",\"type\":\"Toolbar\"},\"x_range\":{\"id\":\"efd8acdc-db9b-42bb-902b-f550d6da3ab9\",\"type\":\"DataRange1d\"},\"x_scale\":{\"id\":\"1372838b-c861-4079-a2d2-3c264af631e9\",\"type\":\"LinearScale\"},\"y_range\":{\"id\":\"6012f57d-9ff5-4a8c-b713-e798c08dfb20\",\"type\":\"DataRange1d\"},\"y_scale\":{\"id\":\"351a6e38-295e-4e01-beb8-f2535d051f1f\",\"type\":\"LinearScale\"}},\"id\":\"4d1884b9-81e1-42dd-8fd8-5d820326386f\",\"subtype\":\"Figure\",\"type\":\"Plot\"},{\"attributes\":{},\"id\":\"4bc11d29-9e1a-405a-904c-dcd303444101\",\"type\":\"Selection\"},{\"attributes\":{},\"id\":\"be4eccd3-c421-43e9-a32d-fd11de109e6a\",\"type\":\"ResetTool\"},{\"attributes\":{\"active_drag\":\"auto\",\"active_inspect\":\"auto\",\"active_scroll\":\"auto\",\"active_tap\":\"auto\",\"tools\":[{\"id\":\"8d22c4a1-5b27-48bf-b7cc-f05f44d5746c\",\"type\":\"PanTool\"},{\"id\":\"055d5f10-21e1-4749-803c-70a55e0bbdae\",\"type\":\"WheelZoomTool\"},{\"id\":\"a2b92eb1-3025-423d-ae1d-b9dbd8042222\",\"type\":\"BoxZoomTool\"},{\"id\":\"addc5808-d58c-4249-a771-3469a3aaeedd\",\"type\":\"SaveTool\"},{\"id\":\"be4eccd3-c421-43e9-a32d-fd11de109e6a\",\"type\":\"ResetTool\"},{\"id\":\"f8ab7d7a-6ff5-43f0-984d-47e207ce3a74\",\"type\":\"HelpTool\"}]},\"id\":\"013f2feb-39e3-4059-a9d7-d34dd3d43bf3\",\"type\":\"Toolbar\"},{\"attributes\":{},\"id\":\"f8ab7d7a-6ff5-43f0-984d-47e207ce3a74\",\"type\":\"HelpTool\"},{\"attributes\":{\"callback\":null},\"id\":\"efd8acdc-db9b-42bb-902b-f550d6da3ab9\",\"type\":\"DataRange1d\"},{\"attributes\":{\"callback\":null,\"data\":{\"index\":[0,1,2,3,4,5,6,7,8,9,10,11,12,13,14,15,16,17,18,19,20,21,22,23,24,25,26,27,28,29,30,31,32,33,34,35,36,37,38,39,40,41,42,43,44,45,46,47,48,49,50,51,52,53,54,55,56,57,58,59,60,61,62,63,64,65,66,67,68,69,70,71,72,73,74,75,76,77,78,79,80,81,82,83,84,85,86,87,88,89,90,91,92,93,94,95,96,97,98,99,100,101,102,103,104,105,106,107,108,109,110,111,112,113,114,115,116,117,118,119,120,121,122,123,124,125,126,127,128,129,130,131,132,133,134,135,136,137,138,139,140,141,142,143,144,145,146,147,148,149,150,151,152,153,154,155,156,157,158,159,160,161,162,163,164,165,166,167,168,169,170,171,172,173,174,175,176,177,178,179,180,181,182,183,184,185,186,187,188,189,190,191,192,193,194,195,196,197,198,199,200,201,202,203,204,205,206,207,208,209,210,211,212,213,214,215,216,217,218,219,220,221,222,223,224,225,226,227,228,229,230,231,232,233,234,235,236,237,238,239,240,241,242,243,244,245,246,247,248,249,250,251,252,253,254,255,256,257,258,259,260,261,262,263,264,265,266,267,268,269,270,271,272,273,274,275,276,277,278,279,280,281,282,283,284,285,286,287,288,289,290,291,292,293,294,295,296,297,298,299,300,301,302,303,304,305,306,307,308,309,310,311,312,313,314,315,316,317,318,319,320,321,322,323,324,325,326,327,328,329,330,331,332,333,334,335,336,337,338,339,340,341,342,343,344,345,346,347,348,349,350,351,352,353,354,355,356,357,358,359,360,361,362,363,364,365,366,367,368,369,370,371,372,373,374,375,376,377,378,379,380,381,382,383,384,385,386,387,388,389,390,391,392,393,394,395,396,397,398,399,400,401,402,403,404,405,406,407,408,409,410,411,412,413,414,415,416,417,418,419,420,421,422,423,424,425,426,427,428,429,430,431,432,433,434,435,436,437,438,439,440,441,442,443,444,445,446,447,448,449,450,451,452,453,454,455,456,457,458,459,460,461,462,463,464,465,466,467,468,469,470,471,472,473,474,475,476,477,478,479,480,481,482,483,484,485,486,487,488,489,490,491,492,493,494,495,496,497,498,499,500,501,502,503,504,505,506,507,508,509,510,511,512,513,514,515,516,517,518,519,520,521,522,523,524,525,526,527,528,529,530,531,532,533,534,535,536,537,538,539,540,541,542,543,544,545,546,547,548,549,550,551,552,553,554,555,556,557,558,559,560,561,562,563,564,565,566,567,568,569,570,571,572,573,574,575,576,577,578,579,580,581,582,583,584,585,586,587,588,589,590,591,592,593,594,595,596,597,598,599,600,601,602,603,604,605,606,607,608,609,610,611,612,613,614,615,616,617,618,619,620,621,622,623,624,625,626,627,628,629,630,631,632,633,634,635,636,637,638,639,640,641,642,643,644,645,646,647,648,649,650,651,652,653,654,655,656,657,658,659,660,661,662,663,664,665,666,667,668,669,670,671,672,673,674,675,676,677,678,679,680,681,682,683,684,685,686,687,688],\"word\":[\"able\",\"aemon\",\"afraid\",\"ago\",\"agree\",\"alive\",\"alliser\",\"answer\",\"aren\",\"armour\",\"army\",\"arrow\",\"arryn\",\"arya\",\"aryal\",\"ask\",\"asked\",\"asking\",\"asshai\",\"away\",\"aye\",\"bad\",\"baelish\",\"balls\",\"baratheon\",\"barking\",\"barristan\",\"bastard\",\"battle\",\"bear\",\"beast\",\"beat\",\"beautiful\",\"beauty\",\"bed\",\"begin\",\"believe\",\"belly\",\"belong\",\"belongs\",\"benjen\",\"best\",\"better\",\"big\",\"birds\",\"bit\",\"black\",\"blade\",\"blessing\",\"blood\",\"bloody\",\"body\",\"born\",\"boy\",\"boys\",\"bran\",\"brave\",\"bring\",\"bronn\",\"brothel\",\"brother\",\"brothers\",\"brought\",\"burned\",\"burning\",\"business\",\"butcher\",\"castle\",\"castles\",\"catch\",\"catelyn\",\"cersei\",\"certain\",\"chambers\",\"chance\",\"change\",\"cheering\",\"child\",\"children\",\"choice\",\"choose\",\"chuckles\",\"city\",\"claim\",\"clanging\",\"clean\",\"close\",\"closes\",\"clothes\",\"cock\",\"come\",\"comes\",\"coming\",\"command\",\"commander\",\"commands\",\"common\",\"continues\",\"couldn\",\"council\",\"counting\",\"course\",\"creaking\",\"crime\",\"crimes\",\"cross\",\"crowd\",\"crown\",\"crows\",\"cut\",\"daenerys\",\"damn\",\"dancing\",\"daughter\",\"daughters\",\"day\",\"days\",\"dead\",\"dear\",\"death\",\"debts\",\"defend\",\"deny\",\"did\",\"didn\",\"die\",\"died\",\"dies\",\"different\",\"direwolf\",\"distant\",\"does\",\"doesn\",\"dog\",\"doing\",\"don\",\"door\",\"dothraki\",\"doubt\",\"dragon\",\"dragons\",\"drink\",\"drogo\",\"drunk\",\"duty\",\"dwarf\",\"ears\",\"easier\",\"easy\",\"eat\",\"eddard\",\"end\",\"enemies\",\"enemy\",\"english\",\"eyes\",\"face\",\"fall\",\"family\",\"far\",\"fast\",\"fat\",\"father\",\"fear\",\"feed\",\"feel\",\"follow\",\"fool\",\"footsteps\",\"foreign\",\"forget\",\"forgive\",\"fortnight\",\"fought\",\"free\",\"fuck\",\"funny\",\"game\",\"gasps\",\"gave\",\"gbsps\",\"gets\",\"getting\",\"ght\",\"ghting\",\"gift\",\"girl\",\"girls\",\"given\",\"giving\",\"glad\",\"glory\",\"gods\",\"going\",\"gold\",\"gone\",\"gonna\",\"good\",\"got\",\"grace\",\"great\",\"greatest\",\"gregor\",\"greyjoy\",\"groans\",\"ground\",\"grunting\",\"grunts\",\"guard\",\"hair\",\"half\",\"hand\",\"hands\",\"handsome\",\"happen\",\"happened\",\"happening\",\"happy\",\"hard\",\"hate\",\"haven\",\"having\",\"head\",\"hear\",\"heard\",\"heart\",\"heir\",\"held\",\"help\",\"high\",\"hill\",\"himl\",\"hit\",\"hke\",\"hmm\",\"hold\",\"home\",\"honour\",\"hope\",\"horse\",\"horses\",\"hound\",\"hours\",\"house\",\"houses\",\"howling\",\"huh\",\"hunt\",\"hunting\",\"hurt\",\"husband\",\"idiot\",\"iend\",\"iends\",\"ifthe\",\"ighten\",\"imp\",\"inside\",\"ion\",\"iron\",\"islands\",\"isn\",\"itl\",\"jaime\",\"job\",\"joffrey\",\"join\",\"jolfrey\",\"jon\",\"jorah\",\"jory\",\"just\",\"justice\",\"khal\",\"khaleesi\",\"kill\",\"killed\",\"kind\",\"king\",\"kingdoms\",\"kingl\",\"kings\",\"kingslayer\",\"knew\",\"knife\",\"knight\",\"knights\",\"know\",\"known\",\"knows\",\"lad\",\"lady\",\"land\",\"landing\",\"lands\",\"lannister\",\"lannisters\",\"large\",\"late\",\"later\",\"laugh\",\"laughing\",\"laughs\",\"laughter\",\"lay\",\"lead\",\"leave\",\"left\",\"leg\",\"legs\",\"let\",\"lie\",\"lied\",\"lies\",\"life\",\"light\",\"like\",\"likely\",\"likes\",\"lion\",\"listen\",\"little\",\"live\",\"lives\",\"living\",\"long\",\"look\",\"looking\",\"lord\",\"lords\",\"lost\",\"lot\",\"love\",\"loved\",\"lover\",\"loyal\",\"loyalty\",\"lucky\",\"lying\",\"mad\",\"maester\",\"make\",\"makes\",\"making\",\"man\",\"march\",\"marching\",\"married\",\"marry\",\"master\",\"matter\",\"matters\",\"maybe\",\"mean\",\"means\",\"meant\",\"meet\",\"mel\",\"men\",\"mercy\",\"met\",\"miles\",\"mind\",\"miss\",\"moaning\",\"moment\",\"money\",\"month\",\"moon\",\"morning\",\"morrnont\",\"mother\",\"mountain\",\"murder\",\"murdered\",\"murrnuring\",\"named\",\"narrow\",\"ned\",\"need\",\"needs\",\"neighing\",\"neighs\",\"nest\",\"new\",\"news\",\"nger\",\"nice\",\"night\",\"nnot\",\"nol\",\"north\",\"northern\",\"oatelyn\",\"oath\",\"old\",\"ones\",\"open\",\"opens\",\"orders\",\"outside\",\"paid\",\"pain\",\"pardon\",\"pay\",\"pays\",\"peace\",\"people\",\"pick\",\"piss\",\"pital\",\"place\",\"play\",\"playing\",\"pleasure\",\"poor\",\"power\",\"pray\",\"presence\",\"present\",\"pretty\",\"prince\",\"princess\",\"prisoner\",\"promise\",\"promised\",\"protect\",\"protector\",\"pycelle\",\"queen\",\"quick\",\"quiet\",\"quite\",\"rain\",\"ranger\",\"raven\",\"read\",\"ready\",\"real\",\"really\",\"realm\",\"red\",\"remember\",\"renly\",\"rest\",\"return\",\"rich\",\"ride\",\"rider\",\"riding\",\"right\",\"rightful\",\"road\",\"roaring\",\"robb\",\"robert\",\"rock\",\"rode\",\"rodrik\",\"room\",\"royal\",\"rry\",\"rst\",\"rule\",\"run\",\"rustling\",\"saddle\",\"safe\",\"said\",\"sam\",\"sansa\",\"savages\",\"save\",\"saw\",\"say\",\"saying\",\"says\",\"screaming\",\"screams\",\"sea\",\"seeing\",\"seen\",\"seize\",\"send\",\"sending\",\"sense\",\"sent\",\"ser\",\"serve\",\"served\",\"service\",\"set\",\"seven\",\"shadow\",\"shall\",\"shame\",\"share\",\"shit\",\"shouldn\",\"shouting\",\"shrk\",\"shrks\",\"shut\",\"shy\",\"sighs\",\"sight\",\"sigil\",\"sing\",\"sister\",\"sisters\",\"sit\",\"slams\",\"slaves\",\"sleep\",\"small\",\"smell\",\"snorts\",\"snow\",\"sobbing\",\"soft\",\"soldiers\",\"someday\",\"son\",\"sons\",\"soon\",\"sorry\",\"sort\",\"sounds\",\"south\",\"speak\",\"speaking\",\"speaks\",\"squire\",\"stallion\",\"stand\",\"standing\",\"stannis\",\"stark\",\"starks\",\"start\",\"stay\",\"steel\",\"steward\",\"stick\",\"stone\",\"stop\",\"stopl\",\"stories\",\"story\",\"strange\",\"strong\",\"stupid\",\"summer\",\"sun\",\"supper\",\"suppose\",\"supposed\",\"sure\",\"swear\",\"sweet\",\"sword\",\"swords\",\"swore\",\"sworn\",\"sync\",\"taken\",\"taking\",\"talk\",\"talking\",\"targaryen\",\"taste\",\"teach\",\"tell\",\"telling\",\"tent\",\"thank\",\"thieves\",\"thing\",\"things\",\"think\",\"thinking\",\"thought\",\"thousand\",\"thousands\",\"throat\",\"throne\",\"throw\",\"thunder\",\"till\",\"time\",\"times\",\"today\",\"told\",\"tomorrow\",\"tongue\",\"tonight\",\"took\",\"touch\",\"tough\",\"tournament\",\"traitor\",\"treason\",\"tried\",\"trouble\",\"true\",\"truly\",\"trust\",\"truth\",\"try\",\"tully\",\"turn\",\"tyr\",\"tyrion\",\"tywin\",\"ught\",\"ugly\",\"uncle\",\"understand\",\"unless\",\"upl\",\"use\",\"used\",\"vale\",\"varys\",\"viserys\",\"visit\",\"wait\",\"walk\",\"walkers\",\"wall\",\"walls\",\"want\",\"wanted\",\"wants\",\"war\",\"warm\",\"wars\",\"wasn\",\"watch\",\"water\",\"way\",\"wear\",\"wedding\",\"welcome\",\"went\",\"weren\",\"westeros\",\"whimpering\",\"whimpers\",\"whines\",\"whinnies\",\"whispers\",\"whistling\",\"white\",\"whore\",\"whores\",\"wife\",\"wildlings\",\"win\",\"wind\",\"wine\",\"winter\",\"winterfell\",\"wise\",\"wish\",\"wolf\",\"woman\",\"women\",\"won\",\"wonder\",\"wooden\",\"woods\",\"word\",\"words\",\"work\",\"world\",\"worry\",\"worse\",\"worth\",\"worthy\",\"wouldn\",\"wound\",\"write\",\"wrong\",\"years\",\"yes\",\"youl\",\"young\",\"yrion\"],\"x\":{\"__ndarray__\":\"okCCS9HP5D8SOHmw7JvePxEIOlJA6+8/xRWZsRsP8D8BgRYUD5fgPz68F5I+pek/DAa0w5003T86pqoJayPWP5glXLvgveY/pUOMuulv+T9zNwAL1tUAQFaTXvfnruI/M1TGm04/BUA/T+AlDgPxP6zxbF2KBfM/VzaS+9c5A0BPvRb303z0P/nVvBu4j9U/ZViefmWz1D8qVCIKJV4MQL08BWYKOPE/I3Q9qg3C6D/0vWmbID7kP4q6jXXb6+o/DqFQm3X18T+lw5IDFCfdP2FGg+RI3eQ/n1k5nom/AEBBO/XxNRXmP30RIOSwdO8/Wt8KWL2o3T/bgBFIRTzSP+CFDW91FPI/pW0r4zfQ2T+1CYzblEryP4amCBO67tw/NCsH85olB0C7Bk4lo2jeP7ERaP+YhNU/7Z2ogvzg1T+yvnkksSnuPxewM0Zbxfo/rHNqM7+xBkAmuVVY31/jP1CSl5pm2uM/EqgnzjAV8D+8yDyhkK37P8ZyojhQr+U/KQRhQ9cH1D91yydw8NsAQL8p0MH5hvI/vSybvlKxyD+HGJCEhPjyP1Kqf6v0XBlA4EdEKK7D+z+4VsOxWVb1P8+NJHiJnuA/kqV3QL6d+j9uVPBHpq7bP6UJ8dtdp+c/vTyfIG4JIEA2BqD/E/HlP5L5XxroqPM/n84JjT7e5j+jWJJa0VngPyLllfTAveY/7wMG1YrT4z9ds/gCVDvwPxVZuLe6DuQ/uu6t1kuP1D9FVShP3LDTP4qg8y9amvQ/RZjNMLUF4z9bOQgUzCnhP8zYd4vOJts/0pbQ5v0k6T/RNpLr+qjbP6v7OszcgANASHZ3apA1/D8zA7sfPz7fPzfDNYGeK8w/jygtFWSOAUBRA0Z8JjD2PyzJrsPSCOA/YUAlkClCtD8ghj++ejnfP3cI/SiCfu4/dp4XGFHt5T8JmRyFRUDkP55U+67tcu8/R/0H5Va0GkBXCtY6Zlj4P9KJ8tdJGfw/zWbD1209AkAVW4moeq/1P2sQfdQzxNA/rHP8X48w4z/1DCeTQ5jhP9ybBXVpifM/oLgnbpyt9D/OBjU6dJ3cP3YT9z5BAuo/bIHDzxndtz+p7SIAjzbeP0HQFXTjUe8/4aNU064M4z/W9qMEbSDqP4qcyDqBHe4/V4BtpkzE0z8/c/n1IXP2P1ivUirxyuc/x5YrdiDo5j/BgM/0LBfWP2W3sB8ZH+I/Fv3nzO9L3D+8ixLsYUsKQMcAM13suvU/PlNFbP69CECx29T+zyfuP8v97ntjBwBAzR7G0Elb2T/YZL2DXHLSP8SiAUkuHeM/Z2BWWHbHHkCxcy7ht74QQEj3tNKdKghAdjTp2vBT9D+EhG1mzv3iP3U9Qrgsgew/YaV1UmBZ3z8rBqTf0YPeP9muz7TcHAxA1aymOkSm/T9/HPw7o8HZP8ydu6uSlPc/oxAIE56LLkAf7ezZ5QcIQKziRCC/fRFA4F86HNWg4j/mguSgsFT5P/xLBN3mT+k/4nH5jxp6+D82LAjYVc/0P0AOBH57K+M/bRts1GB25D99S/7NoMLnP4j6ydlEusw/adSFOmtZ1T8yoqUSDFPmPyKRujfPs94/qASZYxqQ9D+ejc1d4bT6P+8j5wIDruk/UKPF6Xdp4j88aQjurIrpP+MBtuULmvI/p561J6MP3z+yxcRrseXjP1OQOV6i2/4/LjN5wFeo8z/yof+rRFHLP+sq+lwxE/E/tzyMiKTTJ0BHuHCmFkn2P+UOuWQbL+A/drh+gdY+7D+/ZUo03EbaP5zf8FBY/fA/cXgTbdpH4D/eVlgp/X/hP+Ll0N/T2No/vVX2zCtl6j+htsiWUcjkP62sT9wMTek/TBJrNIV95z9um8QFt3j0P5Ke7iuDo88/C2eyOq9/7z/ah+e/FL7kP2kTTDfVWvM/Lmy8rvCM5T8hQ258I8HkP15BF+txpdo/pFUOtIMkDEBl7gX9oqbfPyTq9wP9S9Y/NIYSv3ngDEAklhKKpLf7P72Q49qZ8e4/g1hJZeQc5D/S5Q/iTZ3jP8R5OeH7Sdw/HDfrFDXRDEAWJlFERAAQQIIUXBhffwFAALMPz1Ay5D+JrR4NgwrXP9hC00xrIBhACgFbe1QrBUDaY0MypHUUQMrZGEWdyPg/7nnxQdTD4D+BI/2qb1HvPwzMYseI4+M/dIgkuvma3j9NaH2Z9c/eP//Sv2O2c+c/nUfj4A9b6D9cSSVQEwbgPz4gvYgyGPI/ZFdVPqLg/T8zaComHowXQLxRLTDVtfE/qvEwI6iH4D+F5Ysdgb7tP6GzC9I/2/Q/8CaAbJlYzT/xpcJ2lrLxP9zudjXAKeM/mDypNfl48z80YnV9hcLkP/kVOFePKuA/mJWKRphj9T+avzJ5wkcKQLAuqVN4HQJARMPx3MzJ8D8Nn0lhZN7mP59rteijWeU/cAvq2Ox7/z8rcTTNK6vyPzgeIsgc6dI/ekeAIzZV0T86GRJsZebxPy+MBPlr+9w/P9gmXjvc9D9yNjEHqELxP/CfZ7i+BAJAATIRyjgBE0BisPZ8d0ryP0tvw3kHnQVAwapkEYvj9T/eZcrAI1vlP5s+VfuiZd8/kEcIFT3mA0DBmlGKTZnbP1EZgoHHT+s/dJG8rK2J5j/FfCqTNdfiP8SyNXVdRd0/c0RbvkF/AEAQ+OzNKFn2P0yCnqZXstk/wMkdmOm7+j8we0Ox1g7uP2JwO2DxVvA/tW56p6Np2z+Vl59Wz+/xP8BjyukT6vE/c9Vn3WEn1z+QQxlbH6P+P6xAaarM4Os/KUrR+6Ha8z/uqEA8KtLMP2kKf8FtqglAv19YNSIO4D+sDE1lFqYBQOxqSWrF1+M/XJJz6nsA5D80j35gg08MQN2RFiZRiu0/0ZCIx7kG0z9txmBm86YTQOiBxuELivU/nfFTTMa0/T+aiNoppp/+P2QpdAmi3ghAAySqfClAA0BfyCug5ZjuP59OD91xwzNAWl5nvF4fDEBpC90CFhHZPwZ3gVeX++I/gADr2RfP1z9NevawFDb1P8xt9pvycdw/5f9+1urV+T/ogVX2z0fmP5q1CJ4dty1AZcLQbF2o+D9K8rtN9/31P8Fc/UhAivA/wWsHrqtxGUDnF2/RTe7TP21QTwhTwABAbbFIWUcB6j/NJjB1VLcQQOllBqXitwZAYDXyJXi71T8CLtEqyQDmPzmRTqpsDe8/3wFrIYsq4j96kZmXDjz9P6siAzrPxQNAsS0vPw3M+z/3nI0kDuvnP+ePuWcAGeA/pYUL2VXlAkCyKvaCapv8P6P8SlFPkdw/9Aa1uA8d4D/MIwYghmEUQIDvlR0jAN8/qmai1Frv3z/KQU1fRU/dP6HPueSaDBJAxO4OMQXr3j/dcEPPV34jQOFp8w0NqN0/MGv6qK5m4j8YSujwYnLuP9okUXLjlfY/EtlG25CBG0CAGEA3cmn4P2V30PQlyOY/oGZLcqZJ4D8tqBvBmWMPQNeXzSz4Nw9Ah7cuICMv6D/DGR3WqZI5QEJYBIs3HgBAm1/lX6XN6j8ZUB6vONHgPxviqswaEQ5ASHPly/yX8z8DdXjN7CvYP6YKjXfzPuc/uZi4fWc26D+s1MmC0QrwP913wa9/WOM/cAhprcm/+T/j9uze69jzP9M05Ma8aRRACCyTfZmG7j+akjksjprjPy0pDTeN1ilA5+dkTHJz3D/u9BBfV+7YPybMD4XF/fE/rspZq36d5T9IvySBlG7hP2cL/XTz5e0/fpjAUj6z7T/2eJHlRyP1P4VH+zM/tfc/S0zDfWDv5D/dpSgVkXLwP4m+62YmVuQ/ZX/GRoTF1D/RBob7TDYgQHukIbfQnPI/10A3oxRK2z+RSKFqsR/dPy9+suCCbe8/riaUNlFA1z99ieMISLXtPyPhoElAcvE/MZQbBnLv7z/m3mSBC8fdP3mjzfY63+k/+Nlz0aYT6T8NMEWuHtfcP9NB1Mc0CwlAfTWCpCLf4T9ZuuOq6iXiPxyTe5sxpOE/0ytEtw/D3T8s7u1m8pLpP16fZuCD6uQ/OGmc4307C0AD6CK6sAkMQNTnyAI+I/A/Y5XH8gCy1z91+GW2nmDxP81nOPARYtI/LdtEfLUv+D9MEBshpfndP0k7czS52uo/UhFPW1+/3j+iBzGPswARQFKFnWEhgvM/05ZN6BbG4z+E18cbCLAGQEQ0St4a29c/2dqPWsOj6j+LiSgqwePcP9xCYQPNOwhA01mMb66h5z8uZhY9JTfzPzxF/PkPmu8/H1qAnxwW3T90HFl3GzvbP73tOOR57eE/x4AKss902D9SHHDfhmrkP2/KgMwDfOM/arHXpLp32D/no6OLQYH3P/L8FesvGwZAPHDRGjIo2D/AA76BWnvrP/u6DEOjQ+Q/HHsQ/ypB6z+CzUmdP3r1P+3eHwoGbuY/ES9A3rJO4j8XTGKeO/jtPy2Iy0m0Wts/UD/kp3om6D9TvIrm3trZP34fRMbHK9g/ctd6OI6j4j+zOqlkYor3P7oPe5U5G9o/W/Z/jjg62j9Iojzba5LjP8EJnVg2Jtw/7KT4Oi/c4D+u0ASJHN/zPyQJhmUyc+I/daZx8rjmC0Cxq0yfW/jaPzdlDWzHBeE/hdz6+GhF9D+jjjhU+hfgP6COqw9Ewuk/g6PM09Yq7z8oaI+qm/7jPzREW1mznOA/yi9fQba38D81ujX2Pk37P7Xpg+FjdgpAxwmbwAG29D/6Q7VatKcDQIF/wc7A1+c/RAG6A8618z86PQ8VRQr4P1VDu/4gmNE/rt6V8d6h9T/D3qFNPiHfP2LlCIsFo+E/wZ9Y/Bp9D0BmPcdFyg3gPyQKggf77ew/UUCppI0O1D806et9Rx36PzB9IeeC1hVAy/P8yU++4T8q+Hs05qjqPz3Kgzj4ONg/iWaaO3Bq8T+1X/WAsZztP/Vk4BMh+OA/92Xbwq1uBUC4Mv0tXk/sP6HiZ0LdgvQ/zvuVCLyMzT/rGaq+8k3dP4AJfoGHPdg/p3z6KWY5CEAftO65y0PaP/ydH21y0QJAGpqVtPog0D9uOOIchm7wP6GEZIOQvwJA2m8mLkrxE0DGKUWMWdHwP2PjeU0BvPY/3ZFn/8/K3j8w2I0JSG3gP7kx0ndzl/I/VM8bd8HJ5j9Dif1zihIDQEAliODoJdY/hWTDCW4y+z847MnwLLPkP9XwtNiHyds//zk98vCb0j8JeVTryCIXQE9q1ybwb/M/2UQ/78kP3z9NLMRQZTbeP68fdRI+c94/NQtF8GpGDEBh/TWN4kLXP5ZKrQ6TKQBADR9OkQ6a4j/NON0eJjzXP/NQt4JvQdg/o+h2Lr+S8D9PMWQRJOnkP5s5uiqAwOk/UGb3ff9Hyj8cTYFD+y/kP0pWWgCDCdQ/lFjPhRha7T8DOwC//UriP7oPfLam1tk/pDa3duJu4j/3g5J2cqMGQDuyBEUDnOI/b856XLgu8D9k7aOoV3PiP+UH6GrXZtk/h3DbhJrU2j8k0mc268XtPzd0KS/k79Q/O9eX9kFu0j/ZUOSYUAbyPzXSPtJUPsw/Bw4tmFOV2T+SkYnrMkrlP5wbr8BCUOQ/d8iN9wyoEUBDRI8pAF/nP71NR10T8fU/i0SYD9MH+z9xyTmUZ7/sP85hkte1Z+Q/0bhM8qHaAEBiGNAVTRX+P0t/Qnh9oeU/sdMHhuYGBEAd7a/NdnjzP1bgkU2fSeE/all+t6I39z+4BIQGo2vcP5Y1rMtlFPs/XMavm4GCGkDFv9+eSZv7Py1+lB7X4us/C0Z1ISi38T/z6hOvbxHtP5OFDNfimOo/iPw1XY7+4T+1/AWnkevjP8qU+wFoofQ/X9hs+RFX5D8aQBXD4Mb0P8PyXvUh8uQ/GKfu+5V91z+O1usEfTTyP6xrbB0oQvM/RjT60MyD6z8QsXqS7SDjPxGrHcks7tQ/gz/b4Nlm5T8Uf2kMjIHhP+z3Nhd3bfo/ApYGkTSF7j/DRt0o0wrzP4esmBx0zANAzjhtkr6a8z+aj7E19vPhP4IBRVPzxdg/4QSAFAbSxj+qX4n8z+ncP/ngpAO8Jcs/vGzxjFqM+T9NlTO6EVfmP7fDDWrNzP0/I1XRFv0E2j+r3auV7PDmP5qPKGrCax1AWpFU1uL76j8O1qJNXQbUPyD01QIgU/c/ihHYy9m01T8ROtB0HlERQDG5K6a58/k/X4KzQ28HFEBPJfsumH7hPx6azJAMJP4/BGf4wHoj6z866cMmwzngP96oJ9buUeM/odb+KlLaBkCj44HmJF3oP3XXhEzkANY/S8U+/mGT2z9RaqCTgswYQEV1F+S4P/E/KXhPVcrO9j/vhQFpcvQDQJdgBL1p/Oo/M+3FB1mt4j9JZALv3AjxP0Vi3afswABAZjW3ehIfyj//h+IJ7UvTP2uOpqdvTOY/za6IOhYQ6j+cmP9Doj/xP5mmCCKmzOo/dV68B+lz4T+7Vyff8/kDQO+h/8nhPt4/DslNW+r3+j//tp9g0Ir1Pz6eZwGAfuc//Sw/NK3h5z/ov1G+QVbiP3PVZ91hJ9c/7lJjUqqF5j/lxRZX7l/4P15lfaKUo90/mbcRZz5D3T/E6kuVxzTxP9AXe4hknvQ/lbjIpVKV3D+yb1QKEeTYP3K5/LTZ4PA/NNyR1Cm88T9Qz8unFeTyP5+q2EdLofQ/D7Asjq426D+ogzrnfczwP5tCd8QCIfA/hTRLv6Cs2D8qnnat427zP37sWtuxQgZATrLioDiX4j8JpII+mwQlQKEU6l/E9gpA96Tjk9tTAUBHKsF0oUYAQC13oaDpROg/8eDX2ncT1T+/1W88kMUAQK4j5MODtAlAeQ6MjTWV6z+f2n7+b+wAQCFjpe9yKew/UWgxpZzC4T8X6qmWV/3ePw2+PsyNhOc/fIsL+81M4j8Z+YawBGjiP6nU//iYUNY/igNZN7XA1D+RQo+ThjPeP2WRdhB5Pdg/hhQr5CsD0j+6lJngbXPGPwsRdd2KqPE/nBiaPx+R8T/urbqjIufuP1D3VL2A5QFA3ljuB3Mj6T8y50nc8bnlP4zJ9I5jvfc/JF/DRopz+T9s6Ra4zFX6P5txT6dNuAFAB+Mmpb1e4D8wcK9pG9nwP97oUUqLveo/rtljePIYBEBKZvCQumL0PxllXpnTmwdAEfq2LLnL2z9+8IJaC9HVPytVWFSAPNk/JtZpFiyqAED3ZfuzYH7/P+aKg4Hegek/UAhOGDKf/T9FAnsh+dDgPw306HUW2ug/eXBR05ef4D8KRE3lA37MPxwlrqXRRPw/60C3EvHg2T88ANtXJinGP8ODkJW5I/o/ibvcw8nBE0AtnfozsCgTQGkKRN5N1tw//MtJG48P+D9tWSYAm+/kPw==\",\"dtype\":\"float64\",\"shape\":[689]},\"y\":{\"__ndarray__\":\"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\",\"dtype\":\"float64\",\"shape\":[689]}},\"selected\":{\"id\":\"4bc11d29-9e1a-405a-904c-dcd303444101\",\"type\":\"Selection\"},\"selection_policy\":{\"id\":\"1c28e096-3c26-481b-9284-f9afcf261ab9\",\"type\":\"UnionRenderers\"}},\"id\":\"63a9da7b-1ff8-4c3d-b792-ad2fefa5d06b\",\"type\":\"ColumnDataSource\"},{\"attributes\":{\"overlay\":{\"id\":\"4c4b35d0-22e6-45ee-a580-fc1af2b2dadf\",\"type\":\"BoxAnnotation\"}},\"id\":\"a2b92eb1-3025-423d-ae1d-b9dbd8042222\",\"type\":\"BoxZoomTool\"},{\"attributes\":{},\"id\":\"b0d84af7-f06f-4a09-b221-c21c6e3f3d02\",\"type\":\"BasicTicker\"},{\"attributes\":{},\"id\":\"6bd57ddc-807d-4ba2-a02f-f3a38ef160e2\",\"type\":\"BasicTicker\"},{\"attributes\":{},\"id\":\"ce6f8188-7c70-4958-88fc-41c361fb81a8\",\"type\":\"BasicTickFormatter\"},{\"attributes\":{\"formatter\":{\"id\":\"af462111-856e-4643-aff8-63bf1b97f98b\",\"type\":\"BasicTickFormatter\"},\"plot\":{\"id\":\"4d1884b9-81e1-42dd-8fd8-5d820326386f\",\"subtype\":\"Figure\",\"type\":\"Plot\"},\"ticker\":{\"id\":\"6bd57ddc-807d-4ba2-a02f-f3a38ef160e2\",\"type\":\"BasicTicker\"}},\"id\":\"6b25c869-067f-470d-b699-a717a5271241\",\"type\":\"LinearAxis\"},{\"attributes\":{\"source\":{\"id\":\"63a9da7b-1ff8-4c3d-b792-ad2fefa5d06b\",\"type\":\"ColumnDataSource\"}},\"id\":\"1f38a99d-a718-4139-889e-0e24b58b9315\",\"type\":\"CDSView\"},{\"attributes\":{},\"id\":\"055d5f10-21e1-4749-803c-70a55e0bbdae\",\"type\":\"WheelZoomTool\"},{\"attributes\":{\"callback\":null},\"id\":\"6012f57d-9ff5-4a8c-b713-e798c08dfb20\",\"type\":\"DataRange1d\"},{\"attributes\":{\"fill_alpha\":{\"value\":0.1},\"fill_color\":{\"value\":\"#1f77b4\"},\"line_alpha\":{\"value\":0.1},\"line_color\":{\"value\":\"#1f77b4\"},\"size\":{\"units\":\"screen\",\"value\":12},\"x\":{\"field\":\"x\"},\"y\":{\"field\":\"y\"}},\"id\":\"d24aeeed-3777-4ec6-af92-507ae8ea1840\",\"type\":\"Circle\"},{\"attributes\":{},\"id\":\"addc5808-d58c-4249-a771-3469a3aaeedd\",\"type\":\"SaveTool\"},{\"attributes\":{},\"id\":\"1c28e096-3c26-481b-9284-f9afcf261ab9\",\"type\":\"UnionRenderers\"},{\"attributes\":{\"plot\":null,\"text\":\"\"},\"id\":\"3759dbad-1b08-4415-a5eb-568e92ce20a8\",\"type\":\"Title\"},{\"attributes\":{\"formatter\":{\"id\":\"ce6f8188-7c70-4958-88fc-41c361fb81a8\",\"type\":\"BasicTickFormatter\"},\"plot\":{\"id\":\"4d1884b9-81e1-42dd-8fd8-5d820326386f\",\"subtype\":\"Figure\",\"type\":\"Plot\"},\"ticker\":{\"id\":\"b0d84af7-f06f-4a09-b221-c21c6e3f3d02\",\"type\":\"BasicTicker\"}},\"id\":\"f2eeb00b-bc76-4d18-bb95-3ffd7fb58aec\",\"type\":\"LinearAxis\"},{\"attributes\":{\"bottom_units\":\"screen\",\"fill_alpha\":{\"value\":0.5},\"fill_color\":{\"value\":\"lightgrey\"},\"left_units\":\"screen\",\"level\":\"overlay\",\"line_alpha\":{\"value\":1.0},\"line_color\":{\"value\":\"black\"},\"line_dash\":[4,4],\"line_width\":{\"value\":2},\"plot\":null,\"render_mode\":\"css\",\"right_units\":\"screen\",\"top_units\":\"screen\"},\"id\":\"4c4b35d0-22e6-45ee-a580-fc1af2b2dadf\",\"type\":\"BoxAnnotation\"},{\"attributes\":{\"plot\":{\"id\":\"4d1884b9-81e1-42dd-8fd8-5d820326386f\",\"subtype\":\"Figure\",\"type\":\"Plot\"},\"source\":{\"id\":\"63a9da7b-1ff8-4c3d-b792-ad2fefa5d06b\",\"type\":\"ColumnDataSource\"},\"text\":{\"field\":\"word\"},\"text_align\":\"center\",\"text_color\":{\"field\":\"#66666\"},\"text_font_size\":{\"value\":\"8pt\"},\"x\":{\"field\":\"x\"},\"y\":{\"field\":\"y\"},\"y_offset\":{\"value\":8}},\"id\":\"731b2c5f-4284-448c-8eb3-6e4e168b2844\",\"type\":\"LabelSet\"},{\"attributes\":{},\"id\":\"af462111-856e-4643-aff8-63bf1b97f98b\",\"type\":\"BasicTickFormatter\"},{\"attributes\":{},\"id\":\"351a6e38-295e-4e01-beb8-f2535d051f1f\",\"type\":\"LinearScale\"}],\"root_ids\":[\"4d1884b9-81e1-42dd-8fd8-5d820326386f\"]},\"title\":\"Bokeh Application\",\"version\":\"0.12.16\"}};\n",
       "  var render_items = [{\"docid\":\"e11ebbae-5df5-475e-8f77-db9cad9857e3\",\"elementid\":\"cba29f33-2629-4376-abc7-3a9e753573b4\",\"modelid\":\"4d1884b9-81e1-42dd-8fd8-5d820326386f\",\"notebook_comms_target\":\"8eceaa1e-cd80-4069-8dc7-6f3709c819b9\"}];\n",
       "  root.Bokeh.embed.embed_items_notebook(docs_json, render_items);\n",
       "\n",
       "  }\n",
       "  if (root.Bokeh !== undefined) {\n",
       "    embed_document(root);\n",
       "  } else {\n",
       "    var attempts = 0;\n",
       "    var timer = setInterval(function(root) {\n",
       "      if (root.Bokeh !== undefined) {\n",
       "        embed_document(root);\n",
       "        clearInterval(timer);\n",
       "      }\n",
       "      attempts++;\n",
       "      if (attempts > 100) {\n",
       "        console.log(\"Bokeh: ERROR: Unable to run BokehJS code because BokehJS library is missing\")\n",
       "        clearInterval(timer);\n",
       "      }\n",
       "    }, 10, root)\n",
       "  }\n",
       "})(window);"
      ],
      "application/vnd.bokehjs_exec.v0+json": ""
     },
     "metadata": {
      "application/vnd.bokehjs_exec.v0+json": {
       "id": "4d1884b9-81e1-42dd-8fd8-5d820326386f"
      }
     },
     "output_type": "display_data"
    },
    {
     "data": {
      "text/html": [
       "<p><code>&lt;Bokeh Notebook handle for <strong>In[72]</strong>&gt;</code></p>"
      ],
      "text/plain": [
       "<bokeh.io.notebook.CommsHandle at 0x7f337b343160>"
      ]
     },
     "execution_count": 72,
     "metadata": {},
     "output_type": "execute_result"
    }
   ],
   "source": [
    "svd = TruncatedSVD(n_components=2)\n",
    "words_2d = svd.fit_transform(data_vector.T)\n",
    "df = pd.DataFrame(columns=['x', 'y', 'word'])\n",
    "df['x'], df['y'], df['word'] = words_2d[:,0], words_2d[:,1], vectorize.get_feature_names()\n",
    "source = ColumnDataSource(ColumnDataSource.from_df(df))\n",
    "labels = LabelSet(x=\"x\", y=\"y\", text=\"word\", y_offset=8,\n",
    "text_font_size=\"8pt\", text_color=\"#66666\",\n",
    "source=source, text_align='center')\n",
    "plot = figure(plot_width=600, plot_height=600)\n",
    "plot.circle(\"x\", \"y\", size=12, source=source, line_color=\"black\", fill_alpha=0.8)\n",
    "plot.add_layout(labels)\n",
    "show(plot, notebook_handle=True)"
   ]
  },
  {
   "cell_type": "code",
   "execution_count": 7,
   "metadata": {},
   "outputs": [
    {
     "name": "stderr",
     "output_type": "stream",
     "text": [
      "/home/berhe/anaconda3/envs/pyannote/lib/python3.6/site-packages/sklearn/decomposition/online_lda.py:314: DeprecationWarning: n_topics has been renamed to n_components in version 0.19 and will be removed in 0.21\n",
      "  DeprecationWarning)\n"
     ]
    },
    {
     "name": "stdout",
     "output_type": "stream",
     "text": [
      "[0.93546794 0.01298919 0.0129159  0.01282523 0.01295619 0.01284555] 1.0\n"
     ]
    }
   ],
   "source": [
    "lda_model = LatentDirichletAllocation(n_topics=6, max_iter=10, learning_method='online')\n",
    "lda_Z = lda_model.fit_transform(data_vector)\n",
    " \n",
    "text = scene_textsA[1]\n",
    "x = lda_model.transform(vectorize.transform([text]))[0]\n",
    "print(x, x.sum())"
   ]
  },
  {
   "cell_type": "code",
   "execution_count": 8,
   "metadata": {},
   "outputs": [],
   "source": [
    "scene_lblsA=[8 if i=='NA' else int(i) for i in scene_lblsA]"
   ]
  },
  {
   "cell_type": "code",
   "execution_count": 9,
   "metadata": {},
   "outputs": [],
   "source": [
    "predicted_topics=[]\n",
    "for tex in scene_textsA: \n",
    "    x = lda_model.transform(vectorize.transform([tex]))[0]\n",
    "    x=[i for i in x]\n",
    "    #print('the topic label: {}'.format((x.index(max(x))+1)))\n",
    "    predicted_topics.append(x.index(max(x))+1)"
   ]
  },
  {
   "cell_type": "code",
   "execution_count": 10,
   "metadata": {},
   "outputs": [
    {
     "data": {
      "text/plain": [
       "0.3153526970954357"
      ]
     },
     "execution_count": 10,
     "metadata": {},
     "output_type": "execute_result"
    }
   ],
   "source": [
    "scene_lblsA=np.array(scene_lblsA)\n",
    "predicted_topics=np.array(predicted_topics)\n",
    "em.purity_score(scene_lblsA,predicted_topics)"
   ]
  },
  {
   "cell_type": "code",
   "execution_count": 11,
   "metadata": {},
   "outputs": [],
   "source": [
    "scene_lblsA=np.array(scene_lblsA)\n",
    "predicted_topics=np.array(predicted_topics)"
   ]
  },
  {
   "cell_type": "code",
   "execution_count": 12,
   "metadata": {},
   "outputs": [
    {
     "data": {
      "text/plain": [
       "(241, 241)"
      ]
     },
     "execution_count": 12,
     "metadata": {},
     "output_type": "execute_result"
    }
   ],
   "source": [
    "len(scene_lblsA),len(predicted_topics)"
   ]
  },
  {
   "cell_type": "code",
   "execution_count": 20,
   "metadata": {},
   "outputs": [
    {
     "name": "stdout",
     "output_type": "stream",
     "text": [
      "[2 2 2 2 8 2 2 0 0 0 0 0 0 0 0 0 0 0 1 1 0 0 0 0 0 0 0 0 1 1 0 1 1 0 0 0 2\n",
      " 2 0 2 2 3 1 2 0 1 2 0 0 0 1 1 3 3 3 3 3 2 2 2 2 2 2 8 3 3 1 2 3 1 3 3 2 2\n",
      " 2 0 0 1 1 0 0 1 1 0 1 2 8 1 1 1 2 0 0 0 3 3 3 3 2 3 3 3 3 3 2 2 2 0 2 0 3\n",
      " 3 1 8 0 0 0 0 4 4 8 8 0 0 0 0 0 0 0 3 0 0 0 3 3 0 0 0 0 8 2 0 1 1 1 1 3 2\n",
      " 0 0 3 3 2 2 3 2 8 2 0 8 8 2 2 8 1 2 2 2 0 0 0 0 1 1 2 2 2 1 1 0 0 2 2 8 2\n",
      " 2 2 2 2 2 2 2 2 2 1 1 2 3 2 8 5 1 1 0 0 4 4 3 1 4 3 3 3 3 3 2 2 8 3 4 4 2\n",
      " 2 2 4 4 8 2 1 0 0 1 1 0 0 0 0 0 4 3 3]\n"
     ]
    }
   ],
   "source": [
    "print(scene_lblsA)"
   ]
  },
  {
   "cell_type": "code",
   "execution_count": 21,
   "metadata": {},
   "outputs": [
    {
     "name": "stderr",
     "output_type": "stream",
     "text": [
      "/home/berhe/anaconda3/envs/pyannote/lib/python3.6/site-packages/pyLDAvis/_prepare.py:257: FutureWarning: Sorting because non-concatenation axis is not aligned. A future version\n",
      "of pandas will change to not sort by default.\n",
      "\n",
      "To accept the future behavior, pass 'sort=True'.\n",
      "\n",
      "To retain the current behavior and silence the warning, pass sort=False\n",
      "\n",
      "  return pd.concat([default_term_info] + list(topic_dfs))\n"
     ]
    },
    {
     "data": {
      "text/html": [
       "\n",
       "<link rel=\"stylesheet\" type=\"text/css\" href=\"https://cdn.rawgit.com/bmabey/pyLDAvis/files/ldavis.v1.0.0.css\">\n",
       "\n",
       "\n",
       "<div id=\"ldavis_el196071403461932859121126227647\"></div>\n",
       "<script type=\"text/javascript\">\n",
       "\n",
       "var ldavis_el196071403461932859121126227647_data = {\"mdsDat\": {\"x\": [-15.532559394836426, 15.59937572479248, 84.45729064941406, 27.021865844726562, 77.39826965332031, 37.789390563964844], \"y\": [-48.27510070800781, 6.587045669555664, -68.754150390625, -94.83702850341797, -6.068456172943115, -42.269100189208984], \"topics\": [1, 2, 3, 4, 5, 6], \"cluster\": [1, 1, 1, 1, 1, 1], \"Freq\": [48.52835031954917, 28.85894257765417, 9.548111770166932, 7.371965301028347, 5.073536849449669, 0.6190931821517088]}, \"tinfo\": {\"Category\": [\"Default\", \"Default\", \"Default\", \"Default\", \"Default\", \"Default\", \"Default\", \"Default\", \"Default\", \"Default\", \"Default\", \"Default\", \"Default\", \"Default\", \"Default\", \"Default\", \"Default\", \"Default\", \"Default\", \"Default\", \"Default\", \"Default\", \"Default\", \"Default\", \"Default\", \"Default\", \"Default\", \"Default\", \"Default\", \"Default\", \"Topic1\", \"Topic1\", \"Topic1\", \"Topic1\", \"Topic1\", \"Topic1\", \"Topic1\", \"Topic1\", \"Topic1\", \"Topic1\", \"Topic1\", \"Topic1\", \"Topic1\", \"Topic1\", \"Topic1\", \"Topic1\", \"Topic1\", \"Topic1\", \"Topic1\", \"Topic1\", \"Topic1\", \"Topic1\", \"Topic1\", \"Topic1\", \"Topic1\", \"Topic1\", \"Topic1\", \"Topic1\", \"Topic1\", \"Topic1\", \"Topic1\", \"Topic1\", \"Topic1\", \"Topic1\", \"Topic1\", \"Topic1\", \"Topic1\", \"Topic1\", \"Topic1\", \"Topic1\", \"Topic1\", \"Topic1\", \"Topic1\", \"Topic1\", \"Topic1\", \"Topic1\", \"Topic1\", \"Topic1\", \"Topic1\", \"Topic1\", \"Topic1\", \"Topic1\", \"Topic1\", \"Topic1\", \"Topic1\", \"Topic1\", \"Topic1\", \"Topic1\", \"Topic1\", \"Topic1\", \"Topic1\", \"Topic1\", \"Topic1\", \"Topic1\", \"Topic1\", \"Topic1\", \"Topic1\", \"Topic1\", \"Topic1\", \"Topic1\", \"Topic2\", \"Topic2\", \"Topic2\", \"Topic2\", \"Topic2\", \"Topic2\", \"Topic2\", \"Topic2\", \"Topic2\", \"Topic2\", \"Topic2\", \"Topic2\", \"Topic2\", \"Topic2\", \"Topic2\", \"Topic2\", \"Topic2\", \"Topic2\", \"Topic2\", \"Topic2\", \"Topic2\", \"Topic2\", \"Topic2\", \"Topic2\", \"Topic2\", \"Topic2\", \"Topic2\", \"Topic2\", \"Topic2\", \"Topic2\", \"Topic2\", \"Topic2\", \"Topic2\", \"Topic2\", \"Topic2\", \"Topic2\", \"Topic2\", \"Topic2\", \"Topic2\", \"Topic2\", \"Topic2\", \"Topic2\", \"Topic2\", \"Topic2\", \"Topic2\", \"Topic2\", \"Topic2\", \"Topic2\", \"Topic2\", \"Topic2\", \"Topic2\", \"Topic2\", \"Topic2\", \"Topic2\", \"Topic2\", \"Topic2\", \"Topic2\", \"Topic2\", \"Topic2\", \"Topic2\", \"Topic2\", \"Topic3\", \"Topic3\", \"Topic3\", \"Topic3\", \"Topic3\", \"Topic3\", \"Topic3\", \"Topic3\", \"Topic3\", \"Topic3\", \"Topic3\", \"Topic3\", \"Topic3\", \"Topic3\", \"Topic3\", \"Topic3\", \"Topic3\", \"Topic3\", \"Topic3\", \"Topic3\", \"Topic3\", \"Topic3\", \"Topic3\", \"Topic3\", \"Topic3\", \"Topic3\", \"Topic3\", \"Topic3\", \"Topic3\", \"Topic3\", \"Topic3\", \"Topic3\", \"Topic3\", \"Topic3\", \"Topic3\", \"Topic3\", \"Topic3\", \"Topic3\", \"Topic3\", \"Topic3\", \"Topic3\", \"Topic3\", \"Topic3\", \"Topic3\", \"Topic3\", \"Topic3\", \"Topic3\", \"Topic3\", \"Topic3\", \"Topic3\", \"Topic3\", \"Topic3\", \"Topic3\", \"Topic3\", \"Topic3\", \"Topic3\", \"Topic3\", \"Topic3\", \"Topic3\", \"Topic4\", \"Topic4\", \"Topic4\", \"Topic4\", \"Topic4\", \"Topic4\", \"Topic4\", \"Topic4\", \"Topic4\", \"Topic4\", \"Topic4\", \"Topic4\", \"Topic4\", \"Topic4\", \"Topic4\", \"Topic4\", \"Topic4\", \"Topic4\", \"Topic4\", \"Topic4\", \"Topic4\", \"Topic4\", \"Topic4\", \"Topic4\", \"Topic4\", \"Topic4\", \"Topic4\", \"Topic4\", \"Topic4\", \"Topic4\", \"Topic4\", \"Topic4\", \"Topic4\", \"Topic4\", \"Topic4\", \"Topic4\", \"Topic4\", \"Topic4\", \"Topic4\", \"Topic4\", \"Topic4\", \"Topic4\", \"Topic4\", \"Topic4\", \"Topic4\", \"Topic4\", \"Topic4\", \"Topic4\", \"Topic4\", \"Topic4\", \"Topic4\", \"Topic4\", \"Topic4\", \"Topic4\", \"Topic4\", \"Topic4\", \"Topic4\", \"Topic4\", \"Topic4\", \"Topic4\", \"Topic4\", \"Topic4\", \"Topic5\", \"Topic5\", \"Topic5\", \"Topic5\", \"Topic5\", \"Topic5\", \"Topic5\", \"Topic5\", \"Topic5\", \"Topic5\", \"Topic5\", \"Topic5\", \"Topic5\", \"Topic5\", \"Topic5\", \"Topic5\", \"Topic5\", \"Topic5\", \"Topic5\", \"Topic5\", \"Topic5\", \"Topic5\", \"Topic5\", \"Topic5\", \"Topic5\", \"Topic5\", \"Topic5\", \"Topic5\", \"Topic5\", \"Topic5\", \"Topic5\", \"Topic5\", \"Topic5\", \"Topic5\", \"Topic5\", \"Topic5\", \"Topic5\", \"Topic5\", \"Topic5\", \"Topic5\", \"Topic5\", \"Topic5\", \"Topic5\", \"Topic5\", \"Topic5\", \"Topic5\", \"Topic5\", \"Topic5\", \"Topic5\", \"Topic6\", \"Topic6\", \"Topic6\", \"Topic6\", \"Topic6\", \"Topic6\", \"Topic6\", \"Topic6\", \"Topic6\", \"Topic6\", \"Topic6\", \"Topic6\", \"Topic6\", \"Topic6\", \"Topic6\", \"Topic6\", \"Topic6\", \"Topic6\", \"Topic6\", \"Topic6\", \"Topic6\", \"Topic6\", \"Topic6\", \"Topic6\", \"Topic6\", \"Topic6\", \"Topic6\", \"Topic6\", \"Topic6\", \"Topic6\", \"Topic6\", \"Topic6\", \"Topic6\", \"Topic6\", \"Topic6\", \"Topic6\", \"Topic6\"], \"Freq\": [248.0, 190.0, 101.0, 84.0, 48.0, 66.0, 15.0, 65.0, 146.0, 120.0, 30.0, 43.0, 35.0, 163.0, 46.0, 98.0, 128.0, 58.0, 84.0, 33.0, 33.0, 106.0, 147.0, 76.0, 71.0, 20.0, 35.0, 47.0, 30.0, 41.0, 11.423299957332697, 10.460723403759093, 9.615054622182328, 60.66381676730877, 47.266468671945525, 10.28607949968847, 9.610594303349856, 8.58273927423771, 8.496426288977759, 9.175592854112688, 7.864107217330504, 21.606371863547366, 8.356812877950778, 13.903089782359467, 6.2313928652038335, 6.0426454565236005, 6.074091485569563, 6.560175877497504, 6.177000494855074, 10.605884802636787, 10.123011335129252, 14.335091693609273, 11.450480675028892, 6.188369937035809, 8.345595370761444, 10.517652716131746, 7.139416225678613, 5.026578721648779, 10.669260002512424, 8.005681497024053, 45.76801426232318, 139.5848214656582, 29.059733827195494, 17.220767321248765, 178.08834225859354, 59.68584664296617, 23.738413833993274, 19.81884015273461, 51.46220350213126, 85.53467002600468, 22.70077563965611, 16.374349508191255, 90.56456765596067, 41.54415931302553, 24.37294970650727, 45.669505112924824, 21.76283572970137, 34.6974425361104, 15.317425148201973, 29.507073315870525, 36.24582485923097, 47.7151765557523, 28.072643703449874, 30.809248892582698, 30.89903829427466, 37.90315832425668, 34.857687203590125, 41.711124398156066, 28.10723197476212, 62.888886376197966, 43.00716959343877, 47.62275535894677, 49.122065045295294, 60.67656113140546, 44.076589260188655, 32.497508225071826, 33.712379964613824, 39.71305864264094, 32.381395651502984, 32.40438158082657, 16.432867123341897, 15.757393864191656, 7.27535486902698, 8.188262333465085, 7.743371664790964, 33.84428818022308, 7.878239358458893, 5.004781975911583, 9.518957474717917, 5.293990957862514, 28.4998951878932, 54.344330905721755, 29.830643076313613, 4.7646222134512, 7.39667052476055, 6.786671764470456, 5.2518267236147365, 4.941137118862706, 7.6162069233508, 4.4080676102785485, 6.941617857924209, 6.565517858280084, 10.090238752558301, 37.85926962595392, 16.08929444939074, 4.7139913674882274, 4.3123496180190175, 12.744480841729695, 4.285368944004976, 20.396023276571412, 10.80417276133322, 16.866630129929426, 23.686355707597766, 24.53535262972376, 59.81251595398217, 74.07908257404235, 14.233212347466507, 18.30555776364173, 13.031029664138963, 18.900151531531492, 21.496311420266647, 29.261745639368893, 52.30109950658626, 19.05251176958754, 24.382475754644922, 28.179717028509337, 31.19366471788531, 34.73625439670907, 35.25268769745266, 30.428611152702455, 23.1435626310707, 19.894071799561328, 25.423086367397868, 22.69459553580228, 25.568349043875774, 31.200871534556743, 25.314610727721206, 30.85625280746489, 19.85149133637191, 20.013042241021076, 19.33974557744253, 3.589646312363113, 3.7620072665482622, 4.958210601930646, 7.037450526320775, 3.6546755170085072, 3.196976520334974, 3.5802507353802335, 4.828627124500341, 17.22890441143412, 11.060071798344607, 2.581698065765114, 5.876969279482363, 3.059714301699288, 3.65708907203689, 2.5974581865193747, 4.077153847173392, 3.209424751311683, 3.8433541783549456, 3.245431346552487, 4.3822538855184785, 2.2632167443210984, 2.5849897886174014, 2.3359478985333784, 1.9198428048827458, 3.0787353701630185, 4.787359754589284, 1.8607278042543314, 4.295463145389194, 3.462369527950384, 2.2478851961332933, 2.6968352068101837, 9.11620979452853, 6.652994390681726, 9.49731545289058, 6.416302930211551, 9.07430584131337, 5.959833764590223, 7.424456677712168, 9.481507560285536, 20.42427176120348, 16.367574556221037, 12.425459165858967, 13.48298673667615, 4.319884646253727, 7.4073723956733435, 13.810338072347903, 10.115068783683508, 9.630642423300076, 7.462863034324724, 12.667609015088926, 10.60512469737725, 9.405109531020743, 8.104842138976606, 7.790210967566761, 5.883670427966306, 5.954889566640672, 9.04924040389734, 6.131150907228522, 5.933241570577847, 3.380729140535972, 3.3473911688432083, 5.190626405257943, 3.7718501877146604, 3.722717449418915, 2.8557758688207646, 2.642656598080453, 5.546429083936537, 7.403725136401447, 2.513008447359974, 2.320234250336597, 3.6240121027660503, 2.660313028079792, 3.6423065339430507, 2.3133807020722377, 2.2462712788686097, 3.756554378128796, 2.2416066769068848, 2.3029795348278097, 2.6099690953246575, 1.6595499561176896, 2.9006879713077853, 2.536021292021772, 2.529187373367535, 2.349042997202517, 3.020341195934659, 2.3856210974276006, 2.8406873709510063, 1.909479737307316, 6.169083113248791, 4.104473375983157, 4.494563995501993, 5.009394816141674, 3.544542399402753, 12.861230517392643, 7.730955303569943, 11.23922217001568, 7.434523033376624, 4.238052585893727, 6.462218502789222, 5.378012273599224, 10.168596335604805, 9.35766915868168, 7.166869661297814, 14.942390939289787, 8.73308122597648, 11.210379036393881, 7.269716001380977, 10.978762677326424, 4.744485936577696, 7.434048210544212, 8.456967874428583, 8.66604958683636, 7.260156411832175, 5.204265160592049, 5.614877832422297, 6.349795268002167, 4.873753921522486, 5.028501171436849, 5.6674332105179, 5.188589830395178, 4.978178081695764, 8.184891819789428, 4.684270936059683, 4.412186195508572, 3.3116135745296393, 3.582683184301013, 3.685349221962701, 3.534960557464662, 2.3865261197323293, 2.38857046783869, 2.4067680400346845, 2.5344942326418076, 2.403791496010188, 2.5708720649456906, 5.664632251876501, 1.6099628036165985, 1.4518731628367394, 1.640250641655245, 1.5500675825763768, 1.8087779119376812, 2.352633761034224, 3.1867258616310186, 1.6150539617262394, 1.5059435608710248, 1.5019547484522004, 11.256568670006402, 2.3945858452297646, 3.3235586068124925, 2.7729053492331825, 4.08538415277614, 3.33359524107019, 4.794732629825665, 10.642477394230403, 10.665641276473453, 3.4916189976558782, 15.483540391208386, 2.5853391069113547, 3.3569064238712, 4.0409220304652305, 8.840838755099893, 6.004036617348261, 6.49829132152867, 4.147810792154391, 5.016176641801148, 3.5086854860566574, 5.699890649732829, 3.762472594180048, 5.325662635213482, 3.740736771171932, 3.838506426216989, 0.8525081219396297, 0.5919548775174227, 0.6458790448083357, 1.1371517644850586, 0.6068862434243094, 0.37606820256277956, 0.3674620945649743, 0.3598336338388694, 0.31502287081622277, 0.3536475374380204, 0.38635205864533045, 0.32878522036029195, 0.3622672773734388, 0.3631366482882513, 0.32352791192130403, 0.28255910258188555, 0.3250052203160437, 0.29611853923967596, 0.4627830927767656, 0.2771277508796908, 0.32761350784293436, 0.4707346504923985, 0.2484754377533009, 0.23229490744509318, 0.21870849508220058, 0.0908142562803853, 0.21555486229634915, 0.515200363614674, 0.10447047418033326, 0.09136866517662796, 0.094731132902571, 0.4665944042990229, 0.4878074145205581, 0.48714828527825144, 0.43279963754649153, 0.5994174936019133, 0.29859912371223035], \"Term\": [\"lord\", \"king\", \"like\", \"come\", \"right\", \"dothraki\", \"half\", \"son\", \"know\", \"want\", \"khal\", \"didn\", \"sister\", \"don\", \"life\", \"did\", \"father\", \"yes\", \"tell\", \"house\", \"leave\", \"men\", \"man\", \"good\", \"stark\", \"today\", \"lannisters\", \"lannister\", \"throne\", \"mother\", \"treason\", \"gregor\", \"jolfrey\", \"ser\", \"grace\", \"wolf\", \"cheering\", \"butcher\", \"loyal\", \"hate\", \"lucky\", \"sansa\", \"shut\", \"peace\", \"renly\", \"pycelle\", \"tournament\", \"matters\", \"barristan\", \"imp\", \"cersei\", \"knight\", \"council\", \"dog\", \"real\", \"crimes\", \"heir\", \"answer\", \"crowd\", \"pardon\", \"hand\", \"king\", \"girl\", \"joffrey\", \"lord\", \"lady\", \"throne\", \"command\", \"stark\", \"father\", \"realm\", \"iend\", \"man\", \"let\", \"sword\", \"little\", \"jaime\", \"honour\", \"neighs\", \"does\", \"make\", \"boy\", \"queen\", \"lannister\", \"look\", \"son\", \"yes\", \"good\", \"hear\", \"know\", \"brother\", \"did\", \"men\", \"don\", \"like\", \"robert\", \"time\", \"want\", \"say\", \"tell\", \"walkers\", \"white\", \"knife\", \"wildlings\", \"ranger\", \"speaks\", \"viserys\", \"rain\", \"play\", \"living\", \"wall\", \"dothraki\", \"khaleesi\", \"clothes\", \"pray\", \"summer\", \"asshai\", \"castles\", \"matter\", \"rustling\", \"easy\", \"aemon\", \"winter\", \"night\", \"dragon\", \"wound\", \"common\", \"really\", \"tent\", \"khal\", \"eyes\", \"robb\", \"long\", \"watch\", \"want\", \"don\", \"took\", \"blood\", \"things\", \"away\", \"day\", \"say\", \"know\", \"old\", \"just\", \"time\", \"tell\", \"like\", \"men\", \"come\", \"years\", \"thing\", \"little\", \"think\", \"brother\", \"man\", \"did\", \"lord\", \"going\", \"good\", \"let\", \"commands\", \"kingslayer\", \"speaking\", \"moon\", \"shrks\", \"happening\", \"belong\", \"seeing\", \"house\", \"family\", \"nest\", \"fat\", \"drunk\", \"rock\", \"whistling\", \"barking\", \"giving\", \"lives\", \"supposed\", \"duty\", \"ears\", \"thunder\", \"narrow\", \"touch\", \"snorts\", \"screaming\", \"agree\", \"lion\", \"welcome\", \"rider\", \"sigil\", \"saw\", \"send\", \"war\", \"words\", \"lannisters\", \"today\", \"told\", \"mother\", \"know\", \"men\", \"did\", \"father\", \"hit\", \"dead\", \"don\", \"tell\", \"brother\", \"lannister\", \"king\", \"man\", \"want\", \"come\", \"lady\", \"way\", \"people\", \"lord\", \"life\", \"boy\", \"gonna\", \"sync\", \"dwarf\", \"rich\", \"crows\", \"clanging\", \"footsteps\", \"mind\", \"stannis\", \"creaking\", \"strange\", \"face\", \"hours\", \"sent\", \"land\", \"walk\", \"water\", \"sing\", \"master\", \"greyjoy\", \"blessing\", \"sort\", \"dies\", \"fought\", \"lied\", \"cock\", \"steward\", \"making\", \"hill\", \"swords\", \"tyrion\", \"stupid\", \"vale\", \"course\", \"son\", \"jon\", \"yes\", \"door\", \"mean\", \"sister\", \"laughs\", \"tell\", \"good\", \"lannister\", \"lord\", \"boy\", \"man\", \"robert\", \"king\", \"family\", \"come\", \"know\", \"don\", \"did\", \"leave\", \"look\", \"like\", \"gold\", \"rst\", \"father\", \"think\", \"brother\", \"aryal\", \"sam\", \"sons\", \"sigil\", \"daughters\", \"talking\", \"marry\", \"whimpering\", \"easier\", \"direwolf\", \"whimpers\", \"smell\", \"brave\", \"sorry\", \"outside\", \"northern\", \"fast\", \"chambers\", \"walls\", \"couldn\", \"kind\", \"gets\", \"ighten\", \"getting\", \"right\", \"whines\", \"meant\", \"raven\", \"hair\", \"stupid\", \"bran\", \"come\", \"like\", \"says\", \"lord\", \"snow\", \"black\", \"door\", \"king\", \"did\", \"want\", \"mother\", \"stark\", \"got\", \"don\", \"lannisters\", \"father\", \"love\", \"man\", \"forget\", \"murdered\", \"different\", \"half\", \"rode\", \"month\", \"shrks\", \"job\", \"wars\", \"begin\", \"oath\", \"news\", \"screams\", \"swore\", \"ghting\", \"promised\", \"protect\", \"meet\", \"knew\", \"hke\", \"piss\", \"today\", \"crown\", \"cheering\", \"grunting\", \"northern\", \"crowd\", \"khal\", \"certain\", \"taking\", \"whinnies\", \"leave\", \"sister\", \"didn\", \"life\", \"king\", \"throne\"], \"Total\": [248.0, 190.0, 101.0, 84.0, 48.0, 66.0, 15.0, 65.0, 146.0, 120.0, 30.0, 43.0, 35.0, 163.0, 46.0, 98.0, 128.0, 58.0, 84.0, 33.0, 33.0, 106.0, 147.0, 76.0, 71.0, 20.0, 35.0, 47.0, 30.0, 41.0, 12.405959792736123, 11.436238951977161, 10.540023548491968, 66.81374700917897, 52.23031050427224, 11.428056451328496, 10.726818607323464, 9.591576866756276, 9.566567223866453, 10.350911988455632, 8.913751663069165, 24.509317223587047, 9.56279206598762, 16.07237336101593, 7.213571411105528, 6.998000491331909, 7.056299573377415, 7.6354418315579915, 7.198263519623419, 12.382411951672308, 11.819979245378859, 16.759482306909426, 13.391979702874208, 7.237809383274936, 9.785304471430548, 12.355837936213263, 8.447003471834266, 5.962494164205921, 12.67453401630704, 9.51372316684071, 55.95161839102704, 190.3903456716982, 36.539321993685505, 21.245903871134725, 248.6500686436894, 79.96217325918677, 30.49109818891573, 25.24893916878562, 71.6704666214179, 128.64743618325144, 29.638160276333622, 20.641412108790387, 147.5207048516574, 64.46269996419883, 34.17884460792455, 75.21427810292762, 30.161764540420965, 53.68025101087615, 19.564239941800047, 44.522536633139524, 57.85225505013854, 82.88492411184757, 42.07642390881276, 47.9414627734155, 49.37486334969707, 65.07586639466251, 58.94002883729632, 76.17905538173613, 44.54867655392486, 146.49948472594897, 84.46306120296578, 98.72403092648055, 106.21376637660447, 163.0682330433045, 101.09584833088115, 60.41387164467779, 70.84607090319427, 120.5743579391915, 65.20965724402632, 84.45353923848947, 17.632200920785014, 16.96508016718991, 8.387918790414187, 9.504255546411331, 9.039106962523316, 39.59783998369945, 9.397890489351632, 5.985742804397675, 11.441210606139572, 6.389837048263238, 34.54971349340762, 66.81691399452849, 38.52671057080385, 6.179186914225159, 9.76219223847459, 9.068414117670589, 7.021619693029666, 6.7064914624415595, 10.395417333087691, 6.048584920169486, 9.653915152421904, 9.147137288749807, 14.2103477060637, 54.634564152880344, 23.260218928991538, 6.874652408701574, 6.290299024133315, 18.742726113575255, 6.352614920406699, 30.982787170074857, 16.60728959906861, 26.655163231638724, 39.50417999486746, 42.275290289884545, 120.5743579391915, 163.0682330433045, 23.345167578587784, 32.84145954136113, 21.728644142467523, 35.36912002439374, 42.002389128545715, 65.20965724402632, 146.49948472594897, 37.847448723139614, 55.68317257036844, 70.84607090319427, 84.45353923848947, 101.09584833088115, 106.21376637660447, 84.33404807313768, 55.088378495906134, 43.90229205643855, 75.21427810292762, 61.054003144205716, 84.46306120296578, 147.5207048516574, 98.72403092648055, 248.6500686436894, 52.64823103417755, 76.17905538173613, 64.46269996419883, 5.442326776133645, 5.977773222579669, 7.979710744091119, 11.981853340065012, 6.230046354028726, 5.65636992564554, 6.571474269136771, 9.122296470423253, 33.133632304877885, 23.819981436645296, 5.609684930042868, 12.920508238409141, 6.985026700093216, 8.478928872443001, 6.269027264655993, 9.904848472619065, 7.817058569262815, 9.440596101660946, 8.167510003897487, 11.18824620896724, 6.04345995613999, 6.926253414677159, 6.495073523068417, 5.485973190202509, 8.821244843234977, 13.718102759777278, 5.333268779993308, 12.405549192887673, 10.017533984550155, 6.510768828190106, 7.821524273211862, 28.213023846877935, 20.651650009424593, 30.583049163548136, 21.871619504932987, 35.11747068859957, 20.740504962987067, 28.076989074661956, 41.14138120085106, 146.49948472594897, 106.21376637660447, 98.72403092648055, 128.64743618325144, 13.904232016417104, 42.863484923539424, 163.0682330433045, 84.45353923848947, 84.46306120296578, 47.9414627734155, 190.3903456716982, 147.5207048516574, 120.5743579391915, 84.33404807313768, 79.96217325918677, 30.37570307458801, 32.439303070521845, 248.6500686436894, 46.94190194376062, 82.88492411184757, 5.336494381550623, 5.303845423990451, 9.024017711081088, 6.713835327804109, 6.70273166295768, 5.626234527906037, 5.435569155652784, 12.008453427539918, 16.093783291030224, 5.4848947050947405, 5.121151136417455, 8.578144312784682, 6.4898658313318425, 9.32258444385859, 6.249012872534047, 6.166242465081172, 10.899403077996928, 6.852715199879709, 7.106289549121551, 8.238452801280767, 5.258457963942371, 9.200833837496944, 8.076752541178251, 8.139918777549026, 7.823368916536287, 10.10109722807543, 7.983593020865432, 9.536478316973895, 6.415101765043988, 20.838497114444746, 13.892208019306551, 15.786096761890155, 17.800047300641722, 12.237169854700019, 65.07586639466251, 34.850760313181766, 58.94002883729632, 35.501591443037526, 17.573898808618175, 35.508033045812105, 27.085287475519127, 84.45353923848947, 76.17905538173613, 47.9414627734155, 248.6500686436894, 82.88492411184757, 147.5207048516574, 60.41387164467779, 190.3903456716982, 23.819981436645296, 84.33404807313768, 146.49948472594897, 163.0682330433045, 98.72403092648055, 33.11296977301681, 49.37486334969707, 101.09584833088115, 29.746976121138037, 35.660191652177936, 128.64743618325144, 61.054003144205716, 84.46306120296578, 13.382173905009367, 7.698055440484472, 9.879640470600359, 7.821524273211862, 8.865823337387297, 9.265231024181539, 9.01926001133329, 6.173688294215361, 6.221897004759019, 6.744501596208906, 7.619710241902168, 7.506054168341574, 8.09888780206185, 18.600883950956497, 5.590306526714745, 5.103445047101921, 6.0042671165643, 5.782592521118638, 6.833151413005296, 9.045463690947658, 12.897798746947263, 6.568455204342072, 6.39530515459238, 6.407890026453957, 48.292511224583855, 10.468390431666935, 14.577155455527382, 12.312473281089547, 19.0215160335278, 15.786096761890155, 24.716664857503424, 84.33404807313768, 101.09584833088115, 20.440177401688643, 248.6500686436894, 13.268659332333634, 24.20414015757613, 35.501591443037526, 190.3903456716982, 98.72403092648055, 120.5743579391915, 41.14138120085106, 71.6704666214179, 27.276060129309553, 163.0682330433045, 35.11747068859957, 128.64743618325144, 38.897353418912424, 147.5207048516574, 7.448233975349599, 6.676645471032008, 7.335365380359442, 15.61266548806579, 9.186511365933113, 5.773660954419224, 6.230046354028726, 6.141233202826393, 5.566113627032956, 6.259640952901621, 6.944876741056311, 6.7310049948488855, 8.007449924675319, 8.194349464222014, 8.139185688466572, 7.382131710483572, 8.916613118323477, 8.264872777830492, 14.74463417307337, 9.43795957485989, 12.641046525707976, 20.740504962987067, 11.060647268385848, 10.726818607323464, 12.254683649224509, 5.103445047101921, 12.67453401630704, 30.982787170074857, 6.3105289472326405, 5.559735150283836, 5.769414885668318, 33.11296977301681, 35.508033045812105, 43.456842424811065, 46.94190194376062, 190.3903456716982, 30.49109818891573], \"loglift\": [30.0, 29.0, 28.0, 27.0, 26.0, 25.0, 24.0, 23.0, 22.0, 21.0, 20.0, 19.0, 18.0, 17.0, 16.0, 15.0, 14.0, 13.0, 12.0, 11.0, 10.0, 9.0, 8.0, 7.0, 6.0, 5.0, 4.0, 3.0, 2.0, 1.0, 0.6405, 0.6339, 0.6312, 0.6265, 0.6232, 0.6177, 0.6131, 0.6119, 0.6044, 0.6025, 0.5977, 0.597, 0.5882, 0.578, 0.5767, 0.5762, 0.5731, 0.5712, 0.57, 0.5682, 0.568, 0.5668, 0.5664, 0.5664, 0.5639, 0.5619, 0.5548, 0.5523, 0.5508, 0.5504, 0.5221, 0.4126, 0.494, 0.513, 0.3893, 0.4306, 0.4727, 0.4809, 0.3918, 0.3149, 0.4564, 0.4914, 0.2351, 0.2837, 0.3849, 0.2241, 0.3967, 0.2866, 0.4783, 0.3117, 0.2555, 0.1708, 0.3183, 0.2809, 0.2543, 0.1825, 0.1978, 0.1207, 0.2625, -0.1226, 0.0481, -0.006, -0.0481, -0.2656, -0.1071, 0.103, -0.0196, -0.3876, 0.023, -0.2349, 1.1723, 1.1689, 1.1005, 1.0937, 1.088, 1.0857, 1.0664, 1.0638, 1.0588, 1.0546, 1.0503, 1.0361, 0.9869, 0.9828, 0.9653, 0.9529, 0.9523, 0.9373, 0.9317, 0.9264, 0.9129, 0.9111, 0.9003, 0.876, 0.8742, 0.8654, 0.8652, 0.857, 0.8491, 0.8247, 0.8128, 0.7851, 0.7312, 0.6987, 0.5417, 0.4537, 0.7479, 0.6583, 0.7315, 0.6161, 0.5729, 0.4414, 0.2127, 0.5564, 0.4169, 0.3208, 0.2468, 0.1745, 0.1398, 0.2233, 0.3755, 0.4512, 0.1581, 0.2531, 0.0478, -0.3108, -0.1182, -0.844, 0.2674, -0.094, 0.0388, 1.9327, 1.8857, 1.873, 1.8167, 1.8155, 1.7782, 1.7415, 1.7127, 1.6949, 1.5816, 1.5728, 1.5611, 1.5234, 1.5079, 1.4677, 1.4612, 1.4586, 1.4502, 1.4259, 1.4115, 1.3666, 1.3632, 1.3262, 1.2989, 1.2962, 1.2961, 1.2958, 1.2882, 1.2864, 1.2854, 1.284, 1.2191, 1.2161, 1.1794, 1.1225, 0.9956, 1.1018, 1.0187, 0.8812, 0.3785, 0.4787, 0.2762, 0.0932, 1.1799, 0.5933, -0.1199, 0.2267, 0.1775, 0.4888, -0.3612, -0.2838, -0.2022, 0.0065, 0.0201, 0.7074, 0.6537, -0.9645, 0.3133, -0.2881, 2.151, 2.1472, 2.0545, 2.0309, 2.0194, 1.9294, 1.8863, 1.835, 1.831, 1.827, 1.8158, 1.7458, 1.7157, 1.6677, 1.6138, 1.5977, 1.5423, 1.49, 1.4807, 1.458, 1.4542, 1.4531, 1.4491, 1.4386, 1.4044, 1.4002, 1.3996, 1.3964, 1.3957, 1.3902, 1.3882, 1.3512, 1.3396, 1.3684, 0.9861, 1.1016, 0.9504, 1.044, 1.1852, 0.9037, 0.9908, 0.4906, 0.5106, 0.707, -0.2044, 0.3572, 0.0304, 0.49, -0.2456, 0.9939, 0.1788, -0.2445, -0.3273, -0.0024, 0.757, 0.4335, -0.1602, 0.7986, 0.6486, -0.5149, 0.1422, -0.2238, 2.4895, 2.4844, 2.175, 2.1217, 2.075, 2.0592, 2.0445, 2.0307, 2.0238, 1.9507, 1.8804, 1.8425, 1.8337, 1.7922, 1.7363, 1.7241, 1.6835, 1.6646, 1.652, 1.6344, 1.5831, 1.5782, 1.535, 1.5304, 1.5248, 1.506, 1.5027, 1.4904, 1.443, 1.4261, 1.3412, 0.9112, 0.7321, 1.214, 0.2049, 1.3456, 1.0056, 0.808, -0.0886, 0.1812, 0.0604, 0.6867, 0.3217, 0.9304, -0.3726, 0.7475, -0.2034, 0.6395, -0.6678, 2.9171, 2.6617, 2.6548, 2.4651, 2.3675, 2.3534, 2.2542, 2.2475, 2.2129, 2.2111, 2.1957, 2.0656, 1.9889, 1.9682, 1.8595, 1.8217, 1.7728, 1.7557, 1.6233, 1.5567, 1.4318, 1.2991, 1.2889, 1.2522, 1.0587, 1.0558, 1.0105, 0.988, 0.9836, 0.9763, 0.9754, 0.8224, 0.7971, 0.5937, 0.3983, -0.6762, 0.4586], \"logprob\": [30.0, 29.0, 28.0, 27.0, 26.0, 25.0, 24.0, 23.0, 22.0, 21.0, 20.0, 19.0, 18.0, 17.0, 16.0, 15.0, 14.0, 13.0, 12.0, 11.0, 10.0, 9.0, 8.0, 7.0, 6.0, 5.0, 4.0, 3.0, 2.0, 1.0, -6.2269, -6.3149, -6.3992, -4.5572, -4.8067, -6.3317, -6.3997, -6.5128, -6.5229, -6.446, -6.6002, -5.5895, -6.5395, -6.0304, -6.8329, -6.8637, -6.8585, -6.7815, -6.8417, -6.3011, -6.3477, -5.9998, -6.2245, -6.8399, -6.5408, -6.3095, -6.6969, -7.0478, -6.2952, -6.5824, -4.8389, -3.7239, -5.2932, -5.8164, -3.4803, -4.5734, -5.4954, -5.6759, -4.7217, -4.2136, -5.5401, -5.8668, -4.1565, -4.9358, -5.4691, -4.8411, -5.5823, -5.1159, -5.9335, -5.2779, -5.0722, -4.7973, -5.3277, -5.2347, -5.2318, -5.0275, -5.1113, -4.9318, -5.3265, -4.5212, -4.9012, -4.7992, -4.7682, -4.557, -4.8766, -5.1814, -5.1447, -4.9809, -5.1849, -5.1842, -5.3435, -5.3855, -6.1583, -6.0401, -6.096, -4.621, -6.0787, -6.5324, -5.8895, -6.4762, -4.7929, -4.1475, -4.7473, -6.5816, -6.1418, -6.2278, -6.4842, -6.5452, -6.1125, -6.6594, -6.2053, -6.261, -5.8312, -4.5089, -5.3646, -6.5923, -6.6813, -5.5977, -6.6876, -5.1275, -5.7629, -5.3175, -4.9779, -4.9427, -4.0516, -3.8377, -5.4872, -5.2356, -5.5755, -5.2036, -5.0749, -4.7665, -4.1858, -5.1956, -4.9489, -4.8042, -4.7026, -4.595, -4.5803, -4.7274, -5.0011, -5.1524, -4.9071, -5.0207, -4.9014, -4.7024, -4.9114, -4.7135, -5.1545, -5.1464, -5.1806, -5.7587, -5.7118, -5.4357, -5.0855, -5.7407, -5.8745, -5.7613, -5.4622, -4.1901, -4.6334, -6.0883, -5.2657, -5.9184, -5.7401, -6.0822, -5.6313, -5.8706, -5.6904, -5.8595, -5.5592, -6.2199, -6.087, -6.1883, -6.3845, -5.9122, -5.4707, -6.4158, -5.5792, -5.7948, -6.2267, -6.0446, -4.8267, -5.1417, -4.7857, -5.1779, -4.8313, -5.2517, -5.0319, -4.7874, -4.02, -4.2414, -4.517, -4.4353, -5.5735, -5.0343, -4.4113, -4.7227, -4.7718, -5.0268, -4.4977, -4.6754, -4.7955, -4.9443, -4.9839, -5.2645, -5.2525, -4.834, -5.2233, -5.2562, -5.56, -5.5699, -5.1312, -5.4505, -5.4636, -5.7287, -5.8063, -5.0649, -4.7761, -5.8566, -5.9364, -5.4905, -5.7996, -5.4855, -5.9394, -5.9688, -5.4546, -5.9709, -5.9439, -5.8187, -6.2715, -5.7131, -5.8475, -5.8502, -5.9241, -5.6727, -5.9086, -5.734, -6.1312, -4.9585, -5.366, -5.2752, -5.1668, -5.5127, -4.2239, -4.7328, -4.3587, -4.7719, -5.334, -4.9121, -5.0957, -4.4588, -4.5419, -4.8086, -4.0739, -4.6109, -4.3612, -4.7944, -4.3821, -5.2211, -4.772, -4.6431, -4.6187, -4.7957, -5.1286, -5.0526, -4.9296, -5.1942, -5.1629, -5.0433, -5.1316, -5.173, -4.3021, -4.8602, -4.9201, -5.207, -5.1283, -5.1001, -5.1417, -5.5346, -5.5337, -5.5261, -5.4744, -5.5274, -5.4602, -4.6702, -5.9282, -6.0316, -5.9096, -5.9661, -5.8118, -5.5489, -5.2454, -5.9251, -5.995, -5.9977, -3.9835, -5.5312, -5.2034, -5.3845, -4.997, -5.2004, -4.8369, -4.0396, -4.0374, -5.1541, -3.6646, -5.4546, -5.1934, -5.0079, -4.225, -4.612, -4.5329, -4.9818, -4.7918, -5.1492, -4.664, -5.0793, -4.7319, -5.0851, -5.0593, -4.4605, -4.8252, -4.738, -4.1724, -4.8003, -5.2789, -5.302, -5.323, -5.456, -5.3403, -5.2519, -5.4132, -5.3163, -5.3139, -5.4294, -5.5648, -5.4248, -5.5179, -5.0714, -5.5842, -5.4168, -5.0543, -5.6933, -5.7606, -5.8209, -6.6998, -5.8354, -4.9641, -6.5597, -6.6937, -6.6576, -5.0632, -5.0187, -5.0201, -5.1384, -4.8127, -5.5095]}, \"token.table\": {\"Topic\": [2, 5, 1, 3, 4, 1, 1, 2, 3, 5, 1, 2, 1, 2, 3, 5, 1, 3, 5, 1, 1, 2, 4, 1, 2, 3, 5, 1, 2, 5, 1, 2, 4, 1, 2, 4, 5, 1, 2, 3, 4, 5, 1, 2, 3, 4, 5, 1, 3, 5, 1, 2, 3, 4, 5, 1, 2, 5, 1, 2, 3, 1, 2, 3, 4, 1, 2, 3, 5, 1, 2, 3, 4, 1, 2, 2, 4, 1, 2, 3, 4, 5, 1, 2, 2, 3, 1, 2, 3, 1, 2, 5, 1, 3, 5, 1, 2, 3, 4, 1, 4, 1, 4, 1, 2, 1, 2, 3, 4, 1, 2, 4, 1, 2, 5, 1, 2, 3, 4, 5, 1, 2, 3, 4, 5, 1, 2, 3, 4, 5, 1, 2, 3, 5, 1, 2, 3, 4, 1, 2, 3, 6, 1, 5, 1, 2, 3, 4, 1, 1, 2, 3, 4, 5, 1, 2, 3, 4, 5, 1, 2, 3, 1, 2, 3, 4, 1, 3, 5, 1, 2, 3, 4, 1, 3, 4, 5, 2, 3, 1, 2, 5, 2, 3, 4, 1, 2, 4, 1, 4, 2, 3, 4, 5, 1, 3, 4, 5, 1, 2, 3, 1, 2, 3, 4, 5, 1, 2, 4, 5, 1, 2, 3, 6, 1, 3, 4, 1, 2, 5, 1, 5, 1, 2, 3, 5, 1, 2, 3, 4, 1, 2, 3, 1, 2, 3, 4, 5, 1, 2, 4, 3, 4, 1, 2, 3, 4, 5, 1, 2, 3, 4, 5, 1, 2, 4, 1, 1, 2, 3, 4, 5, 1, 3, 1, 2, 3, 4, 5, 1, 2, 3, 6, 1, 2, 3, 4, 5, 1, 3, 1, 1, 2, 3, 4, 5, 1, 2, 1, 4, 1, 2, 3, 5, 1, 2, 3, 1, 2, 3, 4, 2, 4, 1, 2, 3, 4, 5, 1, 2, 5, 1, 5, 1, 3, 1, 2, 3, 4, 1, 2, 3, 1, 2, 4, 5, 1, 1, 2, 3, 4, 5, 1, 2, 4, 5, 1, 2, 3, 6, 1, 2, 3, 1, 2, 3, 4, 5, 1, 2, 3, 4, 5, 6, 1, 3, 1, 2, 3, 2, 1, 4, 1, 2, 3, 4, 5, 1, 2, 3, 4, 5, 1, 2, 4, 1, 2, 3, 4, 1, 2, 3, 4, 5, 1, 2, 3, 4, 1, 2, 3, 4, 5, 1, 2, 3, 5, 1, 3, 4, 1, 2, 3, 4, 1, 2, 3, 4, 5, 1, 2, 3, 5, 1, 2, 3, 4, 5, 1, 2, 3, 2, 1, 2, 3, 1, 2, 3, 4, 5, 1, 2, 3, 4, 5, 1, 2, 3, 5, 1, 1, 1, 2, 3, 4, 5, 1, 2, 4, 1, 2, 3, 4, 5, 1, 2, 4, 5, 1, 4, 5, 1, 2, 4, 1, 1, 2, 4, 5, 1, 3, 5, 1, 2, 3, 4, 1, 2, 3, 4, 2, 4, 5, 1, 2, 4, 1, 2, 3, 1, 2, 3, 5, 1, 5, 6, 2, 3, 1, 2, 3, 5, 2, 3, 1, 2, 4, 1, 2, 3, 4, 5, 1, 3, 5, 2, 3, 5, 1, 2, 3, 4, 5, 1, 5, 1, 3, 1, 2, 1, 2, 3, 4, 5, 1, 2, 3, 4, 5, 1, 2, 1, 2, 3, 1, 2, 1, 3, 1, 1, 2, 3, 4, 5, 2, 2, 1, 2, 3, 5, 1, 2, 1, 2, 3, 5, 1, 2, 3, 4, 5, 1, 1, 3, 4, 1, 2, 3, 5, 1, 2, 3, 4, 5, 1, 2, 3, 5, 1, 2, 3, 4, 1, 2, 3, 4, 1, 2, 6, 1, 2, 3, 4, 5, 2, 5, 1, 2, 5, 1, 2, 1, 2, 3, 4, 5, 1, 2, 3, 4, 1, 2, 3, 4, 5, 1, 2, 3, 1, 2, 5, 1, 2, 3, 1, 3, 4, 5, 1, 3, 4, 1, 2, 3, 4, 5, 1, 3, 4, 1, 1, 3, 5, 1, 2, 4, 1, 2, 3, 4, 1, 2, 3, 5, 1, 3, 1, 2, 4, 5, 1, 2, 3, 4, 1, 3, 4, 5, 1, 2, 3, 4, 5, 1, 2, 4, 1, 2, 3, 1, 2, 1, 2, 4, 1, 2, 3, 4, 5, 1, 2, 3, 4, 1, 2, 4, 5, 1, 4, 5, 2, 5, 1, 2, 3, 5, 1, 2, 3, 4, 5, 1, 2, 3, 4, 1, 2, 5, 4, 5, 1, 2, 3, 1, 2, 3, 5, 1, 2, 3, 4, 1, 2, 1, 2, 3, 4, 1, 2, 4, 5, 1, 2, 3, 4, 5, 1, 2, 4, 2, 3, 1, 2, 3, 4, 1, 3, 4, 5, 1, 2, 3, 4, 5, 1, 2, 3, 4, 5, 2, 3, 4, 5, 1, 1, 1, 2, 4, 1, 4, 2, 3, 1, 2, 4, 2, 1, 2, 3, 5, 2, 3, 5, 1, 2, 3, 4, 5, 1, 2, 3, 4, 5, 1, 1, 2, 4, 5, 1, 2, 3, 4, 1, 2, 3, 4, 1, 2, 3, 2, 3, 5, 1, 2, 5, 1, 3, 5, 1, 2, 4, 1, 3, 4, 5, 2, 2, 1, 2, 1, 1, 2, 3, 4, 5, 2, 4, 1, 2, 3, 4, 1, 2, 3, 4, 5], \"Freq\": [0.7652667472925544, 0.21864764208358697, 0.37500453896165903, 0.37500453896165903, 0.18750226948082951, 0.8385752442352109, 0.0747262744527381, 0.0747262744527381, 0.1494525489054762, 0.5978101956219048, 0.14241728315087984, 0.7120864157543992, 0.2827325077102031, 0.5371917646493858, 0.11309300308408123, 0.05654650154204061, 0.4038426242519094, 0.4038426242519094, 0.10096065606297736, 0.833534363342382, 0.31950714346849424, 0.31950714346849424, 0.31950714346849424, 0.1521728548335867, 0.1521728548335867, 0.6086914193343468, 0.1521728548335867, 0.4131524580049956, 0.4131524580049956, 0.12394573740149868, 0.3803396382958931, 0.19016981914794656, 0.3803396382958931, 0.27404384962444306, 0.5480876992488861, 0.09134794987481434, 0.06089863324987623, 0.5791161723841028, 0.21716856464403858, 0.07238952154801286, 0.10858428232201929, 0.024129840516004288, 0.12137559890444796, 0.48550239561779185, 0.12137559890444796, 0.12137559890444796, 0.2022926648407466, 0.49389497641659674, 0.12347374410414919, 0.37042123231244756, 0.509098289685126, 0.3078268728328669, 0.11839495108956419, 0.059197475544782094, 0.011839495108956419, 0.93832329397196, 0.7455463155364556, 0.1491092631072911, 0.8460251741905217, 0.08460251741905217, 0.08460251741905217, 0.6338612869772385, 0.15846532174430963, 0.15846532174430963, 0.15846532174430963, 0.17293281453740592, 0.34586562907481183, 0.17293281453740592, 0.34586562907481183, 0.9322428546682754, 0.17773876916079756, 0.17773876916079756, 0.5332163074823927, 0.16183358973943504, 0.8091679486971752, 0.5939948764499898, 0.2969974382249949, 0.3320129964082519, 0.3557282104374127, 0.09486085611664338, 0.08300324910206297, 0.13043367716038465, 0.7921124870357049, 0.19802812175892623, 0.1837449387246135, 0.734979754898454, 0.15897495431670375, 0.635899817266815, 0.15897495431670375, 0.2211053040875639, 0.4422106081751278, 0.2211053040875639, 0.8213871469383397, 0.07467155881257634, 0.07467155881257634, 0.24515472414136413, 0.0817182413804547, 0.24515472414136413, 0.3268729655218188, 0.36463781121308764, 0.5469567168196314, 0.8902674231231629, 0.08093340210210571, 0.8678820054328951, 0.07889836413026319, 0.5424637324028523, 0.1808212441342841, 0.09041062206714205, 0.09041062206714205, 0.14919290377182357, 0.29838580754364713, 0.5967716150872943, 0.45117073144599507, 0.11279268286149877, 0.45117073144599507, 0.2856980340636039, 0.49997155961130685, 0.0952326780212013, 0.07142450851590097, 0.023808169505300326, 0.34994821412111593, 0.32661833317970823, 0.16330916658985412, 0.11664940470703865, 0.04665976188281546, 0.4862038102531028, 0.25323115117349104, 0.1215509525632757, 0.07090472232857749, 0.06077547628163785, 0.4602267188326892, 0.3911927110077858, 0.09204534376653783, 0.04602267188326892, 0.12381213797273503, 0.3714364139182051, 0.12381213797273503, 0.3714364139182051, 0.2726517216654309, 0.4089775824981463, 0.13632586083271545, 0.13632586083271545, 0.5930756992108069, 0.29653784960540347, 0.6738160551631746, 0.17968428137684653, 0.11230267586052908, 0.04492107034421163, 0.8289801074154766, 0.37407653754242126, 0.4537977668547406, 0.08585363156711308, 0.055191620293144124, 0.03679441352876275, 0.47885177280789176, 0.16900650804984416, 0.056335502683281385, 0.19717425939148484, 0.11267100536656277, 0.1047638925762602, 0.8081785998740073, 0.07483135184018586, 0.12897557022822342, 0.6878697078838583, 0.12897557022822342, 0.04299185674274114, 0.28632675090179827, 0.42949012635269734, 0.14316337545089913, 0.17875902645018887, 0.2681385396752833, 0.35751805290037775, 0.08937951322509444, 0.22163077068699566, 0.11081538534349783, 0.5540769267174891, 0.11081538534349783, 0.49640438122736, 0.33093625415157335, 0.16072268622176125, 0.4821680586652837, 0.3214453724435225, 0.7250944191532376, 0.10358491702189108, 0.10358491702189108, 0.2408580868141381, 0.6623597387388798, 0.06021452170353452, 0.4663013181112477, 0.4663013181112477, 0.2938709259122685, 0.4617971692907076, 0.20990780422304892, 0.04198156084460978, 0.33309643977738607, 0.16654821988869303, 0.16654821988869303, 0.33309643977738607, 0.1547926724782038, 0.3095853449564076, 0.4643780174346114, 0.6684936952610355, 0.13991728505463533, 0.10105137253945885, 0.04663909501821178, 0.03886591251517648, 0.1839733745195824, 0.1839733745195824, 0.5519201235587472, 0.1839733745195824, 0.26852002858921004, 0.4027800428838151, 0.13426001429460502, 0.13426001429460502, 0.4914053947359438, 0.12285134868398595, 0.36855404605195785, 0.15224279817558178, 0.6089711927023271, 0.30448559635116357, 0.6242304383325299, 0.31211521916626495, 0.4914496551747307, 0.24572482758736536, 0.12286241379368268, 0.12286241379368268, 0.7936655202581919, 0.05473555312125462, 0.05473555312125462, 0.08210332968188191, 0.2558507119115278, 0.2558507119115278, 0.3837760678672917, 0.49384375294815946, 0.37987980996012266, 0.0569819714940184, 0.0569819714940184, 0.018993990498006135, 0.5378697967431549, 0.26893489837157747, 0.16808431148223593, 0.18738893522631805, 0.5621668056789542, 0.551332643723874, 0.26253935415422575, 0.026253935415422574, 0.11814270936940159, 0.03938090312313386, 0.21997311824198124, 0.5132706092312895, 0.03666218637366354, 0.07332437274732707, 0.14664874549465415, 0.899860627789214, 0.03829194160805166, 0.03829194160805166, 0.8744133488283876, 0.24276402963540386, 0.12138201481770193, 0.24276402963540386, 0.3641460444531058, 0.12138201481770193, 0.7344130829986404, 0.1632029073330312, 0.26286022581937607, 0.42057636131100173, 0.05257204516387522, 0.10514409032775043, 0.21028818065550087, 0.4483539345251937, 0.2562022483001107, 0.12810112415005534, 0.06405056207502767, 0.8221388643045403, 0.03574516801324088, 0.07149033602648176, 0.053617752019861326, 0.01787258400662044, 0.35358366342557546, 0.5303754951383631, 0.8694886025538326, 0.6285259667839251, 0.2693682714788251, 0.022447355956568757, 0.022447355956568757, 0.022447355956568757, 0.8286962380613241, 0.11838517686590344, 0.6235286900351412, 0.3117643450175706, 0.21576164699048594, 0.4315232939809719, 0.2876821959873146, 0.07192054899682865, 0.4238204209578193, 0.4238204209578193, 0.10595510523945482, 0.6520088736714114, 0.2235458995444839, 0.09314412481020162, 0.018628824962040325, 0.46225917113980514, 0.46225917113980514, 0.36216977026793945, 0.030180814188994952, 0.5130738412129142, 0.060361628377989904, 0.030180814188994952, 0.7751407663231632, 0.0968925957903954, 0.0484462978951977, 0.6254588175714579, 0.31272940878572897, 0.8883568114945807, 0.08075971013587098, 0.7294002965415679, 0.03315455893370763, 0.16577279466853817, 0.06630911786741527, 0.3256674895653752, 0.4885012343480628, 0.1628337447826876, 0.800154236934898, 0.04706789629028811, 0.04706789629028811, 0.04706789629028811, 0.9487644836837928, 0.2869377858656832, 0.22955022869254657, 0.17216267151940992, 0.22955022869254657, 0.08608133575970496, 0.46692741810181604, 0.43100992440167635, 0.0359174937001397, 0.05387624055020954, 0.19365591504289134, 0.6455197168096377, 0.12910394336192754, 0.032275985840481886, 0.12978009090111833, 0.77868054540671, 0.077868054540671, 0.07753260999181637, 0.5427282699427146, 0.07753260999181637, 0.07753260999181637, 0.23259782997544912, 0.7353314029977687, 0.09454260895685597, 0.0682807731355071, 0.057776038806967536, 0.047271304478427985, 0.005252367164269777, 0.16728637282905431, 0.6691454913162173, 0.4747489776846, 0.2712851301054857, 0.13564256505274286, 0.8345335922898638, 0.8353479984419462, 0.11933542834884946, 0.43003564222667207, 0.3549500539013801, 0.13651925150053082, 0.054607700600212326, 0.013651925150053082, 0.7503547934536242, 0.1250591322422707, 0.10004730579381656, 0.01250591322422707, 0.02501182644845414, 0.3200505489099716, 0.1600252744549858, 0.3200505489099716, 0.6466219052704858, 0.04171754227551521, 0.14601139796430324, 0.14601139796430324, 0.5125653883109375, 0.028475854906163188, 0.2562826941554687, 0.11390341962465275, 0.11390341962465275, 0.44304495607979527, 0.29536330405319683, 0.036920413006649604, 0.18460206503324803, 0.30199647052342704, 0.39259541168045514, 0.0905989411570281, 0.15099823526171352, 0.030199647052342703, 0.6515395728588141, 0.2947440924837492, 0.04653854091848672, 0.015512846972828908, 0.38346651321259917, 0.2556443421417328, 0.2556443421417328, 0.426058578196539, 0.3834527203768851, 0.1278175734589617, 0.0426058578196539, 0.4352305334635545, 0.34620610616419106, 0.04945801516631301, 0.05934961819957561, 0.10880763336588863, 0.4030454373488431, 0.08060908746976862, 0.3224363498790745, 0.16121817493953725, 0.6115860068091181, 0.3323836993527816, 0.013295347974111265, 0.02659069594822253, 0.02659069594822253, 0.3177765437367022, 0.2118510291578015, 0.423702058315603, 0.7824925678439646, 0.2531377692512347, 0.6075306462029633, 0.12656888462561736, 0.6278498389037099, 0.16202576487837678, 0.040506441219594194, 0.12151932365878257, 0.060759661829391284, 0.7158654770173036, 0.12467320105357535, 0.03619544546716704, 0.0603257424452784, 0.0603257424452784, 0.35992165968785444, 0.46275641959867003, 0.07712606993311168, 0.10283475991081556, 0.8362456263352003, 0.8974896656752333, 0.6222747923793126, 0.2419957525919549, 0.05185623269827605, 0.01728541089942535, 0.05185623269827605, 0.41944204842163113, 0.20972102421081557, 0.3145815363162234, 0.6168625623874764, 0.2101399937803491, 0.07456580424464, 0.07456580424464, 0.02711483790714182, 0.33262152285556723, 0.11087384095185575, 0.11087384095185575, 0.443495363807423, 0.422161238894473, 0.28144082592964864, 0.14072041296482432, 0.19239246832680565, 0.7695698733072226, 0.09619623416340282, 0.9167773331817353, 0.17070770878280073, 0.5121231263484022, 0.22761027837706763, 0.05690256959426691, 0.41160293709599655, 0.2744019580639977, 0.20580146854799827, 0.48397599183008716, 0.12099399795752179, 0.24198799591504358, 0.12099399795752179, 0.4613337957177757, 0.3295241397984112, 0.150639606764988, 0.04707487711405874, 0.416373351503626, 0.49964802180435114, 0.08327467030072519, 0.17320033301134333, 0.51960099903403, 0.17320033301134333, 0.25037862798475236, 0.08345954266158412, 0.5842167986310888, 0.36459641271571375, 0.3159835576869519, 0.21875784762942826, 0.09722571005752367, 0.5991032498812193, 0.14977581247030483, 0.14977581247030483, 0.4618885358795344, 0.3079256905863562, 0.7667049701200861, 0.10222732934934481, 0.051113664674672404, 0.051113664674672404, 0.3565262621593823, 0.5347893932390735, 0.594264898490066, 0.1485662246225165, 0.1485662246225165, 0.16473088308741488, 0.6955303952579739, 0.05491029436247163, 0.07321372581662884, 0.01830343145415721, 0.39189213982733767, 0.19594606991366884, 0.19594606991366884, 0.4319731093663301, 0.28798207291088673, 0.14399103645544337, 0.21137488179246458, 0.5020153442571034, 0.10568744089623229, 0.07926558067217421, 0.07926558067217421, 0.5366432029556365, 0.35776213530375767, 0.8408905598476245, 0.10511131998095306, 0.8710599041929588, 0.06221856458521134, 0.3699216340718678, 0.3082680283932232, 0.1849608170359339, 0.061653605678644634, 0.09248040851796695, 0.31642949749969185, 0.31642949749969185, 0.15821474874984592, 0.15821474874984592, 0.07910737437492296, 0.08740333819774114, 0.8740333819774114, 0.1024360077707563, 0.7170520543952942, 0.1024360077707563, 0.5418489071821203, 0.27092445359106015, 0.672901237317352, 0.22430041243911733, 0.8573877648954034, 0.6654557920768428, 0.23766278288458673, 0.023766278288458672, 0.023766278288458672, 0.047532556576917344, 0.8353182158656303, 0.885043183266719, 0.5685291525262551, 0.08121845036089359, 0.08121845036089359, 0.24365535108268077, 0.8175524863183385, 0.10219406078979232, 0.21341612611533717, 0.6936024098748458, 0.05335403152883429, 0.05335403152883429, 0.7760265747117151, 0.13496114342812437, 0.033740285857031094, 0.033740285857031094, 0.033740285857031094, 0.8317655233526634, 0.14894616134814698, 0.29789232269629395, 0.5957846453925879, 0.15359169191666489, 0.30718338383332977, 0.30718338383332977, 0.15359169191666489, 0.3520214536150681, 0.3520214536150681, 0.020707144330298122, 0.020707144330298122, 0.22777858763327935, 0.3001294694944613, 0.6377751226757302, 0.03751618368680766, 0.03751618368680766, 0.5296796766843045, 0.26483983834215225, 0.06620995958553806, 0.1158674292746916, 0.35381827647477615, 0.11793942549159206, 0.47175770196636824, 0.11793942549159206, 0.4354210037592114, 0.4354210037592114, 0.10885525093980285, 0.28042474077363105, 0.4767220593151728, 0.056084948154726214, 0.14021237038681553, 0.056084948154726214, 0.6613117039427987, 0.16532792598569968, 0.2598058711660995, 0.12990293558304974, 0.6495146779152488, 0.8976178242463583, 0.08160162038603257, 0.17722311607351163, 0.3898908553617256, 0.31900160893232093, 0.03544462321470233, 0.03544462321470233, 0.49072486120039277, 0.44471940546285593, 0.015335151912512274, 0.030670303825024548, 0.14676976334619082, 0.4403092900385725, 0.09784650889746055, 0.14676976334619082, 0.14676976334619082, 0.5102746438468616, 0.14579275538481762, 0.36448188846204405, 0.1248837032272228, 0.4995348129088912, 0.1248837032272228, 0.21924303890851343, 0.21924303890851343, 0.5481075972712836, 0.5810673720755328, 0.3389559670440608, 0.0484222810062944, 0.0484222810062944, 0.21453278455606092, 0.3217991768340914, 0.42906556911212185, 0.9129857661121705, 0.04490093931699199, 0.014966979772330663, 0.029933959544661326, 0.014966979772330663, 0.1605124493742072, 0.6420497974968288, 0.1605124493742072, 0.8365757557830764, 0.12785231689747809, 0.3835569506924343, 0.3835569506924343, 0.29185511752116994, 0.14592755876058497, 0.29185511752116994, 0.4787649030873316, 0.16897584814846997, 0.14081320679039164, 0.16897584814846997, 0.13322579048492866, 0.2664515809698573, 0.13322579048492866, 0.2664515809698573, 0.5668134247327355, 0.34008805483964133, 0.3014622577770634, 0.22609669333279755, 0.22609669333279755, 0.22609669333279755, 0.5839338314689997, 0.15366679775499992, 0.046100039326499975, 0.1997668370814999, 0.10121825819226726, 0.10121825819226726, 0.3036547745768018, 0.40487303276906905, 0.430087087317623, 0.10752177182940575, 0.05376088591470288, 0.10752177182940575, 0.32256531548821726, 0.21737160297898536, 0.4347432059579707, 0.32605740446847803, 0.12531782567939423, 0.12531782567939423, 0.6265891283969711, 0.1262695137426249, 0.8586326934498494, 0.434950556585499, 0.12427158759585687, 0.434950556585499, 0.7115901765980582, 0.12557473704671615, 0.055810994242984954, 0.04185824568223872, 0.0697637428037312, 0.5010275435566222, 0.12525688588915554, 0.12525688588915554, 0.2505137717783111, 0.19526859750121697, 0.19526859750121697, 0.39053719500243395, 0.19526859750121697, 0.4434281700907205, 0.253387525766126, 0.1900406443245945, 0.7719100505522675, 0.11027286436460963, 0.12243633610767614, 0.36730900832302843, 0.36730900832302843, 0.12243633610767614, 0.7021887449769284, 0.11703145749615475, 0.029257864374038687, 0.14628932187019342, 0.029257864374038687, 0.2879286335789035, 0.19195242238593568, 0.19195242238593568, 0.2879286335789035, 0.24407062558563744, 0.4881412511712749, 0.24407062558563744, 0.5656273439701589, 0.18854244799005299, 0.3597293658669867, 0.3597293658669867, 0.17986468293349334, 0.3237911706864331, 0.10793039022881104, 0.10793039022881104, 0.43172156091524416, 0.37890655961302905, 0.3670657296251219, 0.11840829987907159, 0.11840829987907159, 0.15741549149904702, 0.6296619659961881, 0.5011127886379582, 0.45555708057996197, 0.0227778540289981, 0.0227778540289981, 0.23011099851498584, 0.5982885961389632, 0.09204439940599433, 0.09204439940599433, 0.4258525020642731, 0.37671567490301083, 0.08189471193543713, 0.08189471193543713, 0.03275788477417485, 0.7871149753708968, 0.1639822865356035, 0.0327964573071207, 0.5775127995640115, 0.43313459967300855, 0.47991369975137216, 0.39522304685407117, 0.05646043526486731, 0.05646043526486731, 0.530363171949299, 0.28928900288143583, 0.09642966762714528, 0.04821483381357264, 0.4273962556344542, 0.17808177318102258, 0.24931448245343163, 0.03561635463620452, 0.03561635463620452, 0.17134167002805348, 0.5996958450981872, 0.08567083501402674, 0.04283541750701337, 0.08567083501402674, 0.1822830636113783, 0.3645661272227566, 0.1822830636113783, 0.1822830636113783, 0.8503040350833873, 0.8866706150733026, 0.35991398869433155, 0.2879311909554652, 0.2879311909554652, 0.6741555119107677, 0.2808981299628199, 0.8512548650215147, 0.10640685812768934, 0.3243466359498194, 0.1621733179749097, 0.3243466359498194, 0.9074306759480628, 0.08683140022485064, 0.8104264020986061, 0.028943800074950215, 0.05788760014990043, 0.43903607847620735, 0.14634535949206912, 0.29269071898413823, 0.331745494511967, 0.4976182417679505, 0.07464273626519258, 0.041468186813995875, 0.049761824176795054, 0.4250720695140715, 0.09809355450324728, 0.2942806635097418, 0.09809355450324728, 0.06539570300216485, 0.71863426944308, 0.3784716767238477, 0.591361994881012, 0.02365447979524048, 0.02365447979524048, 0.45874071857143306, 0.09174814371428662, 0.18349628742857324, 0.3669925748571465, 0.2962894382362232, 0.427973633007878, 0.19752629215748216, 0.06584209738582739, 0.1996499341139806, 0.3992998682279612, 0.29947490117097086, 0.48593318240749994, 0.16197772746916664, 0.3239554549383333, 0.3937157588358749, 0.13123858627862497, 0.3937157588358749, 0.6686796834425438, 0.09552566906322053, 0.19105133812644107, 0.3466556036675674, 0.3466556036675674, 0.1733278018337837, 0.15951438042674937, 0.4785431412802481, 0.31902876085349874, 0.15951438042674937, 0.9431137278645843, 0.8417282091095166, 0.21111376456466785, 0.7037125485488929, 0.8750394297218853, 0.32004945945686375, 0.1371640540529416, 0.2743281081058832, 0.1371640540529416, 0.09144270270196106, 0.7273094991204592, 0.14546189982409183, 0.38120562945160213, 0.4175109274946118, 0.10891589412902918, 0.07261059608601945, 0.5938239374910613, 0.18663038035433355, 0.016966398214030322, 0.18663038035433355, 0.016966398214030322], \"Term\": [\"aemon\", \"aemon\", \"agree\", \"agree\", \"agree\", \"answer\", \"aryal\", \"aryal\", \"aryal\", \"aryal\", \"asshai\", \"asshai\", \"away\", \"away\", \"away\", \"away\", \"barking\", \"barking\", \"barking\", \"barristan\", \"begin\", \"begin\", \"begin\", \"belong\", \"belong\", \"belong\", \"belong\", \"black\", \"black\", \"black\", \"blessing\", \"blessing\", \"blessing\", \"blood\", \"blood\", \"blood\", \"blood\", \"boy\", \"boy\", \"boy\", \"boy\", \"boy\", \"bran\", \"bran\", \"bran\", \"bran\", \"bran\", \"brave\", \"brave\", \"brave\", \"brother\", \"brother\", \"brother\", \"brother\", \"brother\", \"butcher\", \"castles\", \"castles\", \"cersei\", \"cersei\", \"cersei\", \"certain\", \"certain\", \"certain\", \"certain\", \"chambers\", \"chambers\", \"chambers\", \"chambers\", \"cheering\", \"clanging\", \"clanging\", \"clanging\", \"clothes\", \"clothes\", \"cock\", \"cock\", \"come\", \"come\", \"come\", \"come\", \"come\", \"command\", \"command\", \"commands\", \"commands\", \"common\", \"common\", \"common\", \"couldn\", \"couldn\", \"couldn\", \"council\", \"council\", \"council\", \"course\", \"course\", \"course\", \"course\", \"creaking\", \"creaking\", \"crimes\", \"crimes\", \"crowd\", \"crowd\", \"crown\", \"crown\", \"crown\", \"crown\", \"crows\", \"crows\", \"crows\", \"daughters\", \"daughters\", \"daughters\", \"day\", \"day\", \"day\", \"day\", \"day\", \"dead\", \"dead\", \"dead\", \"dead\", \"dead\", \"did\", \"did\", \"did\", \"did\", \"did\", \"didn\", \"didn\", \"didn\", \"didn\", \"dies\", \"dies\", \"dies\", \"dies\", \"different\", \"different\", \"different\", \"different\", \"direwolf\", \"direwolf\", \"does\", \"does\", \"does\", \"does\", \"dog\", \"don\", \"don\", \"don\", \"don\", \"don\", \"door\", \"door\", \"door\", \"door\", \"door\", \"dothraki\", \"dothraki\", \"dothraki\", \"dragon\", \"dragon\", \"dragon\", \"dragon\", \"drunk\", \"drunk\", \"drunk\", \"duty\", \"duty\", \"duty\", \"duty\", \"dwarf\", \"dwarf\", \"dwarf\", \"dwarf\", \"ears\", \"ears\", \"easier\", \"easier\", \"easier\", \"easy\", \"easy\", \"easy\", \"eyes\", \"eyes\", \"eyes\", \"face\", \"face\", \"family\", \"family\", \"family\", \"family\", \"fast\", \"fast\", \"fast\", \"fast\", \"fat\", \"fat\", \"fat\", \"father\", \"father\", \"father\", \"father\", \"father\", \"footsteps\", \"footsteps\", \"footsteps\", \"footsteps\", \"forget\", \"forget\", \"forget\", \"forget\", \"fought\", \"fought\", \"fought\", \"gets\", \"gets\", \"gets\", \"getting\", \"getting\", \"ghting\", \"ghting\", \"ghting\", \"ghting\", \"girl\", \"girl\", \"girl\", \"girl\", \"giving\", \"giving\", \"giving\", \"going\", \"going\", \"going\", \"going\", \"going\", \"gold\", \"gold\", \"gold\", \"gonna\", \"gonna\", \"good\", \"good\", \"good\", \"good\", \"good\", \"got\", \"got\", \"got\", \"got\", \"got\", \"grace\", \"grace\", \"grace\", \"gregor\", \"greyjoy\", \"greyjoy\", \"greyjoy\", \"greyjoy\", \"greyjoy\", \"grunting\", \"grunting\", \"hair\", \"hair\", \"hair\", \"hair\", \"hair\", \"half\", \"half\", \"half\", \"half\", \"hand\", \"hand\", \"hand\", \"hand\", \"hand\", \"happening\", \"happening\", \"hate\", \"hear\", \"hear\", \"hear\", \"hear\", \"hear\", \"heir\", \"heir\", \"hill\", \"hill\", \"hit\", \"hit\", \"hit\", \"hit\", \"hke\", \"hke\", \"hke\", \"honour\", \"honour\", \"honour\", \"honour\", \"hours\", \"hours\", \"house\", \"house\", \"house\", \"house\", \"house\", \"iend\", \"iend\", \"iend\", \"ighten\", \"ighten\", \"imp\", \"imp\", \"jaime\", \"jaime\", \"jaime\", \"jaime\", \"job\", \"job\", \"job\", \"joffrey\", \"joffrey\", \"joffrey\", \"joffrey\", \"jolfrey\", \"jon\", \"jon\", \"jon\", \"jon\", \"jon\", \"just\", \"just\", \"just\", \"just\", \"khal\", \"khal\", \"khal\", \"khal\", \"khaleesi\", \"khaleesi\", \"khaleesi\", \"kind\", \"kind\", \"kind\", \"kind\", \"kind\", \"king\", \"king\", \"king\", \"king\", \"king\", \"king\", \"kingslayer\", \"kingslayer\", \"knew\", \"knew\", \"knew\", \"knife\", \"knight\", \"knight\", \"know\", \"know\", \"know\", \"know\", \"know\", \"lady\", \"lady\", \"lady\", \"lady\", \"lady\", \"land\", \"land\", \"land\", \"lannister\", \"lannister\", \"lannister\", \"lannister\", \"lannisters\", \"lannisters\", \"lannisters\", \"lannisters\", \"lannisters\", \"laughs\", \"laughs\", \"laughs\", \"laughs\", \"leave\", \"leave\", \"leave\", \"leave\", \"leave\", \"let\", \"let\", \"let\", \"let\", \"lied\", \"lied\", \"lied\", \"life\", \"life\", \"life\", \"life\", \"like\", \"like\", \"like\", \"like\", \"like\", \"lion\", \"lion\", \"lion\", \"lion\", \"little\", \"little\", \"little\", \"little\", \"little\", \"lives\", \"lives\", \"lives\", \"living\", \"long\", \"long\", \"long\", \"look\", \"look\", \"look\", \"look\", \"look\", \"lord\", \"lord\", \"lord\", \"lord\", \"lord\", \"love\", \"love\", \"love\", \"love\", \"loyal\", \"lucky\", \"make\", \"make\", \"make\", \"make\", \"make\", \"making\", \"making\", \"making\", \"man\", \"man\", \"man\", \"man\", \"man\", \"marry\", \"marry\", \"marry\", \"marry\", \"master\", \"master\", \"master\", \"matter\", \"matter\", \"matter\", \"matters\", \"mean\", \"mean\", \"mean\", \"mean\", \"meant\", \"meant\", \"meant\", \"meet\", \"meet\", \"meet\", \"meet\", \"men\", \"men\", \"men\", \"men\", \"mind\", \"mind\", \"mind\", \"month\", \"month\", \"month\", \"moon\", \"moon\", \"moon\", \"mother\", \"mother\", \"mother\", \"mother\", \"murdered\", \"murdered\", \"murdered\", \"narrow\", \"narrow\", \"neighs\", \"neighs\", \"neighs\", \"neighs\", \"nest\", \"nest\", \"news\", \"news\", \"news\", \"night\", \"night\", \"night\", \"night\", \"night\", \"northern\", \"northern\", \"northern\", \"oath\", \"oath\", \"oath\", \"old\", \"old\", \"old\", \"old\", \"old\", \"outside\", \"outside\", \"pardon\", \"pardon\", \"peace\", \"peace\", \"people\", \"people\", \"people\", \"people\", \"people\", \"piss\", \"piss\", \"piss\", \"piss\", \"piss\", \"play\", \"play\", \"pray\", \"pray\", \"pray\", \"promised\", \"promised\", \"protect\", \"protect\", \"pycelle\", \"queen\", \"queen\", \"queen\", \"queen\", \"queen\", \"rain\", \"ranger\", \"raven\", \"raven\", \"raven\", \"raven\", \"real\", \"real\", \"really\", \"really\", \"really\", \"really\", \"realm\", \"realm\", \"realm\", \"realm\", \"realm\", \"renly\", \"rich\", \"rich\", \"rich\", \"rider\", \"rider\", \"rider\", \"rider\", \"right\", \"right\", \"right\", \"right\", \"right\", \"robb\", \"robb\", \"robb\", \"robb\", \"robert\", \"robert\", \"robert\", \"robert\", \"rock\", \"rock\", \"rock\", \"rock\", \"rode\", \"rode\", \"rode\", \"rst\", \"rst\", \"rst\", \"rst\", \"rst\", \"rustling\", \"rustling\", \"sam\", \"sam\", \"sam\", \"sansa\", \"sansa\", \"saw\", \"saw\", \"saw\", \"saw\", \"saw\", \"say\", \"say\", \"say\", \"say\", \"says\", \"says\", \"says\", \"says\", \"says\", \"screaming\", \"screaming\", \"screaming\", \"screams\", \"screams\", \"screams\", \"seeing\", \"seeing\", \"seeing\", \"send\", \"send\", \"send\", \"send\", \"sent\", \"sent\", \"sent\", \"ser\", \"ser\", \"ser\", \"ser\", \"ser\", \"shrks\", \"shrks\", \"shrks\", \"shut\", \"sigil\", \"sigil\", \"sigil\", \"sing\", \"sing\", \"sing\", \"sister\", \"sister\", \"sister\", \"sister\", \"smell\", \"smell\", \"smell\", \"smell\", \"snorts\", \"snorts\", \"snow\", \"snow\", \"snow\", \"snow\", \"son\", \"son\", \"son\", \"son\", \"sons\", \"sons\", \"sons\", \"sons\", \"sorry\", \"sorry\", \"sorry\", \"sorry\", \"sorry\", \"sort\", \"sort\", \"sort\", \"speaking\", \"speaking\", \"speaking\", \"speaks\", \"speaks\", \"stannis\", \"stannis\", \"stannis\", \"stark\", \"stark\", \"stark\", \"stark\", \"stark\", \"steward\", \"steward\", \"steward\", \"steward\", \"strange\", \"strange\", \"strange\", \"strange\", \"stupid\", \"stupid\", \"stupid\", \"summer\", \"summer\", \"supposed\", \"supposed\", \"supposed\", \"supposed\", \"sword\", \"sword\", \"sword\", \"sword\", \"sword\", \"swords\", \"swords\", \"swords\", \"swords\", \"swore\", \"swore\", \"swore\", \"sync\", \"sync\", \"taking\", \"taking\", \"taking\", \"talking\", \"talking\", \"talking\", \"talking\", \"tell\", \"tell\", \"tell\", \"tell\", \"tent\", \"tent\", \"thing\", \"thing\", \"thing\", \"thing\", \"things\", \"things\", \"things\", \"things\", \"think\", \"think\", \"think\", \"think\", \"think\", \"throne\", \"throne\", \"throne\", \"thunder\", \"thunder\", \"time\", \"time\", \"time\", \"time\", \"today\", \"today\", \"today\", \"today\", \"told\", \"told\", \"told\", \"told\", \"told\", \"took\", \"took\", \"took\", \"took\", \"took\", \"touch\", \"touch\", \"touch\", \"touch\", \"tournament\", \"treason\", \"tyrion\", \"tyrion\", \"tyrion\", \"vale\", \"vale\", \"viserys\", \"viserys\", \"walk\", \"walk\", \"walk\", \"walkers\", \"wall\", \"wall\", \"wall\", \"wall\", \"walls\", \"walls\", \"walls\", \"want\", \"want\", \"want\", \"want\", \"want\", \"war\", \"war\", \"war\", \"war\", \"war\", \"wars\", \"watch\", \"watch\", \"watch\", \"watch\", \"water\", \"water\", \"water\", \"water\", \"way\", \"way\", \"way\", \"way\", \"welcome\", \"welcome\", \"welcome\", \"whimpering\", \"whimpering\", \"whimpering\", \"whimpers\", \"whimpers\", \"whimpers\", \"whines\", \"whines\", \"whines\", \"whinnies\", \"whinnies\", \"whinnies\", \"whistling\", \"whistling\", \"whistling\", \"whistling\", \"white\", \"wildlings\", \"winter\", \"winter\", \"wolf\", \"words\", \"words\", \"words\", \"words\", \"words\", \"wound\", \"wound\", \"years\", \"years\", \"years\", \"years\", \"yes\", \"yes\", \"yes\", \"yes\", \"yes\"]}, \"R\": 30, \"lambda.step\": 0.01, \"plot.opts\": {\"xlab\": \"PC1\", \"ylab\": \"PC2\"}, \"topic.order\": [5, 4, 3, 1, 2, 6]};\n",
       "\n",
       "function LDAvis_load_lib(url, callback){\n",
       "  var s = document.createElement('script');\n",
       "  s.src = url;\n",
       "  s.async = true;\n",
       "  s.onreadystatechange = s.onload = callback;\n",
       "  s.onerror = function(){console.warn(\"failed to load library \" + url);};\n",
       "  document.getElementsByTagName(\"head\")[0].appendChild(s);\n",
       "}\n",
       "\n",
       "if(typeof(LDAvis) !== \"undefined\"){\n",
       "   // already loaded: just create the visualization\n",
       "   !function(LDAvis){\n",
       "       new LDAvis(\"#\" + \"ldavis_el196071403461932859121126227647\", ldavis_el196071403461932859121126227647_data);\n",
       "   }(LDAvis);\n",
       "}else if(typeof define === \"function\" && define.amd){\n",
       "   // require.js is available: use it to load d3/LDAvis\n",
       "   require.config({paths: {d3: \"https://cdnjs.cloudflare.com/ajax/libs/d3/3.5.5/d3.min\"}});\n",
       "   require([\"d3\"], function(d3){\n",
       "      window.d3 = d3;\n",
       "      LDAvis_load_lib(\"https://cdn.rawgit.com/bmabey/pyLDAvis/files/ldavis.v1.0.0.js\", function(){\n",
       "        new LDAvis(\"#\" + \"ldavis_el196071403461932859121126227647\", ldavis_el196071403461932859121126227647_data);\n",
       "      });\n",
       "    });\n",
       "}else{\n",
       "    // require.js not available: dynamically load d3 & LDAvis\n",
       "    LDAvis_load_lib(\"https://cdnjs.cloudflare.com/ajax/libs/d3/3.5.5/d3.min.js\", function(){\n",
       "         LDAvis_load_lib(\"https://cdn.rawgit.com/bmabey/pyLDAvis/files/ldavis.v1.0.0.js\", function(){\n",
       "                 new LDAvis(\"#\" + \"ldavis_el196071403461932859121126227647\", ldavis_el196071403461932859121126227647_data);\n",
       "            })\n",
       "         });\n",
       "}\n",
       "</script>"
      ],
      "text/plain": [
       "PreparedData(topic_coordinates=               x          y  topics  cluster       Freq\n",
       "topic                                                  \n",
       "4     -15.532559 -48.275101       1        1  48.528350\n",
       "3      15.599376   6.587046       2        1  28.858943\n",
       "2      84.457291 -68.754150       3        1   9.548112\n",
       "0      27.021866 -94.837029       4        1   7.371965\n",
       "1      77.398270  -6.068456       5        1   5.073537\n",
       "5      37.789391 -42.269100       6        1   0.619093, topic_info=     Category        Freq        Term       Total  loglift  logprob\n",
       "term                                                               \n",
       "328   Default  248.000000        lord  248.000000  30.0000  30.0000\n",
       "278   Default  190.000000        king  190.000000  29.0000  29.0000\n",
       "316   Default  101.000000        like  101.000000  28.0000  28.0000\n",
       "90    Default   84.000000        come   84.000000  27.0000  27.0000\n",
       "450   Default   48.000000       right   48.000000  26.0000  26.0000\n",
       "137   Default   66.000000    dothraki   66.000000  25.0000  25.0000\n",
       "210   Default   15.000000        half   15.000000  24.0000  24.0000\n",
       "522   Default   65.000000         son   65.000000  23.0000  23.0000\n",
       "287   Default  146.000000        know  146.000000  22.0000  22.0000\n",
       "631   Default  120.000000        want  120.000000  21.0000  21.0000\n",
       "273   Default   30.000000        khal   30.000000  20.0000  20.0000\n",
       "124   Default   43.000000        didn   43.000000  19.0000  19.0000\n",
       "508   Default   35.000000      sister   35.000000  18.0000  18.0000\n",
       "135   Default  163.000000         don  163.000000  17.0000  17.0000\n",
       "314   Default   46.000000        life   46.000000  16.0000  16.0000\n",
       "123   Default   98.000000         did   98.000000  15.0000  15.0000\n",
       "162   Default  128.000000      father  128.000000  14.0000  14.0000\n",
       "685   Default   58.000000         yes   58.000000  13.0000  13.0000\n",
       "572   Default   84.000000        tell   84.000000  12.0000  12.0000\n",
       "243   Default   33.000000       house   33.000000  11.0000  11.0000\n",
       "306   Default   33.000000       leave   33.000000  10.0000  10.0000\n",
       "358   Default  106.000000         men  106.000000   9.0000   9.0000\n",
       "344   Default  147.000000         man  147.000000   8.0000   8.0000\n",
       "197   Default   76.000000        good   76.000000   7.0000   7.0000\n",
       "537   Default   71.000000       stark   71.000000   6.0000   6.0000\n",
       "591   Default   20.000000       today   20.000000   5.0000   5.0000\n",
       "296   Default   35.000000  lannisters   35.000000   4.0000   4.0000\n",
       "295   Default   47.000000   lannister   47.000000   3.0000   3.0000\n",
       "585   Default   30.000000      throne   30.000000   2.0000   2.0000\n",
       "371   Default   41.000000      mother   41.000000   1.0000   1.0000\n",
       "...       ...         ...         ...         ...      ...      ...\n",
       "264    Topic6    0.359834         job    6.141233   2.2475  -5.3230\n",
       "636    Topic6    0.315023        wars    5.566114   2.2129  -5.4560\n",
       "35     Topic6    0.353648       begin    6.259641   2.2111  -5.3403\n",
       "394    Topic6    0.386352        oath    6.944877   2.1957  -5.2519\n",
       "385    Topic6    0.328785        news    6.731005   2.0656  -5.4132\n",
       "478    Topic6    0.362267     screams    8.007450   1.9889  -5.3163\n",
       "562    Topic6    0.363137       swore    8.194349   1.9682  -5.3139\n",
       "184    Topic6    0.323528      ghting    8.139186   1.8595  -5.4294\n",
       "425    Topic6    0.282559    promised    7.382132   1.8217  -5.5648\n",
       "426    Topic6    0.325005     protect    8.916613   1.7728  -5.4248\n",
       "356    Topic6    0.296119        meet    8.264873   1.7557  -5.5179\n",
       "283    Topic6    0.462783        knew   14.744634   1.6233  -5.0714\n",
       "233    Topic6    0.277128         hke    9.437960   1.5567  -5.5842\n",
       "409    Topic6    0.327614        piss   12.641047   1.4318  -5.4168\n",
       "591    Topic6    0.470735       today   20.740505   1.2991  -5.0543\n",
       "107    Topic6    0.248475       crown   11.060647   1.2889  -5.6933\n",
       "76     Topic6    0.232295    cheering   10.726819   1.2522  -5.7606\n",
       "206    Topic6    0.218708    grunting   12.254684   1.0587  -5.8209\n",
       "392    Topic6    0.090814    northern    5.103445   1.0558  -6.6998\n",
       "106    Topic6    0.215555       crowd   12.674534   1.0105  -5.8354\n",
       "273    Topic6    0.515200        khal   30.982787   0.9880  -4.9641\n",
       "72     Topic6    0.104470     certain    6.310529   0.9836  -6.5597\n",
       "566    Topic6    0.091369      taking    5.559735   0.9763  -6.6937\n",
       "650    Topic6    0.094731    whinnies    5.769415   0.9754  -6.6576\n",
       "306    Topic6    0.466594       leave   33.112970   0.8224  -5.0632\n",
       "508    Topic6    0.487807      sister   35.508033   0.7971  -5.0187\n",
       "124    Topic6    0.487148        didn   43.456842   0.5937  -5.0201\n",
       "314    Topic6    0.432800        life   46.941902   0.3983  -5.1384\n",
       "278    Topic6    0.599417        king  190.390346  -0.6762  -4.8127\n",
       "585    Topic6    0.298599      throne   30.491098   0.4586  -5.5095\n",
       "\n",
       "[368 rows x 6 columns], token_table=      Topic      Freq       Term\n",
       "term                            \n",
       "1         2  0.765267      aemon\n",
       "1         5  0.218648      aemon\n",
       "4         1  0.375005      agree\n",
       "4         3  0.375005      agree\n",
       "4         4  0.187502      agree\n",
       "7         1  0.838575     answer\n",
       "14        1  0.074726      aryal\n",
       "14        2  0.074726      aryal\n",
       "14        3  0.149453      aryal\n",
       "14        5  0.597810      aryal\n",
       "18        1  0.142417     asshai\n",
       "18        2  0.712086     asshai\n",
       "19        1  0.282733       away\n",
       "19        2  0.537192       away\n",
       "19        3  0.113093       away\n",
       "19        5  0.056547       away\n",
       "25        1  0.403843    barking\n",
       "25        3  0.403843    barking\n",
       "25        5  0.100961    barking\n",
       "26        1  0.833534  barristan\n",
       "35        1  0.319507      begin\n",
       "35        2  0.319507      begin\n",
       "35        4  0.319507      begin\n",
       "38        1  0.152173     belong\n",
       "38        2  0.152173     belong\n",
       "38        3  0.608691     belong\n",
       "38        5  0.152173     belong\n",
       "46        1  0.413152      black\n",
       "46        2  0.413152      black\n",
       "46        5  0.123946      black\n",
       "...     ...       ...        ...\n",
       "649       3  0.095526     whines\n",
       "649       5  0.191051     whines\n",
       "650       1  0.346656   whinnies\n",
       "650       2  0.346656   whinnies\n",
       "650       4  0.173328   whinnies\n",
       "652       1  0.159514  whistling\n",
       "652       3  0.478543  whistling\n",
       "652       4  0.319029  whistling\n",
       "652       5  0.159514  whistling\n",
       "653       2  0.943114      white\n",
       "657       2  0.841728  wildlings\n",
       "661       1  0.211114     winter\n",
       "661       2  0.703713     winter\n",
       "665       1  0.875039       wolf\n",
       "673       1  0.320049      words\n",
       "673       2  0.137164      words\n",
       "673       3  0.274328      words\n",
       "673       4  0.137164      words\n",
       "673       5  0.091443      words\n",
       "681       2  0.727309      wound\n",
       "681       4  0.145462      wound\n",
       "684       1  0.381206      years\n",
       "684       2  0.417511      years\n",
       "684       3  0.108916      years\n",
       "684       4  0.072611      years\n",
       "685       1  0.593824        yes\n",
       "685       2  0.186630        yes\n",
       "685       3  0.016966        yes\n",
       "685       4  0.186630        yes\n",
       "685       5  0.016966        yes\n",
       "\n",
       "[866 rows x 3 columns], R=30, lambda_step=0.01, plot_opts={'xlab': 'PC1', 'ylab': 'PC2'}, topic_order=[5, 4, 3, 1, 2, 6])"
      ]
     },
     "execution_count": 21,
     "metadata": {},
     "output_type": "execute_result"
    }
   ],
   "source": [
    "import pyLDAvis\n",
    "\n",
    "pyLDAvis.enable_notebook()\n",
    "panel = pyLDAvis.sklearn.prepare(lda_model, data_vector, vectorize, mds='tsne')\n",
    "panel"
   ]
  },
  {
   "cell_type": "code",
   "execution_count": 32,
   "metadata": {},
   "outputs": [
    {
     "name": "stdout",
     "output_type": "stream",
     "text": [
      "probabilities [0.08391522 0.08342605 0.58239729 0.08334941 0.08357172 0.08334031] and the predicted topic 2\n"
     ]
    }
   ],
   "source": [
    "text = \"hke\"\n",
    "x = lda_model.transform(vectorize.transform([text]))[0]\n",
    "print('probabilities {} and the predicted topic {}'.format(x, x.argmax()))"
   ]
  },
  {
   "cell_type": "code",
   "execution_count": 77,
   "metadata": {},
   "outputs": [
    {
     "name": "stdout",
     "output_type": "stream",
     "text": [
      "As your brother,\n",
      "I feel it's my duty to warn you...\n",
      "you worry too much.\n",
      "- It's starting to show.\n",
      "- And you never worry about anything.\n",
      "When we were seven and you jumped off\n",
      "the cliffs at Casterly Rock.\n",
      "100-foot drop into the water...\n",
      "you were never afraid.\n",
      "There was nothing to be afraid of\n",
      "until you told Father.\n",
      "(Mimim) 'We're Lannisters.\n",
      "Lannisters don't act like fools.\"\n",
      "- What if Jon Arryn told someone?\n",
      "- But who would he tell?\n",
      "My husband.\n",
      "If he told the king, both our heads would be\n",
      "skewered on the city gates by now.\n",
      "Whatever Jon Arryn knew or didn't know,\n",
      "it died with him.\n",
      "And Robert will choose\n",
      "a new Hand of the King,\n",
      "someone to do his job while he's off\n",
      "flicking boars and hunting whores.\n",
      "Or is it the other way around?\n",
      "And life will go on.\n",
      "You should be the Hand of the King.\n",
      "That's an honour l n do without.\n",
      "Their days are too long,\n",
      "their lives are too short.\n",
      "(Thunder rumbles)\n",
      "(OEWS)\n",
      "(Birds chirping)\n",
      "All these years,\n",
      "and I still feel like an outsider\n",
      "when I come here.\n",
      "You have ï¬ve northern children.\n",
      "You're not an outsider.\n",
      "I wonder ifthe old gods agree.\n",
      "********************\n",
      "probabilities [0.00278724 0.98606223 0.00278838 0.00277935 0.00279701 0.00278579] \n",
      " the predicted topic 1\n"
     ]
    }
   ],
   "source": [
    "text = scene_textsA[10]\n",
    "print(text)\n",
    "print('*'*20)\n",
    "x = lda_model.transform(vectorize.transform([text]))[0]\n",
    "print('probabilities {} \\n the predicted topic {}'.format(x, (x.argmax())))"
   ]
  },
  {
   "cell_type": "code",
   "execution_count": 76,
   "metadata": {},
   "outputs": [
    {
     "name": "stdout",
     "output_type": "stream",
     "text": [
      "the text: \n",
      " Strong for his age.\n",
      "He works hard.\n",
      "Show the Hand\n",
      "the helmet you made, lad.\n",
      "- This is ï¬ne work\n",
      "- It's not for sale.\n",
      "Boy, this is the King's Handl\n",
      "- If his lordship wants the helmet...\n",
      "- I made it for me.\n",
      "- Forgive him, my lord.\n",
      "- There's nothing to forgive. and the probabilities are [0.01391158 0.93029279 0.01391786 0.01389715 0.01407331 0.01390731] \n",
      "The most simmilar document id:100 are :\n",
      "Strong for his age.\n",
      "He works hard.\n",
      "Show the Hand\n",
      "the helmet you made, lad.\n",
      "- This is ï¬ne work\n",
      "- It\n"
     ]
    }
   ],
   "source": [
    "from sklearn.metrics.pairwise import euclidean_distances\n",
    "def most_similar(x,Z,top_n=5):\n",
    "    dist=euclidean_distances(x.reshape(1,-1),Z)\n",
    "    pair=enumerate(dist[0])\n",
    "    most_similar=sorted(pair,key=lambda item: item[1])[:top_n]\n",
    "    return most_similar\n",
    "sim=most_similar(x,lda_Z)\n",
    "doc_id,sim=sim[0]\n",
    "print('the text: \\n {} and the probabilities are {} '.format(text,x))\n",
    "print('The most simmilar document id:{} are :'.format(doc_id))\n",
    "print(scene_textsA[doc_id][0:100])"
   ]
  },
  {
   "cell_type": "code",
   "execution_count": null,
   "metadata": {},
   "outputs": [],
   "source": []
  }
 ],
 "metadata": {
  "kernelspec": {
   "display_name": "Python 3",
   "language": "python",
   "name": "python3"
  },
  "language_info": {
   "codemirror_mode": {
    "name": "ipython",
    "version": 3
   },
   "file_extension": ".py",
   "mimetype": "text/x-python",
   "name": "python",
   "nbconvert_exporter": "python",
   "pygments_lexer": "ipython3",
   "version": "3.6.5"
  }
 },
 "nbformat": 4,
 "nbformat_minor": 2
}
