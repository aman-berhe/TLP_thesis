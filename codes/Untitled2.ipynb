{
 "cells": [
  {
   "cell_type": "code",
   "execution_count": 7,
   "metadata": {},
   "outputs": [],
   "source": [
    "import matplotlib\n",
    "matplotlib.use('agg')\n",
    "import matplotlib.pyplot as plt\n",
    "import matplotlib.dates as mdates\n",
    "import datetime\n",
    "from collections import OrderedDict\n",
    "\n",
    "aggData = OrderedDict([(datetime.datetime(2016, 10, 17, 0, 0), 0.16289695106620844), (datetime.datetime(2016, 10, 18, 0, 0), 0.23634330902782563)])\n",
    "\n",
    "#print('\\nGenerating sample plot...')\n",
    "fig = plt.figure(figsize=(6.5,5))\n",
    "ax = fig.add_subplot(111)\n",
    "hfmt = mdates.DateFormatter('%x\\n%X')\n",
    "ax.plot_date([k for k in aggData.keys()], [v for v in aggData.values()], fmt='r-')\n",
    "ax.xaxis.set_major_formatter(hfmt)\n",
    "plt.xticks(rotation=60)\n",
    "plt.subplots_adjust(top=1.0, bottom=0.2)\n",
    "plt.show()"
   ]
  },
  {
   "cell_type": "code",
   "execution_count": null,
   "metadata": {},
   "outputs": [],
   "source": []
  },
  {
   "cell_type": "code",
   "execution_count": null,
   "metadata": {},
   "outputs": [],
   "source": []
  }
 ],
 "metadata": {
  "kernelspec": {
   "display_name": "Python 3",
   "language": "python",
   "name": "python3"
  },
  "language_info": {
   "codemirror_mode": {
    "name": "ipython",
    "version": 2
   },
   "file_extension": ".py",
   "mimetype": "text/x-python",
   "name": "python",
   "nbconvert_exporter": "python",
   "pygments_lexer": "ipython2",
   "version": "2.7.12"
  }
 },
 "nbformat": 4,
 "nbformat_minor": 2
}
