{
 "cells": [
  {
   "cell_type": "code",
   "execution_count": 1,
   "metadata": {},
   "outputs": [],
   "source": [
    "from tqdm import tqdm,trange\n",
    "from time import sleep"
   ]
  },
  {
   "cell_type": "code",
   "execution_count": 3,
   "metadata": {},
   "outputs": [
    {
     "name": "stderr",
     "output_type": "stream",
     "text": [
      "100%|██████████| 100/100 [00:10<00:00,  9.61it/s]\n"
     ]
    }
   ],
   "source": [
    "for i in trange(100):\n",
    "    sleep(0.1)"
   ]
  },
  {
   "cell_type": "code",
   "execution_count": 7,
   "metadata": {},
   "outputs": [
    {
     "name": "stderr",
     "output_type": "stream",
     "text": [
      "\n",
      "  0%|          | 0/100 [00:00<?, ?it/s]\u001b[A\n",
      " 10%|█         | 10/100 [00:00<00:01, 49.86it/s]\u001b[A\n",
      " 20%|██        | 20/100 [00:00<00:01, 48.90it/s]\u001b[A\n",
      " 30%|███       | 30/100 [00:00<00:01, 48.48it/s]\u001b[A\n",
      " 40%|████      | 40/100 [00:00<00:01, 48.12it/s]\u001b[A\n",
      " 50%|█████     | 50/100 [00:01<00:01, 48.35it/s]\u001b[A\n",
      " 60%|██████    | 60/100 [00:01<00:00, 47.97it/s]\u001b[A\n",
      " 70%|███████   | 70/100 [00:01<00:00, 47.67it/s]\u001b[A\n",
      " 80%|████████  | 80/100 [00:01<00:00, 47.47it/s]\u001b[A\n",
      " 90%|█████████ | 90/100 [00:01<00:00, 47.91it/s]\u001b[A\n",
      "100%|██████████| 100/100 [00:02<00:00, 48.16it/s]\u001b[A\n",
      "\u001b[A"
     ]
    }
   ],
   "source": [
    "pbar = tqdm(total=100)\n",
    "for i in range(10):\n",
    "    sleep(0.2)\n",
    "    pbar.update(10)\n",
    "pbar.close()"
   ]
  },
  {
   "cell_type": "code",
   "execution_count": null,
   "metadata": {},
   "outputs": [],
   "source": []
  }
 ],
 "metadata": {
  "kernelspec": {
   "display_name": "Python 3",
   "language": "python",
   "name": "python3"
  },
  "language_info": {
   "codemirror_mode": {
    "name": "ipython",
    "version": 2
   },
   "file_extension": ".py",
   "mimetype": "text/x-python",
   "name": "python",
   "nbconvert_exporter": "python",
   "pygments_lexer": "ipython2",
   "version": "2.7.12"
  }
 },
 "nbformat": 4,
 "nbformat_minor": 2
}
