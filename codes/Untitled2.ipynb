{
 "cells": [
  {
   "cell_type": "code",
   "execution_count": null,
   "metadata": {},
   "outputs": [],
   "source": [
<<<<<<< HEAD
    "import ExtractingFrameFeatures as eff\n",
    "import cv2\n",
    "import numpy as np\n",
    "import math\n",
    "import pickle\n",
    "from sklearn.preprocessing import normalize\n",
    "import sys\n",
    "import pandas as pd\n",
    "import os\n",
    "\n",
    "videoFiles='/vol/work3/maurice/dvd_extracted/BreakingBad/'\n",
    "saveFiles='/vol/work3/berhe/ExtractedFeatures/BB/'\n",
    "\n",
    "videofilesFiles=[]\n",
    "for fl in os.listdir(videoFiles):\n",
    "    if '.mkv' in fl:\n",
    "        videofilesFiles.append(fl)\n",
    "        \n",
    "for file in videofilesFiles:\n",
    "    framesFeatures,timeStamp,frameIds=eff.getframes(1,videoFiles+file)\n",
    "    framesFeatures=np.array(framesFeatures)\n",
    "    np.save(saveFiles+file+'_features.npy',framesFeatures)\n",
    "    with open(saveFiles+file+'_frameTimeStamp.pkl', 'wb') as f:\n",
    "        pickle.dump(timeStamp,f)"
   ]
=======
    "import Text_representations as tr\n",
    "import Subtitle as s"
   ]
  },
  {
   "cell_type": "code",
   "execution_count": 2,
   "metadata": {},
   "outputs": [],
   "source": [
    "TR=tr.TextEmbeddings()"
   ]
  },
  {
   "cell_type": "code",
   "execution_count": 3,
   "metadata": {},
   "outputs": [],
   "source": [
    "model,sentences,words=TR.allBooks_w2V(4)"
   ]
  },
  {
   "cell_type": "code",
   "execution_count": 4,
   "metadata": {},
   "outputs": [],
   "source": [
    "a=\"aman is coming soon\""
   ]
  },
  {
   "cell_type": "code",
   "execution_count": 5,
   "metadata": {},
   "outputs": [],
   "source": [
    "set_word=model.wv.index2word"
   ]
  },
  {
   "cell_type": "code",
   "execution_count": 6,
   "metadata": {},
   "outputs": [
    {
     "data": {
      "text/plain": [
       "63073"
      ]
     },
     "execution_count": 6,
     "metadata": {},
     "output_type": "execute_result"
    }
   ],
   "source": [
    "len(set_word)"
   ]
  },
  {
   "cell_type": "code",
   "execution_count": 7,
   "metadata": {},
   "outputs": [],
   "source": [
    "set_word=set(set_word)"
   ]
  },
  {
   "cell_type": "code",
   "execution_count": 8,
   "metadata": {},
   "outputs": [
    {
     "data": {
      "text/plain": [
       "63073"
      ]
     },
     "execution_count": 8,
     "metadata": {},
     "output_type": "execute_result"
    }
   ],
   "source": [
    "len(set_word)"
   ]
  },
  {
   "cell_type": "code",
   "execution_count": 10,
   "metadata": {},
   "outputs": [],
   "source": [
    "feat=TR.avg_feature_vector(a, model, 300, set_word)"
   ]
  },
  {
   "cell_type": "code",
   "execution_count": 11,
   "metadata": {},
   "outputs": [
    {
     "data": {
      "text/plain": [
       "(300,)"
      ]
     },
     "execution_count": 11,
     "metadata": {},
     "output_type": "execute_result"
    }
   ],
   "source": [
    "feat.shape"
   ]
  },
  {
   "cell_type": "code",
   "execution_count": 12,
   "metadata": {},
   "outputs": [
    {
     "data": {
      "text/plain": [
       "array([-0.06888398, -0.02665202, -0.09535681,  0.3400503 ,  0.11626378,\n",
       "        0.0481781 ,  0.3179818 ,  0.19937074,  0.23663263, -0.33727393,\n",
       "        0.594649  , -0.39182448,  0.3135598 , -0.47794387,  0.04696861,\n",
       "       -0.79280955, -0.11281294,  0.12662992,  0.43284488,  0.7042759 ,\n",
       "       -0.08203109,  0.17929558,  0.14506507,  0.14212322,  0.03061713,\n",
       "        0.082908  ,  0.11263531,  0.34040114, -0.15650532, -0.31861195,\n",
       "       -0.3261626 ,  0.13815679, -0.77302456, -0.6429879 , -0.19324595,\n",
       "       -0.08538627,  0.6660501 , -0.27478305, -0.11786129,  0.22465988,\n",
       "       -0.20178546,  0.00928824,  0.5211794 , -0.01305662, -0.24647821,\n",
       "       -0.0901028 ,  0.10650433, -0.41038907, -0.32478532, -0.43219122,\n",
       "       -0.214993  ,  0.00474869,  0.44871274,  0.71564764,  0.48120558,\n",
       "       -0.41519102,  0.36875638,  0.47006473,  0.46072054,  0.45585373,\n",
       "       -0.5895839 ,  0.48928952, -0.34861246, -0.31313267,  0.44702578,\n",
       "       -0.22758937,  0.818228  , -0.204508  , -0.43247306,  0.67370254,\n",
       "        0.05704994,  0.01654612, -0.47876334,  0.61219543,  0.28692994,\n",
       "        0.40055445,  0.0136877 , -0.5232493 ,  0.51642346,  0.32423958,\n",
       "        0.13072358,  0.14794882,  0.01558339, -0.49569348, -0.26170805,\n",
       "       -0.3242702 , -0.6329428 ,  0.1950305 ,  0.36133328, -1.0154536 ,\n",
       "        0.13058016, -0.17490709, -0.16979186, -0.25454015,  0.204488  ,\n",
       "       -0.3707025 , -0.3976721 ,  0.7999986 ,  0.38899246, -0.9070657 ,\n",
       "       -0.2482707 ,  0.492689  ,  0.1173802 , -0.5009636 ,  0.04025332,\n",
       "        0.09780437, -0.449855  , -0.5128549 , -0.45555112,  0.34964707,\n",
       "       -0.38609448, -0.44303513, -0.5501321 , -0.77996856,  0.66733307,\n",
       "        0.33470514, -0.1527812 , -0.48903406, -0.38770422,  0.9339385 ,\n",
       "       -0.3875477 , -0.18440925,  0.07853919, -0.3878778 ,  0.03957337,\n",
       "        0.01571207,  0.65320015, -0.12154794, -0.23597936,  0.1674741 ,\n",
       "        0.33113804, -0.23844089, -0.09706137, -0.28691262,  0.00790973,\n",
       "       -0.02791877,  0.25733587, -0.05241378, -0.36652824,  0.04297765,\n",
       "       -0.02333005,  0.31556085, -0.45014322, -0.34837404, -0.18445186,\n",
       "        0.12910853, -0.19066548,  0.43422118, -0.06168087, -0.1972183 ,\n",
       "        0.28882155, -0.4357829 , -0.5966476 , -0.15784125,  0.53889173,\n",
       "       -0.45345104, -0.18588279, -0.39264074,  0.46700263, -0.32114434,\n",
       "        0.04601476, -0.04729195,  0.48426366, -0.39298883,  0.1969647 ,\n",
       "       -0.01931561,  0.0255101 ,  0.49684122, -0.2714163 ,  0.43686053,\n",
       "        0.4868649 , -0.440879  , -0.5642912 , -0.05938269, -0.18314151,\n",
       "       -0.295848  ,  0.04906522, -0.24465513,  0.13126914, -0.00199356,\n",
       "       -0.1574073 , -0.57589024, -0.04700999, -0.10098678,  0.20974046,\n",
       "        0.50396913, -0.14895026, -0.18361664,  0.2626659 ,  0.07912224,\n",
       "       -0.37368718,  0.20700693, -0.09845346, -0.11645322,  0.14228511,\n",
       "       -0.23274815, -0.162903  ,  0.42030498,  0.08167773, -0.07988229,\n",
       "        0.1244872 ,  0.12249267,  0.19883023,  0.11092923, -0.586991  ,\n",
       "       -0.22588055, -0.11687297, -0.16670704,  0.29455948,  0.09782163,\n",
       "        0.36717212,  0.41914192,  0.15803853,  0.1487537 ,  0.16263038,\n",
       "        0.17974448,  0.30780232,  0.11330435,  0.2263376 ,  0.40772402,\n",
       "        0.43558487,  0.28129938, -0.44423604, -0.3249983 , -0.55280584,\n",
       "        0.27456996,  0.15243536,  0.5234618 , -0.55249804,  0.1131769 ,\n",
       "       -0.03719098, -0.2394718 , -0.9486353 , -0.6593018 , -0.37724754,\n",
       "        0.26015326,  0.03263772,  0.45590937, -0.30748287, -0.61017567,\n",
       "        0.06029911, -0.5544353 , -0.44386828,  0.14000697,  0.34480146,\n",
       "        0.02106569, -0.5448961 ,  0.12694685, -0.16483648, -0.12639214,\n",
       "        0.07079686, -0.25262037, -0.0260459 , -0.09703159,  0.20649834,\n",
       "        0.24884026, -0.527174  ,  0.41518697, -0.05932857,  0.12610583,\n",
       "       -1.0759361 ,  0.28210852, -0.04891363, -0.09509066,  0.10230929,\n",
       "       -0.5075691 ,  0.41699496,  0.02862279, -0.01107712,  0.17648412,\n",
       "        0.05228002,  0.30193493,  0.10895735,  0.30723783, -0.283126  ,\n",
       "        0.02091044, -0.6471222 , -0.0439011 ,  0.56836486,  0.07152537,\n",
       "        0.8097124 , -0.34380326,  0.02559317, -0.06055566,  0.25528327,\n",
       "       -0.4460028 , -0.30883846,  0.1528439 , -0.08881997, -0.7638154 ,\n",
       "       -0.1693934 , -0.31415385,  0.20773973, -0.0788748 , -0.13459592,\n",
       "       -0.3601035 , -0.35232082,  0.0715603 ,  0.07072846, -0.64351034],\n",
       "      dtype=float32)"
      ]
     },
     "execution_count": 12,
     "metadata": {},
     "output_type": "execute_result"
    }
   ],
   "source": [
    "feat"
   ]
  },
  {
   "cell_type": "code",
   "execution_count": 15,
   "metadata": {},
   "outputs": [],
   "source": [
    "import Subtitle as s"
   ]
  },
  {
   "cell_type": "code",
   "execution_count": 16,
   "metadata": {},
   "outputs": [],
   "source": [
    "sub=s.Subtitle('/home/berhe/Desktop/Thesis_git/TLP_thesis/subtitles/GoT/English/GameOfThrones.Season01.Episode01.en.srt')"
   ]
  },
  {
   "cell_type": "code",
   "execution_count": 86,
   "metadata": {},
   "outputs": [],
   "source": [
    "texts=sub.getsubSentences(100,200)"
   ]
  },
  {
   "cell_type": "code",
   "execution_count": 87,
   "metadata": {},
   "outputs": [
    {
     "name": "stdout",
     "output_type": "stream",
     "text": [
      "(Wind whistling)\n",
      "- Easy, boy.\n",
      "- (Grunts)\n",
      "(Horse whinnies)\n",
      "(Man) What do you expect?\n",
      "They're savages.\n",
      "One lot steals a goat from another lot,\n",
      "before you know it\n",
      "they're ripping each other to pimes.\n",
      "I've never seen wildlings do a thing like this.\n",
      "I never seen a thing like this,\n",
      "not ever in my life.\n",
      "- (Horse snorts)\n",
      "- How close did you get?\n",
      "********************\n",
      "[<pysrt.srtitem.SubRipItem object at 0x7fb6be8f75c0>, <pysrt.srtitem.SubRipItem object at 0x7fb6cbb6a828>, <pysrt.srtitem.SubRipItem object at 0x7fb6be8f7668>, <pysrt.srtitem.SubRipItem object at 0x7fb6be8f7470>, <pysrt.srtitem.SubRipItem object at 0x7fb6be8f7a20>, <pysrt.srtitem.SubRipItem object at 0x7fb6be8f77b8>, <pysrt.srtitem.SubRipItem object at 0x7fb6be8f7ac8>, <pysrt.srtitem.SubRipItem object at 0x7fb6be8f7b70>, <pysrt.srtitem.SubRipItem object at 0x7fb6be8f7c18>]\n",
      "********************\n"
     ]
    }
   ],
   "source": [
    "for i in texts:\n",
    "    print(i)\n",
    "    print(\"*\"*20)"
   ]
  },
  {
   "cell_type": "code",
   "execution_count": 89,
   "metadata": {},
   "outputs": [],
   "source": [
    "txt=texts[0]"
   ]
  },
  {
   "cell_type": "code",
   "execution_count": 95,
   "metadata": {},
   "outputs": [],
   "source": [
    "from string import punctuation"
   ]
  },
  {
   "cell_type": "code",
   "execution_count": 101,
   "metadata": {},
   "outputs": [],
   "source": [
    "txt=txt.translate(str.maketrans('', '', punctuation))"
   ]
  },
  {
   "cell_type": "code",
   "execution_count": 103,
   "metadata": {},
   "outputs": [
    {
     "name": "stdout",
     "output_type": "stream",
     "text": [
      "Wind whistling\n",
      " Easy boy\n",
      " Grunts\n",
      "Horse whinnies\n",
      "Man What do you expect\n",
      "Theyre savages\n",
      "One lot steals a goat from another lot\n",
      "before you know it\n",
      "theyre ripping each other to pimes\n",
      "Ive never seen wildlings do a thing like this\n",
      "I never seen a thing like this\n",
      "not ever in my life\n",
      " Horse snorts\n",
      " How close did you get\n"
     ]
    }
   ],
   "source": [
    "print(txt)"
   ]
  },
  {
   "cell_type": "code",
   "execution_count": 104,
   "metadata": {},
   "outputs": [],
   "source": [
    "import nlpPreprocessing as nlp"
   ]
  },
  {
   "cell_type": "code",
   "execution_count": 105,
   "metadata": {},
   "outputs": [],
   "source": [
    "pere=nlp.preProcessing(txts)"
   ]
  },
  {
   "cell_type": "code",
   "execution_count": 107,
   "metadata": {},
   "outputs": [],
   "source": [
    "txt=pere.removeStopwords(txt)"
   ]
  },
  {
   "cell_type": "code",
   "execution_count": 108,
   "metadata": {},
   "outputs": [
    {
     "name": "stdout",
     "output_type": "stream",
     "text": [
      "['Wind', 'whistling', 'Easy', 'boy', 'Grunts', 'Horse', 'whinnies', 'Man', 'What', 'expect', 'Theyre', 'savages', 'One', 'lot', 'steals', 'goat', 'another', 'lot', 'know', 'theyre', 'ripping', 'pimes', 'Ive', 'never', 'seen', 'wildlings', 'thing', 'like', 'I', 'never', 'seen', 'thing', 'like', 'ever', 'life', 'Horse', 'snorts', 'How', 'close', 'get']\n"
     ]
    }
   ],
   "source": [
    "print(txt)"
   ]
  },
  {
   "cell_type": "code",
   "execution_count": 109,
   "metadata": {},
   "outputs": [],
   "source": [
    "text=''\n",
    "for i in txt:\n",
    "    text=text+' '+i"
   ]
  },
  {
   "cell_type": "code",
   "execution_count": 110,
   "metadata": {},
   "outputs": [
    {
     "name": "stdout",
     "output_type": "stream",
     "text": [
      " Wind whistling Easy boy Grunts Horse whinnies Man What expect Theyre savages One lot steals goat another lot know theyre ripping pimes Ive never seen wildlings thing like I never seen thing like ever life Horse snorts How close get\n"
     ]
    }
   ],
   "source": [
    "print(text)"
   ]
  },
  {
   "cell_type": "code",
   "execution_count": 111,
   "metadata": {},
   "outputs": [],
   "source": [
    "feat1=TR.avg_feature_vector(text, model, 300, set_word)"
   ]
  },
  {
   "cell_type": "code",
   "execution_count": 112,
   "metadata": {},
   "outputs": [
    {
     "data": {
      "text/plain": [
       "array([ 0.12004932,  0.15046173,  0.3943961 , -0.04990388,  0.18997487,\n",
       "       -0.04331047, -0.15840976,  0.02077907,  0.27789167, -0.05765118,\n",
       "        0.3238642 , -0.35699415,  0.19371955, -0.39793038, -0.14052041,\n",
       "       -0.33315626,  0.13798726,  0.26280585,  0.19961363,  0.2883867 ,\n",
       "       -0.03922513,  0.13772221, -0.1498643 ,  0.20200735,  0.18307461,\n",
       "       -0.1314048 ,  0.1047151 , -0.03846651,  0.09559083,  0.05553031,\n",
       "       -0.10893976, -0.00728041, -0.26822045,  0.00420759, -0.02584283,\n",
       "        0.12556066,  0.417341  , -0.52626956, -0.26075345,  0.00319943,\n",
       "        0.04716108, -0.19486055, -0.16829844, -0.02965318,  0.03481749,\n",
       "       -0.15040123, -0.0293517 , -0.06180467, -0.3165223 , -0.41611585,\n",
       "       -0.2751673 , -0.20094468,  0.04819657,  0.58426654,  0.2506045 ,\n",
       "       -0.30211413, -0.07090976,  0.43706536,  0.05322617,  0.2892454 ,\n",
       "       -0.20880978, -0.01512832,  0.2891621 ,  0.06697324,  0.58713746,\n",
       "       -0.27680448, -0.00830938, -0.16097292, -0.20661032,  0.09694275,\n",
       "        0.17547476, -0.18584362, -0.16645159,  0.40350342, -0.00173842,\n",
       "        0.15043856, -0.05546923, -0.41104832,  0.3553714 ,  0.41315016,\n",
       "        0.14470963,  0.3015923 ,  0.37207618,  0.1900566 , -0.10745867,\n",
       "       -0.11902443, -0.24684463,  0.19731662, -0.01474282, -0.3452351 ,\n",
       "        0.08093382,  0.54448515, -0.09161129, -0.3165154 , -0.00110688,\n",
       "       -0.12303621, -0.18985999,  0.4042933 ,  0.38636968, -0.7446082 ,\n",
       "       -0.36760938,  0.29496443, -0.08453761, -0.23948428,  0.37474075,\n",
       "        0.18223506, -0.21574311, -0.01050378, -0.24526408,  0.07513978,\n",
       "        0.21156812, -0.23990269, -0.44106475, -0.3683074 ,  0.48447648,\n",
       "        0.13506085,  0.02525729, -0.33001783, -0.25846422,  0.20309629,\n",
       "       -0.09743469,  0.00973043, -0.25608754, -0.30030397, -0.30928707,\n",
       "        0.15499684,  0.28386134, -0.3258752 , -0.26375124,  0.13195372,\n",
       "        0.4745264 , -0.18577977, -0.01419131, -0.04048821,  0.10528765,\n",
       "       -0.29787773,  0.11532708,  0.08675768, -0.03619536, -0.01847213,\n",
       "       -0.1949832 ,  0.24751705, -0.34380957,  0.00521032, -0.11081216,\n",
       "        0.03043231,  0.05092275,  0.392846  ,  0.20447217, -0.09323384,\n",
       "        0.01059619, -0.08687645, -0.15377802,  0.03751673,  0.22535884,\n",
       "       -0.29442173,  0.15044007, -0.28990346,  0.2464186 , -0.23312004,\n",
       "        0.39169815, -0.05509946,  0.13882782, -0.29569316, -0.14083086,\n",
       "        0.00519659, -0.33224124,  0.17513166,  0.13003765,  0.19804478,\n",
       "        0.16316621, -0.04146609, -0.21396115, -0.2204395 , -0.26305655,\n",
       "       -0.16334882,  0.02488607,  0.06691375,  0.11530583, -0.12640606,\n",
       "       -0.05592335, -0.09359269,  0.16540673, -0.24838293, -0.19242206,\n",
       "        0.04322559, -0.0090096 , -0.29159808,  0.26594722, -0.1656953 ,\n",
       "       -0.19247697,  0.08693182, -0.00490364,  0.03125156, -0.04449555,\n",
       "        0.09835653, -0.05571186,  0.11353075,  0.09042491, -0.06320147,\n",
       "        0.1311899 ,  0.17616057, -0.0940235 ,  0.37705278, -0.40178823,\n",
       "        0.0773072 , -0.19208263, -0.10299917, -0.01469609,  0.38598418,\n",
       "        0.02777074, -0.05883446, -0.22514498, -0.09044116,  0.12289516,\n",
       "       -0.12632768,  0.2018977 ,  0.22000918, -0.1498877 ,  0.16307615,\n",
       "        0.24298093,  0.058827  , -0.34102935, -0.21000472, -0.38969246,\n",
       "        0.11339314,  0.13121465,  0.07196823, -0.15005714, -0.2183738 ,\n",
       "       -0.38750687, -0.04653054, -0.31378478, -0.3290889 ,  0.19474399,\n",
       "       -0.07670499,  0.15020847,  0.08273888, -0.24358533,  0.09547082,\n",
       "       -0.05816996, -0.14466465, -0.08953013,  0.14453861,  0.15577471,\n",
       "        0.10412405,  0.12978579,  0.01714805,  0.05326633, -0.07795179,\n",
       "       -0.17055038, -0.18233494, -0.03087195,  0.12108706, -0.04685775,\n",
       "       -0.07782235, -0.07969395,  0.1613426 ,  0.01708848,  0.19473705,\n",
       "       -0.38754454,  0.3442257 ,  0.26452237, -0.00343789,  0.23602432,\n",
       "       -0.36166048,  0.42021874,  0.07443296, -0.04854397,  0.17456788,\n",
       "       -0.32418764, -0.0287527 ,  0.22768672, -0.00304022,  0.0013083 ,\n",
       "        0.20607416, -0.5134172 , -0.24043   ,  0.2559377 , -0.00924627,\n",
       "        0.3903321 , -0.42619738, -0.15110624,  0.03178908, -0.12558858,\n",
       "       -0.29463702, -0.28467816, -0.27369252,  0.03632534, -0.43120292,\n",
       "       -0.05408997, -0.09554416,  0.08541962, -0.46147558, -0.04933172,\n",
       "        0.10535755, -0.11899059,  0.02161992,  0.14666195, -0.06586523],\n",
       "      dtype=float32)"
      ]
     },
     "execution_count": 112,
     "metadata": {},
     "output_type": "execute_result"
    }
   ],
   "source": [
    "feat1"
   ]
  },
  {
   "cell_type": "code",
   "execution_count": null,
   "metadata": {},
   "outputs": [],
   "source": [
    "pere."
   ]
>>>>>>> f2e74cd5a1223a3093e23f89289fd496972ac3e9
  }
 ],
 "metadata": {
  "kernelspec": {
   "display_name": "Python 3",
   "language": "python",
   "name": "python3"
  },
  "language_info": {
   "codemirror_mode": {
    "name": "ipython",
    "version": 3
   },
   "file_extension": ".py",
   "mimetype": "text/x-python",
   "name": "python",
   "nbconvert_exporter": "python",
   "pygments_lexer": "ipython3",
   "version": "3.6.5"
  }
 },
 "nbformat": 4,
 "nbformat_minor": 2
}
