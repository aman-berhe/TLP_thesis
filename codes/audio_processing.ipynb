{
 "cells": [
  {
   "cell_type": "code",
   "execution_count": 27,
   "metadata": {},
   "outputs": [],
   "source": [
    "import scipy as sc\n",
    "from scipy.io import wavfile\n",
    "from scipy import stats,signal\n",
    "from scipy.fftpack import fft\n",
    "from scipy.signal import lfilter, hamming\n",
    "from scipy.fftpack.realtransforms import dct\n",
    "from scikits.talkbox import segment_axis\n",
    "from scikits.talkbox.features import mfcc\n",
    "import numpy as np"
   ]
  },
  {
   "cell_type": "code",
   "execution_count": 12,
   "metadata": {},
   "outputs": [
    {
     "name": "stderr",
     "output_type": "stream",
     "text": [
      "/people/berhe/.virtualenvs/Proj_env/local/lib/python2.7/site-packages/sklearn/cross_validation.py:41: DeprecationWarning: This module was deprecated in version 0.18 in favor of the model_selection module into which all the refactored classes and functions are moved. Also note that the interface of the new CV iterators are different from that of this module. This module will be removed in 0.20.\n",
      "  \"This module will be removed in 0.20.\", DeprecationWarning)\n"
     ]
    }
   ],
   "source": [
    "import matplotlib.pyplot as plt\n",
    "from numpy.lib import stride_tricks\n",
    "\n",
    "from IPython.display import HTML\n",
    "from base64 import b64encode\n",
    "\n",
    "# Classification and evaluation\n",
    "from sklearn.preprocessing import StandardScaler\n",
    "from sklearn.cross_validation import StratifiedKFold, ShuffleSplit, cross_val_score\n",
    "from sklearn.naive_bayes import GaussianNB\n",
    "from sklearn.neighbors import KNeighborsClassifier\n",
    "from sklearn.ensemble import RandomForestClassifier\n",
    "from sklearn.metrics import classification_report, confusion_matrix\n",
    "\n",
    "import pandas as pd"
   ]
  },
  {
   "cell_type": "code",
   "execution_count": 17,
   "metadata": {},
   "outputs": [],
   "source": [
    "import wave\n",
    "from numpy.fft import *\n",
    "#from numpy import log10,sqrt,array,zeros,ones,mu\n",
    "import struct\n",
    "import math\n",
    "import matplotlib.pyplot as plt"
   ]
  },
  {
   "cell_type": "code",
   "execution_count": 18,
   "metadata": {},
   "outputs": [],
   "source": [
    "def get_samples(file):\n",
    "     \n",
    "    waveFile = wave.open(file, 'r')\n",
    "    samples = []\n",
    " \n",
    "    # Gets total number of frames\n",
    "    length = waveFile.getnframes()\n",
    "     \n",
    "    # Read them into the frames array\n",
    "    for i in range(0,length):\n",
    "        waveData = waveFile.readframes(1)\n",
    "        data = struct.unpack(\"%ih\"%2, waveData)\n",
    "         \n",
    "        # After unpacking, each data array here is actually an array of ints\n",
    "        # The length of the array depends on the number of channels you have\n",
    "         \n",
    "        # Drop to mono channel\n",
    "        samples.append(int(data[0]))\n",
    "     \n",
    "    samples = array(samples)\n",
    "    return samples"
   ]
  },
  {
   "cell_type": "code",
   "execution_count": 20,
   "metadata": {},
   "outputs": [],
   "source": [
    "file_audio='/people/berhe/Bureau/Project/TLP_thesis/audio/GameOfThrones.Season01.Episode01.en.raw.wav'\n",
    "waveFile=wave.open(file_audio)"
   ]
  },
  {
   "cell_type": "code",
   "execution_count": 22,
   "metadata": {},
   "outputs": [],
   "source": [
    "frames=waveFile.getnframes()"
   ]
  },
  {
   "cell_type": "code",
   "execution_count": 24,
   "metadata": {},
   "outputs": [],
   "source": [
    "waveData=waveFile.readframes(1)"
   ]
  },
  {
   "cell_type": "code",
   "execution_count": 25,
   "metadata": {},
   "outputs": [
    {
     "data": {
      "text/plain": [
       "'\\x00\\x00'"
      ]
     },
     "execution_count": 25,
     "metadata": {},
     "output_type": "execute_result"
    }
   ],
   "source": [
    "waveData"
   ]
  },
  {
   "cell_type": "code",
   "execution_count": 30,
   "metadata": {},
   "outputs": [],
   "source": [
    "def spectrogram(data, segment_size=60):\n",
    "    end = len(data) - len(data) % segment_size\n",
    "    stacked = data[:end].reshape((-1, segment_size))\n",
    "    freq_space = np.fft.fft(stacked)\n",
    "    real = np.abs(freq_space)\n",
    "    # fft results are mirrored, this trims the excess\n",
    "    trimmed = real.T[:segment_size/2, :]\n",
    "    return trimmed"
   ]
  },
  {
   "cell_type": "code",
   "execution_count": 37,
   "metadata": {},
   "outputs": [
    {
     "data": {
      "text/plain": [
       "[<matplotlib.lines.Line2D at 0x7fb43047f850>,\n",
       " <matplotlib.lines.Line2D at 0x7fb43047f910>,\n",
       " <matplotlib.lines.Line2D at 0x7fb43047f9d0>,\n",
       " <matplotlib.lines.Line2D at 0x7fb43047fa90>,\n",
       " <matplotlib.lines.Line2D at 0x7fb43047fb50>,\n",
       " <matplotlib.lines.Line2D at 0x7fb43047fc10>,\n",
       " <matplotlib.lines.Line2D at 0x7fb43047fcd0>,\n",
       " <matplotlib.lines.Line2D at 0x7fb43047fd90>,\n",
       " <matplotlib.lines.Line2D at 0x7fb43047fe50>,\n",
       " <matplotlib.lines.Line2D at 0x7fb43047ff10>,\n",
       " <matplotlib.lines.Line2D at 0x7fb43047ffd0>,\n",
       " <matplotlib.lines.Line2D at 0x7fb4304380d0>,\n",
       " <matplotlib.lines.Line2D at 0x7fb430438190>,\n",
       " <matplotlib.lines.Line2D at 0x7fb430438250>,\n",
       " <matplotlib.lines.Line2D at 0x7fb430438310>,\n",
       " <matplotlib.lines.Line2D at 0x7fb4304383d0>,\n",
       " <matplotlib.lines.Line2D at 0x7fb430438490>,\n",
       " <matplotlib.lines.Line2D at 0x7fb430438550>,\n",
       " <matplotlib.lines.Line2D at 0x7fb430438610>,\n",
       " <matplotlib.lines.Line2D at 0x7fb4304386d0>,\n",
       " <matplotlib.lines.Line2D at 0x7fb4304d28d0>,\n",
       " <matplotlib.lines.Line2D at 0x7fb430438850>,\n",
       " <matplotlib.lines.Line2D at 0x7fb430438910>,\n",
       " <matplotlib.lines.Line2D at 0x7fb4304389d0>,\n",
       " <matplotlib.lines.Line2D at 0x7fb430438a90>,\n",
       " <matplotlib.lines.Line2D at 0x7fb430438b50>,\n",
       " <matplotlib.lines.Line2D at 0x7fb430438c10>,\n",
       " <matplotlib.lines.Line2D at 0x7fb430438cd0>,\n",
       " <matplotlib.lines.Line2D at 0x7fb430438d90>,\n",
       " <matplotlib.lines.Line2D at 0x7fb430438e50>,\n",
       " <matplotlib.lines.Line2D at 0x7fb430438790>,\n",
       " <matplotlib.lines.Line2D at 0x7fb430438fd0>,\n",
       " <matplotlib.lines.Line2D at 0x7fb43042d0d0>,\n",
       " <matplotlib.lines.Line2D at 0x7fb43042d190>,\n",
       " <matplotlib.lines.Line2D at 0x7fb43042d250>,\n",
       " <matplotlib.lines.Line2D at 0x7fb43042d310>,\n",
       " <matplotlib.lines.Line2D at 0x7fb43042d3d0>,\n",
       " <matplotlib.lines.Line2D at 0x7fb43042d490>,\n",
       " <matplotlib.lines.Line2D at 0x7fb43042d550>,\n",
       " <matplotlib.lines.Line2D at 0x7fb43042d610>,\n",
       " <matplotlib.lines.Line2D at 0x7fb430438f10>,\n",
       " <matplotlib.lines.Line2D at 0x7fb43042d790>,\n",
       " <matplotlib.lines.Line2D at 0x7fb43042d850>,\n",
       " <matplotlib.lines.Line2D at 0x7fb43042d910>,\n",
       " <matplotlib.lines.Line2D at 0x7fb43042d9d0>,\n",
       " <matplotlib.lines.Line2D at 0x7fb43042da90>,\n",
       " <matplotlib.lines.Line2D at 0x7fb43042db50>,\n",
       " <matplotlib.lines.Line2D at 0x7fb43042dc10>,\n",
       " <matplotlib.lines.Line2D at 0x7fb43042dcd0>,\n",
       " <matplotlib.lines.Line2D at 0x7fb43042dd90>,\n",
       " <matplotlib.lines.Line2D at 0x7fb43042d6d0>,\n",
       " <matplotlib.lines.Line2D at 0x7fb43042df10>,\n",
       " <matplotlib.lines.Line2D at 0x7fb43042dfd0>,\n",
       " <matplotlib.lines.Line2D at 0x7fb4304410d0>,\n",
       " <matplotlib.lines.Line2D at 0x7fb430441190>,\n",
       " <matplotlib.lines.Line2D at 0x7fb430441250>,\n",
       " <matplotlib.lines.Line2D at 0x7fb430441310>,\n",
       " <matplotlib.lines.Line2D at 0x7fb4304413d0>,\n",
       " <matplotlib.lines.Line2D at 0x7fb430441490>,\n",
       " <matplotlib.lines.Line2D at 0x7fb430441550>,\n",
       " <matplotlib.lines.Line2D at 0x7fb43042de50>,\n",
       " <matplotlib.lines.Line2D at 0x7fb4304416d0>,\n",
       " <matplotlib.lines.Line2D at 0x7fb430441790>,\n",
       " <matplotlib.lines.Line2D at 0x7fb430441850>,\n",
       " <matplotlib.lines.Line2D at 0x7fb430441910>,\n",
       " <matplotlib.lines.Line2D at 0x7fb4304419d0>,\n",
       " <matplotlib.lines.Line2D at 0x7fb430441a90>,\n",
       " <matplotlib.lines.Line2D at 0x7fb430441b50>,\n",
       " <matplotlib.lines.Line2D at 0x7fb430441c10>,\n",
       " <matplotlib.lines.Line2D at 0x7fb430441cd0>,\n",
       " <matplotlib.lines.Line2D at 0x7fb430441610>,\n",
       " <matplotlib.lines.Line2D at 0x7fb430441e50>,\n",
       " <matplotlib.lines.Line2D at 0x7fb430441f10>,\n",
       " <matplotlib.lines.Line2D at 0x7fb430441fd0>,\n",
       " <matplotlib.lines.Line2D at 0x7fb43044c0d0>,\n",
       " <matplotlib.lines.Line2D at 0x7fb43044c190>,\n",
       " <matplotlib.lines.Line2D at 0x7fb43044c250>,\n",
       " <matplotlib.lines.Line2D at 0x7fb43044c310>,\n",
       " <matplotlib.lines.Line2D at 0x7fb43044c3d0>,\n",
       " <matplotlib.lines.Line2D at 0x7fb43044c490>,\n",
       " <matplotlib.lines.Line2D at 0x7fb430441d90>,\n",
       " <matplotlib.lines.Line2D at 0x7fb43044c610>,\n",
       " <matplotlib.lines.Line2D at 0x7fb43044c6d0>,\n",
       " <matplotlib.lines.Line2D at 0x7fb43044c790>,\n",
       " <matplotlib.lines.Line2D at 0x7fb43044c850>,\n",
       " <matplotlib.lines.Line2D at 0x7fb43044c910>,\n",
       " <matplotlib.lines.Line2D at 0x7fb43044c9d0>,\n",
       " <matplotlib.lines.Line2D at 0x7fb43044ca90>,\n",
       " <matplotlib.lines.Line2D at 0x7fb43044cb50>,\n",
       " <matplotlib.lines.Line2D at 0x7fb43044cc10>,\n",
       " <matplotlib.lines.Line2D at 0x7fb43044c550>,\n",
       " <matplotlib.lines.Line2D at 0x7fb43044cd90>,\n",
       " <matplotlib.lines.Line2D at 0x7fb43044ce50>,\n",
       " <matplotlib.lines.Line2D at 0x7fb43044cf10>,\n",
       " <matplotlib.lines.Line2D at 0x7fb43044cfd0>,\n",
       " <matplotlib.lines.Line2D at 0x7fb4303e00d0>,\n",
       " <matplotlib.lines.Line2D at 0x7fb4303e0190>,\n",
       " <matplotlib.lines.Line2D at 0x7fb4303e0250>,\n",
       " <matplotlib.lines.Line2D at 0x7fb4303e0310>,\n",
       " <matplotlib.lines.Line2D at 0x7fb4303e03d0>,\n",
       " <matplotlib.lines.Line2D at 0x7fb43044ccd0>,\n",
       " <matplotlib.lines.Line2D at 0x7fb4303e0550>,\n",
       " <matplotlib.lines.Line2D at 0x7fb4303e0610>,\n",
       " <matplotlib.lines.Line2D at 0x7fb4303e06d0>,\n",
       " <matplotlib.lines.Line2D at 0x7fb4303e0790>,\n",
       " <matplotlib.lines.Line2D at 0x7fb4303e0850>,\n",
       " <matplotlib.lines.Line2D at 0x7fb4303e0910>,\n",
       " <matplotlib.lines.Line2D at 0x7fb4303e09d0>,\n",
       " <matplotlib.lines.Line2D at 0x7fb4303e0a90>,\n",
       " <matplotlib.lines.Line2D at 0x7fb4303e0b50>,\n",
       " <matplotlib.lines.Line2D at 0x7fb4303e0490>,\n",
       " <matplotlib.lines.Line2D at 0x7fb4303e0cd0>,\n",
       " <matplotlib.lines.Line2D at 0x7fb4303e0d90>,\n",
       " <matplotlib.lines.Line2D at 0x7fb4303e0e50>,\n",
       " <matplotlib.lines.Line2D at 0x7fb4303e0f10>,\n",
       " <matplotlib.lines.Line2D at 0x7fb4303e0fd0>,\n",
       " <matplotlib.lines.Line2D at 0x7fb4303e40d0>,\n",
       " <matplotlib.lines.Line2D at 0x7fb4303e4190>,\n",
       " <matplotlib.lines.Line2D at 0x7fb4303e4250>,\n",
       " <matplotlib.lines.Line2D at 0x7fb4303e4310>,\n",
       " <matplotlib.lines.Line2D at 0x7fb4303e0c10>,\n",
       " <matplotlib.lines.Line2D at 0x7fb4303e4490>,\n",
       " <matplotlib.lines.Line2D at 0x7fb4303e4550>,\n",
       " <matplotlib.lines.Line2D at 0x7fb4303e4610>,\n",
       " <matplotlib.lines.Line2D at 0x7fb4303e46d0>,\n",
       " <matplotlib.lines.Line2D at 0x7fb4303e4790>,\n",
       " <matplotlib.lines.Line2D at 0x7fb4303e4850>,\n",
       " <matplotlib.lines.Line2D at 0x7fb4303e4910>,\n",
       " <matplotlib.lines.Line2D at 0x7fb4303e49d0>,\n",
       " <matplotlib.lines.Line2D at 0x7fb4303e4a90>,\n",
       " <matplotlib.lines.Line2D at 0x7fb4303e43d0>,\n",
       " <matplotlib.lines.Line2D at 0x7fb4303e4c10>,\n",
       " <matplotlib.lines.Line2D at 0x7fb4303e4cd0>,\n",
       " <matplotlib.lines.Line2D at 0x7fb4303e4d90>,\n",
       " <matplotlib.lines.Line2D at 0x7fb4303e4e50>,\n",
       " <matplotlib.lines.Line2D at 0x7fb4303e4f10>,\n",
       " <matplotlib.lines.Line2D at 0x7fb4303e4fd0>,\n",
       " <matplotlib.lines.Line2D at 0x7fb4303f20d0>,\n",
       " <matplotlib.lines.Line2D at 0x7fb4303f2190>,\n",
       " <matplotlib.lines.Line2D at 0x7fb4303f2250>,\n",
       " <matplotlib.lines.Line2D at 0x7fb4303e4b50>,\n",
       " <matplotlib.lines.Line2D at 0x7fb4303f23d0>,\n",
       " <matplotlib.lines.Line2D at 0x7fb4303f2490>,\n",
       " <matplotlib.lines.Line2D at 0x7fb4303f2550>,\n",
       " <matplotlib.lines.Line2D at 0x7fb4303f2610>,\n",
       " <matplotlib.lines.Line2D at 0x7fb4303f26d0>,\n",
       " <matplotlib.lines.Line2D at 0x7fb4303f2790>,\n",
       " <matplotlib.lines.Line2D at 0x7fb4303f2850>,\n",
       " <matplotlib.lines.Line2D at 0x7fb4303f2910>,\n",
       " <matplotlib.lines.Line2D at 0x7fb4303f29d0>,\n",
       " <matplotlib.lines.Line2D at 0x7fb4303f2310>,\n",
       " <matplotlib.lines.Line2D at 0x7fb4303f2b50>,\n",
       " <matplotlib.lines.Line2D at 0x7fb4303f2c10>,\n",
       " <matplotlib.lines.Line2D at 0x7fb4303f2cd0>,\n",
       " <matplotlib.lines.Line2D at 0x7fb4303f2d90>,\n",
       " <matplotlib.lines.Line2D at 0x7fb4303f2e50>,\n",
       " <matplotlib.lines.Line2D at 0x7fb4303f2f10>,\n",
       " <matplotlib.lines.Line2D at 0x7fb4303f2fd0>,\n",
       " <matplotlib.lines.Line2D at 0x7fb4303fd0d0>,\n",
       " <matplotlib.lines.Line2D at 0x7fb4303fd190>,\n",
       " <matplotlib.lines.Line2D at 0x7fb4303f2a90>,\n",
       " <matplotlib.lines.Line2D at 0x7fb4303fd310>,\n",
       " <matplotlib.lines.Line2D at 0x7fb4303fd3d0>,\n",
       " <matplotlib.lines.Line2D at 0x7fb4303fd490>,\n",
       " <matplotlib.lines.Line2D at 0x7fb4303fd550>,\n",
       " <matplotlib.lines.Line2D at 0x7fb4303fd610>,\n",
       " <matplotlib.lines.Line2D at 0x7fb4303fd6d0>,\n",
       " <matplotlib.lines.Line2D at 0x7fb4303fd790>,\n",
       " <matplotlib.lines.Line2D at 0x7fb4303fd850>,\n",
       " <matplotlib.lines.Line2D at 0x7fb4303fd910>,\n",
       " <matplotlib.lines.Line2D at 0x7fb4303fd250>,\n",
       " <matplotlib.lines.Line2D at 0x7fb4303fda90>,\n",
       " <matplotlib.lines.Line2D at 0x7fb4303fdb50>,\n",
       " <matplotlib.lines.Line2D at 0x7fb4303fdc10>,\n",
       " <matplotlib.lines.Line2D at 0x7fb4303fdcd0>,\n",
       " <matplotlib.lines.Line2D at 0x7fb4303fdd90>,\n",
       " <matplotlib.lines.Line2D at 0x7fb4303fde50>,\n",
       " <matplotlib.lines.Line2D at 0x7fb4303fdf10>,\n",
       " <matplotlib.lines.Line2D at 0x7fb4303fdfd0>,\n",
       " <matplotlib.lines.Line2D at 0x7fb4304080d0>,\n",
       " <matplotlib.lines.Line2D at 0x7fb4303fd9d0>,\n",
       " <matplotlib.lines.Line2D at 0x7fb430408250>,\n",
       " <matplotlib.lines.Line2D at 0x7fb430408310>,\n",
       " <matplotlib.lines.Line2D at 0x7fb4304083d0>,\n",
       " <matplotlib.lines.Line2D at 0x7fb430408490>,\n",
       " <matplotlib.lines.Line2D at 0x7fb430408550>,\n",
       " <matplotlib.lines.Line2D at 0x7fb430408610>,\n",
       " <matplotlib.lines.Line2D at 0x7fb4304086d0>,\n",
       " <matplotlib.lines.Line2D at 0x7fb430408790>,\n",
       " <matplotlib.lines.Line2D at 0x7fb430408850>,\n",
       " <matplotlib.lines.Line2D at 0x7fb430408190>,\n",
       " <matplotlib.lines.Line2D at 0x7fb4304089d0>,\n",
       " <matplotlib.lines.Line2D at 0x7fb430408a90>,\n",
       " <matplotlib.lines.Line2D at 0x7fb430408b50>,\n",
       " <matplotlib.lines.Line2D at 0x7fb430408c10>,\n",
       " <matplotlib.lines.Line2D at 0x7fb430408cd0>,\n",
       " <matplotlib.lines.Line2D at 0x7fb430408d90>,\n",
       " <matplotlib.lines.Line2D at 0x7fb430408e50>,\n",
       " <matplotlib.lines.Line2D at 0x7fb430408f10>,\n",
       " <matplotlib.lines.Line2D at 0x7fb430408fd0>,\n",
       " <matplotlib.lines.Line2D at 0x7fb430408910>,\n",
       " <matplotlib.lines.Line2D at 0x7fb430412190>,\n",
       " <matplotlib.lines.Line2D at 0x7fb430412250>,\n",
       " <matplotlib.lines.Line2D at 0x7fb430412310>,\n",
       " <matplotlib.lines.Line2D at 0x7fb4304123d0>,\n",
       " <matplotlib.lines.Line2D at 0x7fb430412490>,\n",
       " <matplotlib.lines.Line2D at 0x7fb430412550>,\n",
       " <matplotlib.lines.Line2D at 0x7fb430412610>,\n",
       " <matplotlib.lines.Line2D at 0x7fb4304126d0>,\n",
       " <matplotlib.lines.Line2D at 0x7fb430412790>,\n",
       " <matplotlib.lines.Line2D at 0x7fb4304120d0>,\n",
       " <matplotlib.lines.Line2D at 0x7fb430412910>,\n",
       " <matplotlib.lines.Line2D at 0x7fb4304129d0>,\n",
       " <matplotlib.lines.Line2D at 0x7fb430412a90>,\n",
       " <matplotlib.lines.Line2D at 0x7fb430412b50>,\n",
       " <matplotlib.lines.Line2D at 0x7fb430412c10>,\n",
       " <matplotlib.lines.Line2D at 0x7fb430412cd0>,\n",
       " <matplotlib.lines.Line2D at 0x7fb430412d90>,\n",
       " <matplotlib.lines.Line2D at 0x7fb430412e50>,\n",
       " <matplotlib.lines.Line2D at 0x7fb430412f10>,\n",
       " <matplotlib.lines.Line2D at 0x7fb430412850>,\n",
       " <matplotlib.lines.Line2D at 0x7fb43039e0d0>,\n",
       " <matplotlib.lines.Line2D at 0x7fb43039e190>,\n",
       " <matplotlib.lines.Line2D at 0x7fb43039e250>,\n",
       " <matplotlib.lines.Line2D at 0x7fb43039e310>,\n",
       " <matplotlib.lines.Line2D at 0x7fb43039e3d0>,\n",
       " <matplotlib.lines.Line2D at 0x7fb43039e490>,\n",
       " <matplotlib.lines.Line2D at 0x7fb43039e550>,\n",
       " <matplotlib.lines.Line2D at 0x7fb43039e610>,\n",
       " <matplotlib.lines.Line2D at 0x7fb43039e6d0>,\n",
       " <matplotlib.lines.Line2D at 0x7fb430412fd0>,\n",
       " <matplotlib.lines.Line2D at 0x7fb43039e850>,\n",
       " <matplotlib.lines.Line2D at 0x7fb43039e910>,\n",
       " <matplotlib.lines.Line2D at 0x7fb43039e9d0>,\n",
       " <matplotlib.lines.Line2D at 0x7fb43039ea90>,\n",
       " <matplotlib.lines.Line2D at 0x7fb43039eb50>,\n",
       " <matplotlib.lines.Line2D at 0x7fb43039ec10>,\n",
       " <matplotlib.lines.Line2D at 0x7fb43039ecd0>,\n",
       " <matplotlib.lines.Line2D at 0x7fb43039ed90>,\n",
       " <matplotlib.lines.Line2D at 0x7fb43039ee50>,\n",
       " <matplotlib.lines.Line2D at 0x7fb43039e790>,\n",
       " <matplotlib.lines.Line2D at 0x7fb43039efd0>,\n",
       " <matplotlib.lines.Line2D at 0x7fb4303a90d0>,\n",
       " <matplotlib.lines.Line2D at 0x7fb4303a9190>,\n",
       " <matplotlib.lines.Line2D at 0x7fb4303a9250>,\n",
       " <matplotlib.lines.Line2D at 0x7fb4303a9310>,\n",
       " <matplotlib.lines.Line2D at 0x7fb4303a93d0>,\n",
       " <matplotlib.lines.Line2D at 0x7fb4303a9490>,\n",
       " <matplotlib.lines.Line2D at 0x7fb4303a9550>,\n",
       " <matplotlib.lines.Line2D at 0x7fb4303a9610>,\n",
       " <matplotlib.lines.Line2D at 0x7fb43039ef10>,\n",
       " <matplotlib.lines.Line2D at 0x7fb4303a9790>,\n",
       " <matplotlib.lines.Line2D at 0x7fb4303a9850>,\n",
       " <matplotlib.lines.Line2D at 0x7fb4303a9910>,\n",
       " <matplotlib.lines.Line2D at 0x7fb4303a99d0>,\n",
       " <matplotlib.lines.Line2D at 0x7fb4303a9a90>,\n",
       " <matplotlib.lines.Line2D at 0x7fb4303a9b50>,\n",
       " <matplotlib.lines.Line2D at 0x7fb4303a9c10>,\n",
       " <matplotlib.lines.Line2D at 0x7fb4303a9cd0>,\n",
       " <matplotlib.lines.Line2D at 0x7fb4303a9d90>,\n",
       " <matplotlib.lines.Line2D at 0x7fb4303a96d0>,\n",
       " <matplotlib.lines.Line2D at 0x7fb4303a9f10>,\n",
       " <matplotlib.lines.Line2D at 0x7fb4303a9fd0>,\n",
       " <matplotlib.lines.Line2D at 0x7fb4303b30d0>,\n",
       " <matplotlib.lines.Line2D at 0x7fb4303b3190>,\n",
       " <matplotlib.lines.Line2D at 0x7fb4303b3250>,\n",
       " <matplotlib.lines.Line2D at 0x7fb4303b3310>,\n",
       " <matplotlib.lines.Line2D at 0x7fb4303b33d0>,\n",
       " <matplotlib.lines.Line2D at 0x7fb4303b3490>,\n",
       " <matplotlib.lines.Line2D at 0x7fb4303b3550>,\n",
       " <matplotlib.lines.Line2D at 0x7fb4303a9e50>,\n",
       " <matplotlib.lines.Line2D at 0x7fb4303b36d0>,\n",
       " <matplotlib.lines.Line2D at 0x7fb4303b3790>,\n",
       " <matplotlib.lines.Line2D at 0x7fb4303b3850>,\n",
       " <matplotlib.lines.Line2D at 0x7fb4303b3910>,\n",
       " <matplotlib.lines.Line2D at 0x7fb4303b39d0>,\n",
       " <matplotlib.lines.Line2D at 0x7fb4303b3a90>,\n",
       " <matplotlib.lines.Line2D at 0x7fb4303b3b50>,\n",
       " <matplotlib.lines.Line2D at 0x7fb4303b3c10>,\n",
       " <matplotlib.lines.Line2D at 0x7fb4303b3cd0>,\n",
       " <matplotlib.lines.Line2D at 0x7fb4303b3610>,\n",
       " <matplotlib.lines.Line2D at 0x7fb4303b3e50>,\n",
       " <matplotlib.lines.Line2D at 0x7fb4303b3f10>,\n",
       " <matplotlib.lines.Line2D at 0x7fb4303b3fd0>,\n",
       " <matplotlib.lines.Line2D at 0x7fb4303be0d0>,\n",
       " <matplotlib.lines.Line2D at 0x7fb4303be190>,\n",
       " <matplotlib.lines.Line2D at 0x7fb4303be250>,\n",
       " <matplotlib.lines.Line2D at 0x7fb4303be310>,\n",
       " <matplotlib.lines.Line2D at 0x7fb4303be3d0>,\n",
       " <matplotlib.lines.Line2D at 0x7fb4303be490>,\n",
       " <matplotlib.lines.Line2D at 0x7fb4303b3d90>,\n",
       " <matplotlib.lines.Line2D at 0x7fb4303be610>,\n",
       " <matplotlib.lines.Line2D at 0x7fb4303be6d0>,\n",
       " <matplotlib.lines.Line2D at 0x7fb4303be790>,\n",
       " <matplotlib.lines.Line2D at 0x7fb4303be850>,\n",
       " <matplotlib.lines.Line2D at 0x7fb4303be910>,\n",
       " <matplotlib.lines.Line2D at 0x7fb4303be9d0>,\n",
       " <matplotlib.lines.Line2D at 0x7fb4303bea90>,\n",
       " <matplotlib.lines.Line2D at 0x7fb4303beb50>,\n",
       " <matplotlib.lines.Line2D at 0x7fb4303bec10>,\n",
       " <matplotlib.lines.Line2D at 0x7fb4303be550>,\n",
       " <matplotlib.lines.Line2D at 0x7fb4303bed90>,\n",
       " <matplotlib.lines.Line2D at 0x7fb4303bee50>,\n",
       " <matplotlib.lines.Line2D at 0x7fb4303bef10>,\n",
       " <matplotlib.lines.Line2D at 0x7fb4303befd0>,\n",
       " <matplotlib.lines.Line2D at 0x7fb4303ca0d0>,\n",
       " <matplotlib.lines.Line2D at 0x7fb4303ca190>,\n",
       " <matplotlib.lines.Line2D at 0x7fb4303ca250>,\n",
       " <matplotlib.lines.Line2D at 0x7fb4303ca310>,\n",
       " <matplotlib.lines.Line2D at 0x7fb4303ca3d0>,\n",
       " <matplotlib.lines.Line2D at 0x7fb4303becd0>,\n",
       " <matplotlib.lines.Line2D at 0x7fb4303ca550>,\n",
       " <matplotlib.lines.Line2D at 0x7fb4303ca610>,\n",
       " <matplotlib.lines.Line2D at 0x7fb4303ca6d0>,\n",
       " <matplotlib.lines.Line2D at 0x7fb4303ca790>,\n",
       " <matplotlib.lines.Line2D at 0x7fb4303ca850>,\n",
       " <matplotlib.lines.Line2D at 0x7fb4303ca910>,\n",
       " <matplotlib.lines.Line2D at 0x7fb4303ca9d0>,\n",
       " <matplotlib.lines.Line2D at 0x7fb4303caa90>,\n",
       " <matplotlib.lines.Line2D at 0x7fb4303cab50>,\n",
       " <matplotlib.lines.Line2D at 0x7fb4303ca490>,\n",
       " <matplotlib.lines.Line2D at 0x7fb4303cacd0>,\n",
       " <matplotlib.lines.Line2D at 0x7fb4303cad90>,\n",
       " <matplotlib.lines.Line2D at 0x7fb4303cae50>,\n",
       " <matplotlib.lines.Line2D at 0x7fb4303caf10>,\n",
       " <matplotlib.lines.Line2D at 0x7fb4303cafd0>,\n",
       " <matplotlib.lines.Line2D at 0x7fb4303d40d0>,\n",
       " <matplotlib.lines.Line2D at 0x7fb4303d4190>,\n",
       " <matplotlib.lines.Line2D at 0x7fb4303d4250>,\n",
       " <matplotlib.lines.Line2D at 0x7fb4303d4310>,\n",
       " <matplotlib.lines.Line2D at 0x7fb4303cac10>,\n",
       " <matplotlib.lines.Line2D at 0x7fb4303d4490>,\n",
       " <matplotlib.lines.Line2D at 0x7fb4303d4550>,\n",
       " <matplotlib.lines.Line2D at 0x7fb4303d4610>,\n",
       " <matplotlib.lines.Line2D at 0x7fb4303d46d0>,\n",
       " <matplotlib.lines.Line2D at 0x7fb4303d4790>,\n",
       " <matplotlib.lines.Line2D at 0x7fb4303d4850>,\n",
       " <matplotlib.lines.Line2D at 0x7fb4303d4910>,\n",
       " <matplotlib.lines.Line2D at 0x7fb4303d49d0>,\n",
       " <matplotlib.lines.Line2D at 0x7fb4303d4a90>,\n",
       " <matplotlib.lines.Line2D at 0x7fb4303d43d0>,\n",
       " <matplotlib.lines.Line2D at 0x7fb4303d4c10>,\n",
       " <matplotlib.lines.Line2D at 0x7fb4303d4cd0>,\n",
       " <matplotlib.lines.Line2D at 0x7fb4303d4d90>,\n",
       " <matplotlib.lines.Line2D at 0x7fb4303d4e50>,\n",
       " <matplotlib.lines.Line2D at 0x7fb4303d4f10>,\n",
       " <matplotlib.lines.Line2D at 0x7fb4303d4fd0>,\n",
       " <matplotlib.lines.Line2D at 0x7fb43035f0d0>,\n",
       " <matplotlib.lines.Line2D at 0x7fb43035f190>,\n",
       " <matplotlib.lines.Line2D at 0x7fb43035f250>,\n",
       " <matplotlib.lines.Line2D at 0x7fb4303d4b50>,\n",
       " <matplotlib.lines.Line2D at 0x7fb43035f3d0>,\n",
       " <matplotlib.lines.Line2D at 0x7fb43035f490>,\n",
       " <matplotlib.lines.Line2D at 0x7fb43035f550>,\n",
       " <matplotlib.lines.Line2D at 0x7fb43035f610>,\n",
       " <matplotlib.lines.Line2D at 0x7fb43035f6d0>,\n",
       " <matplotlib.lines.Line2D at 0x7fb43035f790>,\n",
       " <matplotlib.lines.Line2D at 0x7fb43035f850>,\n",
       " <matplotlib.lines.Line2D at 0x7fb43035f910>,\n",
       " <matplotlib.lines.Line2D at 0x7fb43035f9d0>,\n",
       " <matplotlib.lines.Line2D at 0x7fb43035f310>,\n",
       " <matplotlib.lines.Line2D at 0x7fb43035fb50>,\n",
       " <matplotlib.lines.Line2D at 0x7fb43035fc10>,\n",
       " <matplotlib.lines.Line2D at 0x7fb43035fcd0>,\n",
       " <matplotlib.lines.Line2D at 0x7fb43035fd90>,\n",
       " <matplotlib.lines.Line2D at 0x7fb43035fe50>,\n",
       " <matplotlib.lines.Line2D at 0x7fb43035ff10>,\n",
       " <matplotlib.lines.Line2D at 0x7fb43035ffd0>,\n",
       " <matplotlib.lines.Line2D at 0x7fb43036a0d0>,\n",
       " <matplotlib.lines.Line2D at 0x7fb43036a190>,\n",
       " <matplotlib.lines.Line2D at 0x7fb43035fa90>,\n",
       " <matplotlib.lines.Line2D at 0x7fb43036a310>,\n",
       " <matplotlib.lines.Line2D at 0x7fb43036a3d0>,\n",
       " <matplotlib.lines.Line2D at 0x7fb43036a490>,\n",
       " <matplotlib.lines.Line2D at 0x7fb43036a550>,\n",
       " <matplotlib.lines.Line2D at 0x7fb43036a610>,\n",
       " <matplotlib.lines.Line2D at 0x7fb43036a6d0>,\n",
       " <matplotlib.lines.Line2D at 0x7fb43036a790>,\n",
       " <matplotlib.lines.Line2D at 0x7fb43036a850>,\n",
       " <matplotlib.lines.Line2D at 0x7fb43036a910>,\n",
       " <matplotlib.lines.Line2D at 0x7fb43036a250>,\n",
       " <matplotlib.lines.Line2D at 0x7fb43036aa90>,\n",
       " <matplotlib.lines.Line2D at 0x7fb43036ab50>,\n",
       " <matplotlib.lines.Line2D at 0x7fb43036ac10>,\n",
       " <matplotlib.lines.Line2D at 0x7fb43036acd0>,\n",
       " <matplotlib.lines.Line2D at 0x7fb43036ad90>,\n",
       " <matplotlib.lines.Line2D at 0x7fb43036ae50>,\n",
       " <matplotlib.lines.Line2D at 0x7fb43036af10>,\n",
       " <matplotlib.lines.Line2D at 0x7fb43036afd0>,\n",
       " <matplotlib.lines.Line2D at 0x7fb4303750d0>]"
      ]
     },
     "execution_count": 37,
     "metadata": {},
     "output_type": "execute_result"
    },
    {
     "data": {
      "image/png": "[encoded data removed]",
      "text/plain": [
       "<matplotlib.figure.Figure at 0x7fb430570850>"
      ]
     },
     "metadata": {},
     "output_type": "display_data"
    }
   ],
   "source": [
    "sampling_rate, audio = wavfile.read(file_audio)\n",
    "#audio = np.sum(audio, 1)  #sum the channels\n",
    "sample = audio[10000000:10200000]  # ~4.5 second subsample\n",
    "spec = spectrogram(audio, segment_size=512)\n",
    "sample_spec = spectrogram(sample, segment_size=512)\n",
    "plt.plot(sample_spec)\n"
   ]
  },
  {
   "cell_type": "code",
   "execution_count": 47,
   "metadata": {},
   "outputs": [
    {
     "name": "stdout",
     "output_type": "stream",
     "text": [
      "Populating the interactive namespace from numpy and matplotlib\n"
     ]
    }
   ],
   "source": [
    "% pylab inline\n",
    "from __future__ import print_function\n",
    "import os\n",
    "import pandas as pd\n",
    "import librosa\n",
    "import librosa.display\n",
    "import glob "
   ]
  },
  {
   "cell_type": "code",
   "execution_count": 48,
   "metadata": {},
   "outputs": [],
   "source": [
    "data, sampling_rate = librosa.load(file_audio)"
   ]
  },
  {
   "cell_type": "code",
   "execution_count": 46,
   "metadata": {},
   "outputs": [
    {
     "ename": "OverflowError",
     "evalue": "In draw_markers: Exceeded cell block limit",
     "output_type": "error",
     "traceback": [
      "\u001b[0;31m---------------------------------------------------------------------------\u001b[0m",
      "\u001b[0;31mOverflowError\u001b[0m                             Traceback (most recent call last)",
      "\u001b[0;32m/people/berhe/.virtualenvs/Proj_env/local/lib/python2.7/site-packages/IPython/core/formatters.pyc\u001b[0m in \u001b[0;36m__call__\u001b[0;34m(self, obj)\u001b[0m\n\u001b[1;32m    332\u001b[0m                 \u001b[0;32mpass\u001b[0m\u001b[0;34m\u001b[0m\u001b[0m\n\u001b[1;32m    333\u001b[0m             \u001b[0;32melse\u001b[0m\u001b[0;34m:\u001b[0m\u001b[0;34m\u001b[0m\u001b[0m\n\u001b[0;32m--> 334\u001b[0;31m                 \u001b[0;32mreturn\u001b[0m \u001b[0mprinter\u001b[0m\u001b[0;34m(\u001b[0m\u001b[0mobj\u001b[0m\u001b[0;34m)\u001b[0m\u001b[0;34m\u001b[0m\u001b[0m\n\u001b[0m\u001b[1;32m    335\u001b[0m             \u001b[0;31m# Finally look for special method names\u001b[0m\u001b[0;34m\u001b[0m\u001b[0;34m\u001b[0m\u001b[0m\n\u001b[1;32m    336\u001b[0m             \u001b[0mmethod\u001b[0m \u001b[0;34m=\u001b[0m \u001b[0mget_real_method\u001b[0m\u001b[0;34m(\u001b[0m\u001b[0mobj\u001b[0m\u001b[0;34m,\u001b[0m \u001b[0mself\u001b[0m\u001b[0;34m.\u001b[0m\u001b[0mprint_method\u001b[0m\u001b[0;34m)\u001b[0m\u001b[0;34m\u001b[0m\u001b[0m\n",
      "\u001b[0;32m/people/berhe/.virtualenvs/Proj_env/local/lib/python2.7/site-packages/IPython/core/pylabtools.pyc\u001b[0m in \u001b[0;36m<lambda>\u001b[0;34m(fig)\u001b[0m\n\u001b[1;32m    239\u001b[0m \u001b[0;34m\u001b[0m\u001b[0m\n\u001b[1;32m    240\u001b[0m     \u001b[0;32mif\u001b[0m \u001b[0;34m'png'\u001b[0m \u001b[0;32min\u001b[0m \u001b[0mformats\u001b[0m\u001b[0;34m:\u001b[0m\u001b[0;34m\u001b[0m\u001b[0m\n\u001b[0;32m--> 241\u001b[0;31m         \u001b[0mpng_formatter\u001b[0m\u001b[0;34m.\u001b[0m\u001b[0mfor_type\u001b[0m\u001b[0;34m(\u001b[0m\u001b[0mFigure\u001b[0m\u001b[0;34m,\u001b[0m \u001b[0;32mlambda\u001b[0m \u001b[0mfig\u001b[0m\u001b[0;34m:\u001b[0m \u001b[0mprint_figure\u001b[0m\u001b[0;34m(\u001b[0m\u001b[0mfig\u001b[0m\u001b[0;34m,\u001b[0m \u001b[0;34m'png'\u001b[0m\u001b[0;34m,\u001b[0m \u001b[0;34m**\u001b[0m\u001b[0mkwargs\u001b[0m\u001b[0;34m)\u001b[0m\u001b[0;34m)\u001b[0m\u001b[0;34m\u001b[0m\u001b[0m\n\u001b[0m\u001b[1;32m    242\u001b[0m     \u001b[0;32mif\u001b[0m \u001b[0;34m'retina'\u001b[0m \u001b[0;32min\u001b[0m \u001b[0mformats\u001b[0m \u001b[0;32mor\u001b[0m \u001b[0;34m'png2x'\u001b[0m \u001b[0;32min\u001b[0m \u001b[0mformats\u001b[0m\u001b[0;34m:\u001b[0m\u001b[0;34m\u001b[0m\u001b[0m\n\u001b[1;32m    243\u001b[0m         \u001b[0mpng_formatter\u001b[0m\u001b[0;34m.\u001b[0m\u001b[0mfor_type\u001b[0m\u001b[0;34m(\u001b[0m\u001b[0mFigure\u001b[0m\u001b[0;34m,\u001b[0m \u001b[0;32mlambda\u001b[0m \u001b[0mfig\u001b[0m\u001b[0;34m:\u001b[0m \u001b[0mretina_figure\u001b[0m\u001b[0;34m(\u001b[0m\u001b[0mfig\u001b[0m\u001b[0;34m,\u001b[0m \u001b[0;34m**\u001b[0m\u001b[0mkwargs\u001b[0m\u001b[0;34m)\u001b[0m\u001b[0;34m)\u001b[0m\u001b[0;34m\u001b[0m\u001b[0m\n",
      "\u001b[0;32m/people/berhe/.virtualenvs/Proj_env/local/lib/python2.7/site-packages/IPython/core/pylabtools.pyc\u001b[0m in \u001b[0;36mprint_figure\u001b[0;34m(fig, fmt, bbox_inches, **kwargs)\u001b[0m\n\u001b[1;32m    123\u001b[0m \u001b[0;34m\u001b[0m\u001b[0m\n\u001b[1;32m    124\u001b[0m     \u001b[0mbytes_io\u001b[0m \u001b[0;34m=\u001b[0m \u001b[0mBytesIO\u001b[0m\u001b[0;34m(\u001b[0m\u001b[0;34m)\u001b[0m\u001b[0;34m\u001b[0m\u001b[0m\n\u001b[0;32m--> 125\u001b[0;31m     \u001b[0mfig\u001b[0m\u001b[0;34m.\u001b[0m\u001b[0mcanvas\u001b[0m\u001b[0;34m.\u001b[0m\u001b[0mprint_figure\u001b[0m\u001b[0;34m(\u001b[0m\u001b[0mbytes_io\u001b[0m\u001b[0;34m,\u001b[0m \u001b[0;34m**\u001b[0m\u001b[0mkw\u001b[0m\u001b[0;34m)\u001b[0m\u001b[0;34m\u001b[0m\u001b[0m\n\u001b[0m\u001b[1;32m    126\u001b[0m     \u001b[0mdata\u001b[0m \u001b[0;34m=\u001b[0m \u001b[0mbytes_io\u001b[0m\u001b[0;34m.\u001b[0m\u001b[0mgetvalue\u001b[0m\u001b[0;34m(\u001b[0m\u001b[0;34m)\u001b[0m\u001b[0;34m\u001b[0m\u001b[0m\n\u001b[1;32m    127\u001b[0m     \u001b[0;32mif\u001b[0m \u001b[0mfmt\u001b[0m \u001b[0;34m==\u001b[0m \u001b[0;34m'svg'\u001b[0m\u001b[0;34m:\u001b[0m\u001b[0;34m\u001b[0m\u001b[0m\n",
      "\u001b[0;32m/people/berhe/.virtualenvs/Proj_env/local/lib/python2.7/site-packages/matplotlib/backend_bases.pyc\u001b[0m in \u001b[0;36mprint_figure\u001b[0;34m(self, filename, dpi, facecolor, edgecolor, orientation, format, **kwargs)\u001b[0m\n\u001b[1;32m   2214\u001b[0m                     \u001b[0morientation\u001b[0m\u001b[0;34m=\u001b[0m\u001b[0morientation\u001b[0m\u001b[0;34m,\u001b[0m\u001b[0;34m\u001b[0m\u001b[0m\n\u001b[1;32m   2215\u001b[0m                     \u001b[0mdryrun\u001b[0m\u001b[0;34m=\u001b[0m\u001b[0mTrue\u001b[0m\u001b[0;34m,\u001b[0m\u001b[0;34m\u001b[0m\u001b[0m\n\u001b[0;32m-> 2216\u001b[0;31m                     **kwargs)\n\u001b[0m\u001b[1;32m   2217\u001b[0m                 \u001b[0mrenderer\u001b[0m \u001b[0;34m=\u001b[0m \u001b[0mself\u001b[0m\u001b[0;34m.\u001b[0m\u001b[0mfigure\u001b[0m\u001b[0;34m.\u001b[0m\u001b[0m_cachedRenderer\u001b[0m\u001b[0;34m\u001b[0m\u001b[0m\n\u001b[1;32m   2218\u001b[0m                 \u001b[0mbbox_inches\u001b[0m \u001b[0;34m=\u001b[0m \u001b[0mself\u001b[0m\u001b[0;34m.\u001b[0m\u001b[0mfigure\u001b[0m\u001b[0;34m.\u001b[0m\u001b[0mget_tightbbox\u001b[0m\u001b[0;34m(\u001b[0m\u001b[0mrenderer\u001b[0m\u001b[0;34m)\u001b[0m\u001b[0;34m\u001b[0m\u001b[0m\n",
      "\u001b[0;32m/people/berhe/.virtualenvs/Proj_env/local/lib/python2.7/site-packages/matplotlib/backends/backend_agg.pyc\u001b[0m in \u001b[0;36mprint_png\u001b[0;34m(self, filename_or_obj, *args, **kwargs)\u001b[0m\n\u001b[1;32m    505\u001b[0m \u001b[0;34m\u001b[0m\u001b[0m\n\u001b[1;32m    506\u001b[0m     \u001b[0;32mdef\u001b[0m \u001b[0mprint_png\u001b[0m\u001b[0;34m(\u001b[0m\u001b[0mself\u001b[0m\u001b[0;34m,\u001b[0m \u001b[0mfilename_or_obj\u001b[0m\u001b[0;34m,\u001b[0m \u001b[0;34m*\u001b[0m\u001b[0margs\u001b[0m\u001b[0;34m,\u001b[0m \u001b[0;34m**\u001b[0m\u001b[0mkwargs\u001b[0m\u001b[0;34m)\u001b[0m\u001b[0;34m:\u001b[0m\u001b[0;34m\u001b[0m\u001b[0m\n\u001b[0;32m--> 507\u001b[0;31m         \u001b[0mFigureCanvasAgg\u001b[0m\u001b[0;34m.\u001b[0m\u001b[0mdraw\u001b[0m\u001b[0;34m(\u001b[0m\u001b[0mself\u001b[0m\u001b[0;34m)\u001b[0m\u001b[0;34m\u001b[0m\u001b[0m\n\u001b[0m\u001b[1;32m    508\u001b[0m         \u001b[0mrenderer\u001b[0m \u001b[0;34m=\u001b[0m \u001b[0mself\u001b[0m\u001b[0;34m.\u001b[0m\u001b[0mget_renderer\u001b[0m\u001b[0;34m(\u001b[0m\u001b[0;34m)\u001b[0m\u001b[0;34m\u001b[0m\u001b[0m\n\u001b[1;32m    509\u001b[0m         \u001b[0moriginal_dpi\u001b[0m \u001b[0;34m=\u001b[0m \u001b[0mrenderer\u001b[0m\u001b[0;34m.\u001b[0m\u001b[0mdpi\u001b[0m\u001b[0;34m\u001b[0m\u001b[0m\n",
      "\u001b[0;32m/people/berhe/.virtualenvs/Proj_env/local/lib/python2.7/site-packages/matplotlib/backends/backend_agg.pyc\u001b[0m in \u001b[0;36mdraw\u001b[0;34m(self)\u001b[0m\n\u001b[1;32m    428\u001b[0m             \u001b[0;31m# if toolbar:\u001b[0m\u001b[0;34m\u001b[0m\u001b[0;34m\u001b[0m\u001b[0m\n\u001b[1;32m    429\u001b[0m             \u001b[0;31m#     toolbar.set_cursor(cursors.WAIT)\u001b[0m\u001b[0;34m\u001b[0m\u001b[0;34m\u001b[0m\u001b[0m\n\u001b[0;32m--> 430\u001b[0;31m             \u001b[0mself\u001b[0m\u001b[0;34m.\u001b[0m\u001b[0mfigure\u001b[0m\u001b[0;34m.\u001b[0m\u001b[0mdraw\u001b[0m\u001b[0;34m(\u001b[0m\u001b[0mself\u001b[0m\u001b[0;34m.\u001b[0m\u001b[0mrenderer\u001b[0m\u001b[0;34m)\u001b[0m\u001b[0;34m\u001b[0m\u001b[0m\n\u001b[0m\u001b[1;32m    431\u001b[0m         \u001b[0;32mfinally\u001b[0m\u001b[0;34m:\u001b[0m\u001b[0;34m\u001b[0m\u001b[0m\n\u001b[1;32m    432\u001b[0m             \u001b[0;31m# if toolbar:\u001b[0m\u001b[0;34m\u001b[0m\u001b[0;34m\u001b[0m\u001b[0m\n",
      "\u001b[0;32m/people/berhe/.virtualenvs/Proj_env/local/lib/python2.7/site-packages/matplotlib/artist.pyc\u001b[0m in \u001b[0;36mdraw_wrapper\u001b[0;34m(artist, renderer, *args, **kwargs)\u001b[0m\n\u001b[1;32m     53\u001b[0m                 \u001b[0mrenderer\u001b[0m\u001b[0;34m.\u001b[0m\u001b[0mstart_filter\u001b[0m\u001b[0;34m(\u001b[0m\u001b[0;34m)\u001b[0m\u001b[0;34m\u001b[0m\u001b[0m\n\u001b[1;32m     54\u001b[0m \u001b[0;34m\u001b[0m\u001b[0m\n\u001b[0;32m---> 55\u001b[0;31m             \u001b[0;32mreturn\u001b[0m \u001b[0mdraw\u001b[0m\u001b[0;34m(\u001b[0m\u001b[0martist\u001b[0m\u001b[0;34m,\u001b[0m \u001b[0mrenderer\u001b[0m\u001b[0;34m,\u001b[0m \u001b[0;34m*\u001b[0m\u001b[0margs\u001b[0m\u001b[0;34m,\u001b[0m \u001b[0;34m**\u001b[0m\u001b[0mkwargs\u001b[0m\u001b[0;34m)\u001b[0m\u001b[0;34m\u001b[0m\u001b[0m\n\u001b[0m\u001b[1;32m     56\u001b[0m         \u001b[0;32mfinally\u001b[0m\u001b[0;34m:\u001b[0m\u001b[0;34m\u001b[0m\u001b[0m\n\u001b[1;32m     57\u001b[0m             \u001b[0;32mif\u001b[0m \u001b[0martist\u001b[0m\u001b[0;34m.\u001b[0m\u001b[0mget_agg_filter\u001b[0m\u001b[0;34m(\u001b[0m\u001b[0;34m)\u001b[0m \u001b[0;32mis\u001b[0m \u001b[0;32mnot\u001b[0m \u001b[0mNone\u001b[0m\u001b[0;34m:\u001b[0m\u001b[0;34m\u001b[0m\u001b[0m\n",
      "\u001b[0;32m/people/berhe/.virtualenvs/Proj_env/local/lib/python2.7/site-packages/matplotlib/figure.pyc\u001b[0m in \u001b[0;36mdraw\u001b[0;34m(self, renderer)\u001b[0m\n\u001b[1;32m   1297\u001b[0m \u001b[0;34m\u001b[0m\u001b[0m\n\u001b[1;32m   1298\u001b[0m             mimage._draw_list_compositing_images(\n\u001b[0;32m-> 1299\u001b[0;31m                 renderer, self, artists, self.suppressComposite)\n\u001b[0m\u001b[1;32m   1300\u001b[0m \u001b[0;34m\u001b[0m\u001b[0m\n\u001b[1;32m   1301\u001b[0m             \u001b[0mrenderer\u001b[0m\u001b[0;34m.\u001b[0m\u001b[0mclose_group\u001b[0m\u001b[0;34m(\u001b[0m\u001b[0;34m'figure'\u001b[0m\u001b[0;34m)\u001b[0m\u001b[0;34m\u001b[0m\u001b[0m\n",
      "\u001b[0;32m/people/berhe/.virtualenvs/Proj_env/local/lib/python2.7/site-packages/matplotlib/image.pyc\u001b[0m in \u001b[0;36m_draw_list_compositing_images\u001b[0;34m(renderer, parent, artists, suppress_composite)\u001b[0m\n\u001b[1;32m    136\u001b[0m     \u001b[0;32mif\u001b[0m \u001b[0mnot_composite\u001b[0m \u001b[0;32mor\u001b[0m \u001b[0;32mnot\u001b[0m \u001b[0mhas_images\u001b[0m\u001b[0;34m:\u001b[0m\u001b[0;34m\u001b[0m\u001b[0m\n\u001b[1;32m    137\u001b[0m         \u001b[0;32mfor\u001b[0m \u001b[0ma\u001b[0m \u001b[0;32min\u001b[0m \u001b[0martists\u001b[0m\u001b[0;34m:\u001b[0m\u001b[0;34m\u001b[0m\u001b[0m\n\u001b[0;32m--> 138\u001b[0;31m             \u001b[0ma\u001b[0m\u001b[0;34m.\u001b[0m\u001b[0mdraw\u001b[0m\u001b[0;34m(\u001b[0m\u001b[0mrenderer\u001b[0m\u001b[0;34m)\u001b[0m\u001b[0;34m\u001b[0m\u001b[0m\n\u001b[0m\u001b[1;32m    139\u001b[0m     \u001b[0;32melse\u001b[0m\u001b[0;34m:\u001b[0m\u001b[0;34m\u001b[0m\u001b[0m\n\u001b[1;32m    140\u001b[0m         \u001b[0;31m# Composite any adjacent images together\u001b[0m\u001b[0;34m\u001b[0m\u001b[0;34m\u001b[0m\u001b[0m\n",
      "\u001b[0;32m/people/berhe/.virtualenvs/Proj_env/local/lib/python2.7/site-packages/matplotlib/artist.pyc\u001b[0m in \u001b[0;36mdraw_wrapper\u001b[0;34m(artist, renderer, *args, **kwargs)\u001b[0m\n\u001b[1;32m     53\u001b[0m                 \u001b[0mrenderer\u001b[0m\u001b[0;34m.\u001b[0m\u001b[0mstart_filter\u001b[0m\u001b[0;34m(\u001b[0m\u001b[0;34m)\u001b[0m\u001b[0;34m\u001b[0m\u001b[0m\n\u001b[1;32m     54\u001b[0m \u001b[0;34m\u001b[0m\u001b[0m\n\u001b[0;32m---> 55\u001b[0;31m             \u001b[0;32mreturn\u001b[0m \u001b[0mdraw\u001b[0m\u001b[0;34m(\u001b[0m\u001b[0martist\u001b[0m\u001b[0;34m,\u001b[0m \u001b[0mrenderer\u001b[0m\u001b[0;34m,\u001b[0m \u001b[0;34m*\u001b[0m\u001b[0margs\u001b[0m\u001b[0;34m,\u001b[0m \u001b[0;34m**\u001b[0m\u001b[0mkwargs\u001b[0m\u001b[0;34m)\u001b[0m\u001b[0;34m\u001b[0m\u001b[0m\n\u001b[0m\u001b[1;32m     56\u001b[0m         \u001b[0;32mfinally\u001b[0m\u001b[0;34m:\u001b[0m\u001b[0;34m\u001b[0m\u001b[0m\n\u001b[1;32m     57\u001b[0m             \u001b[0;32mif\u001b[0m \u001b[0martist\u001b[0m\u001b[0;34m.\u001b[0m\u001b[0mget_agg_filter\u001b[0m\u001b[0;34m(\u001b[0m\u001b[0;34m)\u001b[0m \u001b[0;32mis\u001b[0m \u001b[0;32mnot\u001b[0m \u001b[0mNone\u001b[0m\u001b[0;34m:\u001b[0m\u001b[0;34m\u001b[0m\u001b[0m\n",
      "\u001b[0;32m/people/berhe/.virtualenvs/Proj_env/local/lib/python2.7/site-packages/matplotlib/axes/_base.pyc\u001b[0m in \u001b[0;36mdraw\u001b[0;34m(self, renderer, inframe)\u001b[0m\n\u001b[1;32m   2435\u001b[0m             \u001b[0mrenderer\u001b[0m\u001b[0;34m.\u001b[0m\u001b[0mstop_rasterizing\u001b[0m\u001b[0;34m(\u001b[0m\u001b[0;34m)\u001b[0m\u001b[0;34m\u001b[0m\u001b[0m\n\u001b[1;32m   2436\u001b[0m \u001b[0;34m\u001b[0m\u001b[0m\n\u001b[0;32m-> 2437\u001b[0;31m         \u001b[0mmimage\u001b[0m\u001b[0;34m.\u001b[0m\u001b[0m_draw_list_compositing_images\u001b[0m\u001b[0;34m(\u001b[0m\u001b[0mrenderer\u001b[0m\u001b[0;34m,\u001b[0m \u001b[0mself\u001b[0m\u001b[0;34m,\u001b[0m \u001b[0martists\u001b[0m\u001b[0;34m)\u001b[0m\u001b[0;34m\u001b[0m\u001b[0m\n\u001b[0m\u001b[1;32m   2438\u001b[0m \u001b[0;34m\u001b[0m\u001b[0m\n\u001b[1;32m   2439\u001b[0m         \u001b[0mrenderer\u001b[0m\u001b[0;34m.\u001b[0m\u001b[0mclose_group\u001b[0m\u001b[0;34m(\u001b[0m\u001b[0;34m'axes'\u001b[0m\u001b[0;34m)\u001b[0m\u001b[0;34m\u001b[0m\u001b[0m\n",
      "\u001b[0;32m/people/berhe/.virtualenvs/Proj_env/local/lib/python2.7/site-packages/matplotlib/image.pyc\u001b[0m in \u001b[0;36m_draw_list_compositing_images\u001b[0;34m(renderer, parent, artists, suppress_composite)\u001b[0m\n\u001b[1;32m    136\u001b[0m     \u001b[0;32mif\u001b[0m \u001b[0mnot_composite\u001b[0m \u001b[0;32mor\u001b[0m \u001b[0;32mnot\u001b[0m \u001b[0mhas_images\u001b[0m\u001b[0;34m:\u001b[0m\u001b[0;34m\u001b[0m\u001b[0m\n\u001b[1;32m    137\u001b[0m         \u001b[0;32mfor\u001b[0m \u001b[0ma\u001b[0m \u001b[0;32min\u001b[0m \u001b[0martists\u001b[0m\u001b[0;34m:\u001b[0m\u001b[0;34m\u001b[0m\u001b[0m\n\u001b[0;32m--> 138\u001b[0;31m             \u001b[0ma\u001b[0m\u001b[0;34m.\u001b[0m\u001b[0mdraw\u001b[0m\u001b[0;34m(\u001b[0m\u001b[0mrenderer\u001b[0m\u001b[0;34m)\u001b[0m\u001b[0;34m\u001b[0m\u001b[0m\n\u001b[0m\u001b[1;32m    139\u001b[0m     \u001b[0;32melse\u001b[0m\u001b[0;34m:\u001b[0m\u001b[0;34m\u001b[0m\u001b[0m\n\u001b[1;32m    140\u001b[0m         \u001b[0;31m# Composite any adjacent images together\u001b[0m\u001b[0;34m\u001b[0m\u001b[0;34m\u001b[0m\u001b[0m\n",
      "\u001b[0;32m/people/berhe/.virtualenvs/Proj_env/local/lib/python2.7/site-packages/matplotlib/artist.pyc\u001b[0m in \u001b[0;36mdraw_wrapper\u001b[0;34m(artist, renderer, *args, **kwargs)\u001b[0m\n\u001b[1;32m     53\u001b[0m                 \u001b[0mrenderer\u001b[0m\u001b[0;34m.\u001b[0m\u001b[0mstart_filter\u001b[0m\u001b[0;34m(\u001b[0m\u001b[0;34m)\u001b[0m\u001b[0;34m\u001b[0m\u001b[0m\n\u001b[1;32m     54\u001b[0m \u001b[0;34m\u001b[0m\u001b[0m\n\u001b[0;32m---> 55\u001b[0;31m             \u001b[0;32mreturn\u001b[0m \u001b[0mdraw\u001b[0m\u001b[0;34m(\u001b[0m\u001b[0martist\u001b[0m\u001b[0;34m,\u001b[0m \u001b[0mrenderer\u001b[0m\u001b[0;34m,\u001b[0m \u001b[0;34m*\u001b[0m\u001b[0margs\u001b[0m\u001b[0;34m,\u001b[0m \u001b[0;34m**\u001b[0m\u001b[0mkwargs\u001b[0m\u001b[0;34m)\u001b[0m\u001b[0;34m\u001b[0m\u001b[0m\n\u001b[0m\u001b[1;32m     56\u001b[0m         \u001b[0;32mfinally\u001b[0m\u001b[0;34m:\u001b[0m\u001b[0;34m\u001b[0m\u001b[0m\n\u001b[1;32m     57\u001b[0m             \u001b[0;32mif\u001b[0m \u001b[0martist\u001b[0m\u001b[0;34m.\u001b[0m\u001b[0mget_agg_filter\u001b[0m\u001b[0;34m(\u001b[0m\u001b[0;34m)\u001b[0m \u001b[0;32mis\u001b[0m \u001b[0;32mnot\u001b[0m \u001b[0mNone\u001b[0m\u001b[0;34m:\u001b[0m\u001b[0;34m\u001b[0m\u001b[0m\n",
      "\u001b[0;32m/people/berhe/.virtualenvs/Proj_env/local/lib/python2.7/site-packages/matplotlib/collections.pyc\u001b[0m in \u001b[0;36mdraw\u001b[0;34m(self, renderer)\u001b[0m\n\u001b[1;32m    860\u001b[0m     \u001b[0;32mdef\u001b[0m \u001b[0mdraw\u001b[0m\u001b[0;34m(\u001b[0m\u001b[0mself\u001b[0m\u001b[0;34m,\u001b[0m \u001b[0mrenderer\u001b[0m\u001b[0;34m)\u001b[0m\u001b[0;34m:\u001b[0m\u001b[0;34m\u001b[0m\u001b[0m\n\u001b[1;32m    861\u001b[0m         \u001b[0mself\u001b[0m\u001b[0;34m.\u001b[0m\u001b[0mset_sizes\u001b[0m\u001b[0;34m(\u001b[0m\u001b[0mself\u001b[0m\u001b[0;34m.\u001b[0m\u001b[0m_sizes\u001b[0m\u001b[0;34m,\u001b[0m \u001b[0mself\u001b[0m\u001b[0;34m.\u001b[0m\u001b[0mfigure\u001b[0m\u001b[0;34m.\u001b[0m\u001b[0mdpi\u001b[0m\u001b[0;34m)\u001b[0m\u001b[0;34m\u001b[0m\u001b[0m\n\u001b[0;32m--> 862\u001b[0;31m         \u001b[0mCollection\u001b[0m\u001b[0;34m.\u001b[0m\u001b[0mdraw\u001b[0m\u001b[0;34m(\u001b[0m\u001b[0mself\u001b[0m\u001b[0;34m,\u001b[0m \u001b[0mrenderer\u001b[0m\u001b[0;34m)\u001b[0m\u001b[0;34m\u001b[0m\u001b[0m\n\u001b[0m\u001b[1;32m    863\u001b[0m \u001b[0;34m\u001b[0m\u001b[0m\n\u001b[1;32m    864\u001b[0m \u001b[0;34m\u001b[0m\u001b[0m\n",
      "\u001b[0;32m/people/berhe/.virtualenvs/Proj_env/local/lib/python2.7/site-packages/matplotlib/artist.pyc\u001b[0m in \u001b[0;36mdraw_wrapper\u001b[0;34m(artist, renderer, *args, **kwargs)\u001b[0m\n\u001b[1;32m     53\u001b[0m                 \u001b[0mrenderer\u001b[0m\u001b[0;34m.\u001b[0m\u001b[0mstart_filter\u001b[0m\u001b[0;34m(\u001b[0m\u001b[0;34m)\u001b[0m\u001b[0;34m\u001b[0m\u001b[0m\n\u001b[1;32m     54\u001b[0m \u001b[0;34m\u001b[0m\u001b[0m\n\u001b[0;32m---> 55\u001b[0;31m             \u001b[0;32mreturn\u001b[0m \u001b[0mdraw\u001b[0m\u001b[0;34m(\u001b[0m\u001b[0martist\u001b[0m\u001b[0;34m,\u001b[0m \u001b[0mrenderer\u001b[0m\u001b[0;34m,\u001b[0m \u001b[0;34m*\u001b[0m\u001b[0margs\u001b[0m\u001b[0;34m,\u001b[0m \u001b[0;34m**\u001b[0m\u001b[0mkwargs\u001b[0m\u001b[0;34m)\u001b[0m\u001b[0;34m\u001b[0m\u001b[0m\n\u001b[0m\u001b[1;32m     56\u001b[0m         \u001b[0;32mfinally\u001b[0m\u001b[0;34m:\u001b[0m\u001b[0;34m\u001b[0m\u001b[0m\n\u001b[1;32m     57\u001b[0m             \u001b[0;32mif\u001b[0m \u001b[0martist\u001b[0m\u001b[0;34m.\u001b[0m\u001b[0mget_agg_filter\u001b[0m\u001b[0;34m(\u001b[0m\u001b[0;34m)\u001b[0m \u001b[0;32mis\u001b[0m \u001b[0;32mnot\u001b[0m \u001b[0mNone\u001b[0m\u001b[0;34m:\u001b[0m\u001b[0;34m\u001b[0m\u001b[0m\n",
      "\u001b[0;32m/people/berhe/.virtualenvs/Proj_env/local/lib/python2.7/site-packages/matplotlib/collections.pyc\u001b[0m in \u001b[0;36mdraw\u001b[0;34m(self, renderer)\u001b[0m\n\u001b[1;32m    311\u001b[0m             renderer.draw_markers(\n\u001b[1;32m    312\u001b[0m                 \u001b[0mgc\u001b[0m\u001b[0;34m,\u001b[0m \u001b[0mpaths\u001b[0m\u001b[0;34m[\u001b[0m\u001b[0;36m0\u001b[0m\u001b[0;34m]\u001b[0m\u001b[0;34m,\u001b[0m \u001b[0mcombined_transform\u001b[0m\u001b[0;34m.\u001b[0m\u001b[0mfrozen\u001b[0m\u001b[0;34m(\u001b[0m\u001b[0;34m)\u001b[0m\u001b[0;34m,\u001b[0m\u001b[0;34m\u001b[0m\u001b[0m\n\u001b[0;32m--> 313\u001b[0;31m                 mpath.Path(offsets), transOffset, tuple(facecolors[0]))\n\u001b[0m\u001b[1;32m    314\u001b[0m         \u001b[0;32melse\u001b[0m\u001b[0;34m:\u001b[0m\u001b[0;34m\u001b[0m\u001b[0m\n\u001b[1;32m    315\u001b[0m             renderer.draw_path_collection(\n",
      "\u001b[0;32m/people/berhe/.virtualenvs/Proj_env/local/lib/python2.7/site-packages/matplotlib/backends/backend_agg.pyc\u001b[0m in \u001b[0;36mdraw_markers\u001b[0;34m(self, *kl, **kw)\u001b[0m\n\u001b[1;32m    115\u001b[0m     \u001b[0;31m# maybe there is better way to do it.\u001b[0m\u001b[0;34m\u001b[0m\u001b[0;34m\u001b[0m\u001b[0m\n\u001b[1;32m    116\u001b[0m     \u001b[0;32mdef\u001b[0m \u001b[0mdraw_markers\u001b[0m\u001b[0;34m(\u001b[0m\u001b[0mself\u001b[0m\u001b[0;34m,\u001b[0m \u001b[0;34m*\u001b[0m\u001b[0mkl\u001b[0m\u001b[0;34m,\u001b[0m \u001b[0;34m**\u001b[0m\u001b[0mkw\u001b[0m\u001b[0;34m)\u001b[0m\u001b[0;34m:\u001b[0m\u001b[0;34m\u001b[0m\u001b[0m\n\u001b[0;32m--> 117\u001b[0;31m         \u001b[0;32mreturn\u001b[0m \u001b[0mself\u001b[0m\u001b[0;34m.\u001b[0m\u001b[0m_renderer\u001b[0m\u001b[0;34m.\u001b[0m\u001b[0mdraw_markers\u001b[0m\u001b[0;34m(\u001b[0m\u001b[0;34m*\u001b[0m\u001b[0mkl\u001b[0m\u001b[0;34m,\u001b[0m \u001b[0;34m**\u001b[0m\u001b[0mkw\u001b[0m\u001b[0;34m)\u001b[0m\u001b[0;34m\u001b[0m\u001b[0m\n\u001b[0m\u001b[1;32m    118\u001b[0m \u001b[0;34m\u001b[0m\u001b[0m\n\u001b[1;32m    119\u001b[0m     \u001b[0;32mdef\u001b[0m \u001b[0mdraw_path_collection\u001b[0m\u001b[0;34m(\u001b[0m\u001b[0mself\u001b[0m\u001b[0;34m,\u001b[0m \u001b[0;34m*\u001b[0m\u001b[0mkl\u001b[0m\u001b[0;34m,\u001b[0m \u001b[0;34m**\u001b[0m\u001b[0mkw\u001b[0m\u001b[0;34m)\u001b[0m\u001b[0;34m:\u001b[0m\u001b[0;34m\u001b[0m\u001b[0m\n",
      "\u001b[0;31mOverflowError\u001b[0m: In draw_markers: Exceeded cell block limit"
     ]
    },
    {
     "data": {
      "text/plain": [
       "<matplotlib.figure.Figure at 0x7fb4293e9090>"
      ]
     },
     "metadata": {},
     "output_type": "display_data"
    }
   ],
   "source": [
    "plt.figure(figsize=(12, 4))\n",
    "librosa.display.waveplot(data, sr=sampling_rate)\n",
    "plt.show()"
   ]
  },
  {
   "cell_type": "code",
   "execution_count": 55,
   "metadata": {},
   "outputs": [],
   "source": [
    "from IPython.display import Audio"
   ]
  },
  {
   "cell_type": "code",
   "execution_count": 50,
   "metadata": {},
   "outputs": [
    {
     "name": "stdout",
     "output_type": "stream",
     "text": [
      "Estimated tempo: 117.45 beats per minute\n",
      "Saving output to beat_times.csv\n"
     ]
    }
   ],
   "source": [
    "# 1. Get the file path to the included audio example\n",
    "filename = '/people/berhe/Bureau/Project/TLP_thesis/audio/GameOfThrones.Season01.Episode01.en.raw.wav'\n",
    "# 2. Load the audio as a waveform `y`\n",
    "#    Store the sampling rate as `sr`\n",
    "y, sr = librosa.load(filename)\n",
    "\n",
    "# 3. Run the default beat tracker\n",
    "tempo, beat_frames = librosa.beat.beat_track(y=y, sr=sr)\n",
    "\n",
    "print('Estimated tempo: {:.2f} beats per minute'.format(tempo))\n",
    "\n",
    "# 4. Convert the frame indices of beat events into timestamps\n",
    "beat_times = librosa.frames_to_time(beat_frames, sr=sr)\n",
    "\n",
    "print('Saving output to beat_times.csv')\n",
    "librosa.output.times_csv('beat_times.csv', beat_times)\n"
   ]
  },
  {
   "cell_type": "code",
   "execution_count": 51,
   "metadata": {},
   "outputs": [],
   "source": [
    "y_harmonic, y_percussive = librosa.effects.hpss(y)"
   ]
  },
  {
   "cell_type": "code",
   "execution_count": 52,
   "metadata": {},
   "outputs": [
    {
     "data": {
      "text/plain": [
       "(78183303,)"
      ]
     },
     "execution_count": 52,
     "metadata": {},
     "output_type": "execute_result"
    }
   ],
   "source": [
    "y_harmonic.shape"
   ]
  },
  {
   "cell_type": "code",
   "execution_count": 53,
   "metadata": {},
   "outputs": [
    {
     "data": {
      "text/plain": [
       "(78183303,)"
      ]
     },
     "execution_count": 53,
     "metadata": {},
     "output_type": "execute_result"
    }
   ],
   "source": [
    "y.shape"
   ]
  },
  {
   "cell_type": "code",
   "execution_count": 57,
   "metadata": {},
   "outputs": [
    {
     "ename": "NoBackendError",
     "evalue": "",
     "output_type": "error",
     "traceback": [
      "\u001b[0;31m---------------------------------------------------------------------------\u001b[0m",
      "\u001b[0;31mNoBackendError\u001b[0m                            Traceback (most recent call last)",
      "\u001b[0;32m<ipython-input-57-3a780c22b1b3>\u001b[0m in \u001b[0;36m<module>\u001b[0;34m()\u001b[0m\n\u001b[0;32m----> 1\u001b[0;31m \u001b[0my1\u001b[0m\u001b[0;34m,\u001b[0m\u001b[0msr1\u001b[0m\u001b[0;34m=\u001b[0m\u001b[0mlibrosa\u001b[0m\u001b[0;34m.\u001b[0m\u001b[0mload\u001b[0m\u001b[0;34m(\u001b[0m\u001b[0mlibrosa\u001b[0m\u001b[0;34m.\u001b[0m\u001b[0mutil\u001b[0m\u001b[0;34m.\u001b[0m\u001b[0mexample_audio_file\u001b[0m\u001b[0;34m(\u001b[0m\u001b[0;34m)\u001b[0m\u001b[0;34m)\u001b[0m\u001b[0;34m\u001b[0m\u001b[0m\n\u001b[0m",
      "\u001b[0;32m/people/berhe/.virtualenvs/Proj_env/local/lib/python2.7/site-packages/librosa/core/audio.pyc\u001b[0m in \u001b[0;36mload\u001b[0;34m(path, sr, mono, offset, duration, dtype, res_type)\u001b[0m\n\u001b[1;32m    110\u001b[0m \u001b[0;34m\u001b[0m\u001b[0m\n\u001b[1;32m    111\u001b[0m     \u001b[0my\u001b[0m \u001b[0;34m=\u001b[0m \u001b[0;34m[\u001b[0m\u001b[0;34m]\u001b[0m\u001b[0;34m\u001b[0m\u001b[0m\n\u001b[0;32m--> 112\u001b[0;31m     \u001b[0;32mwith\u001b[0m \u001b[0maudioread\u001b[0m\u001b[0;34m.\u001b[0m\u001b[0maudio_open\u001b[0m\u001b[0;34m(\u001b[0m\u001b[0mos\u001b[0m\u001b[0;34m.\u001b[0m\u001b[0mpath\u001b[0m\u001b[0;34m.\u001b[0m\u001b[0mrealpath\u001b[0m\u001b[0;34m(\u001b[0m\u001b[0mpath\u001b[0m\u001b[0;34m)\u001b[0m\u001b[0;34m)\u001b[0m \u001b[0;32mas\u001b[0m \u001b[0minput_file\u001b[0m\u001b[0;34m:\u001b[0m\u001b[0;34m\u001b[0m\u001b[0m\n\u001b[0m\u001b[1;32m    113\u001b[0m         \u001b[0msr_native\u001b[0m \u001b[0;34m=\u001b[0m \u001b[0minput_file\u001b[0m\u001b[0;34m.\u001b[0m\u001b[0msamplerate\u001b[0m\u001b[0;34m\u001b[0m\u001b[0m\n\u001b[1;32m    114\u001b[0m         \u001b[0mn_channels\u001b[0m \u001b[0;34m=\u001b[0m \u001b[0minput_file\u001b[0m\u001b[0;34m.\u001b[0m\u001b[0mchannels\u001b[0m\u001b[0;34m\u001b[0m\u001b[0m\n",
      "\u001b[0;32m/people/berhe/.virtualenvs/Proj_env/local/lib/python2.7/site-packages/audioread/__init__.pyc\u001b[0m in \u001b[0;36maudio_open\u001b[0;34m(path)\u001b[0m\n\u001b[1;32m    114\u001b[0m \u001b[0;34m\u001b[0m\u001b[0m\n\u001b[1;32m    115\u001b[0m     \u001b[0;31m# All backends failed!\u001b[0m\u001b[0;34m\u001b[0m\u001b[0;34m\u001b[0m\u001b[0m\n\u001b[0;32m--> 116\u001b[0;31m     \u001b[0;32mraise\u001b[0m \u001b[0mNoBackendError\u001b[0m\u001b[0;34m(\u001b[0m\u001b[0;34m)\u001b[0m\u001b[0;34m\u001b[0m\u001b[0m\n\u001b[0m",
      "\u001b[0;31mNoBackendError\u001b[0m: "
     ]
    }
   ],
   "source": [
    "y1,sr1=librosa.load(librosa.util.example_audio_file())"
   ]
  },
  {
   "cell_type": "code",
   "execution_count": 56,
   "metadata": {},
   "outputs": [
    {
     "ename": "IOError",
     "evalue": "[Errno 2] No such file or directory: u'22050'",
     "output_type": "error",
     "traceback": [
      "\u001b[0;31m---------------------------------------------------------------------------\u001b[0m",
      "\u001b[0;31mIOError\u001b[0m                                   Traceback (most recent call last)",
      "\u001b[0;32m<ipython-input-56-eb1d5b3eb25e>\u001b[0m in \u001b[0;36m<module>\u001b[0;34m()\u001b[0m\n\u001b[0;32m----> 1\u001b[0;31m \u001b[0mAudio\u001b[0m\u001b[0;34m(\u001b[0m\u001b[0my\u001b[0m\u001b[0;34m,\u001b[0m\u001b[0msr\u001b[0m\u001b[0;34m)\u001b[0m\u001b[0;34m\u001b[0m\u001b[0m\n\u001b[0m",
      "\u001b[0;32m/people/berhe/.virtualenvs/Proj_env/local/lib/python2.7/site-packages/IPython/lib/display.pyc\u001b[0m in \u001b[0;36m__init__\u001b[0;34m(self, data, filename, url, embed, rate, autoplay)\u001b[0m\n\u001b[1;32m     94\u001b[0m             \u001b[0mself\u001b[0m\u001b[0;34m.\u001b[0m\u001b[0membed\u001b[0m \u001b[0;34m=\u001b[0m \u001b[0mTrue\u001b[0m\u001b[0;34m\u001b[0m\u001b[0m\n\u001b[1;32m     95\u001b[0m         \u001b[0mself\u001b[0m\u001b[0;34m.\u001b[0m\u001b[0mautoplay\u001b[0m \u001b[0;34m=\u001b[0m \u001b[0mautoplay\u001b[0m\u001b[0;34m\u001b[0m\u001b[0m\n\u001b[0;32m---> 96\u001b[0;31m         \u001b[0msuper\u001b[0m\u001b[0;34m(\u001b[0m\u001b[0mAudio\u001b[0m\u001b[0;34m,\u001b[0m \u001b[0mself\u001b[0m\u001b[0;34m)\u001b[0m\u001b[0;34m.\u001b[0m\u001b[0m__init__\u001b[0m\u001b[0;34m(\u001b[0m\u001b[0mdata\u001b[0m\u001b[0;34m=\u001b[0m\u001b[0mdata\u001b[0m\u001b[0;34m,\u001b[0m \u001b[0murl\u001b[0m\u001b[0;34m=\u001b[0m\u001b[0murl\u001b[0m\u001b[0;34m,\u001b[0m \u001b[0mfilename\u001b[0m\u001b[0;34m=\u001b[0m\u001b[0mfilename\u001b[0m\u001b[0;34m)\u001b[0m\u001b[0;34m\u001b[0m\u001b[0m\n\u001b[0m\u001b[1;32m     97\u001b[0m \u001b[0;34m\u001b[0m\u001b[0m\n\u001b[1;32m     98\u001b[0m         \u001b[0;32mif\u001b[0m \u001b[0mself\u001b[0m\u001b[0;34m.\u001b[0m\u001b[0mdata\u001b[0m \u001b[0;32mis\u001b[0m \u001b[0;32mnot\u001b[0m \u001b[0mNone\u001b[0m \u001b[0;32mand\u001b[0m \u001b[0;32mnot\u001b[0m \u001b[0misinstance\u001b[0m\u001b[0;34m(\u001b[0m\u001b[0mself\u001b[0m\u001b[0;34m.\u001b[0m\u001b[0mdata\u001b[0m\u001b[0;34m,\u001b[0m \u001b[0mbytes\u001b[0m\u001b[0;34m)\u001b[0m\u001b[0;34m:\u001b[0m\u001b[0;34m\u001b[0m\u001b[0m\n",
      "\u001b[0;32m/people/berhe/.virtualenvs/Proj_env/local/lib/python2.7/site-packages/IPython/core/display.pyc\u001b[0m in \u001b[0;36m__init__\u001b[0;34m(self, data, url, filename)\u001b[0m\n\u001b[1;32m    611\u001b[0m         \u001b[0mself\u001b[0m\u001b[0;34m.\u001b[0m\u001b[0mfilename\u001b[0m \u001b[0;34m=\u001b[0m \u001b[0mNone\u001b[0m \u001b[0;32mif\u001b[0m \u001b[0mfilename\u001b[0m \u001b[0;32mis\u001b[0m \u001b[0mNone\u001b[0m \u001b[0;32melse\u001b[0m \u001b[0municode_type\u001b[0m\u001b[0;34m(\u001b[0m\u001b[0mfilename\u001b[0m\u001b[0;34m)\u001b[0m\u001b[0;34m\u001b[0m\u001b[0m\n\u001b[1;32m    612\u001b[0m \u001b[0;34m\u001b[0m\u001b[0m\n\u001b[0;32m--> 613\u001b[0;31m         \u001b[0mself\u001b[0m\u001b[0;34m.\u001b[0m\u001b[0mreload\u001b[0m\u001b[0;34m(\u001b[0m\u001b[0;34m)\u001b[0m\u001b[0;34m\u001b[0m\u001b[0m\n\u001b[0m\u001b[1;32m    614\u001b[0m         \u001b[0mself\u001b[0m\u001b[0;34m.\u001b[0m\u001b[0m_check_data\u001b[0m\u001b[0;34m(\u001b[0m\u001b[0;34m)\u001b[0m\u001b[0;34m\u001b[0m\u001b[0m\n\u001b[1;32m    615\u001b[0m \u001b[0;34m\u001b[0m\u001b[0m\n",
      "\u001b[0;32m/people/berhe/.virtualenvs/Proj_env/local/lib/python2.7/site-packages/IPython/lib/display.pyc\u001b[0m in \u001b[0;36mreload\u001b[0;34m(self)\u001b[0m\n\u001b[1;32m    103\u001b[0m         \u001b[0;32mimport\u001b[0m \u001b[0mmimetypes\u001b[0m\u001b[0;34m\u001b[0m\u001b[0m\n\u001b[1;32m    104\u001b[0m         \u001b[0;32mif\u001b[0m \u001b[0mself\u001b[0m\u001b[0;34m.\u001b[0m\u001b[0membed\u001b[0m\u001b[0;34m:\u001b[0m\u001b[0;34m\u001b[0m\u001b[0m\n\u001b[0;32m--> 105\u001b[0;31m             \u001b[0msuper\u001b[0m\u001b[0;34m(\u001b[0m\u001b[0mAudio\u001b[0m\u001b[0;34m,\u001b[0m \u001b[0mself\u001b[0m\u001b[0;34m)\u001b[0m\u001b[0;34m.\u001b[0m\u001b[0mreload\u001b[0m\u001b[0;34m(\u001b[0m\u001b[0;34m)\u001b[0m\u001b[0;34m\u001b[0m\u001b[0m\n\u001b[0m\u001b[1;32m    106\u001b[0m \u001b[0;34m\u001b[0m\u001b[0m\n\u001b[1;32m    107\u001b[0m         \u001b[0;32mif\u001b[0m \u001b[0mself\u001b[0m\u001b[0;34m.\u001b[0m\u001b[0mfilename\u001b[0m \u001b[0;32mis\u001b[0m \u001b[0;32mnot\u001b[0m \u001b[0mNone\u001b[0m\u001b[0;34m:\u001b[0m\u001b[0;34m\u001b[0m\u001b[0m\n",
      "\u001b[0;32m/people/berhe/.virtualenvs/Proj_env/local/lib/python2.7/site-packages/IPython/core/display.pyc\u001b[0m in \u001b[0;36mreload\u001b[0;34m(self)\u001b[0m\n\u001b[1;32m    629\u001b[0m         \u001b[0;34m\"\"\"Reload the raw data from file or URL.\"\"\"\u001b[0m\u001b[0;34m\u001b[0m\u001b[0m\n\u001b[1;32m    630\u001b[0m         \u001b[0;32mif\u001b[0m \u001b[0mself\u001b[0m\u001b[0;34m.\u001b[0m\u001b[0mfilename\u001b[0m \u001b[0;32mis\u001b[0m \u001b[0;32mnot\u001b[0m \u001b[0mNone\u001b[0m\u001b[0;34m:\u001b[0m\u001b[0;34m\u001b[0m\u001b[0m\n\u001b[0;32m--> 631\u001b[0;31m             \u001b[0;32mwith\u001b[0m \u001b[0mopen\u001b[0m\u001b[0;34m(\u001b[0m\u001b[0mself\u001b[0m\u001b[0;34m.\u001b[0m\u001b[0mfilename\u001b[0m\u001b[0;34m,\u001b[0m \u001b[0mself\u001b[0m\u001b[0;34m.\u001b[0m\u001b[0m_read_flags\u001b[0m\u001b[0;34m)\u001b[0m \u001b[0;32mas\u001b[0m \u001b[0mf\u001b[0m\u001b[0;34m:\u001b[0m\u001b[0;34m\u001b[0m\u001b[0m\n\u001b[0m\u001b[1;32m    632\u001b[0m                 \u001b[0mself\u001b[0m\u001b[0;34m.\u001b[0m\u001b[0mdata\u001b[0m \u001b[0;34m=\u001b[0m \u001b[0mf\u001b[0m\u001b[0;34m.\u001b[0m\u001b[0mread\u001b[0m\u001b[0;34m(\u001b[0m\u001b[0;34m)\u001b[0m\u001b[0;34m\u001b[0m\u001b[0m\n\u001b[1;32m    633\u001b[0m         \u001b[0;32melif\u001b[0m \u001b[0mself\u001b[0m\u001b[0;34m.\u001b[0m\u001b[0murl\u001b[0m \u001b[0;32mis\u001b[0m \u001b[0;32mnot\u001b[0m \u001b[0mNone\u001b[0m\u001b[0;34m:\u001b[0m\u001b[0;34m\u001b[0m\u001b[0m\n",
      "\u001b[0;31mIOError\u001b[0m: [Errno 2] No such file or directory: u'22050'"
     ]
    }
   ],
   "source": [
    "Audio(daty,sr)"
   ]
  }
 ],
 "metadata": {
  "kernelspec": {
   "display_name": "Python 2",
   "language": "python",
   "name": "python2"
  },
  "language_info": {
   "codemirror_mode": {
    "name": "ipython",
    "version": 2
   },
   "file_extension": ".py",
   "mimetype": "text/x-python",
   "name": "python",
   "nbconvert_exporter": "python",
   "pygments_lexer": "ipython2",
   "version": "2.7.12"
  }
 },
 "nbformat": 4,
 "nbformat_minor": 2
}
