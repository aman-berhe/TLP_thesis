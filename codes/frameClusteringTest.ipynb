{
 "cells": [
  {
   "cell_type": "code",
   "execution_count": 1,
   "metadata": {},
   "outputs": [
    {
     "name": "stderr",
     "output_type": "stream",
     "text": [
      "/people/berhe/anaconda3/envs/pyannote/lib/python3.6/site-packages/h5py/__init__.py:36: FutureWarning: Conversion of the second argument of issubdtype from `float` to `np.floating` is deprecated. In future, it will be treated as `np.float64 == np.dtype(float).type`.\n",
      "  from ._conv import register_converters as _register_converters\n",
      "Using TensorFlow backend.\n"
     ]
    }
   ],
   "source": [
    "import ExtractingFrameFeatures as eff\n",
    "import evaluationMetrics as em\n",
    "import cv2\n",
    "import math\n",
    "import numpy as np\n",
    "import sys\n",
    "import pandas as pd\n",
    "from sklearn.preprocessing import normalize"
   ]
  },
  {
   "cell_type": "code",
   "execution_count": 2,
   "metadata": {},
   "outputs": [
    {
     "name": "stdout",
     "output_type": "stream",
     "text": [
      "88640\n",
      " Done!\n",
      "11081\n"
     ]
    }
   ],
   "source": [
    "frames,timeStamp,framId=eff.getframes(8)\n",
    "print(len(frames))"
   ]
  },
  {
   "cell_type": "code",
   "execution_count": 3,
   "metadata": {},
   "outputs": [],
   "source": [
    "from tqdm import tqdm_notebook as tqdm"
   ]
  },
  {
   "cell_type": "code",
   "execution_count": 4,
   "metadata": {},
   "outputs": [
    {
     "data": {
      "application/vnd.jupyter.widget-view+json": {
       "model_id": "ad9b8c292c5f43fcb2e76ae2adf74766",
       "version_major": 2,
       "version_minor": 0
      },
      "text/plain": [
       "HBox(children=(IntProgress(value=0, max=11081), HTML(value='')))"
      ]
     },
     "metadata": {},
     "output_type": "display_data"
    },
    {
     "name": "stdout",
     "output_type": "stream",
     "text": [
      "\n"
     ]
    }
   ],
   "source": [
    "features=[]\n",
    "with tqdm(total=len(frames), file=sys.stdout) as pbar:\n",
    "    for i in frames:\n",
    "        features.append(eff.getFeatures(i,eff.model))\n",
    "        pbar.update(1)"
   ]
  },
  {
   "cell_type": "code",
   "execution_count": 5,
   "metadata": {},
   "outputs": [
    {
     "data": {
      "text/plain": [
       "11081"
      ]
     },
     "execution_count": 5,
     "metadata": {},
     "output_type": "execute_result"
    }
   ],
   "source": [
    "del frames\n",
    "len(features)"
   ]
  },
  {
   "cell_type": "markdown",
   "metadata": {},
   "source": [
    "# Noramal features distance"
   ]
  },
  {
   "cell_type": "code",
   "execution_count": 6,
   "metadata": {},
   "outputs": [],
   "source": [
    "dist_out1=eff.getSimilarityMatrix(features,'cosine') "
   ]
  },
  {
   "cell_type": "code",
   "execution_count": 7,
   "metadata": {},
   "outputs": [],
   "source": [
    "refreClust=eff.frameGroundClusters(1,timeStamp)"
   ]
  },
  {
   "cell_type": "code",
   "execution_count": 17,
   "metadata": {},
   "outputs": [
    {
     "name": "stdout",
     "output_type": "stream",
     "text": [
      "purit: 0.3385975994946305 --> nmi: 0.3913351949319572 and cov: 0.3254218933309268\n"
     ]
    }
   ],
   "source": [
    "predictedsClusters=eff.getClusters(38,'sp',dist_out1)\n",
    "KM=np.array(predictedsClusters)\n",
    "rc=np.array(refreClust)\n",
    "\n",
    "purity=em.purity_score(KM,rc)\n",
    "NMI=em.nmi(KM,rc)\n",
    "cov=em.coverage(KM,rc)\n",
    "print('purit: {} --> nmi: {} and cov: {}'.format(purity,NMI,cov))"
   ]
  },
  {
   "cell_type": "markdown",
   "metadata": {},
   "source": [
    "# Time Augemntation by multiplication "
   ]
  },
  {
   "cell_type": "code",
   "execution_count": 9,
   "metadata": {},
   "outputs": [],
   "source": [
    "for i in range(len(features)):\n",
    "    features[i]=features[i]*(timeStamp[i+1]/1000)"
   ]
  },
  {
   "cell_type": "code",
   "execution_count": 10,
   "metadata": {},
   "outputs": [],
   "source": [
    "dist_out2=eff.getSimilarityMatrix(features,'cosine') "
   ]
  },
  {
   "cell_type": "code",
   "execution_count": 18,
   "metadata": {},
   "outputs": [
    {
     "name": "stdout",
     "output_type": "stream",
     "text": [
      "purit: 0.3359805071744427 --> nmi: 0.3914409632552143 and cov: 0.33155852359895316\n"
     ]
    }
   ],
   "source": [
    "predictedClusters=eff.getClusters(38,'sp',dist_out2)\n",
    "KM=np.array(predictedClusters)\n",
    "rc=np.array(refreClust)\n",
    "\n",
    "purity=em.purity_score(KM,rc)\n",
    "NMI=em.nmi(KM,rc)\n",
    "cov=em.coverage(KM,rc)\n",
    "print('purit: {} --> nmi: {} and cov: {}'.format(purity,NMI,cov))"
   ]
  },
  {
   "cell_type": "markdown",
   "metadata": {},
   "source": [
    "# Augmented Time Normalization "
   ]
  },
  {
   "cell_type": "code",
   "execution_count": 11,
   "metadata": {},
   "outputs": [],
   "source": [
    "features=normalize(features)"
   ]
  },
  {
   "cell_type": "code",
   "execution_count": 12,
   "metadata": {},
   "outputs": [],
   "source": [
    "dist_out3=eff.getSimilarityMatrix(features,'cosine') "
   ]
  },
  {
   "cell_type": "code",
   "execution_count": 19,
   "metadata": {},
   "outputs": [
    {
     "name": "stdout",
     "output_type": "stream",
     "text": [
      "purit: 0.32379749120115514 --> nmi: 0.3937746788747616 and cov: 0.332370724663839\n"
     ]
    }
   ],
   "source": [
    "predictedClusters=eff.getClusters(38,'sp',dist_out3)\n",
    "KM=np.array(predictedClusters)\n",
    "rc=np.array(refreClust)\n",
    "\n",
    "purity=em.purity_score(KM,rc)\n",
    "NMI=em.nmi(KM,rc)\n",
    "cov=em.coverage(KM,rc)\n",
    "print('purit: {} --> nmi: {} and cov: {}'.format(purity,NMI,cov))"
   ]
  },
  {
   "cell_type": "code",
   "execution_count": 20,
   "metadata": {},
   "outputs": [
    {
     "data": {
      "text/plain": [
       "11081"
      ]
     },
     "execution_count": 20,
     "metadata": {},
     "output_type": "execute_result"
    }
   ],
   "source": [
    "len(refreClust)"
   ]
  },
  {
   "cell_type": "code",
   "execution_count": 21,
   "metadata": {},
   "outputs": [
    {
     "data": {
      "text/plain": [
       "[0.0, 40.0, 360.0, 680.0, 1000.0, 1320.0, 1640.0, 1960.0, 2280.0, 2600.0]"
      ]
     },
     "execution_count": 21,
     "metadata": {},
     "output_type": "execute_result"
    }
   ],
   "source": [
    "timeStamp[0:10]"
   ]
  },
  {
   "cell_type": "code",
   "execution_count": 63,
   "metadata": {},
   "outputs": [],
   "source": []
  },
  {
   "cell_type": "code",
   "execution_count": null,
   "metadata": {},
   "outputs": [],
   "source": []
  },
  {
   "cell_type": "code",
   "execution_count": null,
   "metadata": {},
   "outputs": [],
   "source": []
  }
 ],
 "metadata": {
  "kernelspec": {
   "display_name": "Python 3",
   "language": "python",
   "name": "python3"
  },
  "language_info": {
   "codemirror_mode": {
    "name": "ipython",
    "version": 3
   },
   "file_extension": ".py",
   "mimetype": "text/x-python",
   "name": "python",
   "nbconvert_exporter": "python",
   "pygments_lexer": "ipython3",
   "version": "3.6.5"
  }
 },
 "nbformat": 4,
 "nbformat_minor": 2
}
